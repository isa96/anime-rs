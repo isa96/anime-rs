{
  "cells": [
    {
      "cell_type": "markdown",
      "metadata": {
        "id": "CRLoqgT1hsg9"
      },
      "source": [
        "##### Sumber Data : https://www.kaggle.com/CooperUnion/anime-recommendations-database"
      ]
    },
    {
      "cell_type": "markdown",
      "metadata": {
        "id": "GRINO1Jhik7e"
      },
      "source": [
        "**Pendahuluan** :\n",
        "\n",
        "Topik pada proyek ini adalah Sistem Rekomendasi Anime dengan dataset yang berisi informasi tentang data preferensi pengguna dari 73.516 pengguna di 12.294 anime di *myanimelist.net*. Proyek ini dibuat untuk Submission 2 - Kelas Machine Learning Terapan di Dicoding."
      ]
    },
    {
      "cell_type": "markdown",
      "metadata": {
        "id": "jTt1XNwIjrAD"
      },
      "source": [
        "## Import Libraries"
      ]
    },
    {
      "cell_type": "code",
      "execution_count": null,
      "metadata": {
        "id": "rp_Gp-3Bhb9c"
      },
      "outputs": [],
      "source": [
        "import numpy as np\n",
        "import matplotlib.pyplot as plt\n",
        "import pandas as pd\n",
        "%matplotlib inline\n",
        "import seaborn as sns\n",
        "\n",
        "from google.colab import files"
      ]
    },
    {
      "cell_type": "markdown",
      "metadata": {
        "id": "NA6p7TxWkumM"
      },
      "source": [
        "# Kaggle setup"
      ]
    },
    {
      "cell_type": "code",
      "execution_count": null,
      "metadata": {
        "id": "4e08ANA-klS3"
      },
      "outputs": [],
      "source": [
        "# Install kaggle\n",
        "!pip install -q kaggle"
      ]
    },
    {
      "cell_type": "code",
      "execution_count": null,
      "metadata": {
        "colab": {
          "base_uri": "https://localhost:8080/",
          "height": 73,
          "resources": {
            "http://localhost:8080/nbextensions/google.colab/files.js": {
              "data": "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",
              "headers": [
                [
                  "content-type",
                  "application/javascript"
                ]
              ],
              "ok": true,
              "status": 200,
              "status_text": ""
            }
          }
        },
        "id": "MXwksR1kkz9P",
        "outputId": "e2a9c746-29ee-4862-b7b6-5815608b3fcf"
      },
      "outputs": [
        {
          "data": {
            "text/html": [
              "\n",
              "     <input type=\"file\" id=\"files-0281e178-b89f-4d81-ae4c-d30c1c665ea5\" name=\"files[]\" multiple disabled\n",
              "        style=\"border:none\" />\n",
              "     <output id=\"result-0281e178-b89f-4d81-ae4c-d30c1c665ea5\">\n",
              "      Upload widget is only available when the cell has been executed in the\n",
              "      current browser session. Please rerun this cell to enable.\n",
              "      </output>\n",
              "      <script src=\"/nbextensions/google.colab/files.js\"></script> "
            ],
            "text/plain": [
              "<IPython.core.display.HTML object>"
            ]
          },
          "metadata": {},
          "output_type": "display_data"
        },
        {
          "name": "stdout",
          "output_type": "stream",
          "text": [
            "Saving kaggle.json to kaggle.json\n"
          ]
        }
      ],
      "source": [
        "# Unggah file json yang diunduh dari akun kaggle\n",
        "uploaded = files.upload()"
      ]
    },
    {
      "cell_type": "code",
      "execution_count": null,
      "metadata": {
        "id": "oeb2KqECk_mc"
      },
      "outputs": [],
      "source": [
        "# Buat direktori kaggle dan pindahkan file yang diunggah ke folder baru\n",
        "!mkdir -p ~/.kaggle\n",
        "!cp kaggle.json ~/.kaggle\n",
        "\n",
        "# Izin baca agar dapat diakses di Google Colab\n",
        "!chmod 600 /root/.kaggle/kaggle.json"
      ]
    },
    {
      "cell_type": "markdown",
      "metadata": {
        "id": "Bhy1f27JmDz-"
      },
      "source": [
        "## Mengunduh dan Menyiapkan Dataset"
      ]
    },
    {
      "cell_type": "markdown",
      "metadata": {
        "id": "ln9npu-nmOcf"
      },
      "source": [
        "![image](https://user-images.githubusercontent.com/87566521/139109868-1ef63ec2-d447-468a-926c-18691e8bd070.png)\n",
        "\n",
        "####**Informasi Dataset :**\n",
        "\n",
        "Jenis | Informasi\n",
        "--- | ---\n",
        "Sumber | [Kaggle Dataset : Anime Recommendations Database](https://www.kaggle.com/CooperUnion/anime-recommendations-database)\n",
        "Lisensi | CC0: Public Domain\n",
        "Kategori | Anime, Manga\n",
        "Rating Pengunaan | 8.2 (Gold)\n",
        "Jenis dan Ukuran Berkas | CSV (112 MB)"
      ]
    },
    {
      "cell_type": "code",
      "execution_count": null,
      "metadata": {
        "colab": {
          "base_uri": "https://localhost:8080/"
        },
        "id": "-615aQ-JlyMM",
        "outputId": "cb798351-f58e-4a6d-8909-e547d3c11982"
      },
      "outputs": [
        {
          "name": "stdout",
          "output_type": "stream",
          "text": [
            "Downloading anime-recommendations-database.zip to /content\n",
            " 68% 17.0M/25.0M [00:00<00:00, 50.7MB/s]\n",
            "100% 25.0M/25.0M [00:00<00:00, 63.4MB/s]\n"
          ]
        }
      ],
      "source": [
        "# Unduh dataset yang akan digunakan\n",
        "!kaggle datasets download -d CooperUnion/anime-recommendations-database"
      ]
    },
    {
      "cell_type": "code",
      "execution_count": null,
      "metadata": {
        "id": "1ojaXNJZo4wD"
      },
      "outputs": [],
      "source": [
        "# Mengekstrak berkas zip ke direktori\n",
        "!unzip -q /content/anime-recommendations-database.zip -d ."
      ]
    },
    {
      "cell_type": "markdown",
      "metadata": {
        "id": "bq8vQlcJpoOj"
      },
      "source": [
        "## Univariate Exploratory Data Analysis"
      ]
    },
    {
      "cell_type": "code",
      "execution_count": null,
      "metadata": {
        "id": "33XqUspVpFzh"
      },
      "outputs": [],
      "source": [
        "# Memuat data pada sebuah dataframe menggunakan pandas\n",
        "df_anime = pd.read_csv('/content/anime.csv')\n",
        "df_rating = pd.read_csv('/content/rating.csv')"
      ]
    },
    {
      "cell_type": "code",
      "execution_count": null,
      "metadata": {
        "colab": {
          "base_uri": "https://localhost:8080/"
        },
        "id": "Hb40uLnmvIr8",
        "outputId": "c7182895-919a-4da0-dccd-c9a43c669fa7"
      },
      "outputs": [
        {
          "name": "stdout",
          "output_type": "stream",
          "text": [
            "Bentuk data (baris, kolom):(12294, 7)\n",
            "Bentuk data (baris, kolom):(7813737, 3)\n"
          ]
        }
      ],
      "source": [
        "print ('Bentuk data (baris, kolom):'+ str(df_anime.shape))\n",
        "print ('Bentuk data (baris, kolom):'+ str(df_rating.shape))"
      ]
    },
    {
      "cell_type": "markdown",
      "metadata": {
        "id": "GNC9QRLzqHVV"
      },
      "source": [
        "#### **Informasi Kolom pada Dataset :**\n",
        "> Dataset ini memiliki 2 file csv yaitu Anime.csv dan Rating.csv. Berikut penjelasannya :\n",
        "\n",
        "**Anime.csv** \n",
        "\n",
        "Kolom | Keterangan\n",
        "--- | ---\n",
        "anime_id | ID unik yang mengidentifikasi anime\n",
        "name | Judul anime\n",
        "genre | Daftar genre pada anime yang dipisahkan dengan tanda koma\n",
        "type | movie, TV, OVA, dll\n",
        "episodes | Jumlah episode (1 jika movie)\n",
        "rating | Rating rata-rata dari 10 untuk anime\n",
        "member | Jumlah anggota komunitas yang ada di anime\n",
        "\n",
        "**Rating.csv** \n",
        "\n",
        "Kolom | Keterangan\n",
        "--- | ---\n",
        "user_id | ID pengguna yang dibuat secara acak tidak dapat diidentifikasi\n",
        "anime_id | Anime yang telah diberi peringkat oleh pengguna\n",
        "rating | Rating dari 10 yang telah diberikan pengguna (-1 jika pengguna menontonnya tetapi tidak memberikan peringkat)\n",
        "\n",
        "> *Catatan : kolom rating pada file Anime.csv adalah rating yang berasal dari ulasan pada situs web, dan kolom rating pada file Rating.csv adalah rating yang berasal dari ID pengguna.*\n",
        "\n"
      ]
    },
    {
      "cell_type": "markdown",
      "metadata": {
        "id": "myae4WqI1nLH"
      },
      "source": [
        "##### Variabel Anime"
      ]
    },
    {
      "cell_type": "code",
      "execution_count": null,
      "metadata": {
        "colab": {
          "base_uri": "https://localhost:8080/",
          "height": 394
        },
        "id": "S_bj6dhup5LP",
        "outputId": "df3eee3f-f366-47e8-8011-57d628c4f0e1"
      },
      "outputs": [
        {
          "data": {
            "text/html": [
              "<div>\n",
              "<style scoped>\n",
              "    .dataframe tbody tr th:only-of-type {\n",
              "        vertical-align: middle;\n",
              "    }\n",
              "\n",
              "    .dataframe tbody tr th {\n",
              "        vertical-align: top;\n",
              "    }\n",
              "\n",
              "    .dataframe thead th {\n",
              "        text-align: right;\n",
              "    }\n",
              "</style>\n",
              "<table border=\"1\" class=\"dataframe\">\n",
              "  <thead>\n",
              "    <tr style=\"text-align: right;\">\n",
              "      <th></th>\n",
              "      <th>anime_id</th>\n",
              "      <th>name</th>\n",
              "      <th>genre</th>\n",
              "      <th>type</th>\n",
              "      <th>episodes</th>\n",
              "      <th>rating</th>\n",
              "      <th>members</th>\n",
              "    </tr>\n",
              "  </thead>\n",
              "  <tbody>\n",
              "    <tr>\n",
              "      <th>0</th>\n",
              "      <td>32281</td>\n",
              "      <td>Kimi no Na wa.</td>\n",
              "      <td>Drama, Romance, School, Supernatural</td>\n",
              "      <td>Movie</td>\n",
              "      <td>1</td>\n",
              "      <td>9.37</td>\n",
              "      <td>200630</td>\n",
              "    </tr>\n",
              "    <tr>\n",
              "      <th>1</th>\n",
              "      <td>5114</td>\n",
              "      <td>Fullmetal Alchemist: Brotherhood</td>\n",
              "      <td>Action, Adventure, Drama, Fantasy, Magic, Mili...</td>\n",
              "      <td>TV</td>\n",
              "      <td>64</td>\n",
              "      <td>9.26</td>\n",
              "      <td>793665</td>\n",
              "    </tr>\n",
              "    <tr>\n",
              "      <th>2</th>\n",
              "      <td>28977</td>\n",
              "      <td>Gintama°</td>\n",
              "      <td>Action, Comedy, Historical, Parody, Samurai, S...</td>\n",
              "      <td>TV</td>\n",
              "      <td>51</td>\n",
              "      <td>9.25</td>\n",
              "      <td>114262</td>\n",
              "    </tr>\n",
              "    <tr>\n",
              "      <th>3</th>\n",
              "      <td>9253</td>\n",
              "      <td>Steins;Gate</td>\n",
              "      <td>Sci-Fi, Thriller</td>\n",
              "      <td>TV</td>\n",
              "      <td>24</td>\n",
              "      <td>9.17</td>\n",
              "      <td>673572</td>\n",
              "    </tr>\n",
              "    <tr>\n",
              "      <th>4</th>\n",
              "      <td>9969</td>\n",
              "      <td>Gintama&amp;#039;</td>\n",
              "      <td>Action, Comedy, Historical, Parody, Samurai, S...</td>\n",
              "      <td>TV</td>\n",
              "      <td>51</td>\n",
              "      <td>9.16</td>\n",
              "      <td>151266</td>\n",
              "    </tr>\n",
              "    <tr>\n",
              "      <th>5</th>\n",
              "      <td>32935</td>\n",
              "      <td>Haikyuu!!: Karasuno Koukou VS Shiratorizawa Ga...</td>\n",
              "      <td>Comedy, Drama, School, Shounen, Sports</td>\n",
              "      <td>TV</td>\n",
              "      <td>10</td>\n",
              "      <td>9.15</td>\n",
              "      <td>93351</td>\n",
              "    </tr>\n",
              "    <tr>\n",
              "      <th>6</th>\n",
              "      <td>11061</td>\n",
              "      <td>Hunter x Hunter (2011)</td>\n",
              "      <td>Action, Adventure, Shounen, Super Power</td>\n",
              "      <td>TV</td>\n",
              "      <td>148</td>\n",
              "      <td>9.13</td>\n",
              "      <td>425855</td>\n",
              "    </tr>\n",
              "    <tr>\n",
              "      <th>7</th>\n",
              "      <td>820</td>\n",
              "      <td>Ginga Eiyuu Densetsu</td>\n",
              "      <td>Drama, Military, Sci-Fi, Space</td>\n",
              "      <td>OVA</td>\n",
              "      <td>110</td>\n",
              "      <td>9.11</td>\n",
              "      <td>80679</td>\n",
              "    </tr>\n",
              "    <tr>\n",
              "      <th>8</th>\n",
              "      <td>15335</td>\n",
              "      <td>Gintama Movie: Kanketsu-hen - Yorozuya yo Eien...</td>\n",
              "      <td>Action, Comedy, Historical, Parody, Samurai, S...</td>\n",
              "      <td>Movie</td>\n",
              "      <td>1</td>\n",
              "      <td>9.10</td>\n",
              "      <td>72534</td>\n",
              "    </tr>\n",
              "    <tr>\n",
              "      <th>9</th>\n",
              "      <td>15417</td>\n",
              "      <td>Gintama&amp;#039;: Enchousen</td>\n",
              "      <td>Action, Comedy, Historical, Parody, Samurai, S...</td>\n",
              "      <td>TV</td>\n",
              "      <td>13</td>\n",
              "      <td>9.11</td>\n",
              "      <td>81109</td>\n",
              "    </tr>\n",
              "    <tr>\n",
              "      <th>10</th>\n",
              "      <td>4181</td>\n",
              "      <td>Clannad: After Story</td>\n",
              "      <td>Drama, Fantasy, Romance, Slice of Life, Supern...</td>\n",
              "      <td>TV</td>\n",
              "      <td>24</td>\n",
              "      <td>9.06</td>\n",
              "      <td>456749</td>\n",
              "    </tr>\n",
              "  </tbody>\n",
              "</table>\n",
              "</div>"
            ],
            "text/plain": [
              "    anime_id  ... members\n",
              "0      32281  ...  200630\n",
              "1       5114  ...  793665\n",
              "2      28977  ...  114262\n",
              "3       9253  ...  673572\n",
              "4       9969  ...  151266\n",
              "5      32935  ...   93351\n",
              "6      11061  ...  425855\n",
              "7        820  ...   80679\n",
              "8      15335  ...   72534\n",
              "9      15417  ...   81109\n",
              "10      4181  ...  456749\n",
              "\n",
              "[11 rows x 7 columns]"
            ]
          },
          "execution_count": 9,
          "metadata": {},
          "output_type": "execute_result"
        }
      ],
      "source": [
        "df_anime.head(11)"
      ]
    },
    {
      "cell_type": "code",
      "execution_count": null,
      "metadata": {
        "colab": {
          "base_uri": "https://localhost:8080/"
        },
        "id": "suRkffhzvmFd",
        "outputId": "1751415a-e01b-4a11-8432-6bd64abc47be"
      },
      "outputs": [
        {
          "name": "stdout",
          "output_type": "stream",
          "text": [
            "<class 'pandas.core.frame.DataFrame'>\n",
            "RangeIndex: 12294 entries, 0 to 12293\n",
            "Data columns (total 7 columns):\n",
            " #   Column    Non-Null Count  Dtype  \n",
            "---  ------    --------------  -----  \n",
            " 0   anime_id  12294 non-null  int64  \n",
            " 1   name      12294 non-null  object \n",
            " 2   genre     12232 non-null  object \n",
            " 3   type      12269 non-null  object \n",
            " 4   episodes  12294 non-null  object \n",
            " 5   rating    12064 non-null  float64\n",
            " 6   members   12294 non-null  int64  \n",
            "dtypes: float64(1), int64(2), object(4)\n",
            "memory usage: 672.5+ KB\n"
          ]
        }
      ],
      "source": [
        "# Memuat informasi dataframe\n",
        "df_anime.info()"
      ]
    },
    {
      "cell_type": "markdown",
      "metadata": {
        "id": "cuP5D1jVzqyt"
      },
      "source": [
        "Berdasarkan output di atas, dapat diketahui bahwa file Anime.csv memiliki 12294 entri."
      ]
    },
    {
      "cell_type": "code",
      "execution_count": null,
      "metadata": {
        "colab": {
          "base_uri": "https://localhost:8080/",
          "height": 300
        },
        "id": "pOQWEgSOwApz",
        "outputId": "52d920e8-89e8-4da9-d29d-e306a90cd0a8"
      },
      "outputs": [
        {
          "data": {
            "text/html": [
              "<div>\n",
              "<style scoped>\n",
              "    .dataframe tbody tr th:only-of-type {\n",
              "        vertical-align: middle;\n",
              "    }\n",
              "\n",
              "    .dataframe tbody tr th {\n",
              "        vertical-align: top;\n",
              "    }\n",
              "\n",
              "    .dataframe thead th {\n",
              "        text-align: right;\n",
              "    }\n",
              "</style>\n",
              "<table border=\"1\" class=\"dataframe\">\n",
              "  <thead>\n",
              "    <tr style=\"text-align: right;\">\n",
              "      <th></th>\n",
              "      <th>anime_id</th>\n",
              "      <th>rating</th>\n",
              "      <th>members</th>\n",
              "    </tr>\n",
              "  </thead>\n",
              "  <tbody>\n",
              "    <tr>\n",
              "      <th>count</th>\n",
              "      <td>12294.000000</td>\n",
              "      <td>12064.000000</td>\n",
              "      <td>1.229400e+04</td>\n",
              "    </tr>\n",
              "    <tr>\n",
              "      <th>mean</th>\n",
              "      <td>14058.221653</td>\n",
              "      <td>6.473902</td>\n",
              "      <td>1.807134e+04</td>\n",
              "    </tr>\n",
              "    <tr>\n",
              "      <th>std</th>\n",
              "      <td>11455.294701</td>\n",
              "      <td>1.026746</td>\n",
              "      <td>5.482068e+04</td>\n",
              "    </tr>\n",
              "    <tr>\n",
              "      <th>min</th>\n",
              "      <td>1.000000</td>\n",
              "      <td>1.670000</td>\n",
              "      <td>5.000000e+00</td>\n",
              "    </tr>\n",
              "    <tr>\n",
              "      <th>25%</th>\n",
              "      <td>3484.250000</td>\n",
              "      <td>5.880000</td>\n",
              "      <td>2.250000e+02</td>\n",
              "    </tr>\n",
              "    <tr>\n",
              "      <th>50%</th>\n",
              "      <td>10260.500000</td>\n",
              "      <td>6.570000</td>\n",
              "      <td>1.550000e+03</td>\n",
              "    </tr>\n",
              "    <tr>\n",
              "      <th>75%</th>\n",
              "      <td>24794.500000</td>\n",
              "      <td>7.180000</td>\n",
              "      <td>9.437000e+03</td>\n",
              "    </tr>\n",
              "    <tr>\n",
              "      <th>max</th>\n",
              "      <td>34527.000000</td>\n",
              "      <td>10.000000</td>\n",
              "      <td>1.013917e+06</td>\n",
              "    </tr>\n",
              "  </tbody>\n",
              "</table>\n",
              "</div>"
            ],
            "text/plain": [
              "           anime_id        rating       members\n",
              "count  12294.000000  12064.000000  1.229400e+04\n",
              "mean   14058.221653      6.473902  1.807134e+04\n",
              "std    11455.294701      1.026746  5.482068e+04\n",
              "min        1.000000      1.670000  5.000000e+00\n",
              "25%     3484.250000      5.880000  2.250000e+02\n",
              "50%    10260.500000      6.570000  1.550000e+03\n",
              "75%    24794.500000      7.180000  9.437000e+03\n",
              "max    34527.000000     10.000000  1.013917e+06"
            ]
          },
          "execution_count": 11,
          "metadata": {},
          "output_type": "execute_result"
        }
      ],
      "source": [
        "# Memuat deskripsi setiap kolom dataframe\n",
        "df_anime.describe()"
      ]
    },
    {
      "cell_type": "markdown",
      "metadata": {
        "id": "fLyH-pmG0Ivk"
      },
      "source": [
        "Dari output di atas, dapat disimpulkan bahwa nilai maksimum rating adalah 10 dan nilai minimumnya adalah 1.027 (1). Artinya, skala rating berkisar antara 1 hingga 10."
      ]
    },
    {
      "cell_type": "code",
      "execution_count": null,
      "metadata": {
        "colab": {
          "base_uri": "https://localhost:8080/"
        },
        "id": "rolTI2l0z7jp",
        "outputId": "31b55084-644f-4310-dc00-9bf45300effc"
      },
      "outputs": [
        {
          "data": {
            "text/plain": [
              "anime_id      0\n",
              "name          0\n",
              "genre        62\n",
              "type         25\n",
              "episodes      0\n",
              "rating      230\n",
              "members       0\n",
              "dtype: int64"
            ]
          },
          "execution_count": 12,
          "metadata": {},
          "output_type": "execute_result"
        }
      ],
      "source": [
        "# Melihat jumlah data kosong pada setiap kolom\n",
        "df_anime.isnull().sum()"
      ]
    },
    {
      "cell_type": "code",
      "execution_count": null,
      "metadata": {
        "colab": {
          "base_uri": "https://localhost:8080/"
        },
        "id": "Cq6nkcIu0jE8",
        "outputId": "e461753e-37e0-4964-8ee4-885df9fc0b45"
      },
      "outputs": [
        {
          "name": "stdout",
          "output_type": "stream",
          "text": [
            "<class 'pandas.core.frame.DataFrame'>\n",
            "Int64Index: 12017 entries, 0 to 12293\n",
            "Data columns (total 7 columns):\n",
            " #   Column    Non-Null Count  Dtype  \n",
            "---  ------    --------------  -----  \n",
            " 0   anime_id  12017 non-null  int64  \n",
            " 1   name      12017 non-null  object \n",
            " 2   genre     12017 non-null  object \n",
            " 3   type      12017 non-null  object \n",
            " 4   episodes  12017 non-null  object \n",
            " 5   rating    12017 non-null  float64\n",
            " 6   members   12017 non-null  int64  \n",
            "dtypes: float64(1), int64(2), object(4)\n",
            "memory usage: 751.1+ KB\n"
          ]
        }
      ],
      "source": [
        "#Drop data yang kosong pada setiap kolom\n",
        "df_anime = df_anime.dropna(axis=0)\n",
        "df_anime.info()"
      ]
    },
    {
      "cell_type": "code",
      "execution_count": null,
      "metadata": {
        "colab": {
          "base_uri": "https://localhost:8080/"
        },
        "id": "9A8N8AEs1DC1",
        "outputId": "496125f9-99f7-4bde-d64e-4289e093c259"
      },
      "outputs": [
        {
          "name": "stdout",
          "output_type": "stream",
          "text": [
            "<class 'pandas.core.frame.DataFrame'>\n",
            "Int64Index: 12017 entries, 0 to 12293\n",
            "Data columns (total 7 columns):\n",
            " #   Column    Non-Null Count  Dtype \n",
            "---  ------    --------------  ----- \n",
            " 0   anime_id  12017 non-null  int64 \n",
            " 1   name      12017 non-null  object\n",
            " 2   genre     12017 non-null  object\n",
            " 3   type      12017 non-null  object\n",
            " 4   episodes  12017 non-null  object\n",
            " 5   rating    12017 non-null  int64 \n",
            " 6   members   12017 non-null  int64 \n",
            "dtypes: int64(3), object(4)\n",
            "memory usage: 751.1+ KB\n"
          ]
        }
      ],
      "source": [
        "# mengubah tipe data pada kolom rating menjadi integer untuk menyamakan dengan kolom rating pada file Rating.csv\n",
        "df_anime['rating'] = df_anime['rating'].astype(int)\n",
        "df_anime.info()"
      ]
    },
    {
      "cell_type": "code",
      "execution_count": null,
      "metadata": {
        "colab": {
          "base_uri": "https://localhost:8080/"
        },
        "id": "z5Otdj8P1Zrw",
        "outputId": "271d714e-44b5-462f-f93f-006c981bada6"
      },
      "outputs": [
        {
          "name": "stdout",
          "output_type": "stream",
          "text": [
            "Total jumlah ID Anime : 12017\n",
            "Total jumlah Genre : 3229\n",
            "Total jumlah Judul Anime : 12015\n",
            "Total jumlah Rating : 10\n"
          ]
        }
      ],
      "source": [
        "print('Total jumlah ID Anime :', len(df_anime['anime_id'].unique()))\n",
        "print('Total jumlah Genre :', len(df_anime['genre'].unique()))\n",
        "print('Total jumlah Judul Anime :', len(df_anime['name'].unique()))\n",
        "print('Total jumlah Rating :', len(df_anime['rating'].unique()))"
      ]
    },
    {
      "cell_type": "markdown",
      "metadata": {
        "id": "acDlFRgk2DdZ"
      },
      "source": [
        "##### Variabel Rating"
      ]
    },
    {
      "cell_type": "code",
      "execution_count": null,
      "metadata": {
        "colab": {
          "base_uri": "https://localhost:8080/",
          "height": 394
        },
        "id": "RQTA1_lh1dbx",
        "outputId": "90c54674-8b5f-46f7-c165-adb0ac2d0f04"
      },
      "outputs": [
        {
          "data": {
            "text/html": [
              "<div>\n",
              "<style scoped>\n",
              "    .dataframe tbody tr th:only-of-type {\n",
              "        vertical-align: middle;\n",
              "    }\n",
              "\n",
              "    .dataframe tbody tr th {\n",
              "        vertical-align: top;\n",
              "    }\n",
              "\n",
              "    .dataframe thead th {\n",
              "        text-align: right;\n",
              "    }\n",
              "</style>\n",
              "<table border=\"1\" class=\"dataframe\">\n",
              "  <thead>\n",
              "    <tr style=\"text-align: right;\">\n",
              "      <th></th>\n",
              "      <th>user_id</th>\n",
              "      <th>anime_id</th>\n",
              "      <th>rating</th>\n",
              "    </tr>\n",
              "  </thead>\n",
              "  <tbody>\n",
              "    <tr>\n",
              "      <th>0</th>\n",
              "      <td>1</td>\n",
              "      <td>20</td>\n",
              "      <td>-1</td>\n",
              "    </tr>\n",
              "    <tr>\n",
              "      <th>1</th>\n",
              "      <td>1</td>\n",
              "      <td>24</td>\n",
              "      <td>-1</td>\n",
              "    </tr>\n",
              "    <tr>\n",
              "      <th>2</th>\n",
              "      <td>1</td>\n",
              "      <td>79</td>\n",
              "      <td>-1</td>\n",
              "    </tr>\n",
              "    <tr>\n",
              "      <th>3</th>\n",
              "      <td>1</td>\n",
              "      <td>226</td>\n",
              "      <td>-1</td>\n",
              "    </tr>\n",
              "    <tr>\n",
              "      <th>4</th>\n",
              "      <td>1</td>\n",
              "      <td>241</td>\n",
              "      <td>-1</td>\n",
              "    </tr>\n",
              "    <tr>\n",
              "      <th>5</th>\n",
              "      <td>1</td>\n",
              "      <td>355</td>\n",
              "      <td>-1</td>\n",
              "    </tr>\n",
              "    <tr>\n",
              "      <th>6</th>\n",
              "      <td>1</td>\n",
              "      <td>356</td>\n",
              "      <td>-1</td>\n",
              "    </tr>\n",
              "    <tr>\n",
              "      <th>7</th>\n",
              "      <td>1</td>\n",
              "      <td>442</td>\n",
              "      <td>-1</td>\n",
              "    </tr>\n",
              "    <tr>\n",
              "      <th>8</th>\n",
              "      <td>1</td>\n",
              "      <td>487</td>\n",
              "      <td>-1</td>\n",
              "    </tr>\n",
              "    <tr>\n",
              "      <th>9</th>\n",
              "      <td>1</td>\n",
              "      <td>846</td>\n",
              "      <td>-1</td>\n",
              "    </tr>\n",
              "    <tr>\n",
              "      <th>10</th>\n",
              "      <td>1</td>\n",
              "      <td>936</td>\n",
              "      <td>-1</td>\n",
              "    </tr>\n",
              "  </tbody>\n",
              "</table>\n",
              "</div>"
            ],
            "text/plain": [
              "    user_id  anime_id  rating\n",
              "0         1        20      -1\n",
              "1         1        24      -1\n",
              "2         1        79      -1\n",
              "3         1       226      -1\n",
              "4         1       241      -1\n",
              "5         1       355      -1\n",
              "6         1       356      -1\n",
              "7         1       442      -1\n",
              "8         1       487      -1\n",
              "9         1       846      -1\n",
              "10        1       936      -1"
            ]
          },
          "execution_count": 16,
          "metadata": {},
          "output_type": "execute_result"
        }
      ],
      "source": [
        "df_rating.head(11)"
      ]
    },
    {
      "cell_type": "code",
      "execution_count": null,
      "metadata": {
        "colab": {
          "base_uri": "https://localhost:8080/"
        },
        "id": "RAmklnSB2BoG",
        "outputId": "4cbae883-2257-475b-89db-29b1f9da8578"
      },
      "outputs": [
        {
          "name": "stdout",
          "output_type": "stream",
          "text": [
            "<class 'pandas.core.frame.DataFrame'>\n",
            "RangeIndex: 7813737 entries, 0 to 7813736\n",
            "Data columns (total 3 columns):\n",
            " #   Column    Dtype\n",
            "---  ------    -----\n",
            " 0   user_id   int64\n",
            " 1   anime_id  int64\n",
            " 2   rating    int64\n",
            "dtypes: int64(3)\n",
            "memory usage: 178.8 MB\n"
          ]
        }
      ],
      "source": [
        "# Memuat informasi dataframe\n",
        "df_rating.info()"
      ]
    },
    {
      "cell_type": "markdown",
      "metadata": {
        "id": "AVXpV7mO2Up-"
      },
      "source": [
        "Berdasarkan output di atas, dapat diketahui bahwa file Rating.csv memiliki 7813737 entri."
      ]
    },
    {
      "cell_type": "code",
      "execution_count": null,
      "metadata": {
        "colab": {
          "base_uri": "https://localhost:8080/",
          "height": 300
        },
        "id": "XlOdSZ7u2PpA",
        "outputId": "b8b67650-7007-41a0-c6d8-ecfa1d8508e7"
      },
      "outputs": [
        {
          "data": {
            "text/html": [
              "<div>\n",
              "<style scoped>\n",
              "    .dataframe tbody tr th:only-of-type {\n",
              "        vertical-align: middle;\n",
              "    }\n",
              "\n",
              "    .dataframe tbody tr th {\n",
              "        vertical-align: top;\n",
              "    }\n",
              "\n",
              "    .dataframe thead th {\n",
              "        text-align: right;\n",
              "    }\n",
              "</style>\n",
              "<table border=\"1\" class=\"dataframe\">\n",
              "  <thead>\n",
              "    <tr style=\"text-align: right;\">\n",
              "      <th></th>\n",
              "      <th>user_id</th>\n",
              "      <th>anime_id</th>\n",
              "      <th>rating</th>\n",
              "    </tr>\n",
              "  </thead>\n",
              "  <tbody>\n",
              "    <tr>\n",
              "      <th>count</th>\n",
              "      <td>7.813737e+06</td>\n",
              "      <td>7.813737e+06</td>\n",
              "      <td>7.813737e+06</td>\n",
              "    </tr>\n",
              "    <tr>\n",
              "      <th>mean</th>\n",
              "      <td>3.672796e+04</td>\n",
              "      <td>8.909072e+03</td>\n",
              "      <td>6.144030e+00</td>\n",
              "    </tr>\n",
              "    <tr>\n",
              "      <th>std</th>\n",
              "      <td>2.099795e+04</td>\n",
              "      <td>8.883950e+03</td>\n",
              "      <td>3.727800e+00</td>\n",
              "    </tr>\n",
              "    <tr>\n",
              "      <th>min</th>\n",
              "      <td>1.000000e+00</td>\n",
              "      <td>1.000000e+00</td>\n",
              "      <td>-1.000000e+00</td>\n",
              "    </tr>\n",
              "    <tr>\n",
              "      <th>25%</th>\n",
              "      <td>1.897400e+04</td>\n",
              "      <td>1.240000e+03</td>\n",
              "      <td>6.000000e+00</td>\n",
              "    </tr>\n",
              "    <tr>\n",
              "      <th>50%</th>\n",
              "      <td>3.679100e+04</td>\n",
              "      <td>6.213000e+03</td>\n",
              "      <td>7.000000e+00</td>\n",
              "    </tr>\n",
              "    <tr>\n",
              "      <th>75%</th>\n",
              "      <td>5.475700e+04</td>\n",
              "      <td>1.409300e+04</td>\n",
              "      <td>9.000000e+00</td>\n",
              "    </tr>\n",
              "    <tr>\n",
              "      <th>max</th>\n",
              "      <td>7.351600e+04</td>\n",
              "      <td>3.451900e+04</td>\n",
              "      <td>1.000000e+01</td>\n",
              "    </tr>\n",
              "  </tbody>\n",
              "</table>\n",
              "</div>"
            ],
            "text/plain": [
              "            user_id      anime_id        rating\n",
              "count  7.813737e+06  7.813737e+06  7.813737e+06\n",
              "mean   3.672796e+04  8.909072e+03  6.144030e+00\n",
              "std    2.099795e+04  8.883950e+03  3.727800e+00\n",
              "min    1.000000e+00  1.000000e+00 -1.000000e+00\n",
              "25%    1.897400e+04  1.240000e+03  6.000000e+00\n",
              "50%    3.679100e+04  6.213000e+03  7.000000e+00\n",
              "75%    5.475700e+04  1.409300e+04  9.000000e+00\n",
              "max    7.351600e+04  3.451900e+04  1.000000e+01"
            ]
          },
          "execution_count": 18,
          "metadata": {},
          "output_type": "execute_result"
        }
      ],
      "source": [
        "# Memuat deskripsi setiap kolom dataframe\n",
        "df_rating.describe()"
      ]
    },
    {
      "cell_type": "code",
      "execution_count": null,
      "metadata": {
        "colab": {
          "base_uri": "https://localhost:8080/"
        },
        "id": "GXw7v1Si2g6r",
        "outputId": "10a1a15b-0103-4fb8-9cf6-73d48fd969d8"
      },
      "outputs": [
        {
          "name": "stdout",
          "output_type": "stream",
          "text": [
            "Total jumlah user : 73515\n",
            "Total jumlah judul anime : 11200\n",
            "Total jumlah rating : 11\n"
          ]
        }
      ],
      "source": [
        "print('Total jumlah user :', len(df_rating['user_id'].unique()))\n",
        "print('Total jumlah judul anime :', len(df_rating['anime_id'].unique()))\n",
        "print('Total jumlah rating :', len(df_rating['rating'].unique()))"
      ]
    },
    {
      "cell_type": "markdown",
      "metadata": {
        "id": "oOwA7pdG3HIr"
      },
      "source": [
        "## Data Preprocessing"
      ]
    },
    {
      "cell_type": "code",
      "execution_count": null,
      "metadata": {
        "colab": {
          "base_uri": "https://localhost:8080/",
          "height": 423
        },
        "id": "4x6OKN0s23Dg",
        "outputId": "bee08af8-0ec6-4f1d-d2cf-9d37a46adc26"
      },
      "outputs": [
        {
          "data": {
            "text/html": [
              "<div>\n",
              "<style scoped>\n",
              "    .dataframe tbody tr th:only-of-type {\n",
              "        vertical-align: middle;\n",
              "    }\n",
              "\n",
              "    .dataframe tbody tr th {\n",
              "        vertical-align: top;\n",
              "    }\n",
              "\n",
              "    .dataframe thead th {\n",
              "        text-align: right;\n",
              "    }\n",
              "</style>\n",
              "<table border=\"1\" class=\"dataframe\">\n",
              "  <thead>\n",
              "    <tr style=\"text-align: right;\">\n",
              "      <th></th>\n",
              "      <th>anime_id</th>\n",
              "      <th>name</th>\n",
              "      <th>genre</th>\n",
              "      <th>type</th>\n",
              "      <th>episodes</th>\n",
              "      <th>rating</th>\n",
              "      <th>members</th>\n",
              "      <th>user_id</th>\n",
              "      <th>ratinguser</th>\n",
              "    </tr>\n",
              "  </thead>\n",
              "  <tbody>\n",
              "    <tr>\n",
              "      <th>0</th>\n",
              "      <td>32281</td>\n",
              "      <td>Kimi no Na wa.</td>\n",
              "      <td>Drama, Romance, School, Supernatural</td>\n",
              "      <td>Movie</td>\n",
              "      <td>1</td>\n",
              "      <td>9</td>\n",
              "      <td>200630</td>\n",
              "      <td>99</td>\n",
              "      <td>5</td>\n",
              "    </tr>\n",
              "    <tr>\n",
              "      <th>1</th>\n",
              "      <td>32281</td>\n",
              "      <td>Kimi no Na wa.</td>\n",
              "      <td>Drama, Romance, School, Supernatural</td>\n",
              "      <td>Movie</td>\n",
              "      <td>1</td>\n",
              "      <td>9</td>\n",
              "      <td>200630</td>\n",
              "      <td>152</td>\n",
              "      <td>10</td>\n",
              "    </tr>\n",
              "    <tr>\n",
              "      <th>2</th>\n",
              "      <td>32281</td>\n",
              "      <td>Kimi no Na wa.</td>\n",
              "      <td>Drama, Romance, School, Supernatural</td>\n",
              "      <td>Movie</td>\n",
              "      <td>1</td>\n",
              "      <td>9</td>\n",
              "      <td>200630</td>\n",
              "      <td>244</td>\n",
              "      <td>10</td>\n",
              "    </tr>\n",
              "    <tr>\n",
              "      <th>3</th>\n",
              "      <td>32281</td>\n",
              "      <td>Kimi no Na wa.</td>\n",
              "      <td>Drama, Romance, School, Supernatural</td>\n",
              "      <td>Movie</td>\n",
              "      <td>1</td>\n",
              "      <td>9</td>\n",
              "      <td>200630</td>\n",
              "      <td>271</td>\n",
              "      <td>10</td>\n",
              "    </tr>\n",
              "    <tr>\n",
              "      <th>4</th>\n",
              "      <td>32281</td>\n",
              "      <td>Kimi no Na wa.</td>\n",
              "      <td>Drama, Romance, School, Supernatural</td>\n",
              "      <td>Movie</td>\n",
              "      <td>1</td>\n",
              "      <td>9</td>\n",
              "      <td>200630</td>\n",
              "      <td>278</td>\n",
              "      <td>-1</td>\n",
              "    </tr>\n",
              "    <tr>\n",
              "      <th>...</th>\n",
              "      <td>...</td>\n",
              "      <td>...</td>\n",
              "      <td>...</td>\n",
              "      <td>...</td>\n",
              "      <td>...</td>\n",
              "      <td>...</td>\n",
              "      <td>...</td>\n",
              "      <td>...</td>\n",
              "      <td>...</td>\n",
              "    </tr>\n",
              "    <tr>\n",
              "      <th>7813606</th>\n",
              "      <td>6133</td>\n",
              "      <td>Violence Gekiga Shin David no Hoshi: Inma Dens...</td>\n",
              "      <td>Hentai</td>\n",
              "      <td>OVA</td>\n",
              "      <td>1</td>\n",
              "      <td>4</td>\n",
              "      <td>175</td>\n",
              "      <td>39532</td>\n",
              "      <td>-1</td>\n",
              "    </tr>\n",
              "    <tr>\n",
              "      <th>7813607</th>\n",
              "      <td>6133</td>\n",
              "      <td>Violence Gekiga Shin David no Hoshi: Inma Dens...</td>\n",
              "      <td>Hentai</td>\n",
              "      <td>OVA</td>\n",
              "      <td>1</td>\n",
              "      <td>4</td>\n",
              "      <td>175</td>\n",
              "      <td>48766</td>\n",
              "      <td>-1</td>\n",
              "    </tr>\n",
              "    <tr>\n",
              "      <th>7813608</th>\n",
              "      <td>6133</td>\n",
              "      <td>Violence Gekiga Shin David no Hoshi: Inma Dens...</td>\n",
              "      <td>Hentai</td>\n",
              "      <td>OVA</td>\n",
              "      <td>1</td>\n",
              "      <td>4</td>\n",
              "      <td>175</td>\n",
              "      <td>60365</td>\n",
              "      <td>4</td>\n",
              "    </tr>\n",
              "    <tr>\n",
              "      <th>7813609</th>\n",
              "      <td>26081</td>\n",
              "      <td>Yasuji no Pornorama: Yacchimae!!</td>\n",
              "      <td>Hentai</td>\n",
              "      <td>Movie</td>\n",
              "      <td>1</td>\n",
              "      <td>5</td>\n",
              "      <td>142</td>\n",
              "      <td>27364</td>\n",
              "      <td>-1</td>\n",
              "    </tr>\n",
              "    <tr>\n",
              "      <th>7813610</th>\n",
              "      <td>26081</td>\n",
              "      <td>Yasuji no Pornorama: Yacchimae!!</td>\n",
              "      <td>Hentai</td>\n",
              "      <td>Movie</td>\n",
              "      <td>1</td>\n",
              "      <td>5</td>\n",
              "      <td>142</td>\n",
              "      <td>48766</td>\n",
              "      <td>-1</td>\n",
              "    </tr>\n",
              "  </tbody>\n",
              "</table>\n",
              "<p>7813611 rows × 9 columns</p>\n",
              "</div>"
            ],
            "text/plain": [
              "         anime_id  ... ratinguser\n",
              "0           32281  ...          5\n",
              "1           32281  ...         10\n",
              "2           32281  ...         10\n",
              "3           32281  ...         10\n",
              "4           32281  ...         -1\n",
              "...           ...  ...        ...\n",
              "7813606      6133  ...         -1\n",
              "7813607      6133  ...         -1\n",
              "7813608      6133  ...          4\n",
              "7813609     26081  ...         -1\n",
              "7813610     26081  ...         -1\n",
              "\n",
              "[7813611 rows x 9 columns]"
            ]
          },
          "execution_count": 20,
          "metadata": {},
          "output_type": "execute_result"
        }
      ],
      "source": [
        "# Merge dataframe df_rating dan df_anime\n",
        "anime_new = pd.merge(df_anime, df_rating, on='anime_id', suffixes=['', 'user'])\n",
        "anime_new"
      ]
    },
    {
      "cell_type": "code",
      "execution_count": null,
      "metadata": {
        "colab": {
          "base_uri": "https://localhost:8080/",
          "height": 394
        },
        "id": "lAff2v9l3Kmh",
        "outputId": "5c433afa-cc59-4271-f6e1-5dbc9ca4087a"
      },
      "outputs": [
        {
          "data": {
            "text/html": [
              "<div>\n",
              "<style scoped>\n",
              "    .dataframe tbody tr th:only-of-type {\n",
              "        vertical-align: middle;\n",
              "    }\n",
              "\n",
              "    .dataframe tbody tr th {\n",
              "        vertical-align: top;\n",
              "    }\n",
              "\n",
              "    .dataframe thead th {\n",
              "        text-align: right;\n",
              "    }\n",
              "</style>\n",
              "<table border=\"1\" class=\"dataframe\">\n",
              "  <thead>\n",
              "    <tr style=\"text-align: right;\">\n",
              "      <th></th>\n",
              "      <th>anime_id</th>\n",
              "      <th>title</th>\n",
              "      <th>genre</th>\n",
              "      <th>type</th>\n",
              "      <th>episodes</th>\n",
              "      <th>rating</th>\n",
              "      <th>members</th>\n",
              "      <th>user_id</th>\n",
              "      <th>rating_user</th>\n",
              "    </tr>\n",
              "  </thead>\n",
              "  <tbody>\n",
              "    <tr>\n",
              "      <th>0</th>\n",
              "      <td>32281</td>\n",
              "      <td>Kimi no Na wa.</td>\n",
              "      <td>Drama, Romance, School, Supernatural</td>\n",
              "      <td>Movie</td>\n",
              "      <td>1</td>\n",
              "      <td>9</td>\n",
              "      <td>200630</td>\n",
              "      <td>99</td>\n",
              "      <td>5</td>\n",
              "    </tr>\n",
              "    <tr>\n",
              "      <th>1</th>\n",
              "      <td>32281</td>\n",
              "      <td>Kimi no Na wa.</td>\n",
              "      <td>Drama, Romance, School, Supernatural</td>\n",
              "      <td>Movie</td>\n",
              "      <td>1</td>\n",
              "      <td>9</td>\n",
              "      <td>200630</td>\n",
              "      <td>152</td>\n",
              "      <td>10</td>\n",
              "    </tr>\n",
              "    <tr>\n",
              "      <th>2</th>\n",
              "      <td>32281</td>\n",
              "      <td>Kimi no Na wa.</td>\n",
              "      <td>Drama, Romance, School, Supernatural</td>\n",
              "      <td>Movie</td>\n",
              "      <td>1</td>\n",
              "      <td>9</td>\n",
              "      <td>200630</td>\n",
              "      <td>244</td>\n",
              "      <td>10</td>\n",
              "    </tr>\n",
              "    <tr>\n",
              "      <th>3</th>\n",
              "      <td>32281</td>\n",
              "      <td>Kimi no Na wa.</td>\n",
              "      <td>Drama, Romance, School, Supernatural</td>\n",
              "      <td>Movie</td>\n",
              "      <td>1</td>\n",
              "      <td>9</td>\n",
              "      <td>200630</td>\n",
              "      <td>271</td>\n",
              "      <td>10</td>\n",
              "    </tr>\n",
              "    <tr>\n",
              "      <th>4</th>\n",
              "      <td>32281</td>\n",
              "      <td>Kimi no Na wa.</td>\n",
              "      <td>Drama, Romance, School, Supernatural</td>\n",
              "      <td>Movie</td>\n",
              "      <td>1</td>\n",
              "      <td>9</td>\n",
              "      <td>200630</td>\n",
              "      <td>278</td>\n",
              "      <td>-1</td>\n",
              "    </tr>\n",
              "    <tr>\n",
              "      <th>5</th>\n",
              "      <td>32281</td>\n",
              "      <td>Kimi no Na wa.</td>\n",
              "      <td>Drama, Romance, School, Supernatural</td>\n",
              "      <td>Movie</td>\n",
              "      <td>1</td>\n",
              "      <td>9</td>\n",
              "      <td>200630</td>\n",
              "      <td>322</td>\n",
              "      <td>10</td>\n",
              "    </tr>\n",
              "    <tr>\n",
              "      <th>6</th>\n",
              "      <td>32281</td>\n",
              "      <td>Kimi no Na wa.</td>\n",
              "      <td>Drama, Romance, School, Supernatural</td>\n",
              "      <td>Movie</td>\n",
              "      <td>1</td>\n",
              "      <td>9</td>\n",
              "      <td>200630</td>\n",
              "      <td>398</td>\n",
              "      <td>10</td>\n",
              "    </tr>\n",
              "    <tr>\n",
              "      <th>7</th>\n",
              "      <td>32281</td>\n",
              "      <td>Kimi no Na wa.</td>\n",
              "      <td>Drama, Romance, School, Supernatural</td>\n",
              "      <td>Movie</td>\n",
              "      <td>1</td>\n",
              "      <td>9</td>\n",
              "      <td>200630</td>\n",
              "      <td>462</td>\n",
              "      <td>8</td>\n",
              "    </tr>\n",
              "    <tr>\n",
              "      <th>8</th>\n",
              "      <td>32281</td>\n",
              "      <td>Kimi no Na wa.</td>\n",
              "      <td>Drama, Romance, School, Supernatural</td>\n",
              "      <td>Movie</td>\n",
              "      <td>1</td>\n",
              "      <td>9</td>\n",
              "      <td>200630</td>\n",
              "      <td>490</td>\n",
              "      <td>10</td>\n",
              "    </tr>\n",
              "    <tr>\n",
              "      <th>9</th>\n",
              "      <td>32281</td>\n",
              "      <td>Kimi no Na wa.</td>\n",
              "      <td>Drama, Romance, School, Supernatural</td>\n",
              "      <td>Movie</td>\n",
              "      <td>1</td>\n",
              "      <td>9</td>\n",
              "      <td>200630</td>\n",
              "      <td>548</td>\n",
              "      <td>10</td>\n",
              "    </tr>\n",
              "    <tr>\n",
              "      <th>10</th>\n",
              "      <td>32281</td>\n",
              "      <td>Kimi no Na wa.</td>\n",
              "      <td>Drama, Romance, School, Supernatural</td>\n",
              "      <td>Movie</td>\n",
              "      <td>1</td>\n",
              "      <td>9</td>\n",
              "      <td>200630</td>\n",
              "      <td>570</td>\n",
              "      <td>10</td>\n",
              "    </tr>\n",
              "  </tbody>\n",
              "</table>\n",
              "</div>"
            ],
            "text/plain": [
              "    anime_id           title  ... user_id rating_user\n",
              "0      32281  Kimi no Na wa.  ...      99           5\n",
              "1      32281  Kimi no Na wa.  ...     152          10\n",
              "2      32281  Kimi no Na wa.  ...     244          10\n",
              "3      32281  Kimi no Na wa.  ...     271          10\n",
              "4      32281  Kimi no Na wa.  ...     278          -1\n",
              "5      32281  Kimi no Na wa.  ...     322          10\n",
              "6      32281  Kimi no Na wa.  ...     398          10\n",
              "7      32281  Kimi no Na wa.  ...     462           8\n",
              "8      32281  Kimi no Na wa.  ...     490          10\n",
              "9      32281  Kimi no Na wa.  ...     548          10\n",
              "10     32281  Kimi no Na wa.  ...     570          10\n",
              "\n",
              "[11 rows x 9 columns]"
            ]
          },
          "execution_count": 21,
          "metadata": {},
          "output_type": "execute_result"
        }
      ],
      "source": [
        "# Ganti nama kolom agar dapat lebih mudah dipahami\n",
        "anime_new = anime_new.rename(columns={'name' : 'title', 'ratinguser':'rating_user'})\n",
        "anime_new.head(11)"
      ]
    },
    {
      "cell_type": "markdown",
      "metadata": {
        "id": "YB4Dzekz3bgc"
      },
      "source": [
        "## Data Preparation"
      ]
    },
    {
      "cell_type": "markdown",
      "metadata": {
        "id": "Y_-CSSVg3j7n"
      },
      "source": [
        "Pada data preparation, saya akan memeriksa rating dengan nilai -1 yang kemudian akan dianggap sebagai outlier dan akan diubah menjadi NaN lalu akan saya bersihkan."
      ]
    },
    {
      "cell_type": "code",
      "execution_count": null,
      "metadata": {
        "colab": {
          "base_uri": "https://localhost:8080/",
          "height": 562
        },
        "id": "o_DGjAGA3Xeb",
        "outputId": "7f25be3f-9a7f-40eb-9b21-5943d891cf91"
      },
      "outputs": [
        {
          "data": {
            "text/html": [
              "<div>\n",
              "<style scoped>\n",
              "    .dataframe tbody tr th:only-of-type {\n",
              "        vertical-align: middle;\n",
              "    }\n",
              "\n",
              "    .dataframe tbody tr th {\n",
              "        vertical-align: top;\n",
              "    }\n",
              "\n",
              "    .dataframe thead th {\n",
              "        text-align: right;\n",
              "    }\n",
              "</style>\n",
              "<table border=\"1\" class=\"dataframe\">\n",
              "  <thead>\n",
              "    <tr style=\"text-align: right;\">\n",
              "      <th></th>\n",
              "      <th>anime_id</th>\n",
              "      <th>title</th>\n",
              "      <th>genre</th>\n",
              "      <th>type</th>\n",
              "      <th>episodes</th>\n",
              "      <th>rating</th>\n",
              "      <th>members</th>\n",
              "      <th>user_id</th>\n",
              "      <th>rating_user</th>\n",
              "    </tr>\n",
              "  </thead>\n",
              "  <tbody>\n",
              "    <tr>\n",
              "      <th>0</th>\n",
              "      <td>32281</td>\n",
              "      <td>Kimi no Na wa.</td>\n",
              "      <td>Drama, Romance, School, Supernatural</td>\n",
              "      <td>Movie</td>\n",
              "      <td>1</td>\n",
              "      <td>9</td>\n",
              "      <td>200630</td>\n",
              "      <td>99</td>\n",
              "      <td>5.0</td>\n",
              "    </tr>\n",
              "    <tr>\n",
              "      <th>1</th>\n",
              "      <td>32281</td>\n",
              "      <td>Kimi no Na wa.</td>\n",
              "      <td>Drama, Romance, School, Supernatural</td>\n",
              "      <td>Movie</td>\n",
              "      <td>1</td>\n",
              "      <td>9</td>\n",
              "      <td>200630</td>\n",
              "      <td>152</td>\n",
              "      <td>10.0</td>\n",
              "    </tr>\n",
              "    <tr>\n",
              "      <th>2</th>\n",
              "      <td>32281</td>\n",
              "      <td>Kimi no Na wa.</td>\n",
              "      <td>Drama, Romance, School, Supernatural</td>\n",
              "      <td>Movie</td>\n",
              "      <td>1</td>\n",
              "      <td>9</td>\n",
              "      <td>200630</td>\n",
              "      <td>244</td>\n",
              "      <td>10.0</td>\n",
              "    </tr>\n",
              "    <tr>\n",
              "      <th>3</th>\n",
              "      <td>32281</td>\n",
              "      <td>Kimi no Na wa.</td>\n",
              "      <td>Drama, Romance, School, Supernatural</td>\n",
              "      <td>Movie</td>\n",
              "      <td>1</td>\n",
              "      <td>9</td>\n",
              "      <td>200630</td>\n",
              "      <td>271</td>\n",
              "      <td>10.0</td>\n",
              "    </tr>\n",
              "    <tr>\n",
              "      <th>4</th>\n",
              "      <td>32281</td>\n",
              "      <td>Kimi no Na wa.</td>\n",
              "      <td>Drama, Romance, School, Supernatural</td>\n",
              "      <td>Movie</td>\n",
              "      <td>1</td>\n",
              "      <td>9</td>\n",
              "      <td>200630</td>\n",
              "      <td>278</td>\n",
              "      <td>NaN</td>\n",
              "    </tr>\n",
              "    <tr>\n",
              "      <th>...</th>\n",
              "      <td>...</td>\n",
              "      <td>...</td>\n",
              "      <td>...</td>\n",
              "      <td>...</td>\n",
              "      <td>...</td>\n",
              "      <td>...</td>\n",
              "      <td>...</td>\n",
              "      <td>...</td>\n",
              "      <td>...</td>\n",
              "    </tr>\n",
              "    <tr>\n",
              "      <th>7813606</th>\n",
              "      <td>6133</td>\n",
              "      <td>Violence Gekiga Shin David no Hoshi: Inma Dens...</td>\n",
              "      <td>Hentai</td>\n",
              "      <td>OVA</td>\n",
              "      <td>1</td>\n",
              "      <td>4</td>\n",
              "      <td>175</td>\n",
              "      <td>39532</td>\n",
              "      <td>NaN</td>\n",
              "    </tr>\n",
              "    <tr>\n",
              "      <th>7813607</th>\n",
              "      <td>6133</td>\n",
              "      <td>Violence Gekiga Shin David no Hoshi: Inma Dens...</td>\n",
              "      <td>Hentai</td>\n",
              "      <td>OVA</td>\n",
              "      <td>1</td>\n",
              "      <td>4</td>\n",
              "      <td>175</td>\n",
              "      <td>48766</td>\n",
              "      <td>NaN</td>\n",
              "    </tr>\n",
              "    <tr>\n",
              "      <th>7813608</th>\n",
              "      <td>6133</td>\n",
              "      <td>Violence Gekiga Shin David no Hoshi: Inma Dens...</td>\n",
              "      <td>Hentai</td>\n",
              "      <td>OVA</td>\n",
              "      <td>1</td>\n",
              "      <td>4</td>\n",
              "      <td>175</td>\n",
              "      <td>60365</td>\n",
              "      <td>4.0</td>\n",
              "    </tr>\n",
              "    <tr>\n",
              "      <th>7813609</th>\n",
              "      <td>26081</td>\n",
              "      <td>Yasuji no Pornorama: Yacchimae!!</td>\n",
              "      <td>Hentai</td>\n",
              "      <td>Movie</td>\n",
              "      <td>1</td>\n",
              "      <td>5</td>\n",
              "      <td>142</td>\n",
              "      <td>27364</td>\n",
              "      <td>NaN</td>\n",
              "    </tr>\n",
              "    <tr>\n",
              "      <th>7813610</th>\n",
              "      <td>26081</td>\n",
              "      <td>Yasuji no Pornorama: Yacchimae!!</td>\n",
              "      <td>Hentai</td>\n",
              "      <td>Movie</td>\n",
              "      <td>1</td>\n",
              "      <td>5</td>\n",
              "      <td>142</td>\n",
              "      <td>48766</td>\n",
              "      <td>NaN</td>\n",
              "    </tr>\n",
              "  </tbody>\n",
              "</table>\n",
              "<p>7813611 rows × 9 columns</p>\n",
              "</div>"
            ],
            "text/plain": [
              "         anime_id  ... rating_user\n",
              "0           32281  ...         5.0\n",
              "1           32281  ...        10.0\n",
              "2           32281  ...        10.0\n",
              "3           32281  ...        10.0\n",
              "4           32281  ...         NaN\n",
              "...           ...  ...         ...\n",
              "7813606      6133  ...         NaN\n",
              "7813607      6133  ...         NaN\n",
              "7813608      6133  ...         4.0\n",
              "7813609     26081  ...         NaN\n",
              "7813610     26081  ...         NaN\n",
              "\n",
              "[7813611 rows x 9 columns]"
            ]
          },
          "execution_count": 22,
          "metadata": {},
          "output_type": "execute_result"
        }
      ],
      "source": [
        "anime_fix=anime_new.copy()\n",
        "anime_fix[\"rating_user\"].replace({-1: np.nan}, inplace=True)\n",
        "anime_fix"
      ]
    },
    {
      "cell_type": "code",
      "execution_count": null,
      "metadata": {
        "colab": {
          "base_uri": "https://localhost:8080/"
        },
        "id": "npKThjom329g",
        "outputId": "1dc6274f-f762-46b0-cfa8-3e10761b4d1c"
      },
      "outputs": [
        {
          "data": {
            "text/plain": [
              "anime_id             0\n",
              "title                0\n",
              "genre                0\n",
              "type                 0\n",
              "episodes             0\n",
              "rating               0\n",
              "members              0\n",
              "user_id              0\n",
              "rating_user    1476465\n",
              "dtype: int64"
            ]
          },
          "execution_count": 23,
          "metadata": {},
          "output_type": "execute_result"
        }
      ],
      "source": [
        "# Melihat jumlah data kosong\n",
        "anime_fix.isnull().sum()"
      ]
    },
    {
      "cell_type": "code",
      "execution_count": null,
      "metadata": {
        "colab": {
          "base_uri": "https://localhost:8080/"
        },
        "id": "W3Ygqr4n4Kop",
        "outputId": "46017434-ef9d-43c8-af23-0a97204dfe4f"
      },
      "outputs": [
        {
          "data": {
            "text/plain": [
              "anime_id       0\n",
              "title          0\n",
              "genre          0\n",
              "type           0\n",
              "episodes       0\n",
              "rating         0\n",
              "members        0\n",
              "user_id        0\n",
              "rating_user    0\n",
              "dtype: int64"
            ]
          },
          "execution_count": 24,
          "metadata": {},
          "output_type": "execute_result"
        }
      ],
      "source": [
        "# Drop data yang kosong\n",
        "anime_fix = anime_fix.dropna(axis = 0, how ='any') \n",
        "anime_fix.isnull().sum()"
      ]
    },
    {
      "cell_type": "code",
      "execution_count": null,
      "metadata": {
        "colab": {
          "base_uri": "https://localhost:8080/",
          "height": 423
        },
        "id": "Ej1eMpMe4Pxu",
        "outputId": "a897c1d4-770c-425a-c1bb-3a30996d584d"
      },
      "outputs": [
        {
          "data": {
            "text/html": [
              "<div>\n",
              "<style scoped>\n",
              "    .dataframe tbody tr th:only-of-type {\n",
              "        vertical-align: middle;\n",
              "    }\n",
              "\n",
              "    .dataframe tbody tr th {\n",
              "        vertical-align: top;\n",
              "    }\n",
              "\n",
              "    .dataframe thead th {\n",
              "        text-align: right;\n",
              "    }\n",
              "</style>\n",
              "<table border=\"1\" class=\"dataframe\">\n",
              "  <thead>\n",
              "    <tr style=\"text-align: right;\">\n",
              "      <th></th>\n",
              "      <th>anime_id</th>\n",
              "      <th>title</th>\n",
              "      <th>genre</th>\n",
              "      <th>type</th>\n",
              "      <th>episodes</th>\n",
              "      <th>rating</th>\n",
              "      <th>members</th>\n",
              "      <th>user_id</th>\n",
              "      <th>rating_user</th>\n",
              "    </tr>\n",
              "  </thead>\n",
              "  <tbody>\n",
              "    <tr>\n",
              "      <th>202611</th>\n",
              "      <td>1</td>\n",
              "      <td>Cowboy Bebop</td>\n",
              "      <td>Action, Adventure, Comedy, Drama, Sci-Fi, Space</td>\n",
              "      <td>TV</td>\n",
              "      <td>26</td>\n",
              "      <td>8</td>\n",
              "      <td>486824</td>\n",
              "      <td>21571</td>\n",
              "      <td>9.0</td>\n",
              "    </tr>\n",
              "    <tr>\n",
              "      <th>203372</th>\n",
              "      <td>1</td>\n",
              "      <td>Cowboy Bebop</td>\n",
              "      <td>Action, Adventure, Comedy, Drama, Sci-Fi, Space</td>\n",
              "      <td>TV</td>\n",
              "      <td>26</td>\n",
              "      <td>8</td>\n",
              "      <td>486824</td>\n",
              "      <td>24927</td>\n",
              "      <td>10.0</td>\n",
              "    </tr>\n",
              "    <tr>\n",
              "      <th>203371</th>\n",
              "      <td>1</td>\n",
              "      <td>Cowboy Bebop</td>\n",
              "      <td>Action, Adventure, Comedy, Drama, Sci-Fi, Space</td>\n",
              "      <td>TV</td>\n",
              "      <td>26</td>\n",
              "      <td>8</td>\n",
              "      <td>486824</td>\n",
              "      <td>24919</td>\n",
              "      <td>9.0</td>\n",
              "    </tr>\n",
              "    <tr>\n",
              "      <th>203370</th>\n",
              "      <td>1</td>\n",
              "      <td>Cowboy Bebop</td>\n",
              "      <td>Action, Adventure, Comedy, Drama, Sci-Fi, Space</td>\n",
              "      <td>TV</td>\n",
              "      <td>26</td>\n",
              "      <td>8</td>\n",
              "      <td>486824</td>\n",
              "      <td>24906</td>\n",
              "      <td>7.0</td>\n",
              "    </tr>\n",
              "    <tr>\n",
              "      <th>203369</th>\n",
              "      <td>1</td>\n",
              "      <td>Cowboy Bebop</td>\n",
              "      <td>Action, Adventure, Comedy, Drama, Sci-Fi, Space</td>\n",
              "      <td>TV</td>\n",
              "      <td>26</td>\n",
              "      <td>8</td>\n",
              "      <td>486824</td>\n",
              "      <td>24895</td>\n",
              "      <td>10.0</td>\n",
              "    </tr>\n",
              "    <tr>\n",
              "      <th>...</th>\n",
              "      <td>...</td>\n",
              "      <td>...</td>\n",
              "      <td>...</td>\n",
              "      <td>...</td>\n",
              "      <td>...</td>\n",
              "      <td>...</td>\n",
              "      <td>...</td>\n",
              "      <td>...</td>\n",
              "      <td>...</td>\n",
              "    </tr>\n",
              "    <tr>\n",
              "      <th>7607729</th>\n",
              "      <td>34367</td>\n",
              "      <td>Long Riders Recap</td>\n",
              "      <td>Comedy, Shounen, Slice of Life, Sports</td>\n",
              "      <td>Special</td>\n",
              "      <td>1</td>\n",
              "      <td>5</td>\n",
              "      <td>582</td>\n",
              "      <td>30565</td>\n",
              "      <td>6.0</td>\n",
              "    </tr>\n",
              "    <tr>\n",
              "      <th>7607733</th>\n",
              "      <td>34367</td>\n",
              "      <td>Long Riders Recap</td>\n",
              "      <td>Comedy, Shounen, Slice of Life, Sports</td>\n",
              "      <td>Special</td>\n",
              "      <td>1</td>\n",
              "      <td>5</td>\n",
              "      <td>582</td>\n",
              "      <td>62402</td>\n",
              "      <td>4.0</td>\n",
              "    </tr>\n",
              "    <tr>\n",
              "      <th>7287741</th>\n",
              "      <td>34475</td>\n",
              "      <td>Monster Strike: Rain of Memories</td>\n",
              "      <td>Action, Fantasy, Game</td>\n",
              "      <td>ONA</td>\n",
              "      <td>1</td>\n",
              "      <td>6</td>\n",
              "      <td>313</td>\n",
              "      <td>13954</td>\n",
              "      <td>6.0</td>\n",
              "    </tr>\n",
              "    <tr>\n",
              "      <th>7287743</th>\n",
              "      <td>34475</td>\n",
              "      <td>Monster Strike: Rain of Memories</td>\n",
              "      <td>Action, Fantasy, Game</td>\n",
              "      <td>ONA</td>\n",
              "      <td>1</td>\n",
              "      <td>6</td>\n",
              "      <td>313</td>\n",
              "      <td>70547</td>\n",
              "      <td>9.0</td>\n",
              "    </tr>\n",
              "    <tr>\n",
              "      <th>7287742</th>\n",
              "      <td>34475</td>\n",
              "      <td>Monster Strike: Rain of Memories</td>\n",
              "      <td>Action, Fantasy, Game</td>\n",
              "      <td>ONA</td>\n",
              "      <td>1</td>\n",
              "      <td>6</td>\n",
              "      <td>313</td>\n",
              "      <td>53492</td>\n",
              "      <td>5.0</td>\n",
              "    </tr>\n",
              "  </tbody>\n",
              "</table>\n",
              "<p>6337146 rows × 9 columns</p>\n",
              "</div>"
            ],
            "text/plain": [
              "         anime_id                             title  ... user_id rating_user\n",
              "202611          1                      Cowboy Bebop  ...   21571         9.0\n",
              "203372          1                      Cowboy Bebop  ...   24927        10.0\n",
              "203371          1                      Cowboy Bebop  ...   24919         9.0\n",
              "203370          1                      Cowboy Bebop  ...   24906         7.0\n",
              "203369          1                      Cowboy Bebop  ...   24895        10.0\n",
              "...           ...                               ...  ...     ...         ...\n",
              "7607729     34367                 Long Riders Recap  ...   30565         6.0\n",
              "7607733     34367                 Long Riders Recap  ...   62402         4.0\n",
              "7287741     34475  Monster Strike: Rain of Memories  ...   13954         6.0\n",
              "7287743     34475  Monster Strike: Rain of Memories  ...   70547         9.0\n",
              "7287742     34475  Monster Strike: Rain of Memories  ...   53492         5.0\n",
              "\n",
              "[6337146 rows x 9 columns]"
            ]
          },
          "execution_count": 25,
          "metadata": {},
          "output_type": "execute_result"
        }
      ],
      "source": [
        "# Membuat variabel fix_anime yang berisi dataframe anime_fix kemudian mengurutkan berdasarkan anime_id\n",
        "fix_anime = anime_fix\n",
        "fix_anime.sort_values('anime_id')"
      ]
    },
    {
      "cell_type": "markdown",
      "metadata": {
        "id": "SKY6wTt7456F"
      },
      "source": [
        "Saya hanya akan menggunakan data unik untuk dimasukkan ke dalam proses pemodelan. Oleh karena itu, data yang duplikat akan saya hapus dengan fungsi drop_duplicates(). Dalam hal ini, saya membuang data duplikat pada kolom ‘anime_id’."
      ]
    },
    {
      "cell_type": "code",
      "execution_count": null,
      "metadata": {
        "colab": {
          "base_uri": "https://localhost:8080/",
          "height": 510
        },
        "id": "yTVaIzw54eDv",
        "outputId": "5214bafb-1d91-4e10-999f-b925e42b6c11"
      },
      "outputs": [
        {
          "data": {
            "text/html": [
              "<div>\n",
              "<style scoped>\n",
              "    .dataframe tbody tr th:only-of-type {\n",
              "        vertical-align: middle;\n",
              "    }\n",
              "\n",
              "    .dataframe tbody tr th {\n",
              "        vertical-align: top;\n",
              "    }\n",
              "\n",
              "    .dataframe thead th {\n",
              "        text-align: right;\n",
              "    }\n",
              "</style>\n",
              "<table border=\"1\" class=\"dataframe\">\n",
              "  <thead>\n",
              "    <tr style=\"text-align: right;\">\n",
              "      <th></th>\n",
              "      <th>anime_id</th>\n",
              "      <th>title</th>\n",
              "      <th>genre</th>\n",
              "      <th>type</th>\n",
              "      <th>episodes</th>\n",
              "      <th>rating</th>\n",
              "      <th>members</th>\n",
              "      <th>user_id</th>\n",
              "      <th>rating_user</th>\n",
              "    </tr>\n",
              "  </thead>\n",
              "  <tbody>\n",
              "    <tr>\n",
              "      <th>0</th>\n",
              "      <td>32281</td>\n",
              "      <td>Kimi no Na wa.</td>\n",
              "      <td>Drama, Romance, School, Supernatural</td>\n",
              "      <td>Movie</td>\n",
              "      <td>1</td>\n",
              "      <td>9</td>\n",
              "      <td>200630</td>\n",
              "      <td>99</td>\n",
              "      <td>5.0</td>\n",
              "    </tr>\n",
              "    <tr>\n",
              "      <th>2199</th>\n",
              "      <td>5114</td>\n",
              "      <td>Fullmetal Alchemist: Brotherhood</td>\n",
              "      <td>Action, Adventure, Drama, Fantasy, Magic, Mili...</td>\n",
              "      <td>TV</td>\n",
              "      <td>64</td>\n",
              "      <td>9</td>\n",
              "      <td>793665</td>\n",
              "      <td>3</td>\n",
              "      <td>10.0</td>\n",
              "    </tr>\n",
              "    <tr>\n",
              "      <th>26774</th>\n",
              "      <td>28977</td>\n",
              "      <td>Gintama°</td>\n",
              "      <td>Action, Comedy, Historical, Parody, Samurai, S...</td>\n",
              "      <td>TV</td>\n",
              "      <td>51</td>\n",
              "      <td>9</td>\n",
              "      <td>114262</td>\n",
              "      <td>43</td>\n",
              "      <td>10.0</td>\n",
              "    </tr>\n",
              "    <tr>\n",
              "      <th>28159</th>\n",
              "      <td>9253</td>\n",
              "      <td>Steins;Gate</td>\n",
              "      <td>Sci-Fi, Thriller</td>\n",
              "      <td>TV</td>\n",
              "      <td>24</td>\n",
              "      <td>9</td>\n",
              "      <td>673572</td>\n",
              "      <td>5</td>\n",
              "      <td>9.0</td>\n",
              "    </tr>\n",
              "    <tr>\n",
              "      <th>47442</th>\n",
              "      <td>9969</td>\n",
              "      <td>Gintama&amp;#039;</td>\n",
              "      <td>Action, Comedy, Historical, Parody, Samurai, S...</td>\n",
              "      <td>TV</td>\n",
              "      <td>51</td>\n",
              "      <td>9</td>\n",
              "      <td>151266</td>\n",
              "      <td>5</td>\n",
              "      <td>9.0</td>\n",
              "    </tr>\n",
              "    <tr>\n",
              "      <th>...</th>\n",
              "      <td>...</td>\n",
              "      <td>...</td>\n",
              "      <td>...</td>\n",
              "      <td>...</td>\n",
              "      <td>...</td>\n",
              "      <td>...</td>\n",
              "      <td>...</td>\n",
              "      <td>...</td>\n",
              "      <td>...</td>\n",
              "    </tr>\n",
              "    <tr>\n",
              "      <th>7813590</th>\n",
              "      <td>5541</td>\n",
              "      <td>The Satisfaction</td>\n",
              "      <td>Hentai</td>\n",
              "      <td>OVA</td>\n",
              "      <td>1</td>\n",
              "      <td>4</td>\n",
              "      <td>166</td>\n",
              "      <td>37351</td>\n",
              "      <td>1.0</td>\n",
              "    </tr>\n",
              "    <tr>\n",
              "      <th>7813594</th>\n",
              "      <td>9316</td>\n",
              "      <td>Toushindai My Lover: Minami tai Mecha-Minami</td>\n",
              "      <td>Hentai</td>\n",
              "      <td>OVA</td>\n",
              "      <td>1</td>\n",
              "      <td>4</td>\n",
              "      <td>211</td>\n",
              "      <td>20171</td>\n",
              "      <td>7.0</td>\n",
              "    </tr>\n",
              "    <tr>\n",
              "      <th>7813600</th>\n",
              "      <td>5543</td>\n",
              "      <td>Under World</td>\n",
              "      <td>Hentai</td>\n",
              "      <td>OVA</td>\n",
              "      <td>1</td>\n",
              "      <td>4</td>\n",
              "      <td>183</td>\n",
              "      <td>49503</td>\n",
              "      <td>4.0</td>\n",
              "    </tr>\n",
              "    <tr>\n",
              "      <th>7813604</th>\n",
              "      <td>5621</td>\n",
              "      <td>Violence Gekiga David no Hoshi</td>\n",
              "      <td>Hentai</td>\n",
              "      <td>OVA</td>\n",
              "      <td>4</td>\n",
              "      <td>4</td>\n",
              "      <td>219</td>\n",
              "      <td>49503</td>\n",
              "      <td>6.0</td>\n",
              "    </tr>\n",
              "    <tr>\n",
              "      <th>7813608</th>\n",
              "      <td>6133</td>\n",
              "      <td>Violence Gekiga Shin David no Hoshi: Inma Dens...</td>\n",
              "      <td>Hentai</td>\n",
              "      <td>OVA</td>\n",
              "      <td>1</td>\n",
              "      <td>4</td>\n",
              "      <td>175</td>\n",
              "      <td>60365</td>\n",
              "      <td>4.0</td>\n",
              "    </tr>\n",
              "  </tbody>\n",
              "</table>\n",
              "<p>9892 rows × 9 columns</p>\n",
              "</div>"
            ],
            "text/plain": [
              "         anime_id  ... rating_user\n",
              "0           32281  ...         5.0\n",
              "2199         5114  ...        10.0\n",
              "26774       28977  ...        10.0\n",
              "28159        9253  ...         9.0\n",
              "47442        9969  ...         9.0\n",
              "...           ...  ...         ...\n",
              "7813590      5541  ...         1.0\n",
              "7813594      9316  ...         7.0\n",
              "7813600      5543  ...         4.0\n",
              "7813604      5621  ...         6.0\n",
              "7813608      6133  ...         4.0\n",
              "\n",
              "[9892 rows x 9 columns]"
            ]
          },
          "execution_count": 26,
          "metadata": {},
          "output_type": "execute_result"
        }
      ],
      "source": [
        "# Membuang data duplikat pada variabel fix_anime\n",
        "fix_anime = fix_anime.drop_duplicates('anime_id')\n",
        "fix_anime"
      ]
    },
    {
      "cell_type": "markdown",
      "metadata": {
        "id": "nhFoKZDL5a2t"
      },
      "source": [
        "Setelah menghapus data duplikat, jumlah data saat ini adalah 9892 baris dan 9 kolom. Selanjutnya saya akan membuat visualisasi data agar dapat dipahami dengan lebih mudah."
      ]
    },
    {
      "cell_type": "code",
      "execution_count": null,
      "metadata": {
        "colab": {
          "base_uri": "https://localhost:8080/",
          "height": 460
        },
        "id": "7adHjrtk5ZLc",
        "outputId": "ab75bc36-a7b1-4011-db9e-985f7e31d1b3"
      },
      "outputs": [
        {
          "name": "stderr",
          "output_type": "stream",
          "text": [
            "/usr/local/lib/python3.7/dist-packages/seaborn/_decorators.py:43: FutureWarning: Pass the following variable as a keyword arg: x. From version 0.12, the only valid positional argument will be `data`, and passing other arguments without an explicit keyword will result in an error or misinterpretation.\n",
            "  FutureWarning\n"
          ]
        },
        {
          "data": {
            "text/plain": [
              "<matplotlib.axes._subplots.AxesSubplot at 0x7f3f9a396250>"
            ]
          },
          "execution_count": 27,
          "metadata": {},
          "output_type": "execute_result"
        },
        {
          "data": {
            "image/png": "[encoded data removed]",
            "text/plain": [
              "<Figure size 720x432 with 1 Axes>"
            ]
          },
          "metadata": {
            "needs_background": "light"
          },
          "output_type": "display_data"
        }
      ],
      "source": [
        "# Visualisasi untuk kolom type\n",
        "plt.figure(figsize=(10,6))\n",
        "sns.countplot(fix_anime.type)"
      ]
    },
    {
      "cell_type": "markdown",
      "metadata": {
        "id": "zBdcvVsJ629k"
      },
      "source": [
        "Dari hasil visualisasi di atas, dapat disimpulkan bahwa anime ditayangkan lebih banyak di TV dan di OVA."
      ]
    },
    {
      "cell_type": "code",
      "execution_count": null,
      "metadata": {
        "colab": {
          "base_uri": "https://localhost:8080/",
          "height": 424
        },
        "id": "nQm2pKc36YN_",
        "outputId": "63a63333-8d9d-4849-8133-58934e9a669a"
      },
      "outputs": [
        {
          "name": "stderr",
          "output_type": "stream",
          "text": [
            "/usr/local/lib/python3.7/dist-packages/seaborn/_decorators.py:43: FutureWarning: Pass the following variable as a keyword arg: x. From version 0.12, the only valid positional argument will be `data`, and passing other arguments without an explicit keyword will result in an error or misinterpretation.\n",
            "  FutureWarning\n"
          ]
        },
        {
          "data": {
            "image/png": "[encoded data removed]",
            "text/plain": [
              "<Figure size 720x360 with 1 Axes>"
            ]
          },
          "metadata": {},
          "output_type": "display_data"
        }
      ],
      "source": [
        "# Visualisasi untuk rating berdasarkan ulasan situs web\n",
        "with sns.axes_style('dark'):\n",
        "    g = sns.catplot('rating', data=fix_anime, aspect=2.0, kind='count')\n",
        "    g.set_ylabels('Jumlah total rating berdasarkan ulasan situs web ')"
      ]
    },
    {
      "cell_type": "markdown",
      "metadata": {
        "id": "w73L5s_L7ag9"
      },
      "source": [
        "Dari hasil visualisasi di atas, dapat disimpulkan bahwa rata-rata rating melalui ulasan website adalah kebanyakan diantara 6 dan 7."
      ]
    },
    {
      "cell_type": "code",
      "execution_count": null,
      "metadata": {
        "colab": {
          "base_uri": "https://localhost:8080/",
          "height": 424
        },
        "id": "2bR3D2h57YoW",
        "outputId": "710fe5ca-40d7-4ff9-9001-e50ce64adfad"
      },
      "outputs": [
        {
          "name": "stderr",
          "output_type": "stream",
          "text": [
            "/usr/local/lib/python3.7/dist-packages/seaborn/_decorators.py:43: FutureWarning: Pass the following variable as a keyword arg: x. From version 0.12, the only valid positional argument will be `data`, and passing other arguments without an explicit keyword will result in an error or misinterpretation.\n",
            "  FutureWarning\n"
          ]
        },
        {
          "data": {
            "image/png": "[encoded data removed]",
            "text/plain": [
              "<Figure size 720x360 with 1 Axes>"
            ]
          },
          "metadata": {},
          "output_type": "display_data"
        }
      ],
      "source": [
        "# Visualisasi untuk rating berdasarkan ID pengguna\n",
        "with sns.axes_style('dark'):\n",
        "    g = sns.catplot('rating_user', data=fix_anime, aspect=2.0, kind='count')\n",
        "    g.set_ylabels('Jumlah total rating berdasarkan id pengguna ')"
      ]
    },
    {
      "cell_type": "markdown",
      "metadata": {
        "id": "DxW73UF173ZF"
      },
      "source": [
        "Berdasarkan visualisasi di atas, dapat disimpulkan bahwa rating berdasarkan ID Pengguna paling banyak adalah 7 dan diikuti dengan 6 dan 8."
      ]
    },
    {
      "cell_type": "markdown",
      "metadata": {
        "id": "CuvIz0D68O0g"
      },
      "source": [
        "Selanjutnya, saya akan menampilkan genre mana saja yang paling sering muncul dengan menggunakan word clouds plot."
      ]
    },
    {
      "cell_type": "code",
      "execution_count": null,
      "metadata": {
        "colab": {
          "base_uri": "https://localhost:8080/",
          "height": 380
        },
        "id": "hJABDDrm71Tb",
        "outputId": "3d106429-4d62-43f1-f35b-4dadaf445155"
      },
      "outputs": [
        {
          "data": {
            "image/png": "[encoded data removed]",
            "text/plain": [
              "<Figure size 720x504 with 1 Axes>"
            ]
          },
          "metadata": {
            "needs_background": "light"
          },
          "output_type": "display_data"
        }
      ],
      "source": [
        "from wordcloud import WordCloud\n",
        "\n",
        "def wordCloud(words):\n",
        "    wordCloud = WordCloud(width=800, height=500, background_color='black', random_state=21, max_font_size=120).generate(words)\n",
        "    \n",
        "    plt.figure(figsize=(10, 7))\n",
        "    plt.imshow(wordCloud, interpolation='bilinear')\n",
        "    plt.axis('off')\n",
        " \n",
        "all_words = ' '.join([text for text in fix_anime['genre']])\n",
        "wordCloud(all_words)"
      ]
    },
    {
      "cell_type": "markdown",
      "metadata": {
        "id": "EHazOzYW8Xqw"
      },
      "source": [
        "Berdasarkan plot yang telah dibuat, dapat dilihat bahwa genre yang paling sering muncul adalah Sci Fi, Comedy, Adventure, Slice Life, dan Action."
      ]
    },
    {
      "cell_type": "markdown",
      "metadata": {
        "id": "jyu4BhQF9JJ3"
      },
      "source": [
        "Selanjutnya, saya akan melakukan konversi data series menjadi list. Dalam hal ini, saya menggunakan fungsi tolist() dari library numpy. Lalu saya akan melakukan persiapan data untuk menyandikan (encode) kolom ‘user_id’ dan ‘anime_id’ ke dalam indeks integer."
      ]
    },
    {
      "cell_type": "code",
      "execution_count": null,
      "metadata": {
        "colab": {
          "base_uri": "https://localhost:8080/"
        },
        "id": "9vZwSGJS8V4X",
        "outputId": "8faa3cfe-45de-4425-d259-23aa0d75c229"
      },
      "outputs": [
        {
          "name": "stdout",
          "output_type": "stream",
          "text": [
            "list user_id:  [99, 3, 43, 5, 17, 7, 183, 2378, 46, 11, 19, 14, 21, 233, 2695, 1551, 152, 308, 1954, 82, 123, 235, 51, 38, 12, 39, 373, 160, 1591, 247, 2, 98, 341, 244, 139, 148, 50, 109, 52, 33, 74, 40, 75, 234, 27, 37, 93, 77, 250, 31, 294, 45, 2589, 61, 65, 276, 129, 370, 25, 125, 3615, 96, 68, 475, 159, 24, 382, 48, 1145, 339, 298, 428, 861, 439, 478, 18, 29, 1116, 392, 128, 1237, 511, 226, 210, 85, 720, 44, 271, 1798, 1060, 66, 171, 771, 191, 2632, 248, 23, 385, 73, 55, 57, 269, 644, 562, 885, 2819, 167, 395, 63076, 165, 95, 324, 169, 127, 1019, 1447, 217, 1497, 120, 418, 847, 3360, 87, 47, 1679, 108, 352, 784, 1396, 79, 80, 3254, 1835, 1924, 196, 135, 1400, 342, 317, 104, 661, 572, 21180, 288, 1822, 659, 567, 10194, 634, 2527, 533, 154, 94, 640, 346, 134, 225, 682, 163, 1, 15455, 277, 290, 1960, 775, 280, 1530, 954, 190, 256, 350, 192, 516, 62, 446, 81, 3269, 1549, 1426, 118, 565, 8, 189, 64, 321, 1378, 5419, 111, 1043, 164, 436, 107, 36, 591, 820, 438, 97, 1677, 1344, 4339, 540, 30, 379, 5405, 1984, 492, 2681, 5166, 2480, 702, 32496, 1640, 1045, 10229, 455, 2225, 1059, 8103, 1528, 71, 102, 1105, 612, 1504, 361, 745, 1217, 6229, 1462, 4993, 204, 13565, 573, 1720, 3657, 27219, 1048, 2175, 404, 2745, 946, 384, 721, 1501, 2783, 177, 349, 2410, 1167, 541, 901, 249, 5702, 6771, 2236, 8180, 130, 4215, 2371, 3639, 1307, 5457, 1387, 6389, 2740, 890, 3561, 106, 553, 16, 636, 735, 6343, 2290, 1395, 1345, 296, 53, 3426, 141, 2038, 5325, 2804, 112, 67, 1305, 119, 1964, 2951, 18944, 7824, 4792, 2118, 1084, 5335, 2379, 2873, 147, 11790, 363, 156, 170, 4140, 1051, 3374, 6113, 689, 1132, 510, 1942, 694, 2273, 610, 1118, 3587, 122, 529, 9000, 201, 6015, 460, 6869, 84, 907, 1695, 615, 330, 4861, 458, 166, 301, 6012, 185, 3597, 1180, 41, 5011, 916, 5287, 4133, 462, 772, 1318, 5936, 4985, 5310, 1222, 245, 4350, 1338, 500, 2810, 3152, 3569, 5700, 6454, 343, 34, 10074, 788, 227, 7527, 1522, 272, 34155, 1014, 7939, 1554, 7053, 4995, 1182, 2762, 4797, 1456, 1595, 695, 1483, 8094, 314, 4799, 569, 13877, 530, 7345, 626, 220, 2872, 35147, 216, 2581, 6080, 3118, 419, 326, 871, 958, 1117, 5159, 508, 143, 2166, 83, 531, 11687, 1854, 5262, 2417, 8706, 1900, 1771, 1013, 2184, 795, 3949, 7257, 947, 52145, 2422, 4883, 9569, 5158, 12725, 495, 262, 2515, 198, 1190, 5343, 1213, 3293, 1216, 7311, 105, 3518, 9034, 2158, 884, 762, 893, 2594, 22434, 23784, 6385, 214, 282, 1114, 3453, 200, 4979, 1434, 3127, 7351, 15221, 7340, 753, 6920, 948, 6680, 749, 126, 3231, 3117, 431, 3417, 5153, 103, 2688, 5907, 3294, 1235, 7350, 1435, 2608, 4093, 4234, 1670, 3586, 21260, 5218, 547, 35807, 4969, 766, 4845, 12431, 963, 186, 1164, 3072, 1749, 3051, 2140, 27592, 13295, 26405, 24310, 13538, 646, 5017, 10844, 25252, 4463, 387, 239, 5137, 32872, 5380, 3643, 155, 32, 744, 2712, 5908, 1253, 2918, 5726, 535, 7511, 943, 6706, 4834, 3275, 146, 4811, 1761, 20, 514, 1786, 1162, 838, 448, 1191, 566, 42635, 6569, 3528, 497, 5202, 420, 16242, 7523, 1513, 208, 6112, 4749, 7114, 1965, 9401, 15745, 5332, 8661, 1034, 1354, 6817, 18686, 494, 6583, 675, 662, 6392, 3040, 2111, 7802, 6686, 2200, 1200, 3566, 5191, 4521, 230, 4948, 11536, 27421, 1425, 1202, 631, 348, 17872, 2072, 6717, 11055, 3416, 519, 367, 37410, 1485, 6846, 798, 3530, 10664, 64354, 5770, 1087, 2774, 16561, 1687, 1734, 2431, 741, 2259, 5584, 1210, 25889, 1690, 4982, 19379, 496, 158, 4690, 670, 3838, 482, 888, 405, 3283, 5784, 4911, 7045, 4479, 1506, 6232, 6822, 2975, 3744, 774, 2298, 23020, 11359, 2068, 5257, 4897, 6831, 5509, 23066, 1140, 1119, 4734, 252, 21255, 3500, 19012, 8434, 8551, 611, 24931, 1584, 5149, 18425, 2317, 3246, 9752, 4468, 205, 869, 598, 19001, 25141, 5503, 11623, 2297, 187, 1223, 168, 4942, 6357, 4485, 2450, 1280, 5369, 5516, 3888, 5366, 7272, 5472, 4814, 488, 6459, 23363, 59531, 629, 41858, 6723, 32279, 1967, 41966, 4853, 26895, 2852, 6265, 2275, 5630, 851, 9229, 6384, 16417, 5214, 11474, 1380, 21922, 42, 3219, 7249, 2472, 5720, 777, 1103, 15685, 15448, 8221, 20285, 663, 2501, 1058, 750, 8820, 4570, 5311, 4071, 3059, 8302, 1382, 15859, 16368, 6770, 1993, 3487, 427, 6951, 36350, 3013, 1938, 11404, 3680, 5831, 8470, 3017, 23395, 692, 32687, 5537, 3977, 3116, 67836, 2394, 4716, 1243, 7677, 149, 6699, 791, 5160, 5548, 5272, 5934, 12362, 7081, 1639, 60524, 1287, 1349, 5056, 1130, 408, 4891, 26373, 466, 4349, 7366, 2028, 13954, 2734, 6055, 8226, 49503, 6197, 17802, 6469, 9591, 35080, 4856, 2583, 5226, 35, 3278, 710, 1419, 501, 936, 17633, 2439, 3655, 5345, 3659, 2115, 826, 5053, 19287, 18934, 1689, 1623, 2334, 4653, 581, 6525, 4085, 16705, 1384, 799, 48199, 733, 459, 58064, 4776, 11241, 5754, 63034, 961, 4750, 1257, 6888, 55343, 4552, 1619, 4064, 3870, 2137, 6066, 312, 1704, 2377, 3990, 7022, 4102, 30689, 6238, 6932, 10935, 25802, 1730, 1697, 261, 53120, 41707, 4944, 580, 43198, 5278, 5066, 14307, 5121, 3934, 5313, 6299, 10410, 3412, 1446, 3063, 52101, 20970, 50896, 44797, 1281, 10548, 5736, 4414, 2002, 12637, 354, 11408, 3656, 88, 4009, 40631, 24438, 41536, 39220, 5680, 13188, 9162, 16679, 4972, 1780, 1565, 25577, 11766, 28521, 1183, 13084, 1274, 34851, 7638, 6100, 5392, 660, 1535, 992, 5061, 4321, 5249, 6036, 22910, 937, 3986, 5760, 4152, 60016, 11436, 25970, 7247, 45927, 6890, 16389, 11186, 7773, 53465, 8655, 12376, 36452, 1737, 35635, 3557, 11431, 6085, 7659, 7008, 26805, 4991, 3719, 4643, 2586, 1049, 1301, 2651, 2731, 1558, 2555, 7674, 41662, 6260, 4270, 441, 12014, 5045, 5094, 5025, 1284, 2094, 49662, 65836, 21568, 585, 5561, 58775, 5962, 4312, 3210, 46418, 6866, 7266, 2549, 21396, 5079, 62517, 7853, 22461, 303, 17595, 45546, 21273, 3262, 50599, 8956, 20153, 27087, 6369, 447, 11348, 1592, 8657, 25212, 23247, 6228, 30573, 6360, 15999, 4751, 6266, 11423, 39111, 2947, 1811, 12004, 47977, 5402, 41462, 557, 11885, 45834, 2839, 6356, 6296, 4777, 6162, 5323, 8299, 30956, 3204, 8631, 18128, 52638, 6426, 5000, 2722, 7446, 10558, 1090, 1769, 13581, 10872, 1644, 43098, 40250, 51693, 4843, 26068, 12588, 3338, 11063, 6814, 41571, 3788, 5717, 3241, 30565, 45197, 52213, 2116, 995, 34071, 7561, 17958, 50644, 10894, 14314, 8423, 2049, 3009, 2294, 51270, 24269, 2924, 6773, 479, 5942, 5204, 12661, 4125, 1302, 23975, 26505, 4762, 18579, 10307, 9633, 8001, 29710, 3027, 813, 11113, 1418, 16084, 4953, 32395, 25822, 11352, 1970, 5504, 26638, 57053, 23555, 11438, 1682, 69891, 9647, 11429, 22855, 5793, 768, 54873, 3970, 5428, 3479, 16308, 19293, 2238, 3434, 5292, 8188, 47636, 5777, 11398, 3874, 7618, 3197, 15886, 1198, 29140, 5603, 725, 11015, 60932, 848, 6515, 110, 6255, 28512, 1589, 47282, 62005, 6719, 21583, 14059, 51455, 6417, 5034, 11895, 40832, 26158, 13539, 3802, 5273, 5424, 5938, 1651, 12114, 7046, 52714, 8450, 951, 6237, 19325, 17420, 22681, 10485, 52049, 5243, 4917, 6288, 657, 15138, 5250, 8217, 3928, 26879, 1429, 1465, 1493, 1381, 26511, 7711, 4376, 27364, 979, 8852, 1061, 42427, 3092, 20954, 5144, 17095, 7857, 22706, 5203, 23494, 23496, 10858, 19317, 232, 11080, 65155, 7546, 5953, 34765, 69426, 22540, 10597, 3905, 8719, 43456, 53492, 55050, 9055, 8747, 7670, 2837, 7455, 304, 5525, 44929, 57620, 51106, 16716, 3454, 64623, 1263, 11245, 6088, 16253, 26691, 1856, 4783, 9867, 9274, 5244, 556, 17815, 29152, 3883, 25857, 1068, 40474, 5573, 7479, 25354, 9500, 4818, 2546, 5148, 365, 5465, 20358, 1155, 39477, 3579, 4747, 37351, 5264, 44525, 60476, 2761, 2848, 29136, 34984, 6864, 36746, 6050, 2968, 5228, 422, 423, 3759, 1692, 14805, 10497, 55234, 5374, 3694, 59643, 17650, 2396, 36372, 5201, 18091, 4316, 5581, 6293, 2592, 454, 40814, 2760, 4482, 10948, 50995, 10788, 53698, 29255, 18960, 6558, 23346, 6069, 20807, 34386, 49322, 22394, 18931, 5544, 6146, 3605, 10536, 6567, 31898, 7368, 32783, 4696, 2143, 2293, 5029, 8982, 9005, 5838, 2820, 28545, 4882, 38682, 35197, 22508, 2640, 22470, 9887, 20171, 58439, 2744, 10796, 4209, 9891, 4171, 11145, 649, 28250, 4954, 23888, 5577, 4262, 8083, 38937, 6885, 50440, 1509, 2957, 8931, 3315, 58831, 16207, 25069, 1189, 3398, 5543, 604, 6133, 5511, 19644, 260, 4928, 28291, 42822, 40273, 5087, 7324, 6240, 13479, 10785, 6151, 17013, 9995, 46129, 5253, 2310, 37783, 10786, 1176, 20290, 39607, 3794, 49032, 814, 2283, 5492, 4168, 13052, 1005, 2686, 6540, 8129, 5206, 35154, 3288, 11563, 3166, 5649, 7969, 2684, 7504, 5010, 4831, 371, 2052, 6091, 28157, 8031, 39921, 5129, 25632, 12809, 11100, 20816, 12423, 2192, 7235, 64178, 9283, 1350, 10874, 7652, 53103, 10079, 1129, 17490, 6998, 36080, 7219, 14575, 1484, 63157, 3112, 4512, 9019, 43710, 21281, 52518, 11416, 3183, 49914, 27551, 24995, 73135, 46089, 51806, 11137, 66532, 25114, 47456, 44458, 53529, 50537, 54296, 996, 25856, 3637, 39926, 43023, 41024, 40204, 6161, 19101, 35717, 41677, 6948, 68458, 45659, 65682, 73188, 62710, 69964, 63063, 72800, 41901, 5954, 53113, 16197, 53935, 49192, 36387, 25773, 14908, 39408, 40949, 22338, 39282, 41244, 13337, 48423, 22098, 56152, 19869, 17160, 29391, 61443, 23761, 41576, 20754, 21308, 24301, 61873, 66449, 16637, 39303, 38943, 39299, 53061, 32023, 46438, 40344, 58567, 49591, 59537, 49150, 37819, 35590, 17944, 65175, 10931, 21334, 60978, 34696, 25023, 67837, 61547, 25528, 40333, 26923, 28669, 27239, 64433, 35782, 44099, 49377, 22815, 46184, 10425, 66118, 26025, 62343, 39571, 46712, 26067, 23668, 58692, 13264, 26831, 28714, 47343, 33602, 30180, 31122, 60918, 20824, 30597, 28444, 2135, 59026, 64820, 9032, 67244, 69497, 14806, 25123, 61529, 34568, 29069, 29075, 57496, 22062, 24472, 48615, 43043, 56893, 9754, 58619, 59055, 47716, 60927, 55622, 8282, 20529, 17101, 37726, 13251, 26422, 46784, 33960, 63470, 37155, 23002, 59802, 25837, 16657, 38648, 62753, 51976, 61400, 16823, 789, 3214, 2701, 2165, 4454, 8122, 3614, 2186, 3902, 2642, 2385, 6695, 1110, 6803, 3124, 5751, 13894, 4838, 2532, 5655, 2485, 2244, 5145, 6038, 5069, 4893, 5388, 2935, 754, 2454, 1596, 19890, 2004, 5212, 19736, 162, 1314, 6340, 6107, 5119, 5454, 4759, 7403, 1540, 5241, 2869, 6769, 3464, 6474, 2813, 7734, 4043, 6984, 6925, 1951, 6929, 2519, 5189, 5826, 11132, 5668, 1779, 7569, 7781, 4906, 8099, 8148, 1637, 7982, 2621, 10945, 15807, 11402, 672, 1514, 4916, 5394, 1669, 7169, 4620, 17792, 11410, 24422, 23512, 4732, 4774, 5836, 10564, 5672, 28937, 7915, 4952, 3362, 14697, 12580, 7632, 5681, 2462, 9510, 24197, 7502, 11540, 8155, 51562, 31809, 7369, 28892, 6067, 10646, 13343, 6700, 10645, 29013, 7453, 58483, 8029, 28392, 20964, 5073, 19964, 2249, 896, 5413, 34796, 7384, 20455, 4779, 10246, 4193, 10725, 3863, 25812, 7716, 7280, 4377, 29676, 24849, 28953, 8071, 8472, 11921, 9512, 7791, 5711, 54819, 11817, 60365]\n",
            "encoded user_id :  {99: 0, 3: 1, 43: 2, 5: 3, 17: 4, 7: 5, 183: 6, 2378: 7, 46: 8, 11: 9, 19: 10, 14: 11, 21: 12, 233: 13, 2695: 14, 1551: 15, 152: 16, 308: 17, 1954: 18, 82: 19, 123: 20, 235: 21, 51: 22, 38: 23, 12: 24, 39: 25, 373: 26, 160: 27, 1591: 28, 247: 29, 2: 30, 98: 31, 341: 32, 244: 33, 139: 34, 148: 35, 50: 36, 109: 37, 52: 38, 33: 39, 74: 40, 40: 41, 75: 42, 234: 43, 27: 44, 37: 45, 93: 46, 77: 47, 250: 48, 31: 49, 294: 50, 45: 51, 2589: 52, 61: 53, 65: 54, 276: 55, 129: 56, 370: 57, 25: 58, 125: 59, 3615: 60, 96: 61, 68: 62, 475: 63, 159: 64, 24: 65, 382: 66, 48: 67, 1145: 68, 339: 69, 298: 70, 428: 71, 861: 72, 439: 73, 478: 74, 18: 75, 29: 76, 1116: 77, 392: 78, 128: 79, 1237: 80, 511: 81, 226: 82, 210: 83, 85: 84, 720: 85, 44: 86, 271: 87, 1798: 88, 1060: 89, 66: 90, 171: 91, 771: 92, 191: 93, 2632: 94, 248: 95, 23: 96, 385: 97, 73: 98, 55: 99, 57: 100, 269: 101, 644: 102, 562: 103, 885: 104, 2819: 105, 167: 106, 395: 107, 63076: 108, 165: 109, 95: 110, 324: 111, 169: 112, 127: 113, 1019: 114, 1447: 115, 217: 116, 1497: 117, 120: 118, 418: 119, 847: 120, 3360: 121, 87: 122, 47: 123, 1679: 124, 108: 125, 352: 126, 784: 127, 1396: 128, 79: 129, 80: 130, 3254: 131, 1835: 132, 1924: 133, 196: 134, 135: 135, 1400: 136, 342: 137, 317: 138, 104: 139, 661: 140, 572: 141, 21180: 142, 288: 143, 1822: 144, 659: 145, 567: 146, 10194: 147, 634: 148, 2527: 149, 533: 150, 154: 151, 94: 152, 640: 153, 346: 154, 134: 155, 225: 156, 682: 157, 163: 158, 1: 159, 15455: 160, 277: 161, 290: 162, 1960: 163, 775: 164, 280: 165, 1530: 166, 954: 167, 190: 168, 256: 169, 350: 170, 192: 171, 516: 172, 62: 173, 446: 174, 81: 175, 3269: 176, 1549: 177, 1426: 178, 118: 179, 565: 180, 8: 181, 189: 182, 64: 183, 321: 184, 1378: 185, 5419: 186, 111: 187, 1043: 188, 164: 189, 436: 190, 107: 191, 36: 192, 591: 193, 820: 194, 438: 195, 97: 196, 1677: 197, 1344: 198, 4339: 199, 540: 200, 30: 201, 379: 202, 5405: 203, 1984: 204, 492: 205, 2681: 206, 5166: 207, 2480: 208, 702: 209, 32496: 210, 1640: 211, 1045: 212, 10229: 213, 455: 214, 2225: 215, 1059: 216, 8103: 217, 1528: 218, 71: 219, 102: 220, 1105: 221, 612: 222, 1504: 223, 361: 224, 745: 225, 1217: 226, 6229: 227, 1462: 228, 4993: 229, 204: 230, 13565: 231, 573: 232, 1720: 233, 3657: 234, 27219: 235, 1048: 236, 2175: 237, 404: 238, 2745: 239, 946: 240, 384: 241, 721: 242, 1501: 243, 2783: 244, 177: 245, 349: 246, 2410: 247, 1167: 248, 541: 249, 901: 250, 249: 251, 5702: 252, 6771: 253, 2236: 254, 8180: 255, 130: 256, 4215: 257, 2371: 258, 3639: 259, 1307: 260, 5457: 261, 1387: 262, 6389: 263, 2740: 264, 890: 265, 3561: 266, 106: 267, 553: 268, 16: 269, 636: 270, 735: 271, 6343: 272, 2290: 273, 1395: 274, 1345: 275, 296: 276, 53: 277, 3426: 278, 141: 279, 2038: 280, 5325: 281, 2804: 282, 112: 283, 67: 284, 1305: 285, 119: 286, 1964: 287, 2951: 288, 18944: 289, 7824: 290, 4792: 291, 2118: 292, 1084: 293, 5335: 294, 2379: 295, 2873: 296, 147: 297, 11790: 298, 363: 299, 156: 300, 170: 301, 4140: 302, 1051: 303, 3374: 304, 6113: 305, 689: 306, 1132: 307, 510: 308, 1942: 309, 694: 310, 2273: 311, 610: 312, 1118: 313, 3587: 314, 122: 315, 529: 316, 9000: 317, 201: 318, 6015: 319, 460: 320, 6869: 321, 84: 322, 907: 323, 1695: 324, 615: 325, 330: 326, 4861: 327, 458: 328, 166: 329, 301: 330, 6012: 331, 185: 332, 3597: 333, 1180: 334, 41: 335, 5011: 336, 916: 337, 5287: 338, 4133: 339, 462: 340, 772: 341, 1318: 342, 5936: 343, 4985: 344, 5310: 345, 1222: 346, 245: 347, 4350: 348, 1338: 349, 500: 350, 2810: 351, 3152: 352, 3569: 353, 5700: 354, 6454: 355, 343: 356, 34: 357, 10074: 358, 788: 359, 227: 360, 7527: 361, 1522: 362, 272: 363, 34155: 364, 1014: 365, 7939: 366, 1554: 367, 7053: 368, 4995: 369, 1182: 370, 2762: 371, 4797: 372, 1456: 373, 1595: 374, 695: 375, 1483: 376, 8094: 377, 314: 378, 4799: 379, 569: 380, 13877: 381, 530: 382, 7345: 383, 626: 384, 220: 385, 2872: 386, 35147: 387, 216: 388, 2581: 389, 6080: 390, 3118: 391, 419: 392, 326: 393, 871: 394, 958: 395, 1117: 396, 5159: 397, 508: 398, 143: 399, 2166: 400, 83: 401, 531: 402, 11687: 403, 1854: 404, 5262: 405, 2417: 406, 8706: 407, 1900: 408, 1771: 409, 1013: 410, 2184: 411, 795: 412, 3949: 413, 7257: 414, 947: 415, 52145: 416, 2422: 417, 4883: 418, 9569: 419, 5158: 420, 12725: 421, 495: 422, 262: 423, 2515: 424, 198: 425, 1190: 426, 5343: 427, 1213: 428, 3293: 429, 1216: 430, 7311: 431, 105: 432, 3518: 433, 9034: 434, 2158: 435, 884: 436, 762: 437, 893: 438, 2594: 439, 22434: 440, 23784: 441, 6385: 442, 214: 443, 282: 444, 1114: 445, 3453: 446, 200: 447, 4979: 448, 1434: 449, 3127: 450, 7351: 451, 15221: 452, 7340: 453, 753: 454, 6920: 455, 948: 456, 6680: 457, 749: 458, 126: 459, 3231: 460, 3117: 461, 431: 462, 3417: 463, 5153: 464, 103: 465, 2688: 466, 5907: 467, 3294: 468, 1235: 469, 7350: 470, 1435: 471, 2608: 472, 4093: 473, 4234: 474, 1670: 475, 3586: 476, 21260: 477, 5218: 478, 547: 479, 35807: 480, 4969: 481, 766: 482, 4845: 483, 12431: 484, 963: 485, 186: 486, 1164: 487, 3072: 488, 1749: 489, 3051: 490, 2140: 491, 27592: 492, 13295: 493, 26405: 494, 24310: 495, 13538: 496, 646: 497, 5017: 498, 10844: 499, 25252: 500, 4463: 501, 387: 502, 239: 503, 5137: 504, 32872: 505, 5380: 506, 3643: 507, 155: 508, 32: 509, 744: 510, 2712: 511, 5908: 512, 1253: 513, 2918: 514, 5726: 515, 535: 516, 7511: 517, 943: 518, 6706: 519, 4834: 520, 3275: 521, 146: 522, 4811: 523, 1761: 524, 20: 525, 514: 526, 1786: 527, 1162: 528, 838: 529, 448: 530, 1191: 531, 566: 532, 42635: 533, 6569: 534, 3528: 535, 497: 536, 5202: 537, 420: 538, 16242: 539, 7523: 540, 1513: 541, 208: 542, 6112: 543, 4749: 544, 7114: 545, 1965: 546, 9401: 547, 15745: 548, 5332: 549, 8661: 550, 1034: 551, 1354: 552, 6817: 553, 18686: 554, 494: 555, 6583: 556, 675: 557, 662: 558, 6392: 559, 3040: 560, 2111: 561, 7802: 562, 6686: 563, 2200: 564, 1200: 565, 3566: 566, 5191: 567, 4521: 568, 230: 569, 4948: 570, 11536: 571, 27421: 572, 1425: 573, 1202: 574, 631: 575, 348: 576, 17872: 577, 2072: 578, 6717: 579, 11055: 580, 3416: 581, 519: 582, 367: 583, 37410: 584, 1485: 585, 6846: 586, 798: 587, 3530: 588, 10664: 589, 64354: 590, 5770: 591, 1087: 592, 2774: 593, 16561: 594, 1687: 595, 1734: 596, 2431: 597, 741: 598, 2259: 599, 5584: 600, 1210: 601, 25889: 602, 1690: 603, 4982: 604, 19379: 605, 496: 606, 158: 607, 4690: 608, 670: 609, 3838: 610, 482: 611, 888: 612, 405: 613, 3283: 614, 5784: 615, 4911: 616, 7045: 617, 4479: 618, 1506: 619, 6232: 620, 6822: 621, 2975: 622, 3744: 623, 774: 624, 2298: 625, 23020: 626, 11359: 627, 2068: 628, 5257: 629, 4897: 630, 6831: 631, 5509: 632, 23066: 633, 1140: 634, 1119: 635, 4734: 636, 252: 637, 21255: 638, 3500: 639, 19012: 640, 8434: 641, 8551: 642, 611: 643, 24931: 644, 1584: 645, 5149: 646, 18425: 647, 2317: 648, 3246: 649, 9752: 650, 4468: 651, 205: 652, 869: 653, 598: 654, 19001: 655, 25141: 656, 5503: 657, 11623: 658, 2297: 659, 187: 660, 1223: 661, 168: 662, 4942: 663, 6357: 664, 4485: 665, 2450: 666, 1280: 667, 5369: 668, 5516: 669, 3888: 670, 5366: 671, 7272: 672, 5472: 673, 4814: 674, 488: 675, 6459: 676, 23363: 677, 59531: 678, 629: 679, 41858: 680, 6723: 681, 32279: 682, 1967: 683, 41966: 684, 4853: 685, 26895: 686, 2852: 687, 6265: 688, 2275: 689, 5630: 690, 851: 691, 9229: 692, 6384: 693, 16417: 694, 5214: 695, 11474: 696, 1380: 697, 21922: 698, 42: 699, 3219: 700, 7249: 701, 2472: 702, 5720: 703, 777: 704, 1103: 705, 15685: 706, 15448: 707, 8221: 708, 20285: 709, 663: 710, 2501: 711, 1058: 712, 750: 713, 8820: 714, 4570: 715, 5311: 716, 4071: 717, 3059: 718, 8302: 719, 1382: 720, 15859: 721, 16368: 722, 6770: 723, 1993: 724, 3487: 725, 427: 726, 6951: 727, 36350: 728, 3013: 729, 1938: 730, 11404: 731, 3680: 732, 5831: 733, 8470: 734, 3017: 735, 23395: 736, 692: 737, 32687: 738, 5537: 739, 3977: 740, 3116: 741, 67836: 742, 2394: 743, 4716: 744, 1243: 745, 7677: 746, 149: 747, 6699: 748, 791: 749, 5160: 750, 5548: 751, 5272: 752, 5934: 753, 12362: 754, 7081: 755, 1639: 756, 60524: 757, 1287: 758, 1349: 759, 5056: 760, 1130: 761, 408: 762, 4891: 763, 26373: 764, 466: 765, 4349: 766, 7366: 767, 2028: 768, 13954: 769, 2734: 770, 6055: 771, 8226: 772, 49503: 773, 6197: 774, 17802: 775, 6469: 776, 9591: 777, 35080: 778, 4856: 779, 2583: 780, 5226: 781, 35: 782, 3278: 783, 710: 784, 1419: 785, 501: 786, 936: 787, 17633: 788, 2439: 789, 3655: 790, 5345: 791, 3659: 792, 2115: 793, 826: 794, 5053: 795, 19287: 796, 18934: 797, 1689: 798, 1623: 799, 2334: 800, 4653: 801, 581: 802, 6525: 803, 4085: 804, 16705: 805, 1384: 806, 799: 807, 48199: 808, 733: 809, 459: 810, 58064: 811, 4776: 812, 11241: 813, 5754: 814, 63034: 815, 961: 816, 4750: 817, 1257: 818, 6888: 819, 55343: 820, 4552: 821, 1619: 822, 4064: 823, 3870: 824, 2137: 825, 6066: 826, 312: 827, 1704: 828, 2377: 829, 3990: 830, 7022: 831, 4102: 832, 30689: 833, 6238: 834, 6932: 835, 10935: 836, 25802: 837, 1730: 838, 1697: 839, 261: 840, 53120: 841, 41707: 842, 4944: 843, 580: 844, 43198: 845, 5278: 846, 5066: 847, 14307: 848, 5121: 849, 3934: 850, 5313: 851, 6299: 852, 10410: 853, 3412: 854, 1446: 855, 3063: 856, 52101: 857, 20970: 858, 50896: 859, 44797: 860, 1281: 861, 10548: 862, 5736: 863, 4414: 864, 2002: 865, 12637: 866, 354: 867, 11408: 868, 3656: 869, 88: 870, 4009: 871, 40631: 872, 24438: 873, 41536: 874, 39220: 875, 5680: 876, 13188: 877, 9162: 878, 16679: 879, 4972: 880, 1780: 881, 1565: 882, 25577: 883, 11766: 884, 28521: 885, 1183: 886, 13084: 887, 1274: 888, 34851: 889, 7638: 890, 6100: 891, 5392: 892, 660: 893, 1535: 894, 992: 895, 5061: 896, 4321: 897, 5249: 898, 6036: 899, 22910: 900, 937: 901, 3986: 902, 5760: 903, 4152: 904, 60016: 905, 11436: 906, 25970: 907, 7247: 908, 45927: 909, 6890: 910, 16389: 911, 11186: 912, 7773: 913, 53465: 914, 8655: 915, 12376: 916, 36452: 917, 1737: 918, 35635: 919, 3557: 920, 11431: 921, 6085: 922, 7659: 923, 7008: 924, 26805: 925, 4991: 926, 3719: 927, 4643: 928, 2586: 929, 1049: 930, 1301: 931, 2651: 932, 2731: 933, 1558: 934, 2555: 935, 7674: 936, 41662: 937, 6260: 938, 4270: 939, 441: 940, 12014: 941, 5045: 942, 5094: 943, 5025: 944, 1284: 945, 2094: 946, 49662: 947, 65836: 948, 21568: 949, 585: 950, 5561: 951, 58775: 952, 5962: 953, 4312: 954, 3210: 955, 46418: 956, 6866: 957, 7266: 958, 2549: 959, 21396: 960, 5079: 961, 62517: 962, 7853: 963, 22461: 964, 303: 965, 17595: 966, 45546: 967, 21273: 968, 3262: 969, 50599: 970, 8956: 971, 20153: 972, 27087: 973, 6369: 974, 447: 975, 11348: 976, 1592: 977, 8657: 978, 25212: 979, 23247: 980, 6228: 981, 30573: 982, 6360: 983, 15999: 984, 4751: 985, 6266: 986, 11423: 987, 39111: 988, 2947: 989, 1811: 990, 12004: 991, 47977: 992, 5402: 993, 41462: 994, 557: 995, 11885: 996, 45834: 997, 2839: 998, 6356: 999, 6296: 1000, 4777: 1001, 6162: 1002, 5323: 1003, 8299: 1004, 30956: 1005, 3204: 1006, 8631: 1007, 18128: 1008, 52638: 1009, 6426: 1010, 5000: 1011, 2722: 1012, 7446: 1013, 10558: 1014, 1090: 1015, 1769: 1016, 13581: 1017, 10872: 1018, 1644: 1019, 43098: 1020, 40250: 1021, 51693: 1022, 4843: 1023, 26068: 1024, 12588: 1025, 3338: 1026, 11063: 1027, 6814: 1028, 41571: 1029, 3788: 1030, 5717: 1031, 3241: 1032, 30565: 1033, 45197: 1034, 52213: 1035, 2116: 1036, 995: 1037, 34071: 1038, 7561: 1039, 17958: 1040, 50644: 1041, 10894: 1042, 14314: 1043, 8423: 1044, 2049: 1045, 3009: 1046, 2294: 1047, 51270: 1048, 24269: 1049, 2924: 1050, 6773: 1051, 479: 1052, 5942: 1053, 5204: 1054, 12661: 1055, 4125: 1056, 1302: 1057, 23975: 1058, 26505: 1059, 4762: 1060, 18579: 1061, 10307: 1062, 9633: 1063, 8001: 1064, 29710: 1065, 3027: 1066, 813: 1067, 11113: 1068, 1418: 1069, 16084: 1070, 4953: 1071, 32395: 1072, 25822: 1073, 11352: 1074, 1970: 1075, 5504: 1076, 26638: 1077, 57053: 1078, 23555: 1079, 11438: 1080, 1682: 1081, 69891: 1082, 9647: 1083, 11429: 1084, 22855: 1085, 5793: 1086, 768: 1087, 54873: 1088, 3970: 1089, 5428: 1090, 3479: 1091, 16308: 1092, 19293: 1093, 2238: 1094, 3434: 1095, 5292: 1096, 8188: 1097, 47636: 1098, 5777: 1099, 11398: 1100, 3874: 1101, 7618: 1102, 3197: 1103, 15886: 1104, 1198: 1105, 29140: 1106, 5603: 1107, 725: 1108, 11015: 1109, 60932: 1110, 848: 1111, 6515: 1112, 110: 1113, 6255: 1114, 28512: 1115, 1589: 1116, 47282: 1117, 62005: 1118, 6719: 1119, 21583: 1120, 14059: 1121, 51455: 1122, 6417: 1123, 5034: 1124, 11895: 1125, 40832: 1126, 26158: 1127, 13539: 1128, 3802: 1129, 5273: 1130, 5424: 1131, 5938: 1132, 1651: 1133, 12114: 1134, 7046: 1135, 52714: 1136, 8450: 1137, 951: 1138, 6237: 1139, 19325: 1140, 17420: 1141, 22681: 1142, 10485: 1143, 52049: 1144, 5243: 1145, 4917: 1146, 6288: 1147, 657: 1148, 15138: 1149, 5250: 1150, 8217: 1151, 3928: 1152, 26879: 1153, 1429: 1154, 1465: 1155, 1493: 1156, 1381: 1157, 26511: 1158, 7711: 1159, 4376: 1160, 27364: 1161, 979: 1162, 8852: 1163, 1061: 1164, 42427: 1165, 3092: 1166, 20954: 1167, 5144: 1168, 17095: 1169, 7857: 1170, 22706: 1171, 5203: 1172, 23494: 1173, 23496: 1174, 10858: 1175, 19317: 1176, 232: 1177, 11080: 1178, 65155: 1179, 7546: 1180, 5953: 1181, 34765: 1182, 69426: 1183, 22540: 1184, 10597: 1185, 3905: 1186, 8719: 1187, 43456: 1188, 53492: 1189, 55050: 1190, 9055: 1191, 8747: 1192, 7670: 1193, 2837: 1194, 7455: 1195, 304: 1196, 5525: 1197, 44929: 1198, 57620: 1199, 51106: 1200, 16716: 1201, 3454: 1202, 64623: 1203, 1263: 1204, 11245: 1205, 6088: 1206, 16253: 1207, 26691: 1208, 1856: 1209, 4783: 1210, 9867: 1211, 9274: 1212, 5244: 1213, 556: 1214, 17815: 1215, 29152: 1216, 3883: 1217, 25857: 1218, 1068: 1219, 40474: 1220, 5573: 1221, 7479: 1222, 25354: 1223, 9500: 1224, 4818: 1225, 2546: 1226, 5148: 1227, 365: 1228, 5465: 1229, 20358: 1230, 1155: 1231, 39477: 1232, 3579: 1233, 4747: 1234, 37351: 1235, 5264: 1236, 44525: 1237, 60476: 1238, 2761: 1239, 2848: 1240, 29136: 1241, 34984: 1242, 6864: 1243, 36746: 1244, 6050: 1245, 2968: 1246, 5228: 1247, 422: 1248, 423: 1249, 3759: 1250, 1692: 1251, 14805: 1252, 10497: 1253, 55234: 1254, 5374: 1255, 3694: 1256, 59643: 1257, 17650: 1258, 2396: 1259, 36372: 1260, 5201: 1261, 18091: 1262, 4316: 1263, 5581: 1264, 6293: 1265, 2592: 1266, 454: 1267, 40814: 1268, 2760: 1269, 4482: 1270, 10948: 1271, 50995: 1272, 10788: 1273, 53698: 1274, 29255: 1275, 18960: 1276, 6558: 1277, 23346: 1278, 6069: 1279, 20807: 1280, 34386: 1281, 49322: 1282, 22394: 1283, 18931: 1284, 5544: 1285, 6146: 1286, 3605: 1287, 10536: 1288, 6567: 1289, 31898: 1290, 7368: 1291, 32783: 1292, 4696: 1293, 2143: 1294, 2293: 1295, 5029: 1296, 8982: 1297, 9005: 1298, 5838: 1299, 2820: 1300, 28545: 1301, 4882: 1302, 38682: 1303, 35197: 1304, 22508: 1305, 2640: 1306, 22470: 1307, 9887: 1308, 20171: 1309, 58439: 1310, 2744: 1311, 10796: 1312, 4209: 1313, 9891: 1314, 4171: 1315, 11145: 1316, 649: 1317, 28250: 1318, 4954: 1319, 23888: 1320, 5577: 1321, 4262: 1322, 8083: 1323, 38937: 1324, 6885: 1325, 50440: 1326, 1509: 1327, 2957: 1328, 8931: 1329, 3315: 1330, 58831: 1331, 16207: 1332, 25069: 1333, 1189: 1334, 3398: 1335, 5543: 1336, 604: 1337, 6133: 1338, 5511: 1339, 19644: 1340, 260: 1341, 4928: 1342, 28291: 1343, 42822: 1344, 40273: 1345, 5087: 1346, 7324: 1347, 6240: 1348, 13479: 1349, 10785: 1350, 6151: 1351, 17013: 1352, 9995: 1353, 46129: 1354, 5253: 1355, 2310: 1356, 37783: 1357, 10786: 1358, 1176: 1359, 20290: 1360, 39607: 1361, 3794: 1362, 49032: 1363, 814: 1364, 2283: 1365, 5492: 1366, 4168: 1367, 13052: 1368, 1005: 1369, 2686: 1370, 6540: 1371, 8129: 1372, 5206: 1373, 35154: 1374, 3288: 1375, 11563: 1376, 3166: 1377, 5649: 1378, 7969: 1379, 2684: 1380, 7504: 1381, 5010: 1382, 4831: 1383, 371: 1384, 2052: 1385, 6091: 1386, 28157: 1387, 8031: 1388, 39921: 1389, 5129: 1390, 25632: 1391, 12809: 1392, 11100: 1393, 20816: 1394, 12423: 1395, 2192: 1396, 7235: 1397, 64178: 1398, 9283: 1399, 1350: 1400, 10874: 1401, 7652: 1402, 53103: 1403, 10079: 1404, 1129: 1405, 17490: 1406, 6998: 1407, 36080: 1408, 7219: 1409, 14575: 1410, 1484: 1411, 63157: 1412, 3112: 1413, 4512: 1414, 9019: 1415, 43710: 1416, 21281: 1417, 52518: 1418, 11416: 1419, 3183: 1420, 49914: 1421, 27551: 1422, 24995: 1423, 73135: 1424, 46089: 1425, 51806: 1426, 11137: 1427, 66532: 1428, 25114: 1429, 47456: 1430, 44458: 1431, 53529: 1432, 50537: 1433, 54296: 1434, 996: 1435, 25856: 1436, 3637: 1437, 39926: 1438, 43023: 1439, 41024: 1440, 40204: 1441, 6161: 1442, 19101: 1443, 35717: 1444, 41677: 1445, 6948: 1446, 68458: 1447, 45659: 1448, 65682: 1449, 73188: 1450, 62710: 1451, 69964: 1452, 63063: 1453, 72800: 1454, 41901: 1455, 5954: 1456, 53113: 1457, 16197: 1458, 53935: 1459, 49192: 1460, 36387: 1461, 25773: 1462, 14908: 1463, 39408: 1464, 40949: 1465, 22338: 1466, 39282: 1467, 41244: 1468, 13337: 1469, 48423: 1470, 22098: 1471, 56152: 1472, 19869: 1473, 17160: 1474, 29391: 1475, 61443: 1476, 23761: 1477, 41576: 1478, 20754: 1479, 21308: 1480, 24301: 1481, 61873: 1482, 66449: 1483, 16637: 1484, 39303: 1485, 38943: 1486, 39299: 1487, 53061: 1488, 32023: 1489, 46438: 1490, 40344: 1491, 58567: 1492, 49591: 1493, 59537: 1494, 49150: 1495, 37819: 1496, 35590: 1497, 17944: 1498, 65175: 1499, 10931: 1500, 21334: 1501, 60978: 1502, 34696: 1503, 25023: 1504, 67837: 1505, 61547: 1506, 25528: 1507, 40333: 1508, 26923: 1509, 28669: 1510, 27239: 1511, 64433: 1512, 35782: 1513, 44099: 1514, 49377: 1515, 22815: 1516, 46184: 1517, 10425: 1518, 66118: 1519, 26025: 1520, 62343: 1521, 39571: 1522, 46712: 1523, 26067: 1524, 23668: 1525, 58692: 1526, 13264: 1527, 26831: 1528, 28714: 1529, 47343: 1530, 33602: 1531, 30180: 1532, 31122: 1533, 60918: 1534, 20824: 1535, 30597: 1536, 28444: 1537, 2135: 1538, 59026: 1539, 64820: 1540, 9032: 1541, 67244: 1542, 69497: 1543, 14806: 1544, 25123: 1545, 61529: 1546, 34568: 1547, 29069: 1548, 29075: 1549, 57496: 1550, 22062: 1551, 24472: 1552, 48615: 1553, 43043: 1554, 56893: 1555, 9754: 1556, 58619: 1557, 59055: 1558, 47716: 1559, 60927: 1560, 55622: 1561, 8282: 1562, 20529: 1563, 17101: 1564, 37726: 1565, 13251: 1566, 26422: 1567, 46784: 1568, 33960: 1569, 63470: 1570, 37155: 1571, 23002: 1572, 59802: 1573, 25837: 1574, 16657: 1575, 38648: 1576, 62753: 1577, 51976: 1578, 61400: 1579, 16823: 1580, 789: 1581, 3214: 1582, 2701: 1583, 2165: 1584, 4454: 1585, 8122: 1586, 3614: 1587, 2186: 1588, 3902: 1589, 2642: 1590, 2385: 1591, 6695: 1592, 1110: 1593, 6803: 1594, 3124: 1595, 5751: 1596, 13894: 1597, 4838: 1598, 2532: 1599, 5655: 1600, 2485: 1601, 2244: 1602, 5145: 1603, 6038: 1604, 5069: 1605, 4893: 1606, 5388: 1607, 2935: 1608, 754: 1609, 2454: 1610, 1596: 1611, 19890: 1612, 2004: 1613, 5212: 1614, 19736: 1615, 162: 1616, 1314: 1617, 6340: 1618, 6107: 1619, 5119: 1620, 5454: 1621, 4759: 1622, 7403: 1623, 1540: 1624, 5241: 1625, 2869: 1626, 6769: 1627, 3464: 1628, 6474: 1629, 2813: 1630, 7734: 1631, 4043: 1632, 6984: 1633, 6925: 1634, 1951: 1635, 6929: 1636, 2519: 1637, 5189: 1638, 5826: 1639, 11132: 1640, 5668: 1641, 1779: 1642, 7569: 1643, 7781: 1644, 4906: 1645, 8099: 1646, 8148: 1647, 1637: 1648, 7982: 1649, 2621: 1650, 10945: 1651, 15807: 1652, 11402: 1653, 672: 1654, 1514: 1655, 4916: 1656, 5394: 1657, 1669: 1658, 7169: 1659, 4620: 1660, 17792: 1661, 11410: 1662, 24422: 1663, 23512: 1664, 4732: 1665, 4774: 1666, 5836: 1667, 10564: 1668, 5672: 1669, 28937: 1670, 7915: 1671, 4952: 1672, 3362: 1673, 14697: 1674, 12580: 1675, 7632: 1676, 5681: 1677, 2462: 1678, 9510: 1679, 24197: 1680, 7502: 1681, 11540: 1682, 8155: 1683, 51562: 1684, 31809: 1685, 7369: 1686, 28892: 1687, 6067: 1688, 10646: 1689, 13343: 1690, 6700: 1691, 10645: 1692, 29013: 1693, 7453: 1694, 58483: 1695, 8029: 1696, 28392: 1697, 20964: 1698, 5073: 1699, 19964: 1700, 2249: 1701, 896: 1702, 5413: 1703, 34796: 1704, 7384: 1705, 20455: 1706, 4779: 1707, 10246: 1708, 4193: 1709, 10725: 1710, 3863: 1711, 25812: 1712, 7716: 1713, 7280: 1714, 4377: 1715, 29676: 1716, 24849: 1717, 28953: 1718, 8071: 1719, 8472: 1720, 11921: 1721, 9512: 1722, 7791: 1723, 5711: 1724, 54819: 1725, 11817: 1726, 60365: 1727}\n",
            "encoded angka ke user_id:  {0: 99, 1: 3, 2: 43, 3: 5, 4: 17, 5: 7, 6: 183, 7: 2378, 8: 46, 9: 11, 10: 19, 11: 14, 12: 21, 13: 233, 14: 2695, 15: 1551, 16: 152, 17: 308, 18: 1954, 19: 82, 20: 123, 21: 235, 22: 51, 23: 38, 24: 12, 25: 39, 26: 373, 27: 160, 28: 1591, 29: 247, 30: 2, 31: 98, 32: 341, 33: 244, 34: 139, 35: 148, 36: 50, 37: 109, 38: 52, 39: 33, 40: 74, 41: 40, 42: 75, 43: 234, 44: 27, 45: 37, 46: 93, 47: 77, 48: 250, 49: 31, 50: 294, 51: 45, 52: 2589, 53: 61, 54: 65, 55: 276, 56: 129, 57: 370, 58: 25, 59: 125, 60: 3615, 61: 96, 62: 68, 63: 475, 64: 159, 65: 24, 66: 382, 67: 48, 68: 1145, 69: 339, 70: 298, 71: 428, 72: 861, 73: 439, 74: 478, 75: 18, 76: 29, 77: 1116, 78: 392, 79: 128, 80: 1237, 81: 511, 82: 226, 83: 210, 84: 85, 85: 720, 86: 44, 87: 271, 88: 1798, 89: 1060, 90: 66, 91: 171, 92: 771, 93: 191, 94: 2632, 95: 248, 96: 23, 97: 385, 98: 73, 99: 55, 100: 57, 101: 269, 102: 644, 103: 562, 104: 885, 105: 2819, 106: 167, 107: 395, 108: 63076, 109: 165, 110: 95, 111: 324, 112: 169, 113: 127, 114: 1019, 115: 1447, 116: 217, 117: 1497, 118: 120, 119: 418, 120: 847, 121: 3360, 122: 87, 123: 47, 124: 1679, 125: 108, 126: 352, 127: 784, 128: 1396, 129: 79, 130: 80, 131: 3254, 132: 1835, 133: 1924, 134: 196, 135: 135, 136: 1400, 137: 342, 138: 317, 139: 104, 140: 661, 141: 572, 142: 21180, 143: 288, 144: 1822, 145: 659, 146: 567, 147: 10194, 148: 634, 149: 2527, 150: 533, 151: 154, 152: 94, 153: 640, 154: 346, 155: 134, 156: 225, 157: 682, 158: 163, 159: 1, 160: 15455, 161: 277, 162: 290, 163: 1960, 164: 775, 165: 280, 166: 1530, 167: 954, 168: 190, 169: 256, 170: 350, 171: 192, 172: 516, 173: 62, 174: 446, 175: 81, 176: 3269, 177: 1549, 178: 1426, 179: 118, 180: 565, 181: 8, 182: 189, 183: 64, 184: 321, 185: 1378, 186: 5419, 187: 111, 188: 1043, 189: 164, 190: 436, 191: 107, 192: 36, 193: 591, 194: 820, 195: 438, 196: 97, 197: 1677, 198: 1344, 199: 4339, 200: 540, 201: 30, 202: 379, 203: 5405, 204: 1984, 205: 492, 206: 2681, 207: 5166, 208: 2480, 209: 702, 210: 32496, 211: 1640, 212: 1045, 213: 10229, 214: 455, 215: 2225, 216: 1059, 217: 8103, 218: 1528, 219: 71, 220: 102, 221: 1105, 222: 612, 223: 1504, 224: 361, 225: 745, 226: 1217, 227: 6229, 228: 1462, 229: 4993, 230: 204, 231: 13565, 232: 573, 233: 1720, 234: 3657, 235: 27219, 236: 1048, 237: 2175, 238: 404, 239: 2745, 240: 946, 241: 384, 242: 721, 243: 1501, 244: 2783, 245: 177, 246: 349, 247: 2410, 248: 1167, 249: 541, 250: 901, 251: 249, 252: 5702, 253: 6771, 254: 2236, 255: 8180, 256: 130, 257: 4215, 258: 2371, 259: 3639, 260: 1307, 261: 5457, 262: 1387, 263: 6389, 264: 2740, 265: 890, 266: 3561, 267: 106, 268: 553, 269: 16, 270: 636, 271: 735, 272: 6343, 273: 2290, 274: 1395, 275: 1345, 276: 296, 277: 53, 278: 3426, 279: 141, 280: 2038, 281: 5325, 282: 2804, 283: 112, 284: 67, 285: 1305, 286: 119, 287: 1964, 288: 2951, 289: 18944, 290: 7824, 291: 4792, 292: 2118, 293: 1084, 294: 5335, 295: 2379, 296: 2873, 297: 147, 298: 11790, 299: 363, 300: 156, 301: 170, 302: 4140, 303: 1051, 304: 3374, 305: 6113, 306: 689, 307: 1132, 308: 510, 309: 1942, 310: 694, 311: 2273, 312: 610, 313: 1118, 314: 3587, 315: 122, 316: 529, 317: 9000, 318: 201, 319: 6015, 320: 460, 321: 6869, 322: 84, 323: 907, 324: 1695, 325: 615, 326: 330, 327: 4861, 328: 458, 329: 166, 330: 301, 331: 6012, 332: 185, 333: 3597, 334: 1180, 335: 41, 336: 5011, 337: 916, 338: 5287, 339: 4133, 340: 462, 341: 772, 342: 1318, 343: 5936, 344: 4985, 345: 5310, 346: 1222, 347: 245, 348: 4350, 349: 1338, 350: 500, 351: 2810, 352: 3152, 353: 3569, 354: 5700, 355: 6454, 356: 343, 357: 34, 358: 10074, 359: 788, 360: 227, 361: 7527, 362: 1522, 363: 272, 364: 34155, 365: 1014, 366: 7939, 367: 1554, 368: 7053, 369: 4995, 370: 1182, 371: 2762, 372: 4797, 373: 1456, 374: 1595, 375: 695, 376: 1483, 377: 8094, 378: 314, 379: 4799, 380: 569, 381: 13877, 382: 530, 383: 7345, 384: 626, 385: 220, 386: 2872, 387: 35147, 388: 216, 389: 2581, 390: 6080, 391: 3118, 392: 419, 393: 326, 394: 871, 395: 958, 396: 1117, 397: 5159, 398: 508, 399: 143, 400: 2166, 401: 83, 402: 531, 403: 11687, 404: 1854, 405: 5262, 406: 2417, 407: 8706, 408: 1900, 409: 1771, 410: 1013, 411: 2184, 412: 795, 413: 3949, 414: 7257, 415: 947, 416: 52145, 417: 2422, 418: 4883, 419: 9569, 420: 5158, 421: 12725, 422: 495, 423: 262, 424: 2515, 425: 198, 426: 1190, 427: 5343, 428: 1213, 429: 3293, 430: 1216, 431: 7311, 432: 105, 433: 3518, 434: 9034, 435: 2158, 436: 884, 437: 762, 438: 893, 439: 2594, 440: 22434, 441: 23784, 442: 6385, 443: 214, 444: 282, 445: 1114, 446: 3453, 447: 200, 448: 4979, 449: 1434, 450: 3127, 451: 7351, 452: 15221, 453: 7340, 454: 753, 455: 6920, 456: 948, 457: 6680, 458: 749, 459: 126, 460: 3231, 461: 3117, 462: 431, 463: 3417, 464: 5153, 465: 103, 466: 2688, 467: 5907, 468: 3294, 469: 1235, 470: 7350, 471: 1435, 472: 2608, 473: 4093, 474: 4234, 475: 1670, 476: 3586, 477: 21260, 478: 5218, 479: 547, 480: 35807, 481: 4969, 482: 766, 483: 4845, 484: 12431, 485: 963, 486: 186, 487: 1164, 488: 3072, 489: 1749, 490: 3051, 491: 2140, 492: 27592, 493: 13295, 494: 26405, 495: 24310, 496: 13538, 497: 646, 498: 5017, 499: 10844, 500: 25252, 501: 4463, 502: 387, 503: 239, 504: 5137, 505: 32872, 506: 5380, 507: 3643, 508: 155, 509: 32, 510: 744, 511: 2712, 512: 5908, 513: 1253, 514: 2918, 515: 5726, 516: 535, 517: 7511, 518: 943, 519: 6706, 520: 4834, 521: 3275, 522: 146, 523: 4811, 524: 1761, 525: 20, 526: 514, 527: 1786, 528: 1162, 529: 838, 530: 448, 531: 1191, 532: 566, 533: 42635, 534: 6569, 535: 3528, 536: 497, 537: 5202, 538: 420, 539: 16242, 540: 7523, 541: 1513, 542: 208, 543: 6112, 544: 4749, 545: 7114, 546: 1965, 547: 9401, 548: 15745, 549: 5332, 550: 8661, 551: 1034, 552: 1354, 553: 6817, 554: 18686, 555: 494, 556: 6583, 557: 675, 558: 662, 559: 6392, 560: 3040, 561: 2111, 562: 7802, 563: 6686, 564: 2200, 565: 1200, 566: 3566, 567: 5191, 568: 4521, 569: 230, 570: 4948, 571: 11536, 572: 27421, 573: 1425, 574: 1202, 575: 631, 576: 348, 577: 17872, 578: 2072, 579: 6717, 580: 11055, 581: 3416, 582: 519, 583: 367, 584: 37410, 585: 1485, 586: 6846, 587: 798, 588: 3530, 589: 10664, 590: 64354, 591: 5770, 592: 1087, 593: 2774, 594: 16561, 595: 1687, 596: 1734, 597: 2431, 598: 741, 599: 2259, 600: 5584, 601: 1210, 602: 25889, 603: 1690, 604: 4982, 605: 19379, 606: 496, 607: 158, 608: 4690, 609: 670, 610: 3838, 611: 482, 612: 888, 613: 405, 614: 3283, 615: 5784, 616: 4911, 617: 7045, 618: 4479, 619: 1506, 620: 6232, 621: 6822, 622: 2975, 623: 3744, 624: 774, 625: 2298, 626: 23020, 627: 11359, 628: 2068, 629: 5257, 630: 4897, 631: 6831, 632: 5509, 633: 23066, 634: 1140, 635: 1119, 636: 4734, 637: 252, 638: 21255, 639: 3500, 640: 19012, 641: 8434, 642: 8551, 643: 611, 644: 24931, 645: 1584, 646: 5149, 647: 18425, 648: 2317, 649: 3246, 650: 9752, 651: 4468, 652: 205, 653: 869, 654: 598, 655: 19001, 656: 25141, 657: 5503, 658: 11623, 659: 2297, 660: 187, 661: 1223, 662: 168, 663: 4942, 664: 6357, 665: 4485, 666: 2450, 667: 1280, 668: 5369, 669: 5516, 670: 3888, 671: 5366, 672: 7272, 673: 5472, 674: 4814, 675: 488, 676: 6459, 677: 23363, 678: 59531, 679: 629, 680: 41858, 681: 6723, 682: 32279, 683: 1967, 684: 41966, 685: 4853, 686: 26895, 687: 2852, 688: 6265, 689: 2275, 690: 5630, 691: 851, 692: 9229, 693: 6384, 694: 16417, 695: 5214, 696: 11474, 697: 1380, 698: 21922, 699: 42, 700: 3219, 701: 7249, 702: 2472, 703: 5720, 704: 777, 705: 1103, 706: 15685, 707: 15448, 708: 8221, 709: 20285, 710: 663, 711: 2501, 712: 1058, 713: 750, 714: 8820, 715: 4570, 716: 5311, 717: 4071, 718: 3059, 719: 8302, 720: 1382, 721: 15859, 722: 16368, 723: 6770, 724: 1993, 725: 3487, 726: 427, 727: 6951, 728: 36350, 729: 3013, 730: 1938, 731: 11404, 732: 3680, 733: 5831, 734: 8470, 735: 3017, 736: 23395, 737: 692, 738: 32687, 739: 5537, 740: 3977, 741: 3116, 742: 67836, 743: 2394, 744: 4716, 745: 1243, 746: 7677, 747: 149, 748: 6699, 749: 791, 750: 5160, 751: 5548, 752: 5272, 753: 5934, 754: 12362, 755: 7081, 756: 1639, 757: 60524, 758: 1287, 759: 1349, 760: 5056, 761: 1130, 762: 408, 763: 4891, 764: 26373, 765: 466, 766: 4349, 767: 7366, 768: 2028, 769: 13954, 770: 2734, 771: 6055, 772: 8226, 773: 49503, 774: 6197, 775: 17802, 776: 6469, 777: 9591, 778: 35080, 779: 4856, 780: 2583, 781: 5226, 782: 35, 783: 3278, 784: 710, 785: 1419, 786: 501, 787: 936, 788: 17633, 789: 2439, 790: 3655, 791: 5345, 792: 3659, 793: 2115, 794: 826, 795: 5053, 796: 19287, 797: 18934, 798: 1689, 799: 1623, 800: 2334, 801: 4653, 802: 581, 803: 6525, 804: 4085, 805: 16705, 806: 1384, 807: 799, 808: 48199, 809: 733, 810: 459, 811: 58064, 812: 4776, 813: 11241, 814: 5754, 815: 63034, 816: 961, 817: 4750, 818: 1257, 819: 6888, 820: 55343, 821: 4552, 822: 1619, 823: 4064, 824: 3870, 825: 2137, 826: 6066, 827: 312, 828: 1704, 829: 2377, 830: 3990, 831: 7022, 832: 4102, 833: 30689, 834: 6238, 835: 6932, 836: 10935, 837: 25802, 838: 1730, 839: 1697, 840: 261, 841: 53120, 842: 41707, 843: 4944, 844: 580, 845: 43198, 846: 5278, 847: 5066, 848: 14307, 849: 5121, 850: 3934, 851: 5313, 852: 6299, 853: 10410, 854: 3412, 855: 1446, 856: 3063, 857: 52101, 858: 20970, 859: 50896, 860: 44797, 861: 1281, 862: 10548, 863: 5736, 864: 4414, 865: 2002, 866: 12637, 867: 354, 868: 11408, 869: 3656, 870: 88, 871: 4009, 872: 40631, 873: 24438, 874: 41536, 875: 39220, 876: 5680, 877: 13188, 878: 9162, 879: 16679, 880: 4972, 881: 1780, 882: 1565, 883: 25577, 884: 11766, 885: 28521, 886: 1183, 887: 13084, 888: 1274, 889: 34851, 890: 7638, 891: 6100, 892: 5392, 893: 660, 894: 1535, 895: 992, 896: 5061, 897: 4321, 898: 5249, 899: 6036, 900: 22910, 901: 937, 902: 3986, 903: 5760, 904: 4152, 905: 60016, 906: 11436, 907: 25970, 908: 7247, 909: 45927, 910: 6890, 911: 16389, 912: 11186, 913: 7773, 914: 53465, 915: 8655, 916: 12376, 917: 36452, 918: 1737, 919: 35635, 920: 3557, 921: 11431, 922: 6085, 923: 7659, 924: 7008, 925: 26805, 926: 4991, 927: 3719, 928: 4643, 929: 2586, 930: 1049, 931: 1301, 932: 2651, 933: 2731, 934: 1558, 935: 2555, 936: 7674, 937: 41662, 938: 6260, 939: 4270, 940: 441, 941: 12014, 942: 5045, 943: 5094, 944: 5025, 945: 1284, 946: 2094, 947: 49662, 948: 65836, 949: 21568, 950: 585, 951: 5561, 952: 58775, 953: 5962, 954: 4312, 955: 3210, 956: 46418, 957: 6866, 958: 7266, 959: 2549, 960: 21396, 961: 5079, 962: 62517, 963: 7853, 964: 22461, 965: 303, 966: 17595, 967: 45546, 968: 21273, 969: 3262, 970: 50599, 971: 8956, 972: 20153, 973: 27087, 974: 6369, 975: 447, 976: 11348, 977: 1592, 978: 8657, 979: 25212, 980: 23247, 981: 6228, 982: 30573, 983: 6360, 984: 15999, 985: 4751, 986: 6266, 987: 11423, 988: 39111, 989: 2947, 990: 1811, 991: 12004, 992: 47977, 993: 5402, 994: 41462, 995: 557, 996: 11885, 997: 45834, 998: 2839, 999: 6356, 1000: 6296, 1001: 4777, 1002: 6162, 1003: 5323, 1004: 8299, 1005: 30956, 1006: 3204, 1007: 8631, 1008: 18128, 1009: 52638, 1010: 6426, 1011: 5000, 1012: 2722, 1013: 7446, 1014: 10558, 1015: 1090, 1016: 1769, 1017: 13581, 1018: 10872, 1019: 1644, 1020: 43098, 1021: 40250, 1022: 51693, 1023: 4843, 1024: 26068, 1025: 12588, 1026: 3338, 1027: 11063, 1028: 6814, 1029: 41571, 1030: 3788, 1031: 5717, 1032: 3241, 1033: 30565, 1034: 45197, 1035: 52213, 1036: 2116, 1037: 995, 1038: 34071, 1039: 7561, 1040: 17958, 1041: 50644, 1042: 10894, 1043: 14314, 1044: 8423, 1045: 2049, 1046: 3009, 1047: 2294, 1048: 51270, 1049: 24269, 1050: 2924, 1051: 6773, 1052: 479, 1053: 5942, 1054: 5204, 1055: 12661, 1056: 4125, 1057: 1302, 1058: 23975, 1059: 26505, 1060: 4762, 1061: 18579, 1062: 10307, 1063: 9633, 1064: 8001, 1065: 29710, 1066: 3027, 1067: 813, 1068: 11113, 1069: 1418, 1070: 16084, 1071: 4953, 1072: 32395, 1073: 25822, 1074: 11352, 1075: 1970, 1076: 5504, 1077: 26638, 1078: 57053, 1079: 23555, 1080: 11438, 1081: 1682, 1082: 69891, 1083: 9647, 1084: 11429, 1085: 22855, 1086: 5793, 1087: 768, 1088: 54873, 1089: 3970, 1090: 5428, 1091: 3479, 1092: 16308, 1093: 19293, 1094: 2238, 1095: 3434, 1096: 5292, 1097: 8188, 1098: 47636, 1099: 5777, 1100: 11398, 1101: 3874, 1102: 7618, 1103: 3197, 1104: 15886, 1105: 1198, 1106: 29140, 1107: 5603, 1108: 725, 1109: 11015, 1110: 60932, 1111: 848, 1112: 6515, 1113: 110, 1114: 6255, 1115: 28512, 1116: 1589, 1117: 47282, 1118: 62005, 1119: 6719, 1120: 21583, 1121: 14059, 1122: 51455, 1123: 6417, 1124: 5034, 1125: 11895, 1126: 40832, 1127: 26158, 1128: 13539, 1129: 3802, 1130: 5273, 1131: 5424, 1132: 5938, 1133: 1651, 1134: 12114, 1135: 7046, 1136: 52714, 1137: 8450, 1138: 951, 1139: 6237, 1140: 19325, 1141: 17420, 1142: 22681, 1143: 10485, 1144: 52049, 1145: 5243, 1146: 4917, 1147: 6288, 1148: 657, 1149: 15138, 1150: 5250, 1151: 8217, 1152: 3928, 1153: 26879, 1154: 1429, 1155: 1465, 1156: 1493, 1157: 1381, 1158: 26511, 1159: 7711, 1160: 4376, 1161: 27364, 1162: 979, 1163: 8852, 1164: 1061, 1165: 42427, 1166: 3092, 1167: 20954, 1168: 5144, 1169: 17095, 1170: 7857, 1171: 22706, 1172: 5203, 1173: 23494, 1174: 23496, 1175: 10858, 1176: 19317, 1177: 232, 1178: 11080, 1179: 65155, 1180: 7546, 1181: 5953, 1182: 34765, 1183: 69426, 1184: 22540, 1185: 10597, 1186: 3905, 1187: 8719, 1188: 43456, 1189: 53492, 1190: 55050, 1191: 9055, 1192: 8747, 1193: 7670, 1194: 2837, 1195: 7455, 1196: 304, 1197: 5525, 1198: 44929, 1199: 57620, 1200: 51106, 1201: 16716, 1202: 3454, 1203: 64623, 1204: 1263, 1205: 11245, 1206: 6088, 1207: 16253, 1208: 26691, 1209: 1856, 1210: 4783, 1211: 9867, 1212: 9274, 1213: 5244, 1214: 556, 1215: 17815, 1216: 29152, 1217: 3883, 1218: 25857, 1219: 1068, 1220: 40474, 1221: 5573, 1222: 7479, 1223: 25354, 1224: 9500, 1225: 4818, 1226: 2546, 1227: 5148, 1228: 365, 1229: 5465, 1230: 20358, 1231: 1155, 1232: 39477, 1233: 3579, 1234: 4747, 1235: 37351, 1236: 5264, 1237: 44525, 1238: 60476, 1239: 2761, 1240: 2848, 1241: 29136, 1242: 34984, 1243: 6864, 1244: 36746, 1245: 6050, 1246: 2968, 1247: 5228, 1248: 422, 1249: 423, 1250: 3759, 1251: 1692, 1252: 14805, 1253: 10497, 1254: 55234, 1255: 5374, 1256: 3694, 1257: 59643, 1258: 17650, 1259: 2396, 1260: 36372, 1261: 5201, 1262: 18091, 1263: 4316, 1264: 5581, 1265: 6293, 1266: 2592, 1267: 454, 1268: 40814, 1269: 2760, 1270: 4482, 1271: 10948, 1272: 50995, 1273: 10788, 1274: 53698, 1275: 29255, 1276: 18960, 1277: 6558, 1278: 23346, 1279: 6069, 1280: 20807, 1281: 34386, 1282: 49322, 1283: 22394, 1284: 18931, 1285: 5544, 1286: 6146, 1287: 3605, 1288: 10536, 1289: 6567, 1290: 31898, 1291: 7368, 1292: 32783, 1293: 4696, 1294: 2143, 1295: 2293, 1296: 5029, 1297: 8982, 1298: 9005, 1299: 5838, 1300: 2820, 1301: 28545, 1302: 4882, 1303: 38682, 1304: 35197, 1305: 22508, 1306: 2640, 1307: 22470, 1308: 9887, 1309: 20171, 1310: 58439, 1311: 2744, 1312: 10796, 1313: 4209, 1314: 9891, 1315: 4171, 1316: 11145, 1317: 649, 1318: 28250, 1319: 4954, 1320: 23888, 1321: 5577, 1322: 4262, 1323: 8083, 1324: 38937, 1325: 6885, 1326: 50440, 1327: 1509, 1328: 2957, 1329: 8931, 1330: 3315, 1331: 58831, 1332: 16207, 1333: 25069, 1334: 1189, 1335: 3398, 1336: 5543, 1337: 604, 1338: 6133, 1339: 5511, 1340: 19644, 1341: 260, 1342: 4928, 1343: 28291, 1344: 42822, 1345: 40273, 1346: 5087, 1347: 7324, 1348: 6240, 1349: 13479, 1350: 10785, 1351: 6151, 1352: 17013, 1353: 9995, 1354: 46129, 1355: 5253, 1356: 2310, 1357: 37783, 1358: 10786, 1359: 1176, 1360: 20290, 1361: 39607, 1362: 3794, 1363: 49032, 1364: 814, 1365: 2283, 1366: 5492, 1367: 4168, 1368: 13052, 1369: 1005, 1370: 2686, 1371: 6540, 1372: 8129, 1373: 5206, 1374: 35154, 1375: 3288, 1376: 11563, 1377: 3166, 1378: 5649, 1379: 7969, 1380: 2684, 1381: 7504, 1382: 5010, 1383: 4831, 1384: 371, 1385: 2052, 1386: 6091, 1387: 28157, 1388: 8031, 1389: 39921, 1390: 5129, 1391: 25632, 1392: 12809, 1393: 11100, 1394: 20816, 1395: 12423, 1396: 2192, 1397: 7235, 1398: 64178, 1399: 9283, 1400: 1350, 1401: 10874, 1402: 7652, 1403: 53103, 1404: 10079, 1405: 1129, 1406: 17490, 1407: 6998, 1408: 36080, 1409: 7219, 1410: 14575, 1411: 1484, 1412: 63157, 1413: 3112, 1414: 4512, 1415: 9019, 1416: 43710, 1417: 21281, 1418: 52518, 1419: 11416, 1420: 3183, 1421: 49914, 1422: 27551, 1423: 24995, 1424: 73135, 1425: 46089, 1426: 51806, 1427: 11137, 1428: 66532, 1429: 25114, 1430: 47456, 1431: 44458, 1432: 53529, 1433: 50537, 1434: 54296, 1435: 996, 1436: 25856, 1437: 3637, 1438: 39926, 1439: 43023, 1440: 41024, 1441: 40204, 1442: 6161, 1443: 19101, 1444: 35717, 1445: 41677, 1446: 6948, 1447: 68458, 1448: 45659, 1449: 65682, 1450: 73188, 1451: 62710, 1452: 69964, 1453: 63063, 1454: 72800, 1455: 41901, 1456: 5954, 1457: 53113, 1458: 16197, 1459: 53935, 1460: 49192, 1461: 36387, 1462: 25773, 1463: 14908, 1464: 39408, 1465: 40949, 1466: 22338, 1467: 39282, 1468: 41244, 1469: 13337, 1470: 48423, 1471: 22098, 1472: 56152, 1473: 19869, 1474: 17160, 1475: 29391, 1476: 61443, 1477: 23761, 1478: 41576, 1479: 20754, 1480: 21308, 1481: 24301, 1482: 61873, 1483: 66449, 1484: 16637, 1485: 39303, 1486: 38943, 1487: 39299, 1488: 53061, 1489: 32023, 1490: 46438, 1491: 40344, 1492: 58567, 1493: 49591, 1494: 59537, 1495: 49150, 1496: 37819, 1497: 35590, 1498: 17944, 1499: 65175, 1500: 10931, 1501: 21334, 1502: 60978, 1503: 34696, 1504: 25023, 1505: 67837, 1506: 61547, 1507: 25528, 1508: 40333, 1509: 26923, 1510: 28669, 1511: 27239, 1512: 64433, 1513: 35782, 1514: 44099, 1515: 49377, 1516: 22815, 1517: 46184, 1518: 10425, 1519: 66118, 1520: 26025, 1521: 62343, 1522: 39571, 1523: 46712, 1524: 26067, 1525: 23668, 1526: 58692, 1527: 13264, 1528: 26831, 1529: 28714, 1530: 47343, 1531: 33602, 1532: 30180, 1533: 31122, 1534: 60918, 1535: 20824, 1536: 30597, 1537: 28444, 1538: 2135, 1539: 59026, 1540: 64820, 1541: 9032, 1542: 67244, 1543: 69497, 1544: 14806, 1545: 25123, 1546: 61529, 1547: 34568, 1548: 29069, 1549: 29075, 1550: 57496, 1551: 22062, 1552: 24472, 1553: 48615, 1554: 43043, 1555: 56893, 1556: 9754, 1557: 58619, 1558: 59055, 1559: 47716, 1560: 60927, 1561: 55622, 1562: 8282, 1563: 20529, 1564: 17101, 1565: 37726, 1566: 13251, 1567: 26422, 1568: 46784, 1569: 33960, 1570: 63470, 1571: 37155, 1572: 23002, 1573: 59802, 1574: 25837, 1575: 16657, 1576: 38648, 1577: 62753, 1578: 51976, 1579: 61400, 1580: 16823, 1581: 789, 1582: 3214, 1583: 2701, 1584: 2165, 1585: 4454, 1586: 8122, 1587: 3614, 1588: 2186, 1589: 3902, 1590: 2642, 1591: 2385, 1592: 6695, 1593: 1110, 1594: 6803, 1595: 3124, 1596: 5751, 1597: 13894, 1598: 4838, 1599: 2532, 1600: 5655, 1601: 2485, 1602: 2244, 1603: 5145, 1604: 6038, 1605: 5069, 1606: 4893, 1607: 5388, 1608: 2935, 1609: 754, 1610: 2454, 1611: 1596, 1612: 19890, 1613: 2004, 1614: 5212, 1615: 19736, 1616: 162, 1617: 1314, 1618: 6340, 1619: 6107, 1620: 5119, 1621: 5454, 1622: 4759, 1623: 7403, 1624: 1540, 1625: 5241, 1626: 2869, 1627: 6769, 1628: 3464, 1629: 6474, 1630: 2813, 1631: 7734, 1632: 4043, 1633: 6984, 1634: 6925, 1635: 1951, 1636: 6929, 1637: 2519, 1638: 5189, 1639: 5826, 1640: 11132, 1641: 5668, 1642: 1779, 1643: 7569, 1644: 7781, 1645: 4906, 1646: 8099, 1647: 8148, 1648: 1637, 1649: 7982, 1650: 2621, 1651: 10945, 1652: 15807, 1653: 11402, 1654: 672, 1655: 1514, 1656: 4916, 1657: 5394, 1658: 1669, 1659: 7169, 1660: 4620, 1661: 17792, 1662: 11410, 1663: 24422, 1664: 23512, 1665: 4732, 1666: 4774, 1667: 5836, 1668: 10564, 1669: 5672, 1670: 28937, 1671: 7915, 1672: 4952, 1673: 3362, 1674: 14697, 1675: 12580, 1676: 7632, 1677: 5681, 1678: 2462, 1679: 9510, 1680: 24197, 1681: 7502, 1682: 11540, 1683: 8155, 1684: 51562, 1685: 31809, 1686: 7369, 1687: 28892, 1688: 6067, 1689: 10646, 1690: 13343, 1691: 6700, 1692: 10645, 1693: 29013, 1694: 7453, 1695: 58483, 1696: 8029, 1697: 28392, 1698: 20964, 1699: 5073, 1700: 19964, 1701: 2249, 1702: 896, 1703: 5413, 1704: 34796, 1705: 7384, 1706: 20455, 1707: 4779, 1708: 10246, 1709: 4193, 1710: 10725, 1711: 3863, 1712: 25812, 1713: 7716, 1714: 7280, 1715: 4377, 1716: 29676, 1717: 24849, 1718: 28953, 1719: 8071, 1720: 8472, 1721: 11921, 1722: 9512, 1723: 7791, 1724: 5711, 1725: 54819, 1726: 11817, 1727: 60365}\n"
          ]
        }
      ],
      "source": [
        "# Mengubah user_id menjadi list\n",
        "user_id = fix_anime['user_id'].unique().tolist()\n",
        "print('list user_id: ', user_id)\n",
        " \n",
        "# Encoding user_id\n",
        "user_to_user_encoded = {x: i for i, x in enumerate(user_id)}\n",
        "print('encoded user_id : ', user_to_user_encoded)\n",
        " \n",
        "# Encoding angka ke ke user_id\n",
        "user_encoded_to_user = {i: x for i, x in enumerate(user_id)}\n",
        "\n",
        "print('encoded angka ke user_id: ', user_encoded_to_user)"
      ]
    },
    {
      "cell_type": "code",
      "execution_count": null,
      "metadata": {
        "colab": {
          "base_uri": "https://localhost:8080/"
        },
        "id": "NnPqEg-o-Y9i",
        "outputId": "5d0c7430-ce8a-48c5-b8e4-deee954b63c0"
      },
      "outputs": [
        {
          "name": "stdout",
          "output_type": "stream",
          "text": [
            "encoded angka ke anime_id:  {0: 32281, 1: 5114, 2: 28977, 3: 9253, 4: 9969, 5: 32935, 6: 11061, 7: 820, 8: 15335, 9: 15417, 10: 4181, 11: 28851, 12: 918, 13: 2904, 14: 28891, 15: 199, 16: 23273, 17: 24701, 18: 12355, 19: 1575, 20: 263, 21: 44, 22: 1, 23: 30276, 24: 164, 25: 7311, 26: 17074, 27: 21939, 28: 457, 29: 2001, 30: 245, 31: 5258, 32: 28957, 33: 11665, 34: 431, 35: 11741, 36: 31757, 37: 19, 38: 12365, 39: 1535, 40: 32366, 41: 30654, 42: 20583, 43: 19647, 44: 4282, 45: 10379, 46: 22135, 47: 21329, 48: 31043, 49: 7785, 50: 3297, 51: 30709, 52: 6114, 53: 31240, 54: 4565, 55: 5300, 56: 9989, 57: 24415, 58: 11577, 59: 10408, 60: 28171, 61: 21899, 62: 26055, 63: 7472, 64: 777, 65: 22535, 66: 28735, 67: 12431, 68: 28805, 69: 578, 70: 16894, 71: 5028, 72: 801, 73: 5205, 74: 17389, 75: 170, 76: 10162, 77: 18617, 78: 32182, 79: 877, 80: 2251, 81: 24687, 82: 16498, 83: 10030, 84: 5941, 85: 30346, 86: 3784, 87: 13125, 88: 12029, 89: 14397, 90: 10087, 91: 14719, 92: 9756, 93: 10165, 94: 13601, 95: 22789, 96: 30230, 97: 18115, 98: 11981, 99: 11917, 100: 205, 101: 32282, 102: 6594, 103: 11979, 104: 7655, 105: 2246, 106: 25835, 107: 2921, 108: 136, 109: 30503, 110: 12531, 111: 523, 112: 467, 113: 572, 114: 19815, 115: 2559, 116: 392, 117: 486, 118: 11771, 119: 1698, 120: 5341, 121: 25781, 122: 10863, 123: 28701, 124: 5420, 125: 9260, 126: 32, 127: 4224, 128: 2236, 129: 2685, 130: 31181, 131: 45, 132: 2418, 133: 1365, 134: 22297, 135: 627, 136: 23755, 137: 4081, 138: 4155, 139: 1889, 140: 137, 141: 139, 142: 23317, 143: 558, 144: 5040, 145: 57, 146: 33, 147: 5, 148: 1842, 149: 6336, 150: 20651, 151: 1210, 152: 338, 153: 13759, 154: 6547, 155: 5081, 156: 264, 157: 12859, 158: 853, 159: 5460, 160: 6746, 161: 5690, 162: 329, 163: 34240, 164: 513, 165: 6945, 166: 1142, 167: 6811, 168: 16664, 169: 1604, 170: 22145, 171: 2966, 172: 31964, 173: 19363, 174: 18195, 175: 9890, 176: 9130, 177: 9863, 178: 7674, 179: 11843, 180: 16782, 181: 28675, 182: 3226, 183: 21557, 184: 31715, 185: 43, 186: 9617, 187: 31051, 188: 10153, 189: 1033, 190: 32188, 191: 3091, 192: 12115, 193: 28223, 194: 121, 195: 3002, 196: 138, 197: 6675, 198: 10800, 199: 32005, 200: 813, 201: 27821, 202: 28725, 203: 585, 204: 16067, 205: 30, 206: 31490, 207: 759, 208: 6, 209: 6864, 210: 9735, 211: 11977, 212: 11123, 213: 23847, 214: 33161, 215: 962, 216: 1519, 217: 2167, 218: 16706, 219: 5681, 220: 3901, 221: 6467, 222: 10271, 223: 22507, 224: 3701, 225: 19123, 226: 372, 227: 265, 228: 25681, 229: 4722, 230: 24277, 231: 239, 232: 512, 233: 4477, 234: 15323, 235: 31174, 236: 23327, 237: 5365, 238: 3702, 239: 3167, 240: 7465, 241: 7054, 242: 1257, 243: 23283, 244: 2025, 245: 1364, 246: 18689, 247: 22043, 248: 20899, 249: 1453, 250: 23623, 251: 1559, 252: 1382, 253: 23289, 254: 18, 255: 4814, 256: 16662, 257: 12031, 258: 8129, 259: 14513, 260: 2581, 261: 30015, 262: 6171, 263: 1827, 264: 25013, 265: 1367, 266: 27833, 267: 26213, 268: 1974, 269: 8425, 270: 12069, 271: 185, 272: 18679, 273: 2034, 274: 437, 275: 721, 276: 12477, 277: 4938, 278: 2402, 279: 6702, 280: 1566, 281: 31741, 282: 440, 283: 4107, 284: 1506, 285: 2759, 286: 72, 287: 3016, 288: 3783, 289: 3927, 290: 11597, 291: 28025, 292: 24833, 293: 29893, 294: 27663, 295: 1482, 296: 3371, 297: 25313, 298: 1430, 299: 7720, 300: 1914, 301: 20371, 302: 15039, 303: 2164, 304: 237, 305: 2449, 306: 10643, 307: 17739, 308: 135, 309: 6045, 310: 16001, 311: 6211, 312: 232, 313: 4789, 314: 16918, 315: 16, 316: 1486, 317: 24997, 318: 8063, 319: 25879, 320: 889, 321: 21419, 322: 2952, 323: 934, 324: 12189, 325: 731, 326: 1530, 327: 9656, 328: 20507, 329: 31149, 330: 4918, 331: 14075, 332: 4772, 333: 781, 334: 1363, 335: 223, 336: 2004, 337: 25649, 338: 153, 339: 5029, 340: 302, 341: 8740, 342: 5682, 343: 21647, 344: 16049, 345: 1065, 346: 18179, 347: 47, 348: 4901, 349: 23199, 350: 32122, 351: 30415, 352: 851, 353: 10049, 354: 1943, 355: 4053, 356: 846, 357: 9926, 358: 31173, 359: 4059, 360: 589, 361: 15059, 362: 7791, 363: 17265, 364: 20815, 365: 535, 366: 2563, 367: 9963, 368: 32551, 369: 2951, 370: 2762, 371: 14713, 372: 14807, 373: 81, 374: 9204, 375: 31098, 376: 1023, 377: 24921, 378: 1471, 379: 27831, 380: 2924, 381: 4672, 382: 2448, 383: 3907, 384: 186, 385: 10080, 386: 30885, 387: 21469, 388: 9941, 389: 14813, 390: 6421, 391: 21855, 392: 11739, 393: 2159, 394: 28297, 395: 29831, 396: 2154, 397: 6505, 398: 861, 399: 1689, 400: 34103, 401: 3665, 402: 9996, 403: 7711, 404: 77, 405: 401, 406: 32093, 407: 12113, 408: 7338, 409: 3014, 410: 645, 411: 11135, 412: 5781, 413: 13767, 414: 5678, 415: 6774, 416: 1089, 417: 25161, 418: 995, 419: 2752, 420: 15, 421: 122, 422: 29095, 423: 1594, 424: 3092, 425: 10721, 426: 16395, 427: 3588, 428: 4106, 429: 387, 430: 16916, 431: 1088, 432: 10620, 433: 2143, 434: 6582, 435: 2158, 436: 22319, 437: 11113, 438: 6586, 439: 66, 440: 8142, 441: 6438, 442: 33032, 443: 227, 444: 73, 445: 4898, 446: 19111, 447: 7222, 448: 22097, 449: 15689, 450: 957, 451: 24, 452: 849, 453: 2623, 454: 268, 455: 29093, 456: 427, 457: 4280, 458: 18429, 459: 17549, 460: 26123, 461: 28, 462: 9513, 463: 14353, 464: 8408, 465: 13331, 466: 4985, 467: 29803, 468: 22, 469: 2618, 470: 793, 471: 30279, 472: 28755, 473: 10029, 474: 2035, 475: 790, 476: 9289, 477: 15809, 478: 27989, 479: 5630, 480: 2829, 481: 30831, 482: 416, 483: 85, 484: 30240, 485: 1254, 486: 2605, 487: 4163, 488: 3228, 489: 1485, 490: 6351, 491: 13119, 492: 3782, 493: 3572, 494: 8310, 495: 114, 496: 11813, 497: 658, 498: 10012, 499: 32370, 500: 22961, 501: 22777, 502: 29787, 503: 7062, 504: 11887, 505: 9088, 506: 12815, 507: 12017, 508: 6377, 509: 1470, 510: 780, 511: 27633, 512: 2321, 513: 17273, 514: 429, 515: 18661, 516: 14349, 517: 1729, 518: 31973, 519: 17949, 520: 996, 521: 9465, 522: 14175, 523: 11239, 524: 967, 525: 1695, 526: 339, 527: 7724, 528: 2753, 529: 8516, 530: 779, 531: 1366, 532: 19319, 533: 15195, 534: 187, 535: 30311, 536: 597, 537: 400, 538: 18245, 539: 10521, 540: 28907, 541: 31637, 542: 1571, 543: 267, 544: 253, 545: 22673, 546: 4080, 547: 27947, 548: 12917, 549: 3750, 550: 569, 551: 6007, 552: 1253, 553: 15771, 554: 397, 555: 949, 556: 11001, 557: 17909, 558: 21185, 559: 9724, 560: 6768, 561: 4872, 562: 12413, 563: 2076, 564: 31251, 565: 5485, 566: 5005, 567: 890, 568: 269, 569: 14741, 570: 1472, 571: 33028, 572: 7304, 573: 8609, 574: 6033, 575: 8479, 576: 254, 577: 8525, 578: 19703, 579: 25517, 580: 31764, 581: 27775, 582: 21339, 583: 2104, 584: 24893, 585: 2150, 586: 12445, 587: 543, 588: 23225, 589: 9252, 590: 12893, 591: 1505, 592: 4447, 593: 317, 594: 22265, 595: 13117, 596: 9563, 597: 16904, 598: 97, 599: 20517, 600: 2273, 601: 20159, 602: 12403, 603: 7044, 604: 32998, 605: 30123, 606: 2890, 607: 468, 608: 29755, 609: 25303, 610: 24471, 611: 516, 612: 1425, 613: 5310, 614: 93, 615: 8038, 616: 322, 617: 6154, 618: 7588, 619: 10083, 620: 1172, 621: 31711, 622: 2265, 623: 23249, 624: 202, 625: 9919, 626: 1818, 627: 34036, 628: 10090, 629: 17895, 630: 1824, 631: 4192, 632: 10357, 633: 30745, 634: 19489, 635: 4472, 636: 19613, 637: 5530, 638: 6591, 639: 10218, 640: 388, 641: 28999, 642: 1473, 643: 1379, 644: 23293, 645: 1910, 646: 33221, 647: 18897, 648: 31592, 649: 31380, 650: 28677, 651: 7193, 652: 1961, 653: 21405, 654: 6024, 655: 2761, 656: 1491, 657: 106, 658: 5835, 659: 3604, 660: 11237, 661: 2828, 662: 4087, 663: 28881, 664: 21473, 665: 582, 666: 8311, 667: 21995, 668: 532, 669: 552, 670: 13629, 671: 7645, 672: 249, 673: 4886, 674: 451, 675: 9734, 676: 433, 677: 6115, 678: 80, 679: 1092, 680: 20767, 681: 10119, 682: 1921, 683: 1562, 684: 11111, 685: 32863, 686: 11737, 687: 28249, 688: 13535, 689: 1520, 690: 28121, 691: 30191, 692: 10497, 693: 6862, 694: 251, 695: 18153, 696: 875, 697: 795, 698: 18397, 699: 29830, 700: 16870, 701: 479, 702: 15197, 703: 32189, 704: 31859, 705: 15451, 706: 33446, 707: 570, 708: 5680, 709: 2175, 710: 1887, 711: 90, 712: 91, 713: 2594, 714: 210, 715: 1007, 716: 19775, 717: 534, 718: 9790, 719: 2582, 720: 407, 721: 6213, 722: 1000, 723: 1375, 724: 8514, 725: 951, 726: 12117, 727: 2508, 728: 19115, 729: 6904, 730: 22125, 731: 4454, 732: 32547, 733: 15959, 734: 16239, 735: 31772, 736: 396, 737: 8407, 738: 20057, 739: 9074, 740: 7305, 741: 226, 742: 644, 743: 2405, 744: 15117, 745: 10460, 746: 6050, 747: 444, 748: 82, 749: 15315, 750: 30347, 751: 31704, 752: 1699, 753: 517, 754: 29829, 755: 30868, 756: 22199, 757: 14941, 758: 978, 759: 2994, 760: 14735, 761: 10350, 762: 20431, 763: 15487, 764: 1462, 765: 13667, 766: 28927, 767: 398, 768: 20847, 769: 2451, 770: 8937, 771: 12883, 772: 30413, 773: 30902, 774: 6347, 775: 3841, 776: 8086, 777: 9982, 778: 1888, 779: 33082, 780: 1096, 781: 14407, 782: 1719, 783: 290, 784: 154, 785: 11757, 786: 5074, 787: 31733, 788: 1690, 789: 4177, 790: 10092, 791: 9785, 792: 985, 793: 18055, 794: 6984, 795: 27991, 796: 21659, 797: 3545, 798: 474, 799: 1211, 800: 9510, 801: 5751, 802: 3515, 803: 13663, 804: 13851, 805: 6956, 806: 9441, 807: 233, 808: 2397, 809: 345, 810: 71, 811: 10793, 812: 9760, 813: 160, 814: 3713, 815: 2593, 816: 2454, 817: 32380, 818: 13203, 819: 2963, 820: 87, 821: 20, 822: 31953, 823: 28069, 824: 1002, 825: 9471, 826: 150, 827: 60, 828: 19671, 829: 120, 830: 74, 831: 30364, 832: 8426, 833: 33209, 834: 2547, 835: 22101, 836: 182, 837: 21867, 838: 28979, 839: 16011, 840: 22819, 841: 9062, 842: 477, 843: 6772, 844: 2450, 845: 5177, 846: 2229, 847: 6927, 848: 4811, 849: 13403, 850: 228, 851: 30952, 852: 24135, 853: 8795, 854: 12021, 855: 17249, 856: 1011, 857: 18119, 858: 2787, 859: 6046, 860: 9000, 861: 10717, 862: 31580, 863: 31483, 864: 531, 865: 4596, 866: 1015, 867: 4725, 868: 6637, 869: 255, 870: 10790, 871: 23385, 872: 1418, 873: 14511, 874: 10389, 875: 7592, 876: 31289, 877: 32729, 878: 2112, 879: 208, 880: 30296, 881: 1008, 882: 65, 883: 2499, 884: 3470, 885: 540, 886: 26, 887: 1293, 888: 856, 889: 9201, 890: 2214, 891: 32108, 892: 123, 893: 488, 894: 3603, 895: 32268, 896: 7270, 897: 1376, 898: 464, 899: 9745, 900: 21843, 901: 539, 902: 14227, 903: 11319, 904: 24151, 905: 997, 906: 24913, 907: 31478, 908: 28479, 909: 2471, 910: 240, 911: 1301, 912: 18619, 913: 9065, 914: 5060, 915: 3731, 916: 1412, 917: 20785, 918: 2985, 919: 1483, 920: 10161, 921: 462, 922: 5507, 923: 6444, 924: 10715, 925: 95, 926: 8247, 927: 20031, 928: 7471, 929: 986, 930: 28669, 931: 2026, 932: 450, 933: 32491, 934: 6624, 935: 3466, 936: 15439, 937: 19669, 938: 25015, 939: 331, 940: 33338, 941: 23777, 942: 10278, 943: 2557, 944: 1830, 945: 24405, 946: 4416, 947: 740, 948: 2213, 949: 371, 950: 7303, 951: 430, 952: 1813, 953: 16528, 954: 9288, 955: 6372, 956: 17, 957: 3931, 958: 24439, 959: 23441, 960: 1915, 961: 323, 962: 2313, 963: 584, 964: 24543, 965: 6634, 966: 355, 967: 30549, 968: 1279, 969: 10033, 970: 11531, 971: 25341, 972: 10534, 973: 132, 974: 14467, 975: 8532, 976: 1606, 977: 9136, 978: 2227, 979: 7627, 980: 32485, 981: 6773, 982: 1650, 983: 2558, 984: 1840, 985: 33513, 986: 2724, 987: 905, 988: 32915, 989: 1395, 990: 10471, 991: 5231, 992: 5204, 993: 12487, 994: 324, 995: 709, 996: 21755, 997: 32668, 998: 1034, 999: 23701, 1000: 10716, 1001: 1924, 1002: 33350, 1003: 3090, 1004: 7647, 1005: 530, 1006: 3785, 1007: 7902, 1008: 1281, 1009: 24765, 1010: 129, 1011: 7661, 1012: 31997, 1013: 24703, 1014: 10999, 1015: 6116, 1016: 16762, 1017: 18849, 1018: 10500, 1019: 14123, 1020: 10573, 1021: 8675, 1022: 1557, 1023: 14289, 1024: 11743, 1025: 30458, 1026: 29854, 1027: 11433, 1028: 31821, 1029: 14967, 1030: 12049, 1031: 6152, 1032: 1393, 1033: 19191, 1034: 11617, 1035: 10935, 1036: 914, 1037: 24781, 1038: 21327, 1039: 10568, 1040: 1087, 1041: 33605, 1042: 15051, 1043: 11933, 1044: 23301, 1045: 5493, 1046: 23775, 1047: 9751, 1048: 969, 1049: 32681, 1050: 2202, 1051: 7762, 1052: 10495, 1053: 880, 1054: 15061, 1055: 857, 1056: 110, 1057: 23251, 1058: 587, 1059: 12725, 1060: 11013, 1061: 452, 1062: 1579, 1063: 32869, 1064: 6793, 1065: 6172, 1066: 21105, 1067: 194, 1068: 3001, 1069: 8190, 1070: 23277, 1071: 2498, 1072: 25729, 1073: 4654, 1074: 18139, 1075: 16005, 1076: 22147, 1077: 1946, 1078: 67, 1079: 32365, 1080: 14345, 1081: 11359, 1082: 428, 1083: 4188, 1084: 340, 1085: 10588, 1086: 5958, 1087: 14669, 1088: 1478, 1089: 8331, 1090: 455, 1091: 18507, 1092: 27411, 1093: 17729, 1094: 26023, 1095: 21075, 1096: 8217, 1097: 617, 1098: 31798, 1099: 8841, 1100: 9396, 1101: 11371, 1102: 32542, 1103: 5306, 1104: 2268, 1105: 177, 1106: 22729, 1107: 4835, 1108: 8888, 1109: 5348, 1110: 9786, 1111: 25687, 1112: 31552, 1113: 14131, 1114: 2002, 1115: 145, 1116: 5290, 1117: 250, 1118: 23321, 1119: 2743, 1120: 3626, 1121: 10020, 1122: 1873, 1123: 528, 1124: 2562, 1125: 1861, 1126: 8995, 1127: 17437, 1128: 1985, 1129: 304, 1130: 12291, 1131: 1488, 1132: 4182, 1133: 9839, 1134: 874, 1135: 2673, 1136: 31376, 1137: 1251, 1138: 32215, 1139: 2012, 1140: 2848, 1141: 15813, 1142: 5162, 1143: 13245, 1144: 3673, 1145: 21667, 1146: 3848, 1147: 26243, 1148: 5419, 1149: 46, 1150: 16241, 1151: 2198, 1152: 1239, 1153: 2768, 1154: 2514, 1155: 1394, 1156: 17187, 1157: 11663, 1158: 270, 1159: 1356, 1160: 6553, 1161: 1567, 1162: 15437, 1163: 13655, 1164: 334, 1165: 7651, 1166: 1029, 1167: 209, 1168: 15775, 1169: 10469, 1170: 16524, 1171: 10714, 1172: 10216, 1173: 6408, 1174: 32828, 1175: 10067, 1176: 13115, 1177: 2174, 1178: 821, 1179: 5494, 1180: 6604, 1181: 32526, 1182: 8100, 1183: 14527, 1184: 2835, 1185: 2549, 1186: 814, 1187: 28497, 1188: 15989, 1189: 2098, 1190: 7858, 1191: 5118, 1192: 1651, 1193: 691, 1194: 11759, 1195: 16273, 1196: 1240, 1197: 2424, 1198: 6573, 1199: 21743, 1200: 901, 1201: 14837, 1202: 31706, 1203: 364, 1204: 4060, 1205: 23269, 1206: 3165, 1207: 449, 1208: 32870, 1209: 522, 1210: 96, 1211: 10589, 1212: 3420, 1213: 10378, 1214: 3369, 1215: 8197, 1216: 1072, 1217: 18499, 1218: 5075, 1219: 1195, 1220: 1003, 1221: 11235, 1222: 586, 1223: 4981, 1224: 2961, 1225: 1747, 1226: 2409, 1227: 4039, 1228: 2458, 1229: 22693, 1230: 1563, 1231: 1289, 1232: 9181, 1233: 33091, 1234: 9979, 1235: 1608, 1236: 5277, 1237: 18523, 1238: 7041, 1239: 2923, 1240: 9930, 1241: 31297, 1242: 1919, 1243: 18753, 1244: 18497, 1245: 283, 1246: 2889, 1247: 18671, 1248: 16934, 1249: 1479, 1250: 2171, 1251: 3213, 1252: 19195, 1253: 21273, 1254: 5998, 1255: 2330, 1256: 3449, 1257: 218, 1258: 1047, 1259: 22539, 1260: 16287, 1261: 8476, 1262: 13587, 1263: 10257, 1264: 10731, 1265: 23281, 1266: 166, 1267: 8317, 1268: 8557, 1269: 1913, 1270: 25801, 1271: 6802, 1272: 30911, 1273: 200, 1274: 3613, 1275: 3712, 1276: 22419, 1277: 13709, 1278: 1474, 1279: 15199, 1280: 10765, 1281: 9023, 1282: 1454, 1283: 3392, 1284: 2971, 1285: 98, 1286: 20541, 1287: 1095, 1288: 593, 1289: 32566, 1290: 2680, 1291: 32026, 1292: 708, 1293: 10445, 1294: 13391, 1295: 2596, 1296: 441, 1297: 5262, 1298: 1372, 1299: 2337, 1300: 24627, 1301: 102, 1302: 24919, 1303: 1686, 1304: 1681, 1305: 2800, 1306: 27601, 1307: 22839, 1308: 356, 1309: 6922, 1310: 4061, 1311: 28607, 1312: 9834, 1313: 10075, 1314: 5854, 1315: 2257, 1316: 11889, 1317: 1459, 1318: 8676, 1319: 10719, 1320: 59, 1321: 4186, 1322: 17121, 1323: 6231, 1324: 7045, 1325: 15613, 1326: 6895, 1327: 379, 1328: 10209, 1329: 12053, 1330: 5713, 1331: 24227, 1332: 6187, 1333: 490, 1334: 64, 1335: 5671, 1336: 5355, 1337: 20671, 1338: 1728, 1339: 567, 1340: 1911, 1341: 481, 1342: 5244, 1343: 12187, 1344: 31553, 1345: 1477, 1346: 24655, 1347: 1368, 1348: 2392, 1349: 18465, 1350: 852, 1351: 9865, 1352: 6399, 1353: 3652, 1354: 22763, 1355: 5710, 1356: 1091, 1357: 7877, 1358: 28149, 1359: 34136, 1360: 131, 1361: 879, 1362: 1642, 1363: 5712, 1364: 14189, 1365: 885, 1366: 3974, 1367: 9047, 1368: 2203, 1369: 156, 1370: 29, 1371: 12149, 1372: 18893, 1373: 11633, 1374: 17269, 1375: 1476, 1376: 15201, 1377: 26349, 1378: 17641, 1379: 25389, 1380: 6783, 1381: 6291, 1382: 27631, 1383: 134, 1384: 5929, 1385: 28825, 1386: 5291, 1387: 12679, 1388: 9366, 1389: 1021, 1390: 6707, 1391: 207, 1392: 1424, 1393: 3468, 1394: 2518, 1395: 1241, 1396: 32792, 1397: 5252, 1398: 19221, 1399: 165, 1400: 13267, 1401: 25, 1402: 5538, 1403: 24365, 1404: 2129, 1405: 8481, 1406: 1050, 1407: 1222, 1408: 1069, 1409: 13349, 1410: 23359, 1411: 15583, 1412: 5096, 1413: 906, 1414: 18393, 1415: 1391, 1416: 2037, 1417: 1773, 1418: 5228, 1419: 389, 1420: 3199, 1421: 9124, 1422: 327, 1423: 130, 1424: 2216, 1425: 31680, 1426: 15731, 1427: 696, 1428: 12015, 1429: 11553, 1430: 181, 1431: 2608, 1432: 1327, 1433: 2922, 1434: 4037, 1435: 24625, 1436: 8768, 1437: 256, 1438: 16009, 1439: 435, 1440: 10110, 1441: 8246, 1442: 1203, 1443: 770, 1444: 11499, 1445: 29786, 1446: 959, 1447: 10294, 1448: 10713, 1449: 28285, 1450: 10798, 1451: 12711, 1452: 4752, 1453: 183, 1454: 798, 1455: 28771, 1456: 5251, 1457: 68, 1458: 2553, 1459: 13335, 1460: 1392, 1461: 19193, 1462: 506, 1463: 20903, 1464: 142, 1465: 1004, 1466: 10918, 1467: 3358, 1468: 76, 1469: 31722, 1470: 31414, 1471: 353, 1472: 1060, 1473: 10178, 1474: 19369, 1475: 14267, 1476: 19291, 1477: 792, 1478: 3674, 1479: 167, 1480: 5909, 1481: 24037, 1482: 5233, 1483: 2014, 1484: 24459, 1485: 1006, 1486: 27899, 1487: 3972, 1488: 25519, 1489: 30869, 1490: 1536, 1491: 1475, 1492: 13837, 1493: 10703, 1494: 2672, 1495: 23311, 1496: 1852, 1497: 2228, 1498: 15591, 1499: 1808, 1500: 489, 1501: 2286, 1502: 2954, 1503: 3469, 1504: 8460, 1505: 2929, 1506: 31, 1507: 1212, 1508: 11179, 1509: 9959, 1510: 12067, 1511: 2903, 1512: 2254, 1513: 960, 1514: 1577, 1515: 5667, 1516: 4189, 1517: 21435, 1518: 11701, 1519: 1589, 1520: 9340, 1521: 7972, 1522: 2817, 1523: 19163, 1524: 1684, 1525: 9135, 1526: 25183, 1527: 23703, 1528: 10870, 1529: 1825, 1530: 31158, 1531: 31665, 1532: 2204, 1533: 1691, 1534: 31227, 1535: 31952, 1536: 1426, 1537: 10624, 1538: 520, 1539: 3342, 1540: 6325, 1541: 27787, 1542: 3965, 1543: 32051, 1544: 1010, 1545: 13429, 1546: 399, 1547: 5947, 1548: 8115, 1549: 2126, 1550: 7870, 1551: 10396, 1552: 16592, 1553: 29067, 1554: 501, 1555: 17535, 1556: 9032, 1557: 1878, 1558: 9213, 1559: 16353, 1560: 30829, 1561: 3268, 1562: 2460, 1563: 2253, 1564: 1238, 1565: 8769, 1566: 6896, 1567: 11835, 1568: 16123, 1569: 30187, 1570: 15751, 1571: 6572, 1572: 2585, 1573: 560, 1574: 23725, 1575: 21737, 1576: 1146, 1577: 10629, 1578: 2820, 1579: 113, 1580: 970, 1581: 18177, 1582: 2548, 1583: 101, 1584: 103, 1585: 15927, 1586: 3744, 1587: 6880, 1588: 484, 1589: 476, 1590: 14811, 1591: 242, 1592: 9931, 1593: 33241, 1594: 31499, 1595: 9938, 1596: 822, 1597: 2408, 1598: 2927, 1599: 17643, 1600: 1419, 1601: 158, 1602: 1190, 1603: 23421, 1604: 5984, 1605: 10464, 1606: 10483, 1607: 4715, 1608: 2978, 1609: 8726, 1610: 3125, 1611: 30641, 1612: 24591, 1613: 25755, 1614: 30790, 1615: 2125, 1616: 763, 1617: 656, 1618: 2969, 1619: 6676, 1620: 25731, 1621: 23383, 1622: 10531, 1623: 2656, 1624: 15925, 1625: 20509, 1626: 344, 1627: 18229, 1628: 21039, 1629: 31324, 1630: 4551, 1631: 27969, 1632: 7337, 1633: 12729, 1634: 20853, 1635: 666, 1636: 29583, 1637: 633, 1638: 1590, 1639: 1439, 1640: 10050, 1641: 1064, 1642: 2488, 1643: 14575, 1644: 84, 1645: 17505, 1646: 1655, 1647: 23673, 1648: 21031, 1649: 815, 1650: 17137, 1651: 7662, 1652: 2942, 1653: 1764, 1654: 1170, 1655: 1081, 1656: 4884, 1657: 3352, 1658: 20977, 1659: 5332, 1660: 1744, 1661: 8457, 1662: 878, 1663: 4038, 1664: 31245, 1665: 4970, 1666: 1078, 1667: 4138, 1668: 5593, 1669: 2665, 1670: 2676, 1671: 408, 1672: 32696, 1673: 551, 1674: 32648, 1675: 15225, 1676: 8074, 1677: 6064, 1678: 483, 1679: 10628, 1680: 1972, 1681: 5273, 1682: 1288, 1683: 2269, 1684: 601, 1685: 465, 1686: 1117, 1687: 10862, 1688: 710, 1689: 10334, 1690: 20709, 1691: 15793, 1692: 21573, 1693: 1815, 1694: 15307, 1695: 8098, 1696: 198, 1697: 23319, 1698: 19251, 1699: 2009, 1700: 9611, 1701: 50, 1702: 31771, 1703: 2986, 1704: 3076, 1705: 1373, 1706: 1614, 1707: 15109, 1708: 5684, 1709: 908, 1710: 505, 1711: 15863, 1712: 246, 1713: 18835, 1714: 6574, 1715: 5150, 1716: 30300, 1717: 714, 1718: 2336, 1719: 4312, 1720: 13261, 1721: 2407, 1722: 519, 1723: 330, 1724: 6712, 1725: 28299, 1726: 17875, 1727: 3292, 1728: 168, 1729: 573, 1730: 6153, 1731: 1302, 1732: 5034, 1733: 1548, 1734: 2555, 1735: 565, 1736: 27957, 1737: 855, 1738: 5832, 1739: 4703, 1740: 33302, 1741: 15911, 1742: 764, 1743: 10479, 1744: 8756, 1745: 20787, 1746: 1450, 1747: 10163, 1748: 2649, 1749: 117, 1750: 1250, 1751: 31389, 1752: 653, 1753: 5521, 1754: 191, 1755: 14833, 1756: 20221, 1757: 3655, 1758: 6030, 1759: 463, 1760: 2107, 1761: 1094, 1762: 238, 1763: 18041, 1764: 3256, 1765: 17080, 1766: 18277, 1767: 30321, 1768: 33558, 1769: 13333, 1770: 8022, 1771: 27, 1772: 3791, 1773: 11266, 1774: 22433, 1775: 485, 1776: 2512, 1777: 2658, 1778: 6930, 1779: 6401, 1780: 3568, 1781: 1441, 1782: 15699, 1783: 30991, 1784: 14753, 1785: 13469, 1786: 18295, 1787: 3958, 1788: 32574, 1789: 845, 1790: 32953, 1791: 1090, 1792: 1722, 1793: 2472, 1794: 4437, 1795: 1237, 1796: 13659, 1797: 2141, 1798: 108, 1799: 161, 1800: 527, 1801: 2182, 1802: 13599, 1803: 4664, 1804: 32175, 1805: 1171, 1806: 6381, 1807: 11793, 1808: 4663, 1809: 2113, 1810: 3036, 1811: 25157, 1812: 2427, 1813: 7058, 1814: 28405, 1815: 9544, 1816: 1983, 1817: 2756, 1818: 5065, 1819: 10444, 1820: 332, 1821: 2677, 1822: 2661, 1823: 19645, 1824: 21681, 1825: 1030, 1826: 31989, 1827: 3859, 1828: 10804, 1829: 10805, 1830: 10536, 1831: 22817, 1832: 17259, 1833: 335, 1834: 738, 1835: 2294, 1836: 443, 1837: 20939, 1838: 12753, 1839: 15651, 1840: 1255, 1841: 1259, 1842: 1381, 1843: 867, 1844: 869, 1845: 2013, 1846: 5141, 1847: 2683, 1848: 3051, 1849: 5764, 1850: 5525, 1851: 49, 1852: 1292, 1853: 3549, 1854: 5578, 1855: 3203, 1856: 10638, 1857: 2654, 1858: 2393, 1859: 12875, 1860: 287, 1861: 20689, 1862: 27829, 1863: 1410, 1864: 953, 1865: 10298, 1866: 147, 1867: 16732, 1868: 844, 1869: 6299, 1870: 7761, 1871: 3225, 1872: 6288, 1873: 2926, 1874: 272, 1875: 28683, 1876: 326, 1877: 10711, 1878: 2744, 1879: 5753, 1880: 1329, 1881: 2193, 1882: 22273, 1883: 868, 1884: 5226, 1885: 15077, 1886: 541, 1887: 32174, 1888: 10834, 1889: 5356, 1890: 15611, 1891: 20479, 1892: 21395, 1893: 2398, 1894: 3727, 1895: 12231, 1896: 1906, 1897: 1206, 1898: 940, 1899: 2808, 1900: 4483, 1901: 99, 1902: 1196, 1903: 16444, 1904: 4062, 1905: 5597, 1906: 12467, 1907: 10928, 1908: 4114, 1909: 1526, 1910: 4921, 1911: 2111, 1912: 15963, 1913: 4063, 1914: 9355, 1915: 9793, 1916: 6380, 1917: 3089, 1918: 944, 1919: 3457, 1920: 935, 1921: 14951, 1922: 92, 1923: 713, 1924: 3006, 1925: 13931, 1926: 2675, 1927: 2648, 1928: 2634, 1929: 4726, 1930: 27525, 1931: 664, 1932: 3508, 1933: 6795, 1934: 4639, 1935: 386, 1936: 1663, 1937: 3335, 1938: 13271, 1939: 6980, 1940: 28623, 1941: 8068, 1942: 17247, 1943: 30307, 1944: 6512, 1945: 8423, 1946: 418, 1947: 6713, 1948: 2486, 1949: 1231, 1950: 16694, 1951: 3861, 1952: 536, 1953: 1147, 1954: 7861, 1955: 807, 1956: 306, 1957: 282, 1958: 11697, 1959: 104, 1960: 24727, 1961: 6948, 1962: 5675, 1963: 1521, 1964: 8369, 1965: 2597, 1966: 2660, 1967: 1858, 1968: 411, 1969: 14645, 1970: 9013, 1971: 1374, 1972: 1432, 1973: 3345, 1974: 2152, 1975: 7769, 1976: 33190, 1977: 10448, 1978: 10825, 1979: 4618, 1980: 10884, 1981: 4015, 1982: 4581, 1983: 152, 1984: 75, 1985: 341, 1986: 30344, 1987: 3009, 1988: 3088, 1989: 712, 1990: 9117, 1991: 1278, 1992: 1674, 1993: 2813, 1994: 3627, 1995: 1369, 1996: 2515, 1997: 1313, 1998: 2670, 1999: 381, 2000: 654, 2001: 655, 2002: 22013, 2003: 3485, 2004: 32740, 2005: 11077, 2006: 31326, 2007: 13357, 2008: 10189, 2009: 19619, 2010: 15735, 2011: 8134, 2012: 21863, 2013: 24475, 2014: 2734, 2015: 1969, 2016: 8857, 2017: 2020, 2018: 9888, 2019: 4028, 2020: 1965, 2021: 8934, 2022: 19021, 2023: 10321, 2024: 20359, 2025: 975, 2026: 9332, 2027: 1347, 2028: 12293, 2029: 3087, 2030: 2383, 2031: 1678, 2032: 17917, 2033: 902, 2034: 16700, 2035: 14765, 2036: 16035, 2037: 31780, 2038: 15379, 2039: 32871, 2040: 3577, 2041: 1013, 2042: 190, 2043: 963, 2044: 1609, 2045: 4056, 2046: 8424, 2047: 94, 2048: 13585, 2049: 16143, 2050: 31918, 2051: 9893, 2052: 16868, 2053: 6758, 2054: 415, 2055: 7, 2056: 976, 2057: 7745, 2058: 30870, 2059: 17901, 2060: 9925, 2061: 30206, 2062: 2116, 2063: 1723, 2064: 61, 2065: 31163, 2066: 3230, 2067: 2484, 2068: 19951, 2069: 3418, 2070: 2544, 2071: 3229, 2072: 3245, 2073: 3272, 2074: 1516, 2075: 32245, 2076: 11777, 2077: 1967, 2078: 3467, 2079: 16468, 2080: 2385, 2081: 195, 2082: 3887, 2083: 30714, 2084: 13073, 2085: 21073, 2086: 25647, 2087: 13055, 2088: 24029, 2089: 28621, 2090: 9241, 2091: 390, 2092: 21881, 2093: 16417, 2094: 2500, 2095: 30901, 2096: 13677, 2097: 9120, 2098: 8915, 2099: 2803, 2100: 6988, 2101: 11053, 2102: 376, 2103: 1126, 2104: 1524, 2105: 21635, 2106: 5658, 2107: 27945, 2108: 958, 2109: 4550, 2110: 25159, 2111: 3223, 2112: 634, 2113: 33074, 2114: 1437, 2115: 28013, 2116: 18391, 2117: 2736, 2118: 11033, 2119: 19653, 2120: 9999, 2121: 8171, 2122: 2386, 2123: 107, 2124: 2847, 2125: 2361, 2126: 28495, 2127: 173, 2128: 1303, 2129: 3455, 2130: 4896, 2131: 883, 2132: 1901, 2133: 32323, 2134: 12669, 2135: 31754, 2136: 1205, 2137: 10681, 2138: 24469, 2139: 24429, 2140: 9379, 2141: 2667, 2142: 2666, 2143: 2655, 2144: 893, 2145: 1299, 2146: 29325, 2147: 24231, 2148: 15785, 2149: 469, 2150: 3222, 2151: 11313, 2152: 5042, 2153: 837, 2154: 1422, 2155: 5084, 2156: 7261, 2157: 5351, 2158: 2948, 2159: 4879, 2160: 1168, 2161: 20877, 2162: 460, 2163: 11019, 2164: 1846, 2165: 22865, 2166: 21561, 2167: 5014, 2168: 3067, 2169: 3956, 2170: 100, 2171: 5504, 2172: 12191, 2173: 1652, 2174: 180, 2175: 3269, 2176: 11375, 2177: 13939, 2178: 10447, 2179: 2920, 2180: 15711, 2181: 15687, 2182: 1683, 2183: 11783, 2184: 2671, 2185: 2030, 2186: 2624, 2187: 1886, 2188: 31737, 2189: 32071, 2190: 3734, 2191: 2899, 2192: 10507, 2193: 16774, 2194: 28387, 2195: 21563, 2196: 52, 2197: 4195, 2198: 6163, 2199: 6016, 2200: 3247, 2201: 1416, 2202: 12637, 2203: 13093, 2204: 351, 2205: 12001, 2206: 14749, 2207: 9981, 2208: 1120, 2209: 1191, 2210: 1124, 2211: 6581, 2212: 866, 2213: 2583, 2214: 32034, 2215: 10232, 2216: 14835, 2217: 30740, 2218: 18441, 2219: 2513, 2220: 27825, 2221: 3218, 2222: 1335, 2223: 915, 2224: 2987, 2225: 15617, 2226: 3010, 2227: 16668, 2228: 274, 2229: 192, 2230: 32543, 2231: 1429, 2232: 2818, 2233: 333, 2234: 6262, 2235: 3437, 2236: 6999, 2237: 1835, 2238: 529, 2239: 3186, 2240: 79, 2241: 3594, 2242: 1860, 2243: 201, 2244: 3322, 2245: 3043, 2246: 2333, 2247: 6901, 2248: 12651, 2249: 2748, 2250: 6198, 2251: 12623, 2252: 3231, 2253: 3298, 2254: 1774, 2255: 31500, 2256: 1358, 2257: 2745, 2258: 20505, 2259: 12175, 2260: 4903, 2261: 277, 2262: 1017, 2263: 10397, 2264: 16442, 2265: 1847, 2266: 16051, 2267: 34085, 2268: 31280, 2269: 3000, 2270: 11341, 2271: 6169, 2272: 178, 2273: 1920, 2274: 1932, 2275: 23447, 2276: 30205, 2277: 6164, 2278: 1736, 2279: 2589, 2280: 4071, 2281: 12079, 2282: 526, 2283: 21437, 2284: 6460, 2285: 5216, 2286: 7081, 2287: 2123, 2288: 2668, 2289: 1931, 2290: 652, 2291: 395, 2292: 1490, 2293: 8120, 2294: 5041, 2295: 1371, 2296: 1116, 2297: 26441, 2298: 6954, 2299: 1556, 2300: 2901, 2301: 5079, 2302: 10456, 2303: 1413, 2304: 276, 2305: 352, 2306: 6023, 2307: 2947, 2308: 2108, 2309: 1362, 2310: 1731, 2311: 3593, 2312: 16742, 2313: 3692, 2314: 550, 2315: 8894, 2316: 19759, 2317: 1498, 2318: 30711, 2319: 974, 2320: 24031, 2321: 2222, 2322: 14829, 2323: 19159, 2324: 1140, 2325: 6463, 2326: 20457, 2327: 2542, 2328: 189, 2329: 1414, 2330: 24455, 2331: 2834, 2332: 4134, 2333: 3111, 2334: 14293, 2335: 613, 2336: 12673, 2337: 8133, 2338: 28215, 2339: 23987, 2340: 1108, 2341: 1080, 2342: 1531, 2343: 4382, 2344: 2747, 2345: 12695, 2346: 5397, 2347: 6951, 2348: 5196, 2349: 369, 2350: 2036, 2351: 1352, 2352: 34349, 2353: 2657, 2354: 31201, 2355: 10842, 2356: 1845, 2357: 384, 2358: 2400, 2359: 2416, 2360: 650, 2361: 18713, 2362: 990, 2363: 144, 2364: 1145, 2365: 1086, 2366: 3670, 2367: 10152, 2368: 4198, 2369: 17819, 2370: 279, 2371: 5019, 2372: 1968, 2373: 1941, 2374: 10686, 2375: 31645, 2376: 27539, 2377: 2283, 2378: 1236, 2379: 5702, 2380: 4162, 2381: 1144, 2382: 4705, 2383: 22689, 2384: 16866, 2385: 17699, 2386: 6567, 2387: 3738, 2388: 30845, 2389: 2225, 2390: 10647, 2391: 2825, 2392: 31298, 2393: 9645, 2394: 31417, 2395: 8359, 2396: 4586, 2397: 2659, 2398: 4798, 2399: 6361, 2400: 13183, 2401: 380, 2402: 27567, 2403: 243, 2404: 1016, 2405: 3299, 2406: 9958, 2407: 23153, 2408: 3946, 2409: 2602, 2410: 5717, 2411: 31610, 2412: 631, 2413: 629, 2414: 14817, 2415: 12979, 2416: 19511, 2417: 4191, 2418: 15649, 2419: 2110, 2420: 3624, 2421: 22859, 2422: 33004, 2423: 3044, 2424: 2816, 2425: 732, 2426: 394, 2427: 14027, 2428: 9539, 2429: 5163, 2430: 1132, 2431: 2662, 2432: 2664, 2433: 5760, 2434: 4246, 2435: 1534, 2436: 12419, 2437: 13161, 2438: 11785, 2439: 2264, 2440: 28869, 2441: 16033, 2442: 2048, 2443: 15359, 2444: 206, 2445: 1417, 2446: 30014, 2447: 13409, 2448: 3305, 2449: 1732, 2450: 459, 2451: 5440, 2452: 1493, 2453: 1538, 2454: 23043, 2455: 2543, 2456: 2109, 2457: 3868, 2458: 22359, 2459: 12823, 2460: 3221, 2461: 1823, 2462: 19211, 2463: 8909, 2464: 1133, 2465: 6548, 2466: 53, 2467: 7059, 2468: 3460, 2469: 31145, 2470: 1778, 2471: 12879, 2472: 898, 2473: 6151, 2474: 1179, 2475: 3219, 2476: 6610, 2477: 3270, 2478: 3421, 2479: 911, 2480: 25143, 2481: 690, 2482: 1164, 2483: 872, 2484: 17717, 2485: 5343, 2486: 8917, 2487: 30771, 2488: 11841, 2489: 3363, 2490: 4214, 2491: 678, 2492: 19117, 2493: 2429, 2494: 2716, 2495: 13171, 2496: 1891, 2497: 1246, 2498: 8475, 2499: 24973, 2500: 32313, 2501: 8363, 2502: 4690, 2503: 2962, 2504: 4200, 2505: 2674, 2506: 5670, 2507: 18411, 2508: 3760, 2509: 13561, 2510: 3121, 2511: 1397, 2512: 2459, 2513: 1215, 2514: 15719, 2515: 1565, 2516: 31564, 2517: 9055, 2518: 22583, 2519: 842, 2520: 21189, 2521: 553, 2522: 482, 2523: 11339, 2524: 16201, 2525: 3079, 2526: 22677, 2527: 23361, 2528: 1576, 2529: 2937, 2530: 4286, 2531: 6280, 2532: 2199, 2533: 21797, 2534: 8364, 2535: 424, 2536: 10948, 2537: 5983, 2538: 665, 2539: 29927, 2540: 4375, 2541: 1738, 2542: 5200, 2543: 785, 2544: 10822, 2545: 1601, 2546: 5691, 2547: 5199, 2548: 1066, 2549: 566, 2550: 21085, 2551: 1543, 2552: 29513, 2553: 54, 2554: 762, 2555: 2043, 2556: 1312, 2557: 8362, 2558: 10155, 2559: 2517, 2560: 28211, 2561: 7088, 2562: 4156, 2563: 432, 2564: 31405, 2565: 9159, 2566: 2176, 2567: 20649, 2568: 21853, 2569: 1588, 2570: 4926, 2571: 11761, 2572: 21603, 2573: 1135, 2574: 2200, 2575: 11021, 2576: 1546, 2577: 1619, 2578: 1944, 2579: 12221, 2580: 609, 2581: 6203, 2582: 2117, 2583: 1101, 2584: 9733, 2585: 1539, 2586: 19383, 2587: 1264, 2588: 5458, 2589: 3505, 2590: 367, 2591: 1079, 2592: 19877, 2593: 9907, 2594: 6747, 2595: 2669, 2596: 2678, 2597: 15159, 2598: 9367, 2599: 10115, 2600: 30290, 2601: 15811, 2602: 729, 2603: 4549, 2604: 1336, 2605: 4851, 2606: 16890, 2607: 23227, 2608: 24171, 2609: 3752, 2610: 4662, 2611: 2490, 2612: 1564, 2613: 592, 2614: 31919, 2615: 32094, 2616: 20047, 2617: 478, 2618: 2452, 2619: 8986, 2620: 23587, 2621: 20035, 2622: 1555, 2623: 2331, 2624: 3446, 2625: 568, 2626: 831, 2627: 2354, 2628: 1796, 2629: 393, 2630: 6959, 2631: 28539, 2632: 3447, 2633: 23619, 2634: 2998, 2635: 6909, 2636: 1864, 2637: 1261, 2638: 149, 2639: 2931, 2640: 350, 2641: 6324, 2642: 5279, 2643: 12709, 2644: 7144, 2645: 3614, 2646: 754, 2647: 26165, 2648: 3354, 2649: 493, 2650: 7817, 2651: 33080, 2652: 5032, 2653: 2907, 2654: 2651, 2655: 5197, 2656: 32801, 2657: 26057, 2658: 1829, 2659: 6867, 2660: 23083, 2661: 247, 2662: 8206, 2663: 3027, 2664: 606, 2665: 2077, 2666: 2797, 2667: 6379, 2668: 7066, 2669: 604, 2670: 2044, 2671: 5030, 2672: 1110, 2673: 2279, 2674: 3059, 2675: 461, 2676: 1569, 2677: 11009, 2678: 2369, 2679: 20973, 2680: 938, 2681: 3138, 2682: 6098, 2683: 10351, 2684: 448, 2685: 7654, 2686: 2470, 2687: 21439, 2688: 3486, 2689: 31080, 2690: 284, 2691: 286, 2692: 23237, 2693: 6217, 2694: 992, 2695: 19067, 2696: 2815, 2697: 2132, 2698: 5978, 2699: 3110, 2700: 17741, 2701: 1436, 2702: 252, 2703: 10690, 2704: 4997, 2705: 442, 2706: 31404, 2707: 10302, 2708: 11569, 2709: 33713, 2710: 17391, 2711: 27441, 2712: 2586, 2713: 1602, 2714: 2011, 2715: 6312, 2716: 3137, 2717: 1922, 2718: 30419, 2719: 548, 2720: 7152, 2721: 1051, 2722: 1554, 2723: 751, 2724: 3432, 2725: 30383, 2726: 2913, 2727: 3033, 2728: 1803, 2729: 16385, 2730: 1045, 2731: 5267, 2732: 4476, 2733: 3327, 2734: 9723, 2735: 1592, 2736: 7728, 2737: 20673, 2738: 1025, 2739: 2130, 2740: 33511, 2741: 1434, 2742: 8097, 2743: 8666, 2744: 620, 2745: 7308, 2746: 2298, 2747: 1688, 2748: 1209, 2749: 2489, 2750: 10108, 2751: 24211, 2752: 325, 2753: 1118, 2754: 23285, 2755: 907, 2756: 28617, 2757: 758, 2758: 151, 2759: 917, 2760: 22663, 2761: 6974, 2762: 4021, 2763: 5220, 2764: 29027, 2765: 10775, 2766: 2170, 2767: 876, 2768: 760, 2769: 31370, 2770: 343, 2771: 2300, 2772: 20449, 2773: 27655, 2774: 9346, 2775: 17677, 2776: 16157, 2777: 3745, 2778: 291, 2779: 29437, 2780: 1726, 2781: 2652, 2782: 2950, 2783: 2819, 2784: 1046, 2785: 16982, 2786: 2799, 2787: 1020, 2788: 2891, 2789: 29785, 2790: 11299, 2791: 3483, 2792: 32030, 2793: 912, 2794: 32013, 2795: 31378, 2796: 1492, 2797: 2000, 2798: 11441, 2799: 22877, 2800: 8057, 2801: 2758, 2802: 29163, 2803: 8250, 2804: 3667, 2805: 2577, 2806: 3737, 2807: 28841, 2808: 1207, 2809: 48, 2810: 7113, 2811: 230, 2812: 929, 2813: 32802, 2814: 23991, 2815: 8394, 2816: 13839, 2817: 2355, 2818: 900, 2819: 5152, 2820: 30544, 2821: 383, 2822: 4983, 2823: 475, 2824: 21653, 2825: 3638, 2826: 3616, 2827: 10372, 2828: 7904, 2829: 10336, 2830: 1659, 2831: 1696, 2832: 2151, 2833: 5520, 2834: 2805, 2835: 524, 2836: 4742, 2837: 6178, 2838: 1709, 2839: 2993, 2840: 3493, 2841: 4650, 2842: 22687, 2843: 19697, 2844: 10249, 2845: 1225, 2846: 58, 2847: 998, 2848: 2561, 2849: 6202, 2850: 2206, 2851: 16726, 2852: 1022, 2853: 4765, 2854: 2997, 2855: 8630, 2856: 23425, 2857: 2335, 2858: 2403, 2859: 8876, 2860: 31815, 2861: 1384, 2862: 1138, 2863: 22071, 2864: 3656, 2865: 3136, 2866: 9798, 2867: 7695, 2868: 10276, 2869: 10819, 2870: 12137, 2871: 1258, 2872: 30649, 2873: 30363, 2874: 2604, 2875: 12321, 2876: 6941, 2877: 961, 2878: 4773, 2879: 4094, 2880: 7366, 2881: 2124, 2882: 15037, 2883: 5071, 2884: 10418, 2885: 3561, 2886: 30988, 2887: 507, 2888: 24457, 2889: 18097, 2890: 358, 2891: 9041, 2892: 10794, 2893: 4082, 2894: 968, 2895: 20039, 2896: 5834, 2897: 30896, 2898: 6182, 2899: 1916, 2900: 1137, 2901: 2084, 2902: 6219, 2903: 32553, 2904: 2570, 2905: 15807, 2906: 9716, 2907: 10592, 2908: 31229, 2909: 6344, 2910: 3332, 2911: 3574, 2912: 9673, 2913: 5298, 2914: 4651, 2915: 2810, 2916: 659, 2917: 27727, 2918: 9348, 2919: 18745, 2920: 9200, 2921: 1826, 2922: 3312, 2923: 903, 2924: 30925, 2925: 10947, 2926: 10504, 2927: 14653, 2928: 6554, 2929: 2157, 2930: 31233, 2931: 1421, 2932: 20141, 2933: 157, 2934: 796, 2935: 3837, 2936: 521, 2937: 6946, 2938: 10659, 2939: 3424, 2940: 941, 2941: 2713, 2942: 11487, 2943: 23233, 2944: 1857, 2945: 7014, 2946: 20969, 2947: 27509, 2948: 5955, 2949: 3754, 2950: 3072, 2951: 1514, 2952: 15933, 2953: 5342, 2954: 596, 2955: 1953, 2956: 930, 2957: 859, 2958: 3032, 2959: 2630, 2960: 116, 2961: 18001, 2962: 13411, 2963: 2389, 2964: 33740, 2965: 11355, 2966: 1184, 2967: 3484, 2968: 3313, 2969: 8234, 2970: 1869, 2971: 525, 2972: 1122, 2973: 4026, 2974: 6749, 2975: 10824, 2976: 169, 2977: 342, 2978: 174, 2979: 5895, 2980: 1128, 2981: 4415, 2982: 1028, 2983: 33254, 2984: 3620, 2985: 1014, 2986: 1311, 2987: 4646, 2988: 5031, 2989: 933, 2990: 892, 2991: 899, 2992: 5072, 2993: 12225, 2994: 2717, 2995: 21431, 2996: 31368, 2997: 32700, 2998: 24261, 2999: 3807, 3000: 3811, 3001: 10934, 3002: 598, 3003: 31670, 3004: 1457, 3005: 1573, 3006: 7593, 3007: 4786, 3008: 17635, 3009: 10720, 3010: 3653, 3011: 1435, 3012: 3654, 3013: 4202, 3014: 4051, 3015: 621, 3016: 6884, 3017: 607, 3018: 3847, 3019: 1104, 3020: 5307, 3021: 10821, 3022: 8348, 3023: 21781, 3024: 689, 3025: 28257, 3026: 311, 3027: 3829, 3028: 14913, 3029: 4535, 3030: 21729, 3031: 1049, 3032: 32240, 3033: 3116, 3034: 984, 3035: 1631, 3036: 31056, 3037: 30825, 3038: 5534, 3039: 4876, 3040: 20045, 3041: 5039, 3042: 1438, 3043: 2017, 3044: 20871, 3045: 162, 3046: 21027, 3047: 3751, 3048: 8767, 3049: 30375, 3050: 33033, 3051: 1584, 3052: 1568, 3053: 3419, 3054: 2491, 3055: 1925, 3056: 1843, 3057: 9331, 3058: 2706, 3059: 579, 3060: 11285, 3061: 3407, 3062: 31105, 3063: 31196, 3064: 12255, 3065: 8358, 3066: 8360, 3067: 10017, 3068: 127, 3069: 2165, 3070: 3579, 3071: 10950, 3072: 5217, 3073: 30533, 3074: 25087, 3075: 4205, 3076: 6293, 3077: 4078, 3078: 1399, 3079: 632, 3080: 2751, 3081: 31138, 3082: 6902, 3083: 1260, 3084: 5203, 3085: 4810, 3086: 2415, 3087: 1208, 3088: 2097, 3089: 9874, 3090: 1892, 3091: 15489, 3092: 18677, 3093: 7669, 3094: 873, 3095: 9776, 3096: 8, 3097: 13145, 3098: 30903, 3099: 16512, 3100: 1151, 3101: 9314, 3102: 11809, 3103: 5688, 3104: 2916, 3105: 456, 3106: 1180, 3107: 10191, 3108: 1637, 3109: 3281, 3110: 3019, 3111: 673, 3112: 9712, 3113: 32534, 3114: 16910, 3115: 12119, 3116: 1152, 3117: 32468, 3118: 25099, 3119: 12281, 3120: 1710, 3121: 12223, 3122: 31374, 3123: 32409, 3124: 10014, 3125: 3174, 3126: 21409, 3127: 1897, 3128: 308, 3129: 2404, 3130: 10737, 3131: 8285, 3132: 1798, 3133: 834, 3134: 2692, 3135: 1844, 3136: 8728, 3137: 2172, 3138: 2595, 3139: 502, 3140: 22695, 3141: 870, 3142: 1465, 3143: 2749, 3144: 811, 3145: 4935, 3146: 6566, 3147: 143, 3148: 3318, 3149: 5235, 3150: 1400, 3151: 4807, 3152: 2573, 3153: 196, 3154: 19845, 3155: 31231, 3156: 34325, 3157: 1119, 3158: 1553, 3159: 1489, 3160: 10572, 3161: 1256, 3162: 789, 3163: 14617, 3164: 24133, 3165: 10923, 3166: 15673, 3167: 1720, 3168: 30547, 3169: 26453, 3170: 5992, 3171: 2006, 3172: 303, 3173: 3266, 3174: 3359, 3175: 280, 3176: 1797, 3177: 5116, 3178: 27653, 3179: 17827, 3180: 8624, 3181: 28221, 3182: 5155, 3183: 19261, 3184: 18343, 3185: 2280, 3186: 2999, 3187: 10079, 3188: 21511, 3189: 32376, 3190: 15819, 3191: 580, 3192: 10122, 3193: 1431, 3194: 1504, 3195: 1951, 3196: 4232, 3197: 30514, 3198: 12591, 3199: 32634, 3200: 33606, 3201: 17115, 3202: 1525, 3203: 16678, 3204: 32160, 3205: 31559, 3206: 5996, 3207: 1357, 3208: 28625, 3209: 7768, 3210: 4208, 3211: 2625, 3212: 4166, 3213: 687, 3214: 711, 3215: 8422, 3216: 2746, 3217: 19023, 3218: 6165, 3219: 6489, 3220: 1249, 3221: 31763, 3222: 1762, 3223: 10431, 3224: 11703, 3225: 891, 3226: 12035, 3227: 9347, 3228: 1929, 3229: 981, 3230: 20945, 3231: 11281, 3232: 5968, 3233: 18045, 3234: 1578, 3235: 1032, 3236: 1415, 3237: 9630, 3238: 2613, 3239: 2235, 3240: 1174, 3241: 31442, 3242: 229, 3243: 28431, 3244: 6201, 3245: 1954, 3246: 1942, 3247: 28105, 3248: 33491, 3249: 508, 3250: 1549, 3251: 2832, 3252: 971, 3253: 4999, 3254: 23369, 3255: 1668, 3256: 1186, 3257: 8440, 3258: 3456, 3259: 2118, 3260: 1890, 3261: 10116, 3262: 956, 3263: 24169, 3264: 3031, 3265: 993, 3266: 7559, 3267: 126, 3268: 3519, 3269: 4240, 3270: 12481, 3271: 2230, 3272: 11161, 3273: 642, 3274: 1192, 3275: 2487, 3276: 10213, 3277: 2501, 3278: 2201, 3279: 212, 3280: 11227, 3281: 29317, 3282: 419, 3283: 8677, 3284: 11751, 3285: 7375, 3286: 2578, 3287: 1587, 3288: 2715, 3289: 1540, 3290: 1111, 3291: 31909, 3292: 1024, 3293: 1248, 3294: 29223, 3295: 5755, 3296: 492, 3297: 405, 3298: 2122, 3299: 3690, 3300: 2055, 3301: 2722, 3302: 12565, 3303: 5136, 3304: 6734, 3305: 3854, 3306: 7109, 3307: 3710, 3308: 3227, 3309: 4190, 3310: 31234, 3311: 5043, 3312: 8277, 3313: 641, 3314: 20423, 3315: 5914, 3316: 15783, 3317: 193, 3318: 2016, 3319: 1040, 3320: 9693, 3321: 3615, 3322: 5023, 3323: 561, 3324: 1166, 3325: 4332, 3326: 2029, 3327: 20021, 3328: 12727, 3329: 2493, 3330: 1129, 3331: 1481, 3332: 30355, 3333: 11837, 3334: 9547, 3335: 3631, 3336: 750, 3337: 6246, 3338: 25437, 3339: 2684, 3340: 2121, 3341: 32483, 3342: 514, 3343: 22699, 3344: 124, 3345: 9154, 3346: 2215, 3347: 5091, 3348: 3462, 3349: 1917, 3350: 33546, 3351: 1792, 3352: 13377, 3353: 19365, 3354: 30806, 3355: 884, 3356: 19841, 3357: 3248, 3358: 21851, 3359: 5830, 3360: 3501, 3361: 6479, 3362: 2274, 3363: 1841, 3364: 292, 3365: 896, 3366: 118, 3367: 2973, 3368: 603, 3369: 12163, 3370: 2569, 3371: 636, 3372: 2772, 3373: 1768, 3374: 5967, 3375: 3547, 3376: 5891, 3377: 20889, 3378: 6794, 3379: 13247, 3380: 32153, 3381: 2707, 3382: 1509, 3383: 1935, 3384: 936, 3385: 800, 3386: 4054, 3387: 9884, 3388: 31756, 3389: 2363, 3390: 6973, 3391: 8800, 3392: 1703, 3393: 2492, 3394: 3317, 3395: 1648, 3396: 1923, 3397: 2087, 3398: 3196, 3399: 2554, 3400: 28391, 3401: 812, 3402: 2090, 3403: 10259, 3404: 1837, 3405: 2646, 3406: 1930, 3407: 22189, 3408: 30039, 3409: 10604, 3410: 31068, 3411: 3349, 3412: 28423, 3413: 10893, 3414: 6209, 3415: 89, 3416: 5395, 3417: 18095, 3418: 10549, 3419: 12863, 3420: 9127, 3421: 300, 3422: 15411, 3423: 8092, 3424: 25045, 3425: 11241, 3426: 1817, 3427: 25907, 3428: 261, 3429: 24347, 3430: 2757, 3431: 1501, 3432: 9675, 3433: 2243, 3434: 1804, 3435: 1423, 3436: 1398, 3437: 2223, 3438: 4086, 3439: 6890, 3440: 6031, 3441: 23849, 3442: 6112, 3443: 1727, 3444: 8017, 3445: 21195, 3446: 3071, 3447: 21065, 3448: 882, 3449: 9875, 3450: 2682, 3451: 14751, 3452: 8361, 3453: 12549, 3454: 1795, 3455: 2520, 3456: 266, 3457: 262, 3458: 1956, 3459: 4196, 3460: 17497, 3461: 5045, 3462: 20745, 3463: 2248, 3464: 9988, 3465: 10346, 3466: 7845, 3467: 19285, 3468: 1603, 3469: 391, 3470: 20473, 3471: 2725, 3472: 8023, 3473: 2728, 3474: 743, 3475: 595, 3476: 4548, 3477: 313, 3478: 244, 3479: 1214, 3480: 2259, 3481: 32741, 3482: 1859, 3483: 29101, 3484: 7580, 3485: 22057, 3486: 1230, 3487: 21671, 3488: 11079, 3489: 1707, 3490: 670, 3491: 630, 3492: 83, 3493: 2144, 3494: 7367, 3495: 9568, 3496: 33569, 3497: 5940, 3498: 23201, 3499: 538, 3500: 1517, 3501: 3086, 3502: 423, 3503: 1532, 3504: 4532, 3505: 10622, 3506: 9005, 3507: 285, 3508: 5311, 3509: 109, 3510: 29589, 3511: 115, 3512: 25011, 3513: 10348, 3514: 13281, 3515: 3367, 3516: 25719, 3517: 4353, 3518: 2793, 3519: 1448, 3520: 1654, 3521: 7333, 3522: 3991, 3523: 23945, 3524: 1018, 3525: 7857, 3526: 5249, 3527: 9917, 3528: 25805, 3529: 9806, 3530: 14627, 3531: 2965, 3532: 544, 3533: 2316, 3534: 2289, 3535: 6032, 3536: 13029, 3537: 9618, 3538: 4151, 3539: 1068, 3540: 8368, 3541: 62, 3542: 17357, 3543: 2645, 3544: 894, 3545: 9330, 3546: 6055, 3547: 4124, 3548: 4856, 3549: 1760, 3550: 6726, 3551: 4334, 3552: 509, 3553: 5296, 3554: 3129, 3555: 4485, 3556: 1420, 3557: 1502, 3558: 6199, 3559: 4406, 3560: 10370, 3561: 2614, 3562: 2231, 3563: 7474, 3564: 14685, 3565: 9883, 3566: 1121, 3567: 3765, 3568: 2510, 3569: 3098, 3570: 2420, 3571: 8908, 3572: 5734, 3573: 9063, 3574: 4066, 3575: 10513, 3576: 6709, 3577: 5104, 3578: 2212, 3579: 404, 3580: 27737, 3581: 2131, 3582: 1629, 3583: 4854, 3584: 3646, 3585: 24909, 3586: 21333, 3587: 146, 3588: 554, 3589: 4074, 3590: 3425, 3591: 2933, 3592: 1290, 3593: 4936, 3594: 10740, 3595: 1882, 3596: 6056, 3597: 30464, 3598: 4075, 3599: 3159, 3600: 33037, 3601: 278, 3602: 4083, 3603: 20545, 3604: 2928, 3605: 13053, 3606: 26449, 3607: 3193, 3608: 2205, 3609: 694, 3610: 1219, 3611: 15633, 3612: 17113, 3613: 14893, 3614: 25383, 3615: 8536, 3616: 4855, 3617: 13287, 3618: 2494, 3619: 649, 3620: 21407, 3621: 1645, 3622: 1721, 3623: 15377, 3624: 8228, 3625: 727, 3626: 15609, 3627: 8078, 3628: 3948, 3629: 6741, 3630: 10945, 3631: 1469, 3632: 942, 3633: 29129, 3634: 2611, 3635: 1638, 3636: 33420, 3637: 7245, 3638: 623, 3639: 10297, 3640: 10502, 3641: 18121, 3642: 605, 3643: 5037, 3644: 31430, 3645: 4804, 3646: 23405, 3647: 5763, 3648: 1112, 3649: 2884, 3650: 2688, 3651: 27815, 3652: 12505, 3653: 111, 3654: 2632, 3655: 2166, 3656: 3053, 3657: 128, 3658: 6735, 3659: 487, 3660: 3146, 3661: 1169, 3662: 6069, 3663: 2178, 3664: 2938, 3665: 704, 3666: 5859, 3667: 219, 3668: 4073, 3669: 7135, 3670: 8062, 3671: 860, 3672: 3162, 3673: 8410, 3674: 88, 3675: 13201, 3676: 21325, 3677: 30365, 3678: 7396, 3679: 2584, 3680: 1377, 3681: 1127, 3682: 965, 3683: 886, 3684: 2120, 3685: 16419, 3686: 895, 3687: 1599, 3688: 6418, 3689: 1800, 3690: 2784, 3691: 29868, 3692: 3288, 3693: 1902, 3694: 3689, 3695: 1898, 3696: 30376, 3697: 17725, 3698: 1805, 3699: 7590, 3700: 25375, 3701: 33372, 3702: 1597, 3703: 20743, 3704: 7793, 3705: 2263, 3706: 12783, 3707: 1541, 3708: 14629, 3709: 8754, 3710: 3672, 3711: 22117, 3712: 27887, 3713: 4943, 3714: 14117, 3715: 2964, 3716: 2119, 3717: 10578, 3718: 8366, 3719: 1755, 3720: 17419, 3721: 296, 3722: 7435, 3723: 12471, 3724: 377, 3725: 19109, 3726: 7254, 3727: 12461, 3728: 8465, 3729: 3326, 3730: 12963, 3731: 6297, 3732: 10098, 3733: 4262, 3734: 2695, 3735: 1243, 3736: 28819, 3737: 31980, 3738: 9922, 3739: 1035, 3740: 6275, 3741: 10933, 3742: 13727, 3743: 32151, 3744: 21879, 3745: 26395, 3746: 28835, 3747: 688, 3748: 6166, 3749: 8648, 3750: 31147, 3751: 16355, 3752: 5802, 3753: 22513, 3754: 32415, 3755: 4486, 3756: 3602, 3757: 646, 3758: 1082, 3759: 9957, 3760: 2598, 3761: 7148, 3762: 21235, 3763: 25897, 3764: 273, 3765: 24371, 3766: 3618, 3767: 1074, 3768: 466, 3769: 19099, 3770: 6560, 3771: 30749, 3772: 7016, 3773: 30412, 3774: 30381, 3775: 3954, 3776: 30567, 3777: 2633, 3778: 5143, 3779: 1218, 3780: 5505, 3781: 2128, 3782: 1487, 3783: 33419, 3784: 2579, 3785: 12027, 3786: 4657, 3787: 495, 3788: 2705, 3789: 11457, 3790: 3028, 3791: 12499, 3792: 2814, 3793: 2629, 3794: 4362, 3795: 3012, 3796: 19889, 3797: 15895, 3798: 10359, 3799: 757, 3800: 865, 3801: 31930, 3802: 4411, 3803: 7322, 3804: 12659, 3805: 25259, 3806: 1748, 3807: 5526, 3808: 11911, 3809: 23871, 3810: 19825, 3811: 20843, 3812: 30919, 3813: 7536, 3814: 6245, 3815: 422, 3816: 6162, 3817: 22759, 3818: 1265, 3819: 28723, 3820: 13047, 3821: 1550, 3822: 10036, 3823: 10897, 3824: 357, 3825: 2255, 3826: 2703, 3827: 8365, 3828: 15547, 3829: 293, 3830: 12343, 3831: 563, 3832: 378, 3833: 23115, 3834: 318, 3835: 2217, 3836: 30651, 3837: 18053, 3838: 13367, 3839: 6229, 3840: 557, 3841: 3659, 3842: 3182, 3843: 17585, 3844: 10114, 3845: 22661, 3846: 2783, 3847: 4136, 3848: 1771, 3849: 11635, 3850: 27709, 3851: 4031, 3852: 6330, 3853: 2934, 3854: 2811, 3855: 2620, 3856: 11787, 3857: 924, 3858: 3964, 3859: 6964, 3860: 9624, 3861: 17082, 3862: 4339, 3863: 10582, 3864: 2786, 3865: 5082, 3866: 723, 3867: 8956, 3868: 897, 3869: 13755, 3870: 6971, 3871: 771, 3872: 4211, 3873: 5036, 3874: 248, 3875: 5129, 3876: 24629, 3877: 15005, 3878: 21415, 3879: 21835, 3880: 8599, 3881: 4306, 3882: 4468, 3883: 1247, 3884: 30292, 3885: 4723, 3886: 7774, 3887: 2180, 3888: 7329, 3889: 14853, 3890: 447, 3891: 10532, 3892: 2334, 3893: 1893, 3894: 32664, 3895: 8123, 3896: 9353, 3897: 24823, 3898: 1756, 3899: 10260, 3900: 6527, 3901: 33658, 3902: 5250, 3903: 297, 3904: 9095, 3905: 11255, 3906: 12585, 3907: 9750, 3908: 3720, 3909: 9773, 3910: 2457, 3911: 30379, 3912: 17855, 3913: 594, 3914: 19855, 3915: 616, 3916: 10197, 3917: 1300, 3918: 2826, 3919: 8705, 3920: 4069, 3921: 10823, 3922: 25859, 3923: 33142, 3924: 2511, 3925: 1103, 3926: 2612, 3927: 1001, 3928: 10074, 3929: 926, 3930: 21845, 3931: 1952, 3932: 23487, 3933: 14355, 3934: 2387, 3935: 19429, 3936: 2576, 3937: 9858, 3938: 1123, 3939: 7229, 3940: 3853, 3941: 6855, 3942: 234, 3943: 1802, 3944: 2635, 3945: 5973, 3946: 271, 3947: 32946, 3948: 797, 3949: 6882, 3950: 16928, 3951: 6958, 3952: 18247, 3953: 8208, 3954: 26063, 3955: 2704, 3956: 3935, 3957: 14059, 3958: 20909, 3959: 1433, 3960: 28817, 3961: 33741, 3962: 921, 3963: 13173, 3964: 1881, 3965: 13619, 3966: 6500, 3967: 27419, 3968: 32228, 3969: 23067, 3970: 1043, 3971: 179, 3972: 3069, 3973: 3021, 3974: 314, 3975: 1749, 3976: 1497, 3977: 9736, 3978: 1593, 3979: 288, 3980: 32379, 3981: 22745, 3982: 2802, 3983: 4201, 3984: 11177, 3985: 31050, 3986: 1757, 3987: 2795, 3988: 9837, 3989: 8187, 3990: 6733, 3991: 260, 3992: 21541, 3993: 17919, 3994: 4808, 3995: 26183, 3996: 16964, 3997: 24821, 3998: 667, 3999: 30915, 4000: 18495, 4001: 25939, 4002: 20999, 4003: 86, 4004: 9040, 4005: 1109, 4006: 8235, 4007: 15431, 4008: 2970, 4009: 21177, 4010: 21707, 4011: 25857, 4012: 919, 4013: 11491, 4014: 3024, 4015: 5201, 4016: 23459, 4017: 533, 4018: 19391, 4019: 420, 4020: 12857, 4021: 10702, 4022: 2114, 4023: 7330, 4024: 1675, 4025: 5484, 4026: 4101, 4027: 1266, 4028: 12455, 4029: 28789, 4030: 373, 4031: 2089, 4032: 8632, 4033: 63, 4034: 1758, 4035: 2653, 4036: 1317, 4037: 18851, 4038: 3355, 4039: 1996, 4040: 850, 4041: 1581, 4042: 385, 4043: 10470, 4044: 12483, 4045: 1904, 4046: 25689, 4047: 2831, 4048: 2905, 4049: 24451, 4050: 1204, 4051: 671, 4052: 27857, 4053: 5274, 4054: 5953, 4055: 11209, 4056: 1161, 4057: 3836, 4058: 11615, 4059: 2603, 4060: 12663, 4061: 29697, 4062: 18099, 4063: 11483, 4064: 33524, 4065: 3005, 4066: 2628, 4067: 2580, 4068: 2299, 4069: 23931, 4070: 1277, 4071: 6670, 4072: 27939, 4073: 1957, 4074: 937, 4075: 3271, 4076: 12745, 4077: 7619, 4078: 5936, 4079: 9001, 4080: 3130, 4081: 17731, 4082: 3394, 4083: 12279, 4084: 2106, 4085: 10732, 4086: 6230, 4087: 3057, 4088: 32321, 4089: 518, 4090: 626, 4091: 29855, 4092: 12503, 4093: 3438, 4094: 13833, 4095: 10807, 4096: 32625, 4097: 23299, 4098: 4793, 4099: 2161, 4100: 1618, 4101: 1544, 4102: 31440, 4103: 3686, 4104: 1737, 4105: 25397, 4106: 3835, 4107: 25241, 4108: 1750, 4109: 20543, 4110: 9119, 4111: 15879, 4112: 4508, 4113: 1752, 4114: 29413, 4115: 3023, 4116: 2042, 4117: 3381, 4118: 17679, 4119: 6653, 4120: 3037, 4121: 1325, 4122: 7579, 4123: 1316, 4124: 637, 4125: 2556, 4126: 618, 4127: 913, 4128: 3923, 4129: 32287, 4130: 21701, 4131: 3085, 4132: 4050, 4133: 9519, 4134: 9335, 4135: 222, 4136: 14199, 4137: 23363, 4138: 6666, 4139: 17573, 4140: 9107, 4141: 14093, 4142: 5256, 4143: 6877, 4144: 30625, 4145: 17933, 4146: 26019, 4147: 25285, 4148: 2033, 4149: 23439, 4150: 8230, 4151: 3761, 4152: 2032, 4153: 1533, 4154: 23627, 4155: 33046, 4156: 1669, 4157: 1136, 4158: 2495, 4159: 4503, 4160: 8367, 4161: 2650, 4162: 7436, 4163: 2953, 4164: 13731, 4165: 7307, 4166: 3481, 4167: 9515, 4168: 2050, 4169: 1409, 4170: 5333, 4171: 2565, 4172: 12991, 4173: 148, 4174: 16756, 4175: 2980, 4176: 4320, 4177: 2039, 4178: 17743, 4179: 8245, 4180: 9581, 4181: 26351, 4182: 5865, 4183: 615, 4184: 3827, 4185: 1182, 4186: 23209, 4187: 28063, 4188: 15125, 4189: 10005, 4190: 1822, 4191: 473, 4192: 4467, 4193: 20267, 4194: 29017, 4195: 11755, 4196: 27911, 4197: 7805, 4198: 5002, 4199: 1962, 4200: 14827, 4201: 4712, 4202: 6714, 4203: 13263, 4204: 2319, 4205: 259, 4206: 2224, 4207: 6008, 4208: 1660, 4209: 2911, 4210: 2038, 4211: 4052, 4212: 17655, 4213: 6736, 4214: 33075, 4215: 10936, 4216: 8783, 4217: 24991, 4218: 24705, 4219: 2615, 4220: 3366, 4221: 16718, 4222: 1742, 4223: 2619, 4224: 12699, 4225: 17233, 4226: 3008, 4227: 7591, 4228: 6129, 4229: 31521, 4230: 3077, 4231: 1718, 4232: 315, 4233: 298, 4234: 2221, 4235: 8950, 4236: 9706, 4237: 1149, 4238: 31851, 4239: 2627, 4240: 987, 4241: 236, 4242: 504, 4243: 23499, 4244: 11268, 4245: 7285, 4246: 29853, 4247: 1706, 4248: 15729, 4249: 1466, 4250: 1848, 4251: 1181, 4252: 8507, 4253: 6087, 4254: 3464, 4255: 5305, 4256: 16906, 4257: 1445, 4258: 2272, 4259: 3388, 4260: 4782, 4261: 776, 4262: 24075, 4263: 21569, 4264: 11073, 4265: 3265, 4266: 28619, 4267: 21033, 4268: 679, 4269: 4173, 4270: 5742, 4271: 421, 4272: 11685, 4273: 928, 4274: 12935, 4275: 347, 4276: 17341, 4277: 299, 4278: 2467, 4279: 1998, 4280: 2709, 4281: 4197, 4282: 1194, 4283: 5618, 4284: 2641, 4285: 2644, 4286: 5016, 4287: 10172, 4288: 782, 4289: 1019, 4290: 3503, 4291: 6791, 4292: 28207, 4293: 6975, 4294: 3866, 4295: 1070, 4296: 32730, 4297: 7090, 4298: 6779, 4299: 8456, 4300: 25117, 4301: 10156, 4302: 14515, 4303: 6068, 4304: 3809, 4305: 1480, 4306: 2419, 4307: 2290, 4308: 175, 4309: 4720, 4310: 1958, 4311: 10390, 4312: 2546, 4313: 10689, 4314: 17493, 4315: 2732, 4316: 10490, 4317: 406, 4318: 31636, 4319: 1187, 4320: 8546, 4321: 5945, 4322: 7477, 4323: 10949, 4324: 31617, 4325: 6117, 4326: 6728, 4327: 2390, 4328: 9362, 4329: 9495, 4330: 635, 4331: 590, 4332: 6205, 4333: 602, 4334: 15347, 4335: 3550, 4336: 9934, 4337: 2912, 4338: 32383, 4339: 3900, 4340: 1296, 4341: 6633, 4342: 1232, 4343: 3806, 4344: 8542, 4345: 2497, 4346: 8635, 4347: 2463, 4348: 12715, 4349: 3915, 4350: 5833, 4351: 10324, 4352: 5022, 4353: 1198, 4354: 6878, 4355: 497, 4356: 2288, 4357: 9549, 4358: 808, 4359: 3232, 4360: 11017, 4361: 3952, 4362: 1672, 4363: 5266, 4364: 4450, 4365: 1853, 4366: 2606, 4367: 12347, 4368: 7666, 4369: 6028, 4370: 225, 4371: 7364, 4372: 10527, 4373: 4199, 4374: 3488, 4375: 18989, 4376: 1761, 4377: 403, 4378: 1907, 4379: 31096, 4380: 20391, 4381: 22123, 4382: 4119, 4383: 31344, 4384: 496, 4385: 23133, 4386: 10361, 4387: 5962, 4388: 2733, 4389: 3641, 4390: 7664, 4391: 34283, 4392: 1328, 4393: 5529, 4394: 1165, 4395: 4514, 4396: 3668, 4397: 8314, 4398: 2282, 4399: 2399, 4400: 2284, 4401: 3963, 4402: 4183, 4403: 6672, 4404: 446, 4405: 29089, 4406: 8861, 4407: 1143, 4408: 8713, 4409: 1177, 4410: 3874, 4411: 1670, 4412: 370, 4413: 16119, 4414: 29976, 4415: 2769, 4416: 2067, 4417: 4244, 4418: 32011, 4419: 28351, 4420: 1839, 4421: 2074, 4422: 1067, 4423: 7540, 4424: 6587, 4425: 20723, 4426: 1617, 4427: 1806, 4428: 622, 4429: 4795, 4430: 18781, 4431: 32360, 4432: 10308, 4433: 4515, 4434: 14957, 4435: 7082, 4436: 2010, 4437: 21201, 4438: 916, 4439: 2105, 4440: 6883, 4441: 1130, 4442: 6748, 4443: 3325, 4444: 1673, 4445: 1754, 4446: 1704, 4447: 8503, 4448: 2060, 4449: 4361, 4450: 2804, 4451: 840, 4452: 2086, 4453: 31848, 4454: 1978, 4455: 402, 4456: 13799, 4457: 4874, 4458: 30103, 4459: 15781, 4460: 10611, 4461: 23, 4462: 23581, 4463: 33173, 4464: 472, 4465: 1980, 4466: 7839, 4467: 20613, 4468: 32601, 4469: 4744, 4470: 10516, 4471: 6533, 4472: 375, 4473: 6511, 4474: 2801, 4475: 119, 4476: 241, 4477: 32511, 4478: 973, 4479: 3190, 4480: 863, 4481: 2211, 4482: 1572, 4483: 1658, 4484: 10076, 4485: 412, 4486: 1810, 4487: 9936, 4488: 7103, 4489: 2456, 4490: 9774, 4491: 4112, 4492: 4961, 4493: 1350, 4494: 6428, 4495: 14921, 4496: 5636, 4497: 31716, 4498: 10073, 4499: 8248, 4500: 1005, 4501: 979, 4502: 22335, 4503: 925, 4504: 744, 4505: 6137, 4506: 7160, 4507: 3812, 4508: 3003, 4509: 2356, 4510: 10693, 4511: 16518, 4512: 11103, 4513: 6383, 4514: 289, 4515: 706, 4516: 1676, 4517: 1661, 4518: 1178, 4519: 11385, 4520: 365, 4521: 29255, 4522: 7112, 4523: 31675, 4524: 19255, 4525: 1694, 4526: 17831, 4527: 23711, 4528: 7875, 4529: 10016, 4530: 2568, 4531: 9754, 4532: 4439, 4533: 6796, 4534: 3823, 4535: 21451, 4536: 11083, 4537: 5957, 4538: 12671, 4539: 8438, 4540: 4794, 4541: 564, 4542: 21497, 4543: 12267, 4544: 2686, 4545: 33341, 4546: 8108, 4547: 7568, 4548: 1986, 4549: 155, 4550: 2729, 4551: 3295, 4552: 1894, 4553: 20533, 4554: 2028, 4555: 4469, 4556: 2041, 4557: 9548, 4558: 591, 4559: 1348, 4560: 31048, 4561: 33360, 4562: 5147, 4563: 1153, 4564: 2638, 4565: 7775, 4566: 10118, 4567: 5276, 4568: 33421, 4569: 11101, 4570: 1085, 4571: 3436, 4572: 1062, 4573: 10886, 4574: 32359, 4575: 6609, 4576: 5288, 4577: 197, 4578: 31593, 4579: 3735, 4580: 9916, 4581: 28283, 4582: 1012, 4583: 3410, 4584: 9494, 4585: 13679, 4586: 30437, 4587: 8598, 4588: 24751, 4589: 3800, 4590: 31387, 4591: 3081, 4592: 1185, 4593: 3389, 4594: 5189, 4595: 3035, 4596: 2696, 4597: 21599, 4598: 7744, 4599: 3185, 4600: 11307, 4601: 10187, 4602: 10338, 4603: 32214, 4604: 2895, 4605: 3054, 4606: 12661, 4607: 3391, 4608: 4640, 4609: 32446, 4610: 30757, 4611: 31144, 4612: 31621, 4613: 31797, 4614: 682, 4615: 438, 4616: 16680, 4617: 8709, 4618: 10916, 4619: 25867, 4620: 27741, 4621: 10384, 4622: 2766, 4623: 18799, 4624: 4427, 4625: 6468, 4626: 5535, 4627: 4387, 4628: 715, 4629: 12437, 4630: 15951, 4631: 1370, 4632: 1682, 4633: 31573, 4634: 16614, 4635: 9558, 4636: 3522, 4637: 1794, 4638: 9493, 4639: 1189, 4640: 5883, 4641: 29231, 4642: 2061, 4643: 19271, 4644: 3433, 4645: 9900, 4646: 8101, 4647: 33309, 4648: 3435, 4649: 11583, 4650: 5828, 4651: 33118, 4652: 3878, 4653: 31448, 4654: 32324, 4655: 31560, 4656: 23943, 4657: 4421, 4658: 6625, 4659: 31452, 4660: 32190, 4661: 4910, 4662: 4792, 4663: 1298, 4664: 17913, 4665: 1693, 4666: 13517, 4667: 10687, 4668: 19919, 4669: 471, 4670: 2699, 4671: 4371, 4672: 1233, 4673: 17092, 4674: 30127, 4675: 17705, 4676: 660, 4677: 4554, 4678: 12885, 4679: 31070, 4680: 1733, 4681: 1799, 4682: 21373, 4683: 125, 4684: 8765, 4685: 30531, 4686: 8538, 4687: 24695, 4688: 14145, 4689: 20381, 4690: 3100, 4691: 5153, 4692: 4504, 4693: 21241, 4694: 31866, 4695: 6368, 4696: 783, 4697: 2306, 4698: 4536, 4699: 8487, 4700: 4013, 4701: 10917, 4702: 1297, 4703: 2031, 4704: 6885, 4705: 684, 4706: 9531, 4707: 21353, 4708: 4132, 4709: 718, 4710: 30056, 4711: 10196, 4712: 32311, 4713: 13253, 4714: 2640, 4715: 33222, 4716: 26053, 4717: 6472, 4718: 2062, 4719: 2617, 4720: 23137, 4721: 8839, 4722: 2207, 4723: 25861, 4724: 33129, 4725: 6657, 4726: 6375, 4727: 3273, 4728: 6509, 4729: 7430, 4730: 10671, 4731: 24175, 4732: 17157, 4733: 612, 4734: 2842, 4735: 4962, 4736: 30088, 4737: 8900, 4738: 4067, 4739: 1836, 4740: 5583, 4741: 1044, 4742: 2560, 4743: 2552, 4744: 30250, 4745: 12317, 4746: 1276, 4747: 55, 4748: 30953, 4749: 4975, 4750: 5449, 4751: 33145, 4752: 2485, 4753: 3842, 4754: 5476, 4755: 32561, 4756: 1235, 4757: 257, 4758: 30030, 4759: 9203, 4760: 11507, 4761: 1793, 4762: 15279, 4763: 799, 4764: 8560, 4765: 32031, 4766: 5225, 4767: 12921, 4768: 9789, 4769: 18857, 4770: 1141, 4771: 9077, 4772: 4481, 4773: 32728, 4774: 4068, 4775: 8139, 4776: 425, 4777: 9924, 4778: 10723, 4779: 17409, 4780: 2626, 4781: 2210, 4782: 16347, 4783: 6226, 4784: 312, 4785: 30795, 4786: 10055, 4787: 6579, 4788: 17277, 4789: 8211, 4790: 12351, 4791: 7124, 4792: 20441, 4793: 30384, 4794: 4314, 4795: 9943, 4796: 26359, 4797: 17873, 4798: 11069, 4799: 1964, 4800: 9220, 4801: 18549, 4802: 15095, 4803: 15015, 4804: 33208, 4805: 20987, 4806: 5849, 4807: 20655, 4808: 810, 4809: 999, 4810: 9881, 4811: 14317, 4812: 15325, 4813: 7578, 4814: 9291, 4815: 23787, 4816: 30237, 4817: 16101, 4818: 3280, 4819: 8140, 4820: 8304, 4821: 32481, 4822: 5165, 4823: 8518, 4824: 4209, 4825: 10808, 4826: 6270, 4827: 23427, 4828: 1807, 4829: 10810, 4830: 20155, 4831: 9078, 4832: 1724, 4833: 17551, 4834: 13251, 4835: 10109, 4836: 22785, 4837: 12439, 4838: 17821, 4839: 950, 4840: 7522, 4841: 8109, 4842: 8965, 4843: 3570, 4844: 28155, 4845: 23579, 4846: 29863, 4847: 1789, 4848: 9795, 4849: 25457, 4850: 9857, 4851: 105, 4852: 4383, 4853: 2836, 4854: 14989, 4855: 7336, 4856: 2637, 4857: 13139, 4858: 3154, 4859: 16199, 4860: 3776, 4861: 30721, 4862: 20469, 4863: 23121, 4864: 1456, 4865: 31598, 4866: 11221, 4867: 5164, 4868: 13231, 4869: 17637, 4870: 31121, 4871: 2047, 4872: 920, 4873: 7117, 4874: 21571, 4875: 1854, 4876: 12929, 4877: 562, 4878: 27967, 4879: 4524, 4880: 171, 4881: 14647, 4882: 2718, 4883: 21103, 4884: 1746, 4885: 32301, 4886: 6093, 4887: 1666, 4888: 30573, 4889: 15605, 4890: 7395, 4891: 8375, 4892: 7048, 4893: 9690, 4894: 6518, 4895: 8215, 4896: 2073, 4897: 10491, 4898: 1988, 4899: 3873, 4900: 3099, 4901: 6374, 4902: 10202, 4903: 19685, 4904: 4760, 4905: 3609, 4906: 6310, 4907: 7295, 4908: 3876, 4909: 2045, 4910: 1879, 4911: 9395, 4912: 34475, 4913: 4316, 4914: 8496, 4915: 5938, 4916: 683, 4917: 6555, 4918: 11853, 4919: 28511, 4920: 3757, 4921: 836, 4922: 9421, 4923: 2726, 4924: 31608, 4925: 8603, 4926: 30218, 4927: 5819, 4928: 14173, 4929: 19081, 4930: 9376, 4931: 5454, 4932: 10015, 4933: 819, 4934: 7176, 4935: 2881, 4936: 8815, 4937: 30907, 4938: 22053, 4939: 1600, 4940: 1159, 4941: 4242, 4942: 4597, 4943: 8332, 4944: 25283, 4945: 1039, 4946: 4933, 4947: 20539, 4948: 1163, 4949: 3194, 4950: 5844, 4951: 7550, 4952: 1527, 4953: 163, 4954: 417, 4955: 7496, 4956: 28861, 4957: 6705, 4958: 685, 4959: 1981, 4960: 7377, 4961: 943, 4962: 599, 4963: 2702, 4964: 6119, 4965: 9479, 4966: 16702, 4967: 7157, 4968: 5496, 4969: 2809, 4970: 12497, 4971: 18771, 4972: 1570, 4973: 9333, 4974: 12429, 4975: 1495, 4976: 7601, 4977: 6492, 4978: 2367, 4979: 3810, 4980: 2503, 4981: 23605, 4982: 3758, 4983: 2234, 4984: 10739, 4985: 21695, 4986: 29419, 4987: 14675, 4988: 8287, 4989: 9202, 4990: 23325, 4991: 27891, 4992: 4154, 4993: 3075, 4994: 10595, 4995: 14283, 4996: 4991, 4997: 19151, 4998: 22249, 4999: 5772, 5000: 6452, 5001: 3401, 5002: 6629, 5003: 5070, 5004: 348, 5005: 2142, 5006: 5238, 5007: 2312, 5008: 2252, 5009: 21041, 5010: 382, 5011: 1537, 5012: 1574, 5013: 27907, 5014: 13185, 5015: 3683, 5016: 31566, 5017: 32274, 5018: 9035, 5019: 13757, 5020: 888, 5021: 23399, 5022: 2740, 5023: 761, 5024: 3535, 5025: 4890, 5026: 31911, 5027: 19799, 5028: 2237, 5029: 608, 5030: 1872, 5031: 677, 5032: 12441, 5033: 3864, 5034: 817, 5035: 8966, 5036: 1900, 5037: 1458, 5038: 27387, 5039: 1607, 5040: 2535, 5041: 5935, 5042: 374, 5043: 32502, 5044: 30143, 5045: 2915, 5046: 12685, 5047: 707, 5048: 1677, 5049: 7158, 5050: 336, 5051: 2071, 5052: 13935, 5053: 3969, 5054: 3153, 5055: 30524, 5056: 32682, 5057: 3274, 5058: 13159, 5059: 2040, 5060: 13239, 5061: 7981, 5062: 20931, 5063: 7605, 5064: 21679, 5065: 12611, 5066: 17345, 5067: 9799, 5068: 10849, 5069: 15453, 5070: 1816, 5071: 4801, 5072: 2428, 5073: 18063, 5074: 8949, 5075: 22537, 5076: 3778, 5077: 2534, 5078: 1598, 5079: 3114, 5080: 10319, 5081: 2064, 5082: 17651, 5083: 2687, 5084: 5131, 5085: 7083, 5086: 4511, 5087: 4800, 5088: 1083, 5089: 31338, 5090: 3546, 5091: 10207, 5092: 576, 5093: 2277, 5094: 3875, 5095: 4388, 5096: 3147, 5097: 20033, 5098: 16331, 5099: 33102, 5100: 2063, 5101: 3444, 5102: 18061, 5103: 5272, 5104: 30196, 5105: 5917, 5106: 3691, 5107: 2806, 5108: 4085, 5109: 7659, 5110: 9737, 5111: 1270, 5112: 5539, 5113: 5353, 5114: 2564, 5115: 1221, 5116: 28205, 5117: 2572, 5118: 9390, 5119: 1905, 5120: 4756, 5121: 359, 5122: 13137, 5123: 22049, 5124: 32412, 5125: 7571, 5126: 3323, 5127: 7547, 5128: 23831, 5129: 5265, 5130: 30291, 5131: 2302, 5132: 16690, 5133: 10547, 5134: 215, 5135: 5845, 5136: 10924, 5137: 13153, 5138: 3399, 5139: 1999, 5140: 3755, 5141: 12337, 5142: 14333, 5143: 31894, 5144: 7279, 5145: 1624, 5146: 9344, 5147: 7626, 5148: 6743, 5149: 4099, 5150: 17010, 5151: 1107, 5152: 14693, 5153: 15219, 5154: 5848, 5155: 1333, 5156: 17147, 5157: 31561, 5158: 28913, 5159: 17813, 5160: 22113, 5161: 1918, 5162: 5466, 5163: 34239, 5164: 2621, 5165: 13283, 5166: 2267, 5167: 2168, 5168: 988, 5169: 2099, 5170: 32684, 5171: 10342, 5172: 8553, 5173: 33934, 5174: 6919, 5175: 3417, 5176: 31128, 5177: 19973, 5178: 3131, 5179: 3166, 5180: 6096, 5181: 5337, 5182: 18669, 5183: 3007, 5184: 769, 5185: 21677, 5186: 6970, 5187: 2256, 5188: 833, 5189: 31530, 5190: 10528, 5191: 14889, 5192: 21167, 5193: 1361, 5194: 10262, 5195: 19367, 5196: 30895, 5197: 28915, 5198: 2601, 5199: 23697, 5200: 20971, 5201: 2303, 5202: 31223, 5203: 3201, 5204: 11859, 5205: 559, 5206: 2698, 5207: 1217, 5208: 22361, 5209: 1048, 5210: 4475, 5211: 3905, 5212: 4537, 5213: 2464, 5214: 6148, 5215: 6682, 5216: 1295, 5217: 23583, 5218: 14373, 5219: 9166, 5220: 3132, 5221: 4418, 5222: 17020, 5223: 3202, 5224: 1753, 5225: 2647, 5226: 5088, 5227: 909, 5228: 1158, 5229: 8450, 5230: 31630, 5231: 1851, 5232: 1193, 5233: 1884, 5234: 3285, 5235: 9824, 5236: 2293, 5237: 3932, 5238: 2046, 5239: 3356, 5240: 5386, 5241: 4617, 5242: 2550, 5243: 5056, 5244: 21703, 5245: 14935, 5246: 24935, 5247: 10013, 5248: 6251, 5249: 1662, 5250: 30246, 5251: 19953, 5252: 27405, 5253: 1734, 5254: 4667, 5255: 4070, 5256: 13169, 5257: 69, 5258: 31967, 5259: 7816, 5260: 8145, 5261: 21575, 5262: 1849, 5263: 5600, 5264: 1428, 5265: 3676, 5266: 4113, 5267: 6277, 5268: 6130, 5269: 3619, 5270: 2085, 5271: 2052, 5272: 3065, 5273: 30679, 5274: 24763, 5275: 2153, 5276: 8745, 5277: 15119, 5278: 28603, 5279: 16415, 5280: 1903, 5281: 8026, 5282: 6397, 5283: 2631, 5284: 12361, 5285: 1460, 5286: 20965, 5287: 3011, 5288: 1346, 5289: 15607, 5290: 32023, 5291: 8547, 5292: 9121, 5293: 825, 5294: 3061, 5295: 15093, 5296: 1262, 5297: 3482, 5298: 3880, 5299: 3884, 5300: 8743, 5301: 7079, 5302: 20907, 5303: 31168, 5304: 23309, 5305: 5223, 5306: 8373, 5307: 1443, 5308: 32993, 5309: 1671, 5310: 27629, 5311: 3977, 5312: 30166, 5313: 184, 5314: 3704, 5315: 8194, 5316: 31683, 5317: 7667, 5318: 1314, 5319: 3101, 5320: 5292, 5321: 5900, 5322: 17785, 5323: 1883, 5324: 9014, 5325: 887, 5326: 9990, 5327: 864, 5328: 10802, 5329: 30842, 5330: 2233, 5331: 1867, 5332: 10219, 5333: 3913, 5334: 6303, 5335: 610, 5336: 3474, 5337: 6674, 5338: 17777, 5339: 1444, 5340: 16099, 5341: 3472, 5342: 51, 5343: 10306, 5344: 4521, 5345: 2008, 5346: 4044, 5347: 6075, 5348: 6107, 5349: 29998, 5350: 9163, 5351: 722, 5352: 8278, 5353: 5829, 5354: 2127, 5355: 13955, 5356: 21495, 5357: 7718, 5358: 28673, 5359: 661, 5360: 6413, 5361: 7551, 5362: 13639, 5363: 910, 5364: 12689, 5365: 10028, 5366: 3660, 5367: 2133, 5368: 362, 5369: 363, 5370: 470, 5371: 10180, 5372: 28853, 5373: 2466, 5374: 31914, 5375: 4941, 5376: 11773, 5377: 17068, 5378: 28085, 5379: 3234, 5380: 6462, 5381: 13863, 5382: 1701, 5383: 159, 5384: 458, 5385: 33689, 5386: 14875, 5387: 10666, 5388: 1865, 5389: 133, 5390: 647, 5391: 1057, 5392: 15847, 5393: 24873, 5394: 5132, 5395: 952, 5396: 1880, 5397: 7171, 5398: 28385, 5399: 2100, 5400: 33205, 5401: 8079, 5402: 6331, 5403: 4853, 5404: 4578, 5405: 26443, 5406: 6731, 5407: 2018, 5408: 6861, 5409: 6693, 5410: 31319, 5411: 12967, 5412: 4025, 5413: 4563, 5414: 2822, 5415: 18881, 5416: 295, 5417: 29722, 5418: 8146, 5419: 2697, 5420: 4737, 5421: 258, 5422: 10905, 5423: 5013, 5424: 3858, 5425: 31804, 5426: 8302, 5427: 2307, 5428: 7598, 5429: 3571, 5430: 3881, 5431: 2571, 5432: 614, 5433: 34252, 5434: 13563, 5435: 13969, 5436: 31750, 5437: 11445, 5438: 3361, 5439: 2024, 5440: 33056, 5441: 9591, 5442: 8548, 5443: 1868, 5444: 9389, 5445: 33024, 5446: 4385, 5447: 4386, 5448: 5168, 5449: 3838, 5450: 7017, 5451: 3278, 5452: 2260, 5453: 4023, 5454: 31156, 5455: 9691, 5456: 9792, 5457: 4049, 5458: 349, 5459: 31845, 5460: 19257, 5461: 8960, 5462: 5006, 5463: 9106, 5464: 9015, 5465: 25257, 5466: 3819, 5467: 31540, 5468: 31867, 5469: 21119, 5470: 3507, 5471: 18637, 5472: 8449, 5473: 8961, 5474: 6127, 5475: 6234, 5476: 10405, 5477: 12683, 5478: 5396, 5479: 17681, 5480: 3914, 5481: 14077, 5482: 14237, 5483: 23985, 5484: 3015, 5485: 1679, 5486: 3022, 5487: 4513, 5488: 30145, 5489: 4928, 5490: 2422, 5491: 3315, 5492: 32202, 5493: 3276, 5494: 2162, 5495: 555, 5496: 1280, 5497: 32041, 5498: 8896, 5499: 28963, 5500: 18639, 5501: 33192, 5502: 6979, 5503: 1713, 5504: 2027, 5505: 8985, 5506: 21861, 5507: 5112, 5508: 6287, 5509: 10526, 5510: 5375, 5511: 3671, 5512: 2474, 5513: 16740, 5514: 28911, 5515: 28883, 5516: 360, 5517: 3839, 5518: 7729, 5519: 21077, 5520: 2526, 5521: 19575, 5522: 6227, 5523: 1503, 5524: 1580, 5525: 749, 5526: 13681, 5527: 19731, 5528: 3768, 5529: 980, 5530: 11049, 5531: 1500, 5532: 10594, 5533: 33247, 5534: 9566, 5535: 30751, 5536: 4420, 5537: 4591, 5538: 1583, 5539: 26189, 5540: 15085, 5541: 7779, 5542: 7752, 5543: 14277, 5544: 22733, 5545: 6062, 5546: 3906, 5547: 2281, 5548: 9748, 5549: 1591, 5550: 10755, 5551: 3475, 5552: 15881, 5553: 31927, 5554: 25365, 5555: 8840, 5556: 23433, 5557: 25883, 5558: 2679, 5559: 4533, 5560: 9100, 5561: 8249, 5562: 12123, 5563: 6094, 5564: 13859, 5565: 17167, 5566: 2789, 5567: 2156, 5568: 301, 5569: 13807, 5570: 29165, 5571: 32264, 5572: 1337, 5573: 1344, 5574: 24675, 5575: 16912, 5576: 581, 5577: 2523, 5578: 10132, 5579: 7170, 5580: 23341, 5581: 15717, 5582: 19351, 5583: 9731, 5584: 1547, 5585: 29511, 5586: 3004, 5587: 1508, 5588: 5693, 5589: 13175, 5590: 6437, 5591: 3724, 5592: 8214, 5593: 3512, 5594: 927, 5595: 2700, 5596: 30385, 5597: 30445, 5598: 21595, 5599: 28593, 5600: 454, 5601: 791, 5602: 12581, 5603: 9165, 5604: 4509, 5605: 9935, 5606: 4014, 5607: 2760, 5608: 4443, 5609: 10524, 5610: 4298, 5611: 8149, 5612: 8533, 5613: 3175, 5614: 32503, 5615: 16149, 5616: 17791, 5617: 23897, 5618: 28179, 5619: 32233, 5620: 4614, 5621: 9290, 5622: 7108, 5623: 835, 5624: 2714, 5625: 8042, 5626: 8011, 5627: 5344, 5628: 2103, 5629: 6276, 5630: 11699, 5631: 25833, 5632: 33964, 5633: 14007, 5634: 5098, 5635: 1380, 5636: 2885, 5637: 20187, 5638: 5652, 5639: 13215, 5640: 2739, 5641: 3834, 5642: 10832, 5643: 28713, 5644: 2609, 5645: 1777, 5646: 2155, 5647: 19401, 5648: 10562, 5649: 499, 5650: 1832, 5651: 9254, 5652: 337, 5653: 18413, 5654: 9424, 5655: 22231, 5656: 13843, 5657: 15313, 5658: 2840, 5659: 8812, 5660: 24531, 5661: 20365, 5662: 10194, 5663: 25839, 5664: 6872, 5665: 6628, 5666: 8491, 5667: 21997, 5668: 9880, 5669: 8584, 5670: 3215, 5671: 2423, 5672: 1977, 5673: 7230, 5674: 848, 5675: 577, 5676: 3214, 5677: 14247, 5678: 2059, 5679: 15565, 5680: 31923, 5681: 9523, 5682: 5585, 5683: 4024, 5684: 19573, 5685: 10349, 5686: 30585, 5687: 4451, 5688: 17959, 5689: 5475, 5690: 12867, 5691: 2566, 5692: 6822, 5693: 3290, 5694: 8240, 5695: 547, 5696: 1630, 5697: 9595, 5698: 27619, 5699: 10901, 5700: 2309, 5701: 2023, 5702: 6920, 5703: 693, 5704: 6645, 5705: 17205, 5706: 8550, 5707: 14073, 5708: 6557, 5709: 8178, 5710: 5862, 5711: 20929, 5712: 7596, 5713: 1850, 5714: 30155, 5715: 12579, 5716: 31762, 5717: 8141, 5718: 6994, 5719: 3448, 5720: 10465, 5721: 1162, 5722: 1071, 5723: 21479, 5724: 24713, 5725: 8848, 5726: 9587, 5727: 11595, 5728: 22215, 5729: 30912, 5730: 4213, 5731: 7759, 5732: 2770, 5733: 4948, 5734: 5369, 5735: 1582, 5736: 25169, 5737: 31668, 5738: 30178, 5739: 2516, 5740: 12411, 5741: 1959, 5742: 16233, 5743: 16574, 5744: 1994, 5745: 33326, 5746: 6688, 5747: 3120, 5748: 1494, 5749: 3518, 5750: 11769, 5751: 16646, 5752: 7405, 5753: 2738, 5754: 511, 5755: 23367, 5756: 7376, 5757: 12433, 5758: 15177, 5759: 22435, 5760: 16397, 5761: 31113, 5762: 818, 5763: 1100, 5764: 21507, 5765: 4599, 5766: 3115, 5767: 5308, 5768: 6425, 5769: 6987, 5770: 2537, 5771: 7334, 5772: 17295, 5773: 6496, 5774: 9972, 5775: 23333, 5776: 7252, 5777: 2196, 5778: 9598, 5779: 17897, 5780: 7723, 5781: 7169, 5782: 9172, 5783: 1856, 5784: 3723, 5785: 5725, 5786: 29301, 5787: 18449, 5788: 28381, 5789: 4719, 5790: 3877, 5791: 445, 5792: 17969, 5793: 4033, 5794: 176, 5795: 30865, 5796: 7818, 5797: 16576, 5798: 19029, 5799: 12131, 5800: 24699, 5801: 6077, 5802: 231, 5803: 9164, 5804: 25965, 5805: 4095, 5806: 2285, 5807: 6215, 5808: 12485, 5809: 1552, 5810: 6992, 5811: 32065, 5812: 31091, 5813: 23989, 5814: 6695, 5815: 1628, 5816: 3898, 5817: 7740, 5818: 2244, 5819: 2068, 5820: 7705, 5821: 3989, 5822: 309, 5823: 7610, 5824: 6095, 5825: 1542, 5826: 1828, 5827: 2019, 5828: 13993, 5829: 21809, 5830: 3155, 5831: 11505, 5832: 1899, 5833: 1188, 5834: 25641, 5835: 3936, 5836: 4566, 5837: 29035, 5838: 839, 5839: 30390, 5840: 11561, 5841: 6899, 5842: 6900, 5843: 2102, 5844: 773, 5845: 13967, 5846: 7691, 5847: 4584, 5848: 346, 5849: 7463, 5850: 11537, 5851: 10330, 5852: 9991, 5853: 8132, 5854: 15979, 5855: 1157, 5856: 3151, 5857: 141, 5858: 8196, 5859: 1561, 5860: 24417, 5861: 1984, 5862: 7247, 5863: 9782, 5864: 11873, 5865: 1938, 5866: 32039, 5867: 10263, 5868: 1862, 5869: 13675, 5870: 17879, 5871: 24527, 5872: 7939, 5873: 13143, 5874: 4419, 5875: 3962, 5876: 5629, 5877: 841, 5878: 10177, 5879: 904, 5880: 25495, 5881: 3294, 5882: 33808, 5883: 3020, 5884: 11005, 5885: 1427, 5886: 5723, 5887: 1139, 5888: 16335, 5889: 838, 5890: 2083, 5891: 14519, 5892: 439, 5893: 14583, 5894: 5314, 5895: 10201, 5896: 3599, 5897: 11791, 5898: 17963, 5899: 9002, 5900: 2301, 5901: 29123, 5902: 5474, 5903: 14231, 5904: 1202, 5905: 18767, 5906: 23365, 5907: 2981, 5908: 18755, 5909: 7491, 5910: 4003, 5911: 23409, 5912: 1324, 5913: 498, 5914: 14095, 5915: 2049, 5916: 17815, 5917: 4129, 5918: 12449, 5919: 7415, 5920: 10481, 5921: 2332, 5922: 7468, 5923: 11547, 5924: 10525, 5925: 32309, 5926: 686, 5927: 9794, 5928: 648, 5929: 4484, 5930: 20053, 5931: 5133, 5932: 6074, 5933: 2689, 5934: 21523, 5935: 2823, 5936: 5289, 5937: 12877, 5938: 2830, 5939: 1283, 5940: 7290, 5941: 2287, 5942: 1056, 5943: 10477, 5944: 4713, 5945: 3406, 5946: 5876, 5947: 9951, 5948: 2092, 5949: 1909, 5950: 13789, 5951: 8792, 5952: 5584, 5953: 7876, 5954: 20555, 5955: 854, 5956: 33902, 5957: 2388, 5958: 31221, 5959: 5462, 5960: 28251, 5961: 31551, 5962: 14949, 5963: 7739, 5964: 8216, 5965: 1224, 5966: 5421, 5967: 2414, 5968: 22547, 5969: 7597, 5970: 11705, 5971: 5689, 5972: 426, 5973: 7867, 5974: 24127, 5975: 2545, 5976: 32548, 5977: 5287, 5978: 6875, 5979: 3889, 5980: 6932, 5981: 4461, 5982: 8919, 5983: 8431, 5984: 4187, 5985: 24835, 5986: 571, 5987: 2567, 5988: 30686, 5989: 6385, 5990: 13855, 5991: 5080, 5992: 3509, 5993: 10301, 5994: 9768, 5995: 7510, 5996: 8964, 5997: 11099, 5998: 13495, 5999: 12121, 6000: 2690, 6001: 6616, 6002: 2015, 6003: 1026, 6004: 31994, 6005: 1484, 6006: 204, 6007: 7770, 6008: 4444, 6009: 12589, 6010: 9846, 6011: 767, 6012: 2827, 6013: 3506, 6014: 3840, 6015: 6680, 6016: 15883, 6017: 2066, 6018: 7427, 6019: 2473, 6020: 31065, 6021: 6965, 6022: 30922, 6023: 5783, 6024: 9423, 6025: 6327, 6026: 32959, 6027: 10581, 6028: 1093, 6029: 8464, 6030: 7549, 6031: 756, 6032: 31669, 6033: 30916, 6034: 18003, 6035: 2179, 6036: 748, 6037: 31736, 6038: 6918, 6039: 28433, 6040: 30100, 6041: 3135, 6042: 25567, 6043: 9282, 6044: 22055, 6045: 1200, 6046: 28791, 6047: 32083, 6048: 3845, 6049: 9043, 6050: 1885, 6051: 2226, 6052: 8842, 6053: 31676, 6054: 14663, 6055: 3642, 6056: 31133, 6057: 17379, 6058: 10199, 6059: 13965, 6060: 4616, 6061: 1228, 6062: 21999, 6063: 17727, 6064: 1156, 6065: 10354, 6066: 23735, 6067: 1955, 6068: 3595, 6069: 2461, 6070: 30168, 6071: 2851, 6072: 8312, 6073: 13927, 6074: 6889, 6075: 8928, 6076: 25967, 6077: 5469, 6078: 6484, 6079: 2693, 6080: 3813, 6081: 2322, 6082: 1234, 6083: 9944, 6084: 6071, 6085: 766, 6086: 556, 6087: 669, 6088: 2791, 6089: 14049, 6090: 11693, 6091: 3336, 6092: 2304, 6093: 1975, 6094: 17237, 6095: 12065, 6096: 28447, 6097: 12367, 6098: 7416, 6099: 2314, 6100: 16363, 6101: 22831, 6102: 16211, 6103: 23037, 6104: 1468, 6105: 1055, 6106: 2723, 6107: 19235, 6108: 19165, 6109: 2833, 6110: 3434, 6111: 9911, 6112: 932, 6113: 588, 6114: 12965, 6115: 1926, 6116: 23753, 6117: 8180, 6118: 7532, 6119: 7294, 6120: 1874, 6121: 25543, 6122: 3183, 6123: 1175, 6124: 1940, 6125: 3600, 6126: 1099, 6127: 2421, 6128: 32816, 6129: 13983, 6130: 11919, 6131: 5628, 6132: 2051, 6133: 3675, 6134: 5673, 6135: 19959, 6136: 2824, 6137: 12447, 6138: 33522, 6139: 16508, 6140: 15993, 6141: 31454, 6142: 29975, 6143: 3178, 6144: 17887, 6145: 10751, 6146: 1990, 6147: 9098, 6148: 21587, 6149: 10688, 6150: 22031, 6151: 10869, 6152: 21441, 6153: 1452, 6154: 1979, 6155: 31581, 6156: 14359, 6157: 16738, 6158: 20355, 6159: 30137, 6160: 7621, 6161: 15043, 6162: 2892, 6163: 28093, 6164: 7363, 6165: 3259, 6166: 19769, 6167: 21013, 6168: 545, 6169: 31111, 6170: 12393, 6171: 8446, 6172: 34048, 6173: 7004, 6174: 989, 6175: 3818, 6176: 27677, 6177: 3762, 6178: 5923, 6179: 20587, 6180: 25431, 6181: 310, 6182: 29876, 6183: 5052, 6184: 19431, 6185: 18953, 6186: 25429, 6187: 10908, 6188: 22847, 6189: 8316, 6190: 12141, 6191: 4689, 6192: 28811, 6193: 624, 6194: 5085, 6195: 12677, 6196: 2781, 6197: 2476, 6198: 6268, 6199: 10718, 6200: 25635, 6201: 30648, 6202: 17209, 6203: 14367, 6204: 3787, 6205: 5515, 6206: 1349, 6207: 32171, 6208: 7164, 6209: 1106, 6210: 5178, 6211: 23179, 6212: 31137, 6213: 33281, 6214: 10796, 6215: 2291, 6216: 28925, 6217: 32826, 6218: 5503, 6219: 20855, 6220: 4534, 6221: 4907, 6222: 10766, 6223: 9445, 6224: 515, 6225: 4126, 6226: 8409, 6227: 1838, 6228: 21649, 6229: 3176, 6230: 9575, 6231: 17787, 6232: 30851, 6233: 2095, 6234: 33734, 6235: 3759, 6236: 2245, 6237: 23151, 6238: 32343, 6239: 4685, 6240: 29801, 6241: 10261, 6242: 4615, 6243: 2536, 6244: 25077, 6245: 3764, 6246: 2754, 6247: 2575, 6248: 3525, 6249: 32747, 6250: 22099, 6251: 2483, 6252: 3576, 6253: 29517, 6254: 1097, 6255: 17719, 6256: 18729, 6257: 18365, 6258: 1155, 6259: 22381, 6260: 10736, 6261: 28715, 6262: 3398, 6263: 25889, 6264: 546, 6265: 6076, 6266: 8939, 6267: 29974, 6268: 32745, 6269: 24817, 6270: 15577, 6271: 19581, 6272: 1084, 6273: 12755, 6274: 25113, 6275: 8130, 6276: 2468, 6277: 16345, 6278: 18039, 6279: 25441, 6280: 15505, 6281: 1786, 6282: 32563, 6283: 17871, 6284: 1267, 6285: 2163, 6286: 5157, 6287: 7156, 6288: 10501, 6289: 29823, 6290: 23483, 6291: 8490, 6292: 10691, 6293: 19871, 6294: 33709, 6295: 2775, 6296: 4917, 6297: 881, 6298: 1284, 6299: 9978, 6300: 2305, 6301: 23099, 6302: 23621, 6303: 1167, 6304: 5027, 6305: 18205, 6306: 9829, 6307: 23825, 6308: 12665, 6309: 3080, 6310: 8921, 6311: 3060, 6312: 319, 6313: 27997, 6314: 32600, 6315: 3726, 6316: 1036, 6317: 1150, 6318: 3258, 6319: 17351, 6320: 33201, 6321: 216, 6322: 6704, 6323: 4471, 6324: 8337, 6325: 7668, 6326: 29758, 6327: 24109, 6328: 7174, 6329: 19447, 6330: 28815, 6331: 1269, 6332: 6985, 6333: 7420, 6334: 14537, 6335: 31827, 6336: 8855, 6337: 31977, 6338: 32349, 6339: 4091, 6340: 31865, 6341: 4460, 6342: 328, 6343: 9385, 6344: 8668, 6345: 31072, 6346: 21067, 6347: 3849, 6348: 28227, 6349: 6718, 6350: 27789, 6351: 12145, 6352: 10799, 6353: 8551, 6354: 3104, 6355: 12569, 6356: 9940, 6357: 2079, 6358: 25999, 6359: 3630, 6360: 30886, 6361: 23423, 6362: 33164, 6363: 4097, 6364: 31890, 6365: 12135, 6366: 2906, 6367: 1037, 6368: 6641, 6369: 6809, 6370: 4264, 6371: 5920, 6372: 19397, 6373: 8181, 6374: 6443, 6375: 294, 6376: 19521, 6377: 8252, 6378: 9646, 6379: 31064, 6380: 22497, 6381: 12971, 6382: 1947, 6383: 6993, 6384: 1740, 6385: 321, 6386: 28247, 6387: 6311, 6388: 9239, 6389: 5293, 6390: 12881, 6391: 23903, 6392: 8707, 6393: 32338, 6394: 5931, 6395: 15423, 6396: 3205, 6397: 3669, 6398: 3461, 6399: 9264, 6400: 11543, 6401: 2465, 6402: 32748, 6403: 13195, 6404: 1769, 6405: 22735, 6406: 3095, 6407: 24179, 6408: 5640, 6409: 13691, 6410: 5263, 6411: 12851, 6412: 25875, 6413: 32382, 6414: 2183, 6415: 29291, 6416: 6419, 6417: 7953, 6418: 27417, 6419: 858, 6420: 31109, 6421: 29778, 6422: 31035, 6423: 1991, 6424: 8667, 6425: 7461, 6426: 8443, 6427: 14045, 6428: 1912, 6429: 10679, 6430: 28991, 6431: 8724, 6432: 31846, 6433: 1711, 6434: 6798, 6435: 1226, 6436: 7257, 6437: 1148, 6438: 19133, 6439: 15743, 6440: 33798, 6441: 7771, 6442: 9274, 6443: 4158, 6444: 5785, 6445: 18109, 6446: 3157, 6447: 8213, 6448: 3805, 6449: 3264, 6450: 275, 6451: 361, 6452: 32898, 6453: 20961, 6454: 1098, 6455: 1378, 6456: 1227, 6457: 30909, 6458: 366, 6459: 1351, 6460: 1268, 6461: 33548, 6462: 2607, 6463: 2292, 6464: 12157, 6465: 5918, 6466: 2065, 6467: 18557, 6468: 11043, 6469: 307, 6470: 1908, 6471: 3480, 6472: 13673, 6473: 32961, 6474: 15769, 6475: 23679, 6476: 17965, 6477: 9528, 6478: 6800, 6479: 2882, 6480: 33236, 6481: 31018, 6482: 11795, 6483: 24855, 6484: 22835, 6485: 10217, 6486: 5472, 6487: 2527, 6488: 31793, 6489: 4688, 6490: 4130, 6491: 1245, 6492: 32521, 6493: 31790, 6494: 56, 6495: 1665, 6496: 4522, 6497: 18599, 6498: 3763, 6499: 17397, 6500: 2382, 6501: 1623, 6502: 4210, 6503: 16317, 6504: 3267, 6505: 28959, 6506: 5415, 6507: 9087, 6508: 29323, 6509: 1643, 6510: 1625, 6511: 16506, 6512: 3685, 6513: 32750, 6514: 6189, 6515: 17127, 6516: 32139, 6517: 9732, 6518: 824, 6519: 22983, 6520: 30133, 6521: 9045, 6522: 17141, 6523: 16636, 6524: 7915, 6525: 1644, 6526: 14347, 6527: 8706, 6528: 5090, 6529: 10701, 6530: 15133, 6531: 31318, 6532: 7139, 6533: 8333, 6534: 24275, 6535: 31738, 6536: 21641, 6537: 8241, 6538: 11763, 6539: 12133, 6540: 3498, 6541: 2616, 6542: 9393, 6543: 10545, 6544: 20913, 6545: 982, 6546: 9409, 6547: 30289, 6548: 17733, 6549: 1928, 6550: 4012, 6551: 24975, 6552: 5501, 6553: 1220, 6554: 2072, 6555: 510, 6556: 28419, 6557: 18643, 6558: 8936, 6559: 19727, 6560: 1939, 6561: 33508, 6562: 3820, 6563: 30813, 6564: 15795, 6565: 18419, 6566: 7518, 6567: 29943, 6568: 26079, 6569: 19519, 6570: 33911, 6571: 7466, 6572: 9205, 6573: 11715, 6574: 12237, 6575: 3235, 6576: 10519, 6577: 1440, 6578: 8963, 6579: 1790, 6580: 4660, 6581: 21081, 6582: 1223, 6583: 30053, 6584: 30746, 6585: 22295, 6586: 9627, 6587: 29770, 6588: 2910, 6589: 34367, 6590: 6355, 6591: 6792, 6592: 1154, 6593: 676, 6594: 6412, 6595: 16405, 6596: 23551, 6597: 6721, 6598: 17693, 6599: 19187, 6600: 33905, 6601: 668, 6602: 32256, 6603: 13233, 6604: 2091, 6605: 9167, 6606: 20557, 6607: 23781, 6608: 7122, 6609: 5889, 6610: 28537, 6611: 1115, 6612: 2600, 6613: 1620, 6614: 5907, 6615: 5260, 6616: 1767, 6617: 30499, 6618: 8722, 6619: 9608, 6620: 4923, 6621: 23213, 6622: 5875, 6623: 2346, 6624: 5842, 6625: 3990, 6626: 16023, 6627: 12101, 6628: 23229, 6629: 29834, 6630: 16381, 6631: 1866, 6632: 27613, 6633: 22137, 6634: 5620, 6635: 33105, 6636: 16648, 6637: 29707, 6638: 27757, 6639: 5167, 6640: 3152, 6641: 2782, 6642: 32954, 6643: 832, 6644: 3390, 6645: 20463, 6646: 23837, 6647: 3573, 6648: 17891, 6649: 31777, 6650: 32879, 6651: 4823, 6652: 9279, 6653: 32947, 6654: 3025, 6655: 3968, 6656: 1685, 6657: 13255, 6658: 7561, 6659: 2080, 6660: 2261, 6661: 16255, 6662: 9708, 6663: 24995, 6664: 31143, 6665: 32735, 6666: 786, 6667: 23895, 6668: 8664, 6669: 3863, 6670: 3192, 6671: 30358, 6672: 16319, 6673: 1664, 6674: 6787, 6675: 11717, 6676: 4452, 6677: 13299, 6678: 2574, 6679: 8972, 6680: 4318, 6681: 1989, 6682: 2727, 6683: 16798, 6684: 1176, 6685: 1973, 6686: 29772, 6687: 11735, 6688: 983, 6689: 3499, 6690: 1927, 6691: 32755, 6692: 28439, 6693: 30080, 6694: 27503, 6695: 2525, 6696: 8619, 6697: 16183, 6698: 26085, 6699: 2731, 6700: 7985, 6701: 31972, 6702: 5270, 6703: 30382, 6704: 7786, 6705: 20705, 6706: 24637, 6707: 2365, 6708: 4540, 6709: 2308, 6710: 7807, 6711: 16377, 6712: 574, 6713: 33366, 6714: 12399, 6715: 32454, 6716: 10904, 6717: 9365, 6718: 32853, 6719: 31710, 6720: 8526, 6721: 19185, 6722: 1775, 6723: 2599, 6724: 15391, 6725: 13373, 6726: 31830, 6727: 29757, 6728: 19237, 6729: 5492, 6730: 1712, 6731: 1743, 6732: 9667, 6733: 5662, 6734: 9521, 6735: 7248, 6736: 1076, 6737: 1692, 6738: 3843, 6739: 1586, 6740: 4908, 6741: 30199, 6742: 8920, 6743: 12723, 6744: 8231, 6745: 12907, 6746: 21773, 6747: 5372, 6748: 30091, 6749: 1992, 6750: 9502, 6751: 23259, 6752: 31769, 6753: 2278, 6754: 6907, 6755: 20667, 6756: 3328, 6757: 23595, 6758: 21009, 6759: 28631, 6760: 6607, 6761: 21775, 6762: 3430, 6763: 29585, 6764: 17267, 6765: 1933, 6766: 10958, 6767: 31300, 6768: 1271, 6769: 21421, 6770: 15937, 6771: 9826, 6772: 4103, 6773: 3736, 6774: 23029, 6775: 3821, 6776: 2522, 6777: 2311, 6778: 31073, 6779: 1766, 6780: 10813, 6781: 16169, 6782: 4967, 6783: 30967, 6784: 31467, 6785: 2876, 6786: 17387, 6787: 5878, 6788: 4104, 6789: 4929, 6790: 33213, 6791: 6513, 6792: 15127, 6793: 10373, 6794: 4718, 6795: 281, 6796: 11087, 6797: 13041, 6798: 3625, 6799: 13407, 6800: 8554, 6801: 13249, 6802: 33549, 6803: 21427, 6804: 1936, 6805: 3496, 6806: 31549, 6807: 21771, 6808: 16247, 6809: 32564, 6810: 30920, 6811: 5232, 6812: 10375, 6813: 4147, 6814: 21821, 6815: 9053, 6816: 13309, 6817: 33274, 6818: 13427, 6819: 611, 6820: 16251, 6821: 6038, 6822: 1183, 6823: 1442, 6824: 16936, 6825: 695, 6826: 9629, 6827: 17513, 6828: 11511, 6829: 25943, 6830: 8659, 6831: 1831, 6832: 31310, 6833: 6266, 6834: 31377, 6835: 1058, 6836: 2078, 6837: 21715, 6838: 625, 6839: 619, 6840: 2767, 6841: 6947, 6842: 1411, 6843: 5330, 6844: 2056, 6845: 33912, 6846: 21267, 6847: 13693, 6848: 17293, 6849: 22293, 6850: 32438, 6851: 10520, 6852: 10735, 6853: 2094, 6854: 19469, 6855: 32595, 6856: 9561, 6857: 31966, 6858: 6835, 6859: 1342, 6860: 5053, 6861: 7453, 6862: 8669, 6863: 2837, 6864: 19233, 6865: 4458, 6866: 8628, 6867: 3684, 6868: 32608, 6869: 32618, 6870: 31252, 6871: 4058, 6872: 21055, 6873: 8697, 6874: 9741, 6875: 816, 6876: 2529, 6877: 25873, 6878: 991, 6879: 5926, 6880: 8898, 6881: 5647, 6882: 10463, 6883: 30463, 6884: 20713, 6885: 2081, 6886: 29825, 6887: 11661, 6888: 13141, 6889: 7314, 6890: 19945, 6891: 30234, 6892: 8643, 6893: 5648, 6894: 3127, 6895: 5237, 6896: 10313, 6897: 4042, 6898: 33011, 6899: 10391, 6900: 6667, 6901: 6184, 6902: 11269, 6903: 8660, 6904: 32191, 6905: 3473, 6906: 25891, 6907: 11789, 6908: 4709, 6909: 31908, 6910: 29822, 6911: 13089, 6912: 4939, 6913: 9361, 6914: 8162, 6915: 3886, 6916: 30425, 6917: 7155, 6918: 5624, 6919: 1811, 6920: 19137, 6921: 32761, 6922: 27793, 6923: 6305, 6924: 6684, 6925: 32699, 6926: 22943, 6927: 2069, 6928: 25639, 6929: 21591, 6930: 31880, 6931: 1776, 6932: 9324, 6933: 1611, 6934: 17707, 6935: 28077, 6936: 1759, 6937: 32875, 6938: 8704, 6939: 1622, 6940: 17811, 6941: 24011, 6942: 21089, 6943: 23375, 6944: 3640, 6945: 23835, 6946: 24199, 6947: 354, 6948: 28775, 6949: 28813, 6950: 17245, 6951: 15893, 6952: 13259, 6953: 2780, 6954: 7524, 6955: 33910, 6956: 30576, 6957: 28401, 6958: 6390, 6959: 32781, 6960: 10407, 6961: 12603, 6962: 3929, 6963: 1745, 6964: 1244, 6965: 2053, 6966: 4150, 6967: 10417, 6968: 31618, 6969: 5051, 6970: 22469, 6971: 3743, 6972: 2785, 6973: 1027, 6974: 1338, 6975: 12501, 6976: 31904, 6977: 10780, 6978: 6777, 6979: 24123, 6980: 21663, 6981: 20869, 6982: 25271, 6983: 3070, 6984: 24437, 6985: 11447, 6986: 2453, 6987: 13083, 6988: 1160, 6989: 20329, 6990: 19925, 6991: 6978, 6992: 22225, 6993: 16371, 6994: 11659, 6995: 7862, 6996: 2384, 6997: 25991, 6998: 2058, 6999: 9650, 7000: 8626, 7001: 24321, 7002: 3661, 7003: 2524, 7004: 5799, 7005: 4398, 7006: 19337, 7007: 8297, 7008: 1656, 7009: 5193, 7010: 23917, 7011: 2779, 7012: 1343, 7013: 9861, 7014: 1667, 7015: 2220, 7016: 503, 7017: 25975, 7018: 33544, 7019: 13375, 7020: 1708, 7021: 22093, 7022: 33449, 7023: 1937, 7024: 24201, 7025: 19287, 7026: 3511, 7027: 15653, 7028: 1052, 7029: 18231, 7030: 26015, 7031: 1105, 7032: 25293, 7033: 10258, 7034: 434, 7035: 7721, 7036: 11799, 7037: 20857, 7038: 24197, 7039: 29515, 7040: 30766, 7041: 6061, 7042: 1820, 7043: 13857, 7044: 9662, 7045: 4927, 7046: 7374, 7047: 305, 7048: 2839, 7049: 22411, 7050: 2622, 7051: 6797, 7052: 30534, 7053: 22955, 7054: 10347, 7055: 964, 7056: 18133, 7057: 5631, 7058: 11189, 7059: 30826, 7060: 15535, 7061: 5447, 7062: 1741, 7063: 29353, 7064: 10360, 7065: 33170, 7066: 33909, 7067: 30324, 7068: 31498, 7069: 30394, 7070: 10355, 7071: 1640, 7072: 1216, 7073: 7504, 7074: 25439, 7075: 10838, 7076: 7450, 7077: 2528, 7078: 32950, 7079: 12993, 7080: 13479, 7081: 4098, 7082: 13971, 7083: 31519, 7084: 8701, 7085: 3429, 7086: 2258, 7087: 10801, 7088: 2482, 7089: 1613, 7090: 31165, 7091: 22467, 7092: 2391, 7093: 2538, 7094: 2249, 7095: 29141, 7096: 10105, 7097: 22205, 7098: 9170, 7099: 22841, 7100: 19239, 7101: 6525, 7102: 18831, 7103: 31568, 7104: 24181, 7105: 23061, 7106: 2719, 7107: 20581, 7108: 5632, 7109: 2455, 7110: 9392, 7111: 17849, 7112: 10511, 7113: 2364, 7114: 7511, 7115: 15021, 7116: 32886, 7117: 28041, 7118: 3597, 7119: 1252, 7120: 25973, 7121: 2082, 7122: 32588, 7123: 7296, 7124: 21471, 7125: 31747, 7126: 24315, 7127: 24719, 7128: 25591, 7129: 33578, 7130: 18375, 7131: 23157, 7132: 30489, 7133: 32856, 7134: 24237, 7135: 24139, 7136: 4827, 7137: 20951, 7138: 32854, 7139: 6937, 7140: 7244, 7141: 19481, 7142: 27949, 7143: 8773, 7144: 2790, 7145: 13519, 7146: 6491, 7147: 9910, 7148: 2003, 7149: 10979, 7150: 29850, 7151: 19217, 7152: 17048, 7153: 32749, 7154: 7451, 7155: 9850, 7156: 10104, 7157: 8752, 7158: 10941, 7159: 30473, 7160: 3517, 7161: 1982, 7162: 31115, 7163: 3817, 7164: 8682, 7165: 32084, 7166: 7482, 7167: 23079, 7168: 7255, 7169: 31641, 7170: 22473, 7171: 31624, 7172: 9967, 7173: 5246, 7174: 1627, 7175: 13369, 7176: 5549, 7177: 19755, 7178: 16373, 7179: 1772, 7180: 33692, 7181: 8696, 7182: 7258, 7183: 19977, 7184: 8731, 7185: 2941, 7186: 2521, 7187: 11389, 7188: 8782, 7189: 32346, 7190: 31107, 7191: 29955, 7192: 7782, 7193: 2737, 7194: 19207, 7195: 8710, 7196: 6183, 7197: 28809, 7198: 31494, 7199: 17161, 7200: 19279, 7201: 3772, 7202: 2591, 7203: 1515, 7204: 7423, 7205: 12295, 7206: 30251, 7207: 15891, 7208: 32934, 7209: 21107, 7210: 29609, 7211: 3320, 7212: 30428, 7213: 18425, 7214: 2088, 7215: 19171, 7216: 5873, 7217: 20547, 7218: 33103, 7219: 2147, 7220: 6131, 7221: 2317, 7222: 17843, 7223: 8718, 7224: 7528, 7225: 23935, 7226: 7497, 7227: 13515, 7228: 27687, 7229: 3605, 7230: 32764, 7231: 31439, 7232: 8774, 7233: 15525, 7234: 3026, 7235: 20919, 7236: 6939, 7237: 4252, 7238: 32606, 7239: 12599, 7240: 1725, 7241: 24633, 7242: 28717, 7243: 30840, 7244: 32697, 7245: 1341, 7246: 1340, 7247: 16656, 7248: 1819, 7249: 28057, 7250: 8772, 7251: 6843, 7252: 8717, 7253: 3596, 7254: 25393, 7255: 30600, 7256: 27437, 7257: 1059, 7258: 10674, 7259: 4391, 7260: 27927, 7261: 7475, 7262: 32789, 7263: 7523, 7264: 7569, 7265: 8993, 7266: 6318, 7267: 13085, 7268: 29946, 7269: 29771, 7270: 29673, 7271: 18723, 7272: 21215, 7273: 30739, 7274: 2462, 7275: 15533, 7276: 31309, 7277: 12561, 7278: 2983, 7279: 1075, 7280: 5826, 7281: 7448, 7282: 21607, 7283: 1285, 7284: 10954, 7285: 28241, 7286: 1596, 7287: 1528, 7288: 28305, 7289: 9356, 7290: 1705, 7291: 2897, 7292: 7060, 7293: 32289, 7294: 34324, 7295: 7530, 7296: 28355, 7297: 2765, 7298: 32344, 7299: 14743, 7300: 8679, 7301: 31102, 7302: 25377, 7303: 4176, 7304: 5304, 7305: 2054, 7306: 21875, 7307: 19209, 7308: 21717, 7309: 1949, 7310: 14023, 7311: 30075, 7312: 3463, 7313: 12865, 7314: 32811, 7315: 5869, 7316: 16389, 7317: 15389, 7318: 30160, 7319: 7449, 7320: 17163, 7321: 11729, 7322: 25545, 7323: 31426, 7324: 13087, 7325: 5025, 7326: 30105, 7327: 28639, 7328: 31108, 7329: 30162, 7330: 1751, 7331: 31512, 7332: 22471, 7333: 8935, 7334: 3882, 7335: 13439, 7336: 7243, 7337: 30336, 7338: 28531, 7339: 18457, 7340: 32767, 7341: 7488, 7342: 30947, 7343: 15045, 7344: 14479, 7345: 14563, 7346: 29701, 7347: 15529, 7348: 8719, 7349: 6935, 7350: 15545, 7351: 13441, 7352: 25461, 7353: 537, 7354: 17353, 7355: 9509, 7356: 29347, 7357: 32813, 7358: 32377, 7359: 30782, 7360: 30433, 7361: 1455, 7362: 6827, 7363: 12521, 7364: 30850, 7365: 33512, 7366: 6856, 7367: 28245, 7368: 17395, 7369: 6090, 7370: 1833, 7371: 30948, 7372: 24443, 7373: 27785, 7374: 6847, 7375: 28045, 7376: 2362, 7377: 33113, 7378: 3695, 7379: 29455, 7380: 2022, 7381: 6829, 7382: 30327, 7383: 23759, 7384: 2796, 7385: 30393, 7386: 31244, 7387: 30076, 7388: 2219, 7389: 28953, 7390: 29904, 7391: 21179, 7392: 31491, 7393: 1053, 7394: 10743, 7395: 10639, 7396: 3516, 7397: 11579, 7398: 30430, 7399: 8681, 7400: 1355, 7401: 33493, 7402: 3799, 7403: 29173, 7404: 30241, 7405: 30330, 7406: 3306, 7407: 11679, 7408: 8680, 7409: 32291, 7410: 7446, 7411: 29633, 7412: 19125, 7413: 9506, 7414: 2262, 7415: 681, 7416: 24861, 7417: 1031, 7418: 1855, 7419: 7843, 7420: 20725, 7421: 1287, 7422: 28687, 7423: 8958, 7424: 2967, 7425: 4390, 7426: 2181, 7427: 32384, 7428: 23401, 7429: 6281, 7430: 10710, 7431: 7445, 7432: 24363, 7433: 23387, 7434: 30073, 7435: 25549, 7436: 30334, 7437: 29932, 7438: 2730, 7439: 33871, 7440: 28049, 7441: 675, 7442: 28765, 7443: 1560, 7444: 31695, 7445: 21833, 7446: 6181, 7447: 30405, 7448: 10003, 7449: 22059, 7450: 4395, 7451: 31912, 7452: 28955, 7453: 18795, 7454: 28051, 7455: 23933, 7456: 23053, 7457: 13669, 7458: 5874, 7459: 994, 7460: 32790, 7461: 28761, 7462: 9689, 7463: 29731, 7464: 725, 7465: 33545, 7466: 24807, 7467: 30077, 7468: 5322, 7469: 7273, 7470: 5017, 7471: 32803, 7472: 2310, 7473: 3064, 7474: 10584, 7475: 28197, 7476: 32296, 7477: 15455, 7478: 31257, 7479: 3513, 7480: 4761, 7481: 7494, 7482: 5872, 7483: 11411, 7484: 6857, 7485: 10406, 7486: 8064, 7487: 8778, 7488: 6848, 7489: 9337, 7490: 8952, 7491: 18841, 7492: 14235, 7493: 29107, 7494: 11867, 7495: 6769, 7496: 7021, 7497: 5871, 7498: 5880, 7499: 30081, 7500: 29411, 7501: 6852, 7502: 4389, 7503: 17659, 7504: 9221, 7505: 4392, 7506: 10859, 7507: 3252, 7508: 30404, 7509: 6836, 7510: 6846, 7511: 1286, 7512: 2057, 7513: 8729, 7514: 17159, 7515: 30074, 7516: 3960, 7517: 765, 7518: 24843, 7519: 22427, 7520: 2232, 7521: 28897, 7522: 23065, 7523: 600, 7524: 29766, 7525: 8732, 7526: 30431, 7527: 13513, 7528: 5904, 7529: 9491, 7530: 13835, 7531: 21891, 7532: 752, 7533: 10763, 7534: 18047, 7535: 31513, 7536: 112, 7537: 5299, 7538: 28993, 7539: 1621, 7540: 7259, 7541: 7809, 7542: 1626, 7543: 30424, 7544: 32739, 7545: 4250, 7546: 8733, 7547: 19811, 7548: 29905, 7549: 28951, 7550: 8645, 7551: 4394, 7552: 6832, 7553: 6837, 7554: 12919, 7555: 4733, 7556: 32765, 7557: 21335, 7558: 29944, 7559: 23023, 7560: 5622, 7561: 7485, 7562: 25291, 7563: 31014, 7564: 8730, 7565: 6842, 7566: 5656, 7567: 8957, 7568: 2974, 7569: 20707, 7570: 13715, 7571: 7025, 7572: 10742, 7573: 8968, 7574: 13795, 7575: 9777, 7576: 7810, 7577: 12803, 7578: 6841, 7579: 4266, 7580: 29865, 7581: 5838, 7582: 31759, 7583: 18149, 7584: 25533, 7585: 5158, 7586: 14125, 7587: 30400, 7588: 32804, 7589: 8716, 7590: 7512, 7591: 10627, 7592: 29902, 7593: 32293, 7594: 29933, 7595: 22417, 7596: 30401, 7597: 6346, 7598: 1529, 7599: 21831, 7600: 30427, 7601: 32295, 7602: 29597, 7603: 24847, 7604: 7032, 7605: 3112, 7606: 30078, 7607: 17076, 7608: 29768, 7609: 10436, 7610: 5870, 7611: 9744, 7612: 30335, 7613: 4966, 7614: 1995, 7615: 8671, 7616: 5715, 7617: 4393, 7618: 5602, 7619: 30659, 7620: 33119, 7621: 15527, 7622: 29941, 7623: 3490, 7624: 1451, 7625: 20153, 7626: 32400, 7627: 6850, 7628: 29681, 7629: 33042, 7630: 32779, 7631: 19297, 7632: 30705, 7633: 8604, 7634: 31761, 7635: 31139, 7636: 6392, 7637: 29989, 7638: 30104, 7639: 9976, 7640: 28831, 7641: 22385, 7642: 6431, 7643: 19231, 7644: 30666, 7645: 18463, 7646: 29105, 7647: 7192, 7648: 19213, 7649: 22163, 7650: 1009, 7651: 6831, 7652: 8751, 7653: 29906, 7654: 13541, 7655: 2146, 7656: 705, 7657: 28641, 7658: 20955, 7659: 1102, 7660: 30326, 7661: 8661, 7662: 7031, 7663: 8647, 7664: 32298, 7665: 6823, 7666: 29871, 7667: 23063, 7668: 30429, 7669: 29311, 7670: 7020, 7671: 29907, 7672: 5020, 7673: 7882, 7674: 30480, 7675: 1641, 7676: 8646, 7677: 28981, 7678: 6839, 7679: 32288, 7680: 30418, 7681: 31633, 7682: 4462, 7683: 8663, 7684: 29293, 7685: 17151, 7686: 6830, 7687: 3113, 7688: 22415, 7689: 33276, 7690: 6654, 7691: 1765, 7692: 13421, 7693: 28339, 7694: 2972, 7695: 13359, 7696: 7071, 7697: 16692, 7698: 7026, 7699: 9318, 7700: 5868, 7701: 6000, 7702: 29952, 7703: 5661, 7704: 30664, 7705: 31578, 7706: 31501, 7707: 30331, 7708: 4934, 7709: 13793, 7710: 2778, 7711: 8486, 7712: 30337, 7713: 30667, 7714: 3930, 7715: 29908, 7716: 30339, 7717: 9342, 7718: 10585, 7719: 23051, 7720: 11691, 7721: 5812, 7722: 788, 7723: 7029, 7724: 5811, 7725: 29988, 7726: 28645, 7727: 30328, 7728: 8925, 7729: 4397, 7730: 32467, 7731: 30092, 7732: 6849, 7733: 2475, 7734: 6840, 7735: 29777, 7736: 30814, 7737: 5813, 7738: 23517, 7739: 30340, 7740: 9801, 7741: 29971, 7742: 13543, 7743: 6535, 7744: 32906, 7745: 7897, 7746: 23059, 7747: 22159, 7748: 30396, 7749: 7027, 7750: 16802, 7751: 11687, 7752: 3832, 7753: 1647, 7754: 3816, 7755: 7030, 7756: 22167, 7757: 30669, 7758: 7811, 7759: 9056, 7760: 6851, 7761: 33220, 7762: 29615, 7763: 1993, 7764: 18561, 7765: 4396, 7766: 33021, 7767: 10586, 7768: 5814, 7769: 9895, 7770: 30559, 7771: 33696, 7772: 6844, 7773: 29973, 7774: 30329, 7775: 31685, 7776: 1585, 7777: 6834, 7778: 2250, 7779: 29980, 7780: 1966, 7781: 28843, 7782: 30668, 7783: 6838, 7784: 2777, 7785: 1812, 7786: 6828, 7787: 11869, 7788: 20811, 7789: 3533, 7790: 23057, 7791: 2318, 7792: 3801, 7793: 4567, 7794: 31687, 7795: 23877, 7796: 13311, 7797: 29954, 7798: 22157, 7799: 7024, 7800: 30665, 7801: 30859, 7802: 6833, 7803: 31689, 7804: 29619, 7805: 4531, 7806: 31688, 7807: 30438, 7808: 29978, 7809: 1657, 7810: 22181, 7811: 28637, 7812: 2776, 7813: 16436, 7814: 33394, 7815: 28657, 7816: 22377, 7817: 29979, 7818: 22173, 7819: 16822, 7820: 31686, 7821: 16606, 7822: 6950, 7823: 22255, 7824: 19315, 7825: 29984, 7826: 30860, 7827: 29995, 7828: 7617, 7829: 16602, 7830: 8689, 7831: 16604, 7832: 11357, 7833: 7022, 7834: 11689, 7835: 11915, 7836: 7028, 7837: 28929, 7838: 16610, 7839: 32294, 7840: 31586, 7841: 22161, 7842: 7900, 7843: 2792, 7844: 11883, 7845: 29617, 7846: 11897, 7847: 32894, 7848: 22169, 7849: 1345, 7850: 22179, 7851: 5877, 7852: 16608, 7853: 6953, 7854: 31634, 7855: 29949, 7856: 413, 7857: 13405, 7858: 3287, 7859: 25627, 7860: 18305, 7861: 31874, 7862: 16696, 7863: 10139, 7864: 16812, 7865: 9433, 7866: 17088, 7867: 17090, 7868: 16570, 7869: 22571, 7870: 22611, 7871: 22621, 7872: 22575, 7873: 22603, 7874: 22607, 7875: 24645, 7876: 14183, 7877: 27557, 7878: 11275, 7879: 18635, 7880: 30446, 7881: 19773, 7882: 8226, 7883: 24647, 7884: 32778, 7885: 19923, 7886: 25971, 7887: 8723, 7888: 6520, 7889: 8239, 7890: 19557, 7891: 26285, 7892: 3844, 7893: 25089, 7894: 29791, 7895: 33232, 7896: 7633, 7897: 21765, 7898: 33342, 7899: 16261, 7900: 6630, 7901: 13947, 7902: 9796, 7903: 31730, 7904: 7715, 7905: 12951, 7906: 25963, 7907: 26013, 7908: 26017, 7909: 15787, 7910: 22565, 7911: 22451, 7912: 17479, 7913: 24373, 7914: 33708, 7915: 30093, 7916: 31662, 7917: 16514, 7918: 29897, 7919: 33550, 7920: 9613, 7921: 33712, 7922: 3909, 7923: 9812, 7924: 4680, 7925: 20207, 7926: 20189, 7927: 26101, 7928: 32859, 7929: 6568, 7930: 8184, 7931: 8183, 7932: 3637, 7933: 33273, 7934: 9343, 7935: 6447, 7936: 16786, 7937: 9177, 7938: 32237, 7939: 29742, 7940: 6671, 7941: 33344, 7942: 26303, 7943: 7803, 7944: 21025, 7945: 29821, 7946: 29861, 7947: 29820, 7948: 29862, 7949: 29860, 7950: 9868, 7951: 16558, 7952: 17893, 7953: 8025, 7954: 33862, 7955: 33859, 7956: 31236, 7957: 29792, 7958: 30164, 7959: 24269, 7960: 29793, 7961: 10040, 7962: 31211, 7963: 16041, 7964: 6636, 7965: 21433, 7966: 17002, 7967: 10967, 7968: 25969, 7969: 13505, 7970: 30923, 7971: 16794, 7972: 25977, 7973: 24901, 7974: 5990, 7975: 29711, 7976: 31978, 7977: 30955, 7978: 7956, 7979: 6762, 7980: 32858, 7981: 15971, 7982: 31644, 7983: 19121, 7984: 3825, 7985: 9499, 7986: 18451, 7987: 2639, 7988: 2636, 7989: 6771, 7990: 8478, 7991: 32422, 7992: 28367, 7993: 28371, 7994: 28369, 7995: 30450, 7996: 17307, 7997: 9028, 7998: 20385, 7999: 5554, 8000: 6517, 8001: 32010, 8002: 3243, 8003: 15137, 8004: 34119, 8005: 10000, 8006: 30193, 8007: 29395, 8008: 29961, 8009: 24679, 8010: 8749, 8011: 18005, 8012: 30010, 8013: 26347, 8014: 30173, 8015: 30071, 8016: 19533, 8017: 33872, 8018: 30163, 8019: 22345, 8020: 20093, 8021: 20095, 8022: 33659, 8023: 29919, 8024: 13423, 8025: 29179, 8026: 29653, 8027: 24355, 8028: 9345, 8029: 20353, 8030: 30738, 8031: 12243, 8032: 10852, 8033: 20199, 8034: 31237, 8035: 20243, 8036: 32581, 8037: 24071, 8038: 8493, 8039: 24677, 8040: 18527, 8041: 32775, 8042: 4470, 8043: 29665, 8044: 8233, 8045: 23265, 8046: 2691, 8047: 23661, 8048: 23857, 8049: 31505, 8050: 23107, 8051: 29918, 8052: 10323, 8053: 31699, 8054: 7781, 8055: 5477, 8056: 30106, 8057: 29355, 8058: 30602, 8059: 5934, 8060: 16027, 8061: 9501, 8062: 31263, 8063: 11995, 8064: 28347, 8065: 10270, 8066: 18521, 8067: 18353, 8068: 8500, 8069: 33474, 8070: 23585, 8071: 8764, 8072: 8763, 8073: 10246, 8074: 18937, 8075: 29972, 8076: 11673, 8077: 17223, 8078: 9862, 8079: 22953, 8080: 30086, 8081: 33885, 8082: 32783, 8083: 9807, 8084: 3251, 8085: 10539, 8086: 10603, 8087: 10623, 8088: 5930, 8089: 27693, 8090: 2750, 8091: 18389, 8092: 19961, 8093: 18587, 8094: 22455, 8095: 18085, 8096: 18031, 8097: 18823, 8098: 18083, 8099: 17953, 8100: 22479, 8101: 22487, 8102: 18589, 8103: 17955, 8104: 17957, 8105: 18829, 8106: 18825, 8107: 17951, 8108: 9770, 8109: 18029, 8110: 22477, 8111: 22445, 8112: 22495, 8113: 18033, 8114: 18827, 8115: 11521, 8116: 22439, 8117: 22441, 8118: 29181, 8119: 4417, 8120: 30512, 8121: 11203, 8122: 15479, 8123: 23659, 8124: 26111, 8125: 26099, 8126: 2694, 8127: 9882, 8128: 32943, 8129: 33217, 8130: 33215, 8131: 7967, 8132: 26009, 8133: 30072, 8134: 21549, 8135: 10509, 8136: 5207, 8137: 29587, 8138: 30058, 8139: 6150, 8140: 28263, 8141: 11213, 8142: 29451, 8143: 30981, 8144: 19957, 8145: 9950, 8146: 32831, 8147: 9781, 8148: 29671, 8149: 16007, 8150: 6060, 8151: 9518, 8152: 3164, 8153: 29651, 8154: 29814, 8155: 19947, 8156: 3973, 8157: 29926, 8158: 8786, 8159: 32227, 8160: 14211, 8161: 24051, 8162: 25109, 8163: 6384, 8164: 32845, 8165: 20025, 8166: 9496, 8167: 3947, 8168: 29928, 8169: 29623, 8170: 30764, 8171: 32800, 8172: 29645, 8173: 6701, 8174: 17291, 8175: 33144, 8176: 32777, 8177: 30157, 8178: 20835, 8179: 30392, 8180: 29752, 8181: 32092, 8182: 18533, 8183: 19627, 8184: 9525, 8185: 11767, 8186: 29409, 8187: 33870, 8188: 33869, 8189: 33868, 8190: 30921, 8191: 10757, 8192: 30457, 8193: 29870, 8194: 29677, 8195: 7856, 8196: 30777, 8197: 19087, 8198: 5581, 8199: 8899, 8200: 30704, 8201: 13769, 8202: 13823, 8203: 13827, 8204: 33177, 8205: 30442, 8206: 30443, 8207: 30444, 8208: 30743, 8209: 24049, 8210: 30167, 8211: 31418, 8212: 29551, 8213: 23639, 8214: 9584, 8215: 8065, 8216: 5140, 8217: 20127, 8218: 29661, 8219: 6366, 8220: 32623, 8221: 28361, 8222: 24047, 8223: 27721, 8224: 27723, 8225: 29966, 8226: 9832, 8227: 29453, 8228: 17985, 8229: 18087, 8230: 17983, 8231: 15663, 8232: 22615, 8233: 17987, 8234: 8353, 8235: 29679, 8236: 3870, 8237: 5192, 8238: 33034, 8239: 29555, 8240: 3277, 8241: 3275, 8242: 3279, 8243: 6012, 8244: 10759, 8245: 31071, 8246: 32408, 8247: 23349, 8248: 30079, 8249: 33858, 8250: 32693, 8251: 28035, 8252: 30407, 8253: 33915, 8254: 22511, 8255: 33454, 8256: 32430, 8257: 6261, 8258: 31587, 8259: 28047, 8260: 32759, 8261: 24073, 8262: 27519, 8263: 15227, 8264: 10335, 8265: 18081, 8266: 7189, 8267: 33226, 8268: 20117, 8269: 2173, 8270: 17563, 8271: 32626, 8272: 28151, 8273: 5886, 8274: 28053, 8275: 30395, 8276: 31873, 8277: 19135, 8278: 17749, 8279: 17753, 8280: 22465, 8281: 33115, 8282: 17615, 8283: 28067, 8284: 17673, 8285: 30066, 8286: 6206, 8287: 30096, 8288: 23597, 8289: 32784, 8290: 25027, 8291: 31493, 8292: 32844, 8293: 23901, 8294: 23899, 8295: 4905, 8296: 19971, 8297: 16131, 8298: 6577, 8299: 30873, 8300: 3828, 8301: 15915, 8302: 33907, 8303: 5151, 8304: 23129, 8305: 33358, 8306: 8495, 8307: 30094, 8308: 8889, 8309: 9817, 8310: 9819, 8311: 28989, 8312: 29782, 8313: 33551, 8314: 33552, 8315: 24019, 8316: 16994, 8317: 3180, 8318: 10136, 8319: 10135, 8320: 10138, 8321: 20183, 8322: 11829, 8323: 10137, 8324: 11245, 8325: 10282, 8326: 10285, 8327: 28237, 8328: 6942, 8329: 10648, 8330: 29963, 8331: 32059, 8332: 30781, 8333: 33843, 8334: 27951, 8335: 8442, 8336: 9820, 8337: 6727, 8338: 24259, 8339: 25267, 8340: 25491, 8341: 25265, 8342: 21447, 8343: 27559, 8344: 7616, 8345: 3846, 8346: 7751, 8347: 5994, 8348: 25661, 8349: 12259, 8350: 29557, 8351: 19597, 8352: 16954, 8353: 32251, 8354: 16159, 8355: 32461, 8356: 4096, 8357: 10149, 8358: 33225, 8359: 33228, 8360: 29833, 8361: 30760, 8362: 23885, 8363: 31116, 8364: 10758, 8365: 33401, 8366: 11533, 8367: 22671, 8368: 18743, 8369: 2741, 8370: 22221, 8371: 24045, 8372: 30397, 8373: 7529, 8374: 33116, 8375: 12391, 8376: 31643, 8377: 31638, 8378: 31639, 8379: 16796, 8380: 29895, 8381: 14253, 8382: 32776, 8383: 25083, 8384: 30398, 8385: 33861, 8386: 33272, 8387: 28695, 8388: 29715, 8389: 24903, 8390: 30647, 8391: 30217, 8392: 30864, 8393: 23643, 8394: 7713, 8395: 8890, 8396: 8891, 8397: 4218, 8398: 8953, 8399: 9242, 8400: 33914, 8401: 32788, 8402: 31517, 8403: 9455, 8404: 29900, 8405: 8777, 8406: 9303, 8407: 17601, 8408: 18577, 8409: 30019, 8410: 30018, 8411: 5089, 8412: 33174, 8413: 32904, 8414: 7836, 8415: 22849, 8416: 33176, 8417: 19305, 8418: 16970, 8419: 20075, 8420: 28143, 8421: 31575, 8422: 7575, 8423: 18815, 8424: 8415, 8425: 16730, 8426: 13091, 8427: 19069, 8428: 4220, 8429: 30158, 8430: 17624, 8431: 29846, 8432: 33343, 8433: 32763, 8434: 14947, 8435: 21163, 8436: 29795, 8437: 20085, 8438: 29888, 8439: 17521, 8440: 29053, 8441: 9338, 8442: 8999, 8443: 30065, 8444: 23267, 8445: 3362, 8446: 29796, 8447: 32087, 8448: 32088, 8449: 19879, 8450: 34238, 8451: 29635, 8452: 7106, 8453: 30905, 8454: 30403, 8455: 3879, 8456: 29459, 8457: 19849, 8458: 27399, 8459: 29729, 8460: 32143, 8461: 32147, 8462: 22675, 8463: 22631, 8464: 22635, 8465: 22633, 8466: 17359, 8467: 25941, 8468: 32145, 8469: 32146, 8470: 8324, 8471: 7709, 8472: 4331, 8473: 10856, 8474: 10855, 8475: 16434, 8476: 32736, 8477: 29177, 8478: 23739, 8479: 10466, 8480: 23177, 8481: 31464, 8482: 31465, 8483: 20005, 8484: 29393, 8485: 29397, 8486: 29391, 8487: 5018, 8488: 3769, 8489: 29898, 8490: 17613, 8491: 31647, 8492: 2093, 8493: 29925, 8494: 27465, 8495: 22593, 8496: 30765, 8497: 24811, 8498: 32385, 8499: 32148, 8500: 29377, 8501: 9542, 8502: 30095, 8503: 15905, 8504: 16526, 8505: 10607, 8506: 29477, 8507: 32768, 8508: 14249, 8509: 22241, 8510: 32851, 8511: 29797, 8512: 9536, 8513: 31302, 8514: 16620, 8515: 19875, 8516: 14781, 8517: 9061, 8518: 10653, 8519: 8685, 8520: 4940, 8521: 5997, 8522: 4574, 8523: 8561, 8524: 25915, 8525: 29798, 8526: 13365, 8527: 29637, 8528: 9993, 8529: 29559, 8530: 7696, 8531: 7697, 8532: 7698, 8533: 8678, 8534: 29547, 8535: 29675, 8536: 30059, 8537: 33860, 8538: 32734, 8539: 16245, 8540: 10045, 8541: 29744, 8542: 30028, 8543: 10241, 8544: 10820, 8545: 8041, 8546: 29647, 8547: 2096, 8548: 15961, 8549: 33906, 8550: 26007, 8551: 30201, 8552: 18683, 8553: 1739, 8554: 23393, 8555: 10304, 8556: 15875, 8557: 7980, 8558: 30045, 8559: 16510, 8560: 26157, 8561: 14069, 8562: 26159, 8563: 7052, 8564: 13449, 8565: 9546, 8566: 30939, 8567: 2712, 8568: 33484, 8569: 30070, 8570: 9349, 8571: 24789, 8572: 9879, 8573: 7092, 8574: 13307, 8575: 10541, 8576: 11611, 8577: 31829, 8578: 29756, 8579: 2101, 8580: 32757, 8581: 19999, 8582: 10774, 8583: 31450, 8584: 30082, 8585: 22393, 8586: 21941, 8587: 16988, 8588: 21973, 8589: 10061, 8590: 18355, 8591: 27373, 8592: 21975, 8593: 17006, 8594: 10058, 8595: 3822, 8596: 3451, 8597: 32868, 8598: 3497, 8599: 31238, 8600: 29657, 8601: 32756, 8602: 29429, 8603: 3885, 8604: 6481, 8605: 4553, 8606: 25103, 8607: 29505, 8608: 26011, 8609: 6583, 8610: 14529, 8611: 17991, 8612: 30013, 8613: 16454, 8614: 32852, 8615: 2701, 8616: 8644, 8617: 29799, 8618: 13435, 8619: 21255, 8620: 32142, 8621: 20235, 8622: 3937, 8623: 6519, 8624: 19843, 8625: 15865, 8626: 33543, 8627: 29103, 8628: 31486, 8629: 31299, 8630: 21869, 8631: 26311, 8632: 16728, 8633: 32149, 8634: 30012, 8635: 29669, 8636: 5986, 8637: 32812, 8638: 5922, 8639: 32167, 8640: 29457, 8641: 32732, 8642: 23723, 8643: 29856, 8644: 27993, 8645: 7982, 8646: 17961, 8647: 23915, 8648: 22065, 8649: 5943, 8650: 25149, 8651: 12401, 8652: 8524, 8653: 7955, 8654: 9416, 8655: 9417, 8656: 7844, 8657: 8081, 8658: 30537, 8659: 28591, 8660: 31055, 8661: 8539, 8662: 29780, 8663: 25069, 8664: 20233, 8665: 6730, 8666: 12657, 8667: 32855, 8668: 21711, 8669: 5278, 8670: 28685, 8671: 2366, 8672: 29667, 8673: 32758, 8674: 18137, 8675: 25079, 8676: 12341, 8677: 6917, 8678: 29649, 8679: 15139, 8680: 32861, 8681: 5473, 8682: 29929, 8683: 32889, 8684: 32890, 8685: 12899, 8686: 3975, 8687: 6989, 8688: 21037, 8689: 10224, 8690: 12897, 8691: 26447, 8692: 10815, 8693: 25981, 8694: 4682, 8695: 4681, 8696: 11695, 8697: 8753, 8698: 20225, 8699: 32388, 8700: 6658, 8701: 29800, 8702: 30973, 8703: 29917, 8704: 4598, 8705: 29153, 8706: 6522, 8707: 13303, 8708: 5921, 8709: 23741, 8710: 33124, 8711: 9228, 8712: 6868, 8713: 30083, 8714: 33791, 8715: 22503, 8716: 29099, 8717: 29867, 8718: 30085, 8719: 12005, 8720: 12039, 8721: 25173, 8722: 31925, 8723: 33429, 8724: 15977, 8725: 31697, 8726: 33866, 8727: 7419, 8728: 12091, 8729: 29133, 8730: 22757, 8731: 5303, 8732: 9973, 8733: 6156, 8734: 18489, 8735: 9822, 8736: 32751, 8737: 32933, 8738: 24603, 8739: 32269, 8740: 15815, 8741: 29837, 8742: 31177, 8743: 10554, 8744: 30165, 8745: 23765, 8746: 23767, 8747: 32642, 8748: 33908, 8749: 25749, 8750: 29739, 8751: 5468, 8752: 29970, 8753: 28201, 8754: 10113, 8755: 31170, 8756: 7625, 8757: 30169, 8758: 28055, 8759: 15141, 8760: 12769, 8761: 29812, 8762: 33846, 8763: 32850, 8764: 30763, 8765: 6448, 8766: 6272, 8767: 5821, 8768: 9520, 8769: 9522, 8770: 5234, 8771: 11093, 8772: 32733, 8773: 30090, 8774: 7808, 8775: 11879, 8776: 29575, 8777: 15843, 8778: 21097, 8779: 2238, 8780: 10779, 8781: 10380, 8782: 25345, 8783: 22069, 8784: 8634, 8785: 12375, 8786: 3559, 8787: 21829, 8788: 15537, 8789: 11827, 8790: 24641, 8791: 6893, 8792: 2798, 8793: 10048, 8794: 7411, 8795: 5959, 8796: 22429, 8797: 7748, 8798: 719, 8799: 9322, 8800: 5774, 8801: 4502, 8802: 20377, 8803: 20801, 8804: 18655, 8805: 8110, 8806: 14991, 8807: 13221, 8808: 3918, 8809: 5097, 8810: 3102, 8811: 3220, 8812: 16474, 8813: 15097, 8814: 28779, 8815: 29083, 8816: 12143, 8817: 30614, 8818: 30243, 8819: 3210, 8820: 18691, 8821: 8291, 8822: 30702, 8823: 32667, 8824: 10419, 8825: 10683, 8826: 3939, 8827: 2372, 8828: 29261, 8829: 28157, 8830: 2135, 8831: 7053, 8832: 19051, 8833: 25667, 8834: 21521, 8835: 32423, 8836: 13057, 8837: 2867, 8838: 14127, 8839: 16472, 8840: 9311, 8841: 29808, 8842: 15291, 8843: 18525, 8844: 15841, 8845: 1787, 8846: 16638, 8847: 28961, 8848: 6465, 8849: 32620, 8850: 17867, 8851: 9435, 8852: 5315, 8853: 6590, 8854: 18693, 8855: 4763, 8856: 21925, 8857: 23479, 8858: 10106, 8859: 5194, 8860: 10694, 8861: 3771, 8862: 2446, 8863: 4358, 8864: 16914, 8865: 29807, 8866: 11321, 8867: 20849, 8868: 6194, 8869: 8039, 8870: 10280, 8871: 5902, 8872: 741, 8873: 13595, 8874: 19859, 8875: 29809, 8876: 13219, 8877: 12959, 8878: 21001, 8879: 2432, 8880: 17745, 8881: 3992, 8882: 3375, 8883: 2433, 8884: 3970, 8885: 3479, 8886: 30898, 8887: 2852, 8888: 5719, 8889: 10488, 8890: 21363, 8891: 5464, 8892: 2136, 8893: 747, 8894: 19631, 8895: 5762, 8896: 16642, 8897: 4600, 8898: 31118, 8899: 12997, 8900: 5784, 8901: 2873, 8902: 7178, 8903: 2866, 8904: 22347, 8905: 1401, 8906: 2396, 8907: 3941, 8908: 4360, 8909: 21069, 8910: 734, 8911: 16189, 8912: 9308, 8913: 28309, 8914: 17537, 8915: 14379, 8916: 24377, 8917: 5172, 8918: 25923, 8919: 11067, 8920: 10458, 8921: 13785, 8922: 11065, 8923: 203, 8924: 6892, 8925: 4010, 8926: 31117, 8927: 972, 8928: 12055, 8929: 24911, 8930: 14539, 8931: 4473, 8932: 10827, 8933: 6690, 8934: 368, 8935: 4399, 8936: 34107, 8937: 8293, 8938: 14543, 8939: 31189, 8940: 10695, 8941: 1408, 8942: 15541, 8943: 3919, 8944: 5644, 8945: 3636, 8946: 16059, 8947: 3478, 8948: 23665, 8949: 2438, 8950: 28311, 8951: 2841, 8952: 6692, 8953: 23247, 8954: 8918, 8955: 3679, 8956: 23047, 8957: 1896, 8958: 6041, 8959: 10668, 8960: 21751, 8961: 27413, 8962: 21597, 8963: 27363, 8964: 12957, 8965: 23033, 8966: 10457, 8967: 11747, 8968: 24021, 8969: 2352, 8970: 20379, 8971: 21349, 8972: 11807, 8973: 28859, 8974: 17251, 8975: 2411, 8976: 7730, 8977: 29085, 8978: 4590, 8979: 15867, 8980: 3286, 8981: 5651, 8982: 10590, 8983: 2505, 8984: 830, 8985: 11745, 8986: 2353, 8987: 2441, 8988: 9970, 8989: 14995, 8990: 6531, 8991: 22543, 8992: 22039, 8993: 2681, 8994: 6122, 8995: 2417, 8996: 9328, 8997: 11467, 8998: 19569, 8999: 33979, 9000: 221, 9001: 5743, 9002: 12373, 9003: 3537, 9004: 29573, 9005: 24987, 9006: 5214, 9007: 17491, 9008: 30741, 9009: 12057, 9010: 15409, 9011: 2410, 9012: 3707, 9013: 6686, 9014: 2531, 9015: 4342, 9016: 2539, 9017: 3940, 9018: 320, 9019: 2413, 9020: 9442, 9021: 1780, 9022: 30583, 9023: 28313, 9024: 7276, 9025: 24271, 9026: 2442, 9027: 7456, 9028: 27603, 9029: 5054, 9030: 4027, 9031: 5347, 9032: 9761, 9033: 14047, 9034: 2988, 9035: 5424, 9036: 3058, 9037: 3944, 9038: 13937, 9039: 4127, 9040: 4607, 9041: 1041, 9042: 5427, 9043: 31397, 9044: 16644, 9045: 1042, 9046: 4698, 9047: 19103, 9048: 3888, 9049: 14993, 9050: 2960, 9051: 2377, 9052: 2982, 9053: 3999, 9054: 1635, 9055: 24967, 9056: 1783, 9057: 7708, 9058: 8651, 9059: 29705, 9060: 1263, 9061: 24745, 9062: 20589, 9063: 10420, 9064: 8987, 9065: 10546, 9066: 3171, 9067: 15539, 9068: 1634, 9069: 20995, 9070: 14661, 9071: 23719, 9072: 7969, 9073: 23305, 9074: 4278, 9075: 11997, 9076: 9968, 9077: 30812, 9078: 17541, 9079: 1360, 9080: 3302, 9081: 33514, 9082: 21393, 9083: 13223, 9084: 10792, 9085: 3622, 9086: 9310, 9087: 2275, 9088: 2276, 9089: 14129, 9090: 2134, 9091: 2394, 9092: 5603, 9093: 8294, 9094: 2140, 9095: 9309, 9096: 2148, 9097: 6986, 9098: 5643, 9099: 24851, 9100: 10256, 9101: 2870, 9102: 2325, 9103: 25877, 9104: 6337, 9105: 3917, 9106: 2896, 9107: 7581, 9108: 11031, 9109: 9721, 9110: 33393, 9111: 31518, 9112: 7712, 9113: 1785, 9114: 10770, 9115: 11349, 9116: 1403, 9117: 7583, 9118: 823, 9119: 1387, 9120: 3239, 9121: 31401, 9122: 3050, 9123: 3995, 9124: 30128, 9125: 9545, 9126: 24453, 9127: 4816, 9128: 2188, 9129: 33588, 9130: 2955, 9131: 24849, 9132: 21059, 9133: 5455, 9134: 10421, 9135: 4057, 9136: 24317, 9137: 10851, 9138: 2590, 9139: 3747, 9140: 9588, 9141: 4714, 9142: 13325, 9143: 2533, 9144: 2883, 9145: 29915, 9146: 32267, 9147: 2445, 9148: 9638, 9149: 217, 9150: 11465, 9151: 1389, 9152: 30460, 9153: 32997, 9154: 6685, 9155: 6220, 9156: 31400, 9157: 5993, 9158: 20757, 9159: 8655, 9160: 2138, 9161: 1359, 9162: 746, 9163: 2917, 9164: 6891, 9165: 9849, 9166: 7266, 9167: 14659, 9168: 4004, 9169: 18653, 9170: 733, 9171: 18455, 9172: 30262, 9173: 2861, 9174: 2324, 9175: 31885, 9176: 8289, 9177: 2945, 9178: 7179, 9179: 33165, 9180: 3427, 9181: 18959, 9182: 17543, 9183: 5321, 9184: 13217, 9185: 8339, 9186: 5653, 9187: 5209, 9188: 2194, 9189: 33138, 9190: 10392, 9191: 2943, 9192: 3916, 9193: 2431, 9194: 1633, 9195: 11523, 9196: 8837, 9197: 8577, 9198: 6402, 9199: 1339, 9200: 24273, 9201: 6235, 9202: 9467, 9203: 8111, 9204: 8653, 9205: 1779, 9206: 2875, 9207: 27879, 9208: 22901, 9209: 316, 9210: 9009, 9211: 2021, 9212: 4946, 9213: 1275, 9214: 3062, 9215: 5686, 9216: 4304, 9217: 214, 9218: 8292, 9219: 2507, 9220: 753, 9221: 3324, 9222: 17747, 9223: 188, 9224: 3308, 9225: 1781, 9226: 15839, 9227: 9287, 9228: 19857, 9229: 23477, 9230: 3303, 9231: 22119, 9232: 3403, 9233: 1388, 9234: 2359, 9235: 3385, 9236: 25055, 9237: 24357, 9238: 30269, 9239: 1113, 9240: 211, 9241: 18151, 9242: 3998, 9243: 9778, 9244: 5324, 9245: 1895, 9246: 12955, 9247: 7268, 9248: 1821, 9249: 1510, 9250: 2868, 9251: 27909, 9252: 3300, 9253: 19101, 9254: 27881, 9255: 9904, 9256: 2871, 9257: 2341, 9258: 3802, 9259: 5213, 9260: 2858, 9261: 1274, 9262: 5924, 9263: 31995, 9264: 14657, 9265: 11749, 9266: 5259, 9267: 5212, 9268: 2329, 9269: 4363, 9270: 2378, 9271: 31740, 9272: 3538, 9273: 1331, 9274: 29703, 9275: 27747, 9276: 16187, 9277: 10553, 9278: 1272, 9279: 3680, 9280: 3048, 9281: 1273, 9282: 3074, 9283: 16091, 9284: 4490, 9285: 3107, 9286: 2357, 9287: 23101, 9288: 3582, 9289: 22655, 9290: 25669, 9291: 10286, 9292: 1407, 9293: 2360, 9294: 4365, 9295: 2859, 9296: 11185, 9297: 11969, 9298: 2869, 9299: 9006, 9300: 7458, 9301: 2191, 9302: 15845, 9303: 4491, 9304: 23519, 9305: 3329, 9306: 4164, 9307: 2328, 9308: 2189, 9309: 651, 9310: 3350, 9311: 10728, 9312: 19283, 9313: 1558, 9314: 19629, 9315: 6558, 9316: 2437, 9317: 5281, 9318: 2371, 9319: 29916, 9320: 18695, 9321: 8290, 9322: 2139, 9323: 3945, 9324: 4729, 9325: 3442, 9326: 3452, 9327: 6286, 9328: 2430, 9329: 4084, 9330: 10845, 9331: 1636, 9332: 2506, 9333: 9312, 9334: 10429, 9335: 2342, 9336: 4701, 9337: 6635, 9338: 10327, 9339: 3578, 9340: 10570, 9341: 13379, 9342: 3301, 9343: 4493, 9344: 1632, 9345: 5565, 9346: 29852, 9347: 3105, 9348: 6689, 9349: 3833, 9350: 2794, 9351: 2935, 9352: 10043, 9353: 26059, 9354: 4555, 9355: 21513, 9356: 10938, 9357: 3254, 9358: 3109, 9359: 213, 9360: 10920, 9361: 2447, 9362: 2266, 9363: 32982, 9364: 3307, 9365: 9008, 9366: 3038, 9367: 4000, 9368: 2137, 9369: 3795, 9370: 4009, 9371: 1390, 9372: 5665, 9373: 6691, 9374: 30132, 9375: 5117, 9376: 2370, 9377: 3911, 9378: 31101, 9379: 7573, 9380: 4480, 9381: 4653, 9382: 6694, 9383: 4011, 9384: 2435, 9385: 2530, 9386: 9487, 9387: 1405, 9388: 4562, 9389: 2343, 9390: 2989, 9391: 1332, 9392: 4494, 9393: 3896, 9394: 7262, 9395: 4364, 9396: 12059, 9397: 10697, 9398: 2958, 9399: 4356, 9400: 17012, 9401: 3078, 9402: 17539, 9403: 3370, 9404: 7582, 9405: 3532, 9406: 3557, 9407: 2195, 9408: 28517, 9409: 31424, 9410: 3039, 9411: 1406, 9412: 5208, 9413: 5211, 9414: 5210, 9415: 2469, 9416: 7264, 9417: 8652, 9418: 2440, 9419: 12995, 9420: 13643, 9421: 3056, 9422: 3706, 9423: 31652, 9424: 9232, 9425: 20959, 9426: 3382, 9427: 3108, 9428: 1038, 9429: 5439, 9430: 3951, 9431: 2436, 9432: 2755, 9433: 9718, 9434: 30454, 9435: 2340, 9436: 4732, 9437: 29730, 9438: 220, 9439: 1385, 9440: 11855, 9441: 3628, 9442: 4824, 9443: 13559, 9444: 3379, 9445: 5411, 9446: 1513, 9447: 3543, 9448: 2532, 9449: 5316, 9450: 19633, 9451: 4489, 9452: 2187, 9453: 3728, 9454: 1512, 9455: 3250, 9456: 10906, 9457: 17371, 9458: 3046, 9459: 1702, 9460: 736, 9461: 6120, 9462: 30543, 9463: 2375, 9464: 1353, 9465: 2145, 9466: 6422, 9467: 1496, 9468: 3569, 9469: 8275, 9470: 2434, 9471: 24327, 9472: 23475, 9473: 9325, 9474: 2540, 9475: 827, 9476: 4541, 9477: 2863, 9478: 2412, 9479: 8654, 9480: 2327, 9481: 3378, 9482: 5109, 9483: 5191, 9484: 1770, 9485: 2872, 9486: 3422, 9487: 1834, 9488: 4488, 9489: 2957, 9490: 4340, 9491: 11815, 9492: 5399, 9493: 7611, 9494: 828, 9495: 3560, 9496: 5408, 9497: 34015, 9498: 2185, 9499: 755, 9500: 692, 9501: 4730, 9502: 3920, 9503: 9599, 9504: 10575, 9505: 4852, 9506: 4825, 9507: 4820, 9508: 22081, 9509: 7612, 9510: 5522, 9511: 5556, 9512: 5614, 9513: 1383, 9514: 32484, 9515: 1791, 9516: 3982, 9517: 2610, 9518: 2721, 9519: 9327, 9520: 4355, 9521: 4608, 9522: 1404, 9523: 2439, 9524: 3529, 9525: 3034, 9526: 22815, 9527: 4868, 9528: 33750, 9529: 19635, 9530: 9091, 9531: 4379, 9532: 5590, 9533: 4775, 9534: 2376, 9535: 3681, 9536: 2344, 9537: 4842, 9538: 16476, 9539: 10325, 9540: 2368, 9541: 2838, 9542: 9434, 9543: 3411, 9544: 1782, 9545: 5403, 9546: 4799, 9547: 3534, 9548: 9326, 9549: 31403, 9550: 9939, 9551: 4487, 9552: 4834, 9553: 3583, 9554: 4378, 9555: 3384, 9556: 28519, 9557: 2209, 9558: 5674, 9559: 3558, 9560: 1595, 9561: 4400, 9562: 4603, 9563: 5400, 9564: 2956, 9565: 2588, 9566: 5612, 9567: 3439, 9568: 4803, 9569: 4813, 9570: 3711, 9571: 3551, 9572: 2208, 9573: 3334, 9574: 5553, 9575: 2444, 9576: 12239, 9577: 4350, 9578: 5049, 9579: 5606, 9580: 3729, 9581: 1788, 9582: 1386, 9583: 2070, 9584: 1763, 9585: 2345, 9586: 19523, 9587: 3921, 9588: 7908, 9589: 2788, 9590: 4717, 9591: 4638, 9592: 3922, 9593: 3556, 9594: 3644, 9595: 5890, 9596: 2326, 9597: 4558, 9598: 4561, 9599: 3942, 9600: 3649, 9601: 2007, 9602: 14209, 9603: 5173, 9604: 5575, 9605: 3454, 9606: 2380, 9607: 5664, 9608: 2373, 9609: 7110, 9610: 3586, 9611: 2959, 9612: 10552, 9613: 11469, 9614: 5645, 9615: 3380, 9616: 3580, 9617: 8523, 9618: 2541, 9619: 30658, 9620: 9486, 9621: 3908, 9622: 1402, 9623: 10101, 9624: 4606, 9625: 24743, 9626: 3645, 9627: 3393, 9628: 5566, 9629: 5557, 9630: 4840, 9631: 23761, 9632: 3976, 9633: 5398, 9634: 8471, 9635: 4774, 9636: 4498, 9637: 3587, 9638: 3526, 9639: 6015, 9640: 2374, 9641: 3040, 9642: 2479, 9643: 4260, 9644: 2218, 9645: 5610, 9646: 4492, 9647: 3402, 9648: 2339, 9649: 3953, 9650: 5401, 9651: 4849, 9652: 2946, 9653: 5558, 9654: 9270, 9655: 9887, 9656: 4819, 9657: 3140, 9658: 5571, 9659: 3902, 9660: 5550, 9661: 4821, 9662: 5613, 9663: 3063, 9664: 6097, 9665: 2169, 9666: 7265, 9667: 10409, 9668: 30817, 9669: 5608, 9670: 3383, 9671: 5101, 9672: 2443, 9673: 4802, 9674: 3565, 9675: 3428, 9676: 5544, 9677: 9341, 9678: 4645, 9679: 9375, 9680: 10424, 9681: 7154, 9682: 10764, 9683: 5588, 9684: 5607, 9685: 3643, 9686: 9211, 9687: 2348, 9688: 4357, 9689: 4161, 9690: 3211, 9691: 2944, 9692: 5576, 9693: 4848, 9694: 3633, 9695: 1511, 9696: 3396, 9697: 12061, 9698: 5154, 9699: 7455, 9700: 2186, 9701: 2190, 9702: 4644, 9703: 1784, 9704: 2395, 9705: 9855, 9706: 4604, 9707: 4731, 9708: 2351, 9709: 3539, 9710: 2338, 9711: 2874, 9712: 5649, 9713: 3983, 9714: 4822, 9715: 3377, 9716: 4557, 9717: 2894, 9718: 33515, 9719: 6328, 9720: 31331, 9721: 724, 9722: 3639, 9723: 5159, 9724: 4479, 9725: 13019, 9726: 4841, 9727: 3527, 9728: 2379, 9729: 3705, 9730: 977, 9731: 4034, 9732: 3648, 9733: 2821, 9734: 18481, 9735: 5733, 9736: 3912, 9737: 5285, 9738: 3824, 9739: 3826, 9740: 4149, 9741: 5646, 9742: 5546, 9743: 2936, 9744: 5587, 9745: 3531, 9746: 3082, 9747: 31283, 9748: 4495, 9749: 3066, 9750: 3093, 9751: 5190, 9752: 2350, 9753: 9600, 9754: 2977, 9755: 2979, 9756: 5586, 9757: 5605, 9758: 3793, 9759: 4817, 9760: 3567, 9761: 5108, 9762: 3530, 9763: 4700, 9764: 9507, 9765: 3950, 9766: 4867, 9767: 5567, 9768: 4697, 9769: 3160, 9770: 4692, 9771: 4693, 9772: 4560, 9773: 3309, 9774: 2864, 9775: 5570, 9776: 5687, 9777: 4832, 9778: 4017, 9779: 1499, 9780: 3980, 9781: 5540, 9782: 5423, 9783: 5568, 9784: 7864, 9785: 2315, 9786: 3895, 9787: 3981, 9788: 5107, 9789: 2991, 9790: 3094, 9791: 3553, 9792: 5555, 9793: 3536, 9794: 5611, 9795: 4818, 9796: 12551, 9797: 3563, 9798: 5393, 9799: 2349, 9800: 6622, 9801: 2480, 9802: 5609, 9803: 3581, 9804: 13917, 9805: 3883, 9806: 4699, 9807: 4463, 9808: 4575, 9809: 3566, 9810: 4675, 9811: 9851, 9812: 4157, 9813: 5542, 9814: 7162, 9815: 3562, 9816: 9317, 9817: 2551, 9818: 2592, 9819: 5548, 9820: 5564, 9821: 5573, 9822: 4496, 9823: 5563, 9824: 5663, 9825: 3542, 9826: 2239, 9827: 5383, 9828: 730, 9829: 12563, 9830: 2862, 9831: 3564, 9832: 6546, 9833: 11825, 9834: 5391, 9835: 5572, 9836: 5773, 9837: 3635, 9838: 4866, 9839: 30663, 9840: 9257, 9841: 5560, 9842: 1639, 9843: 4556, 9844: 4497, 9845: 8574, 9846: 4369, 9847: 5552, 9848: 23171, 9849: 3890, 9850: 3910, 9851: 14471, 9852: 4601, 9853: 5547, 9854: 5545, 9855: 5551, 9856: 13051, 9857: 3541, 9858: 3584, 9859: 5402, 9860: 5561, 9861: 7343, 9862: 3540, 9863: 5160, 9864: 2240, 9865: 4178, 9866: 4833, 9867: 6025, 9868: 2990, 9869: 11141, 9870: 6903, 9871: 5589, 9872: 4310, 9873: 5569, 9874: 18483, 9875: 18479, 9876: 19747, 9877: 17823, 9878: 7914, 9879: 14207, 9880: 13959, 9881: 5559, 9882: 18197, 9883: 12397, 9884: 17833, 9885: 10368, 9886: 9352, 9887: 5541, 9888: 9316, 9889: 5543, 9890: 5621, 9891: 6133}\n"
          ]
        }
      ],
      "source": [
        "# Mengubah anime_id menjadi list\n",
        "anime_id = fix_anime['anime_id'].unique().tolist()\n",
        " \n",
        "# Encoding anime_id\n",
        "anime_to_anime_encoded = {x: i for i, x in enumerate(anime_id)}\n",
        " \n",
        "# Encoding angka ke anime_id\n",
        "anime_encoded_to_anime = {i: x for i, x in enumerate(anime_id)}\n",
        "\n",
        "print('encoded angka ke anime_id: ', anime_encoded_to_anime)"
      ]
    },
    {
      "cell_type": "markdown",
      "metadata": {
        "id": "ev5GFG74-knb"
      },
      "source": [
        "# Model Development"
      ]
    },
    {
      "cell_type": "markdown",
      "metadata": {
        "id": "dvuusT6HB04y"
      },
      "source": [
        "Untuk tahap modeling, saya akan menggunakan Neural Network dan Cosine Simirality untuk sistem rekomendasi berbasis Collaborative Filtering dan Content-Based Filtering.\n",
        "\n",
        "Model Deep Learning akan saya gunakan untuk Sistem Rekomendasi berbasis Collaborative Filtering yang mana model ini akan menghasilkan rekomendasi untuk satu pengguna.\n",
        "\n",
        "Cosine Similarity akan saya gunakan untuk Sistem Rekomendasi berbasis Content-Based Filtering yang akan menghitung kemiripan antara satu film dengan lainnya berdasarkan fitur yang terdapat pada satu film."
      ]
    },
    {
      "cell_type": "markdown",
      "metadata": {
        "id": "r2nmx6T6-rbK"
      },
      "source": [
        "##### Content Based Filtering"
      ]
    },
    {
      "cell_type": "code",
      "execution_count": null,
      "metadata": {
        "colab": {
          "base_uri": "https://localhost:8080/"
        },
        "id": "6bE8syvG-gPD",
        "outputId": "81276abf-6d04-4a44-9838-440fc0815739"
      },
      "outputs": [
        {
          "data": {
            "text/plain": [
              "['action',\n",
              " 'adventure',\n",
              " 'ai',\n",
              " 'arts',\n",
              " 'cars',\n",
              " 'comedy',\n",
              " 'dementia',\n",
              " 'demons',\n",
              " 'drama',\n",
              " 'ecchi',\n",
              " 'fantasy',\n",
              " 'fi',\n",
              " 'game',\n",
              " 'harem',\n",
              " 'hentai',\n",
              " 'historical',\n",
              " 'horror',\n",
              " 'josei',\n",
              " 'kids',\n",
              " 'life',\n",
              " 'magic',\n",
              " 'martial',\n",
              " 'mecha',\n",
              " 'military',\n",
              " 'music',\n",
              " 'mystery',\n",
              " 'of',\n",
              " 'parody',\n",
              " 'police',\n",
              " 'power',\n",
              " 'psychological',\n",
              " 'romance',\n",
              " 'samurai',\n",
              " 'school',\n",
              " 'sci',\n",
              " 'seinen',\n",
              " 'shoujo',\n",
              " 'shounen',\n",
              " 'slice',\n",
              " 'space',\n",
              " 'sports',\n",
              " 'super',\n",
              " 'supernatural',\n",
              " 'thriller',\n",
              " 'vampire',\n",
              " 'yaoi',\n",
              " 'yuri']"
            ]
          },
          "execution_count": 33,
          "metadata": {},
          "output_type": "execute_result"
        }
      ],
      "source": [
        "from sklearn.feature_extraction.text import TfidfVectorizer\n",
        "\n",
        "# Inisialisasi TfidfVectorizer\n",
        "tf = TfidfVectorizer()\n",
        " \n",
        "# Melakukan perhitungan idf pada data genre\n",
        "tf.fit(fix_anime['genre']) \n",
        " \n",
        "# Mapping array dari fitur index integer ke fitur nama\n",
        "tf.get_feature_names()"
      ]
    },
    {
      "cell_type": "code",
      "execution_count": null,
      "metadata": {
        "colab": {
          "base_uri": "https://localhost:8080/"
        },
        "id": "7MeqBIp3CtUp",
        "outputId": "7e60cc12-e4a1-4f4f-d43a-fa094634a839"
      },
      "outputs": [
        {
          "data": {
            "text/plain": [
              "(9892, 47)"
            ]
          },
          "execution_count": 34,
          "metadata": {},
          "output_type": "execute_result"
        }
      ],
      "source": [
        "# Melakukan fit lalu ditransformasikan ke bentuk matrix\n",
        "tfidf_matrix = tf.fit_transform(fix_anime['genre']) \n",
        " \n",
        "# Melihat ukuran matrix tfidf\n",
        "tfidf_matrix.shape "
      ]
    },
    {
      "cell_type": "code",
      "execution_count": null,
      "metadata": {
        "colab": {
          "base_uri": "https://localhost:8080/"
        },
        "id": "FUYJePfwC6sj",
        "outputId": "f9770707-f50c-461c-e5d9-520c4c534e9c"
      },
      "outputs": [
        {
          "data": {
            "text/plain": [
              "array([[1.        , 0.15439041, 0.        , ..., 0.        , 0.        ,\n",
              "        0.        ],\n",
              "       [0.15439041, 1.        , 0.17128271, ..., 0.        , 0.        ,\n",
              "        0.        ],\n",
              "       [0.        , 0.17128271, 1.        , ..., 0.        , 0.        ,\n",
              "        0.        ],\n",
              "       ...,\n",
              "       [0.        , 0.        , 0.        , ..., 1.        , 1.        ,\n",
              "        1.        ],\n",
              "       [0.        , 0.        , 0.        , ..., 1.        , 1.        ,\n",
              "        1.        ],\n",
              "       [0.        , 0.        , 0.        , ..., 1.        , 1.        ,\n",
              "        1.        ]])"
            ]
          },
          "execution_count": 35,
          "metadata": {},
          "output_type": "execute_result"
        }
      ],
      "source": [
        "from sklearn.metrics.pairwise import cosine_similarity\n",
        "\n",
        "# Menghitung cosine similarity pada matrix tf-idf\n",
        "cosine_sim = cosine_similarity(tfidf_matrix) \n",
        "cosine_sim"
      ]
    },
    {
      "cell_type": "code",
      "execution_count": null,
      "metadata": {
        "colab": {
          "base_uri": "https://localhost:8080/",
          "height": 654
        },
        "id": "c9NSVnXSC-ds",
        "outputId": "bfa05183-0e84-44d1-c9ac-17e6741a2522"
      },
      "outputs": [
        {
          "name": "stdout",
          "output_type": "stream",
          "text": [
            "Shape: (9892, 9892)\n"
          ]
        },
        {
          "data": {
            "text/html": [
              "<div>\n",
              "<style scoped>\n",
              "    .dataframe tbody tr th:only-of-type {\n",
              "        vertical-align: middle;\n",
              "    }\n",
              "\n",
              "    .dataframe tbody tr th {\n",
              "        vertical-align: top;\n",
              "    }\n",
              "\n",
              "    .dataframe thead th {\n",
              "        text-align: right;\n",
              "    }\n",
              "</style>\n",
              "<table border=\"1\" class=\"dataframe\">\n",
              "  <thead>\n",
              "    <tr style=\"text-align: right;\">\n",
              "      <th>title</th>\n",
              "      <th>Koukaku no Pandora</th>\n",
              "      <th>Juubee Ninpuuchou: Ryuuhougyoku-hen</th>\n",
              "      <th>Kaitou Saint Tail</th>\n",
              "      <th>Hyakka Ryouran: Samurai After Specials</th>\n",
              "      <th>Choboraunyopomi Gekijou Ai Mai Mii</th>\n",
              "      <th>Solty Rei</th>\n",
              "      <th>Kana Kana Kazoku: Stop Rubella</th>\n",
              "      <th>Kusatta Kyoushi no Houteishiki</th>\n",
              "      <th>Tondemo Nezumi Daikatsuyaku</th>\n",
              "      <th>Inukami!</th>\n",
              "    </tr>\n",
              "    <tr>\n",
              "      <th>title</th>\n",
              "      <th></th>\n",
              "      <th></th>\n",
              "      <th></th>\n",
              "      <th></th>\n",
              "      <th></th>\n",
              "      <th></th>\n",
              "      <th></th>\n",
              "      <th></th>\n",
              "      <th></th>\n",
              "      <th></th>\n",
              "    </tr>\n",
              "  </thead>\n",
              "  <tbody>\n",
              "    <tr>\n",
              "      <th>Shownoid Mako-chan</th>\n",
              "      <td>0.000000</td>\n",
              "      <td>0.000000</td>\n",
              "      <td>0.000000</td>\n",
              "      <td>0.0</td>\n",
              "      <td>0.000000</td>\n",
              "      <td>0.000000</td>\n",
              "      <td>0.000000</td>\n",
              "      <td>0.000000</td>\n",
              "      <td>0.00000</td>\n",
              "      <td>0.000000</td>\n",
              "    </tr>\n",
              "    <tr>\n",
              "      <th>Peeping Life TV: Season 1??</th>\n",
              "      <td>0.102739</td>\n",
              "      <td>0.000000</td>\n",
              "      <td>0.000000</td>\n",
              "      <td>0.0</td>\n",
              "      <td>1.000000</td>\n",
              "      <td>0.000000</td>\n",
              "      <td>0.323208</td>\n",
              "      <td>0.089242</td>\n",
              "      <td>0.00000</td>\n",
              "      <td>0.093104</td>\n",
              "    </tr>\n",
              "    <tr>\n",
              "      <th>Zoku Natsume Yuujinchou</th>\n",
              "      <td>0.000000</td>\n",
              "      <td>0.129064</td>\n",
              "      <td>0.256967</td>\n",
              "      <td>0.0</td>\n",
              "      <td>0.632393</td>\n",
              "      <td>0.000000</td>\n",
              "      <td>0.000000</td>\n",
              "      <td>0.000000</td>\n",
              "      <td>0.00000</td>\n",
              "      <td>0.193736</td>\n",
              "    </tr>\n",
              "    <tr>\n",
              "      <th>Hakken Taiken Daisuki! Shimajirou</th>\n",
              "      <td>0.094292</td>\n",
              "      <td>0.300494</td>\n",
              "      <td>0.464445</td>\n",
              "      <td>0.0</td>\n",
              "      <td>0.095875</td>\n",
              "      <td>0.000000</td>\n",
              "      <td>0.296634</td>\n",
              "      <td>0.081904</td>\n",
              "      <td>0.39562</td>\n",
              "      <td>0.085450</td>\n",
              "    </tr>\n",
              "    <tr>\n",
              "      <th>Nebula feat. Hatsune Miku</th>\n",
              "      <td>0.000000</td>\n",
              "      <td>0.000000</td>\n",
              "      <td>0.000000</td>\n",
              "      <td>0.0</td>\n",
              "      <td>0.000000</td>\n",
              "      <td>0.000000</td>\n",
              "      <td>0.000000</td>\n",
              "      <td>0.000000</td>\n",
              "      <td>0.00000</td>\n",
              "      <td>0.000000</td>\n",
              "    </tr>\n",
              "    <tr>\n",
              "      <th>Attack No.1: Namida no Kaiten Receive</th>\n",
              "      <td>0.000000</td>\n",
              "      <td>0.000000</td>\n",
              "      <td>0.351072</td>\n",
              "      <td>0.0</td>\n",
              "      <td>0.000000</td>\n",
              "      <td>0.000000</td>\n",
              "      <td>0.000000</td>\n",
              "      <td>0.000000</td>\n",
              "      <td>0.00000</td>\n",
              "      <td>0.000000</td>\n",
              "    </tr>\n",
              "    <tr>\n",
              "      <th>Kunoichi Sakuya</th>\n",
              "      <td>0.000000</td>\n",
              "      <td>0.000000</td>\n",
              "      <td>0.000000</td>\n",
              "      <td>0.0</td>\n",
              "      <td>0.000000</td>\n",
              "      <td>0.000000</td>\n",
              "      <td>0.000000</td>\n",
              "      <td>0.000000</td>\n",
              "      <td>0.00000</td>\n",
              "      <td>0.000000</td>\n",
              "    </tr>\n",
              "    <tr>\n",
              "      <th>Injuu Kyoushi</th>\n",
              "      <td>0.000000</td>\n",
              "      <td>0.266527</td>\n",
              "      <td>0.000000</td>\n",
              "      <td>0.0</td>\n",
              "      <td>0.000000</td>\n",
              "      <td>0.000000</td>\n",
              "      <td>0.000000</td>\n",
              "      <td>0.000000</td>\n",
              "      <td>0.00000</td>\n",
              "      <td>0.000000</td>\n",
              "    </tr>\n",
              "    <tr>\n",
              "      <th>Elfen Lied</th>\n",
              "      <td>0.094616</td>\n",
              "      <td>0.313496</td>\n",
              "      <td>0.138688</td>\n",
              "      <td>0.0</td>\n",
              "      <td>0.000000</td>\n",
              "      <td>0.078775</td>\n",
              "      <td>0.000000</td>\n",
              "      <td>0.129105</td>\n",
              "      <td>0.00000</td>\n",
              "      <td>0.307850</td>\n",
              "    </tr>\n",
              "    <tr>\n",
              "      <th>Black★Rock Shooter</th>\n",
              "      <td>0.210564</td>\n",
              "      <td>0.000000</td>\n",
              "      <td>0.000000</td>\n",
              "      <td>0.0</td>\n",
              "      <td>0.000000</td>\n",
              "      <td>0.175309</td>\n",
              "      <td>0.000000</td>\n",
              "      <td>0.000000</td>\n",
              "      <td>0.00000</td>\n",
              "      <td>0.000000</td>\n",
              "    </tr>\n",
              "  </tbody>\n",
              "</table>\n",
              "</div>"
            ],
            "text/plain": [
              "title                                  Koukaku no Pandora  ...  Inukami!\n",
              "title                                                      ...          \n",
              "Shownoid Mako-chan                               0.000000  ...  0.000000\n",
              "Peeping Life TV: Season 1??                      0.102739  ...  0.093104\n",
              "Zoku Natsume Yuujinchou                          0.000000  ...  0.193736\n",
              "Hakken Taiken Daisuki! Shimajirou                0.094292  ...  0.085450\n",
              "Nebula feat. Hatsune Miku                        0.000000  ...  0.000000\n",
              "Attack No.1: Namida no Kaiten Receive            0.000000  ...  0.000000\n",
              "Kunoichi Sakuya                                  0.000000  ...  0.000000\n",
              "Injuu Kyoushi                                    0.000000  ...  0.000000\n",
              "Elfen Lied                                       0.094616  ...  0.307850\n",
              "Black★Rock Shooter                               0.210564  ...  0.000000\n",
              "\n",
              "[10 rows x 10 columns]"
            ]
          },
          "execution_count": 36,
          "metadata": {},
          "output_type": "execute_result"
        }
      ],
      "source": [
        "# Membuat dataframe dari variabel cosine_sim dengan baris dan kolom berupa judul anime\n",
        "cosine_sim_df = pd.DataFrame(cosine_sim, index=fix_anime['title'],\n",
        "                             columns=fix_anime['title'])\n",
        "print('Shape:', cosine_sim_df.shape)\n",
        " \n",
        "# Melihat similarity matrix tiap anime\n",
        "cosine_sim_df.sample(10, axis=1).sample(10, axis=0)"
      ]
    },
    {
      "cell_type": "markdown",
      "metadata": {
        "id": "NnC68S2VDWlc"
      },
      "source": [
        "\n",
        "    Rekomendasi Anime berdasarkan kemiripan dataframe\n",
        " \n",
        "    Parameter:\n",
        "    ---\n",
        "    title : tipe data string (str)\n",
        "                Judul Anime (index kemiripan dataframe)\n",
        "    similarity_data : tipe data pd.DataFrame (object)\n",
        "                      Kesamaan dataframe, simetrik, dengan genre sebagai \n",
        "                      indeks dan kolom\n",
        "    items : tipe data pd.DataFrame (object)\n",
        "            Mengandung kedua nama dan fitur lainnya yang digunakan untuk mendefinisikan kemiripan\n",
        "    k : tipe data integer (int)\n",
        "        Banyaknya jumlah rekomendasi yang diberikan\n",
        "    ---\n",
        " \n",
        " \n",
        "    Pada index ini, kita mengambil k dengan nilai similarity terbesar \n",
        "    pada index matrix yang diberikan (i).\n"
      ]
    },
    {
      "cell_type": "code",
      "execution_count": null,
      "metadata": {
        "id": "LEtzbj2ZDIfx"
      },
      "outputs": [],
      "source": [
        "def anime_recommendations(anime_title, similarity_data=cosine_sim_df, \n",
        "                         items=fix_anime[['title','genre','type','rating']], k=10):\n",
        " \n",
        " \n",
        "    # Mengambil data dengan menggunakan argpartition untuk melakukan partisi secara tidak langsung sepanjang sumbu yang diberikan    \n",
        "    # Dataframe diubah menjadi numpy\n",
        "    # Range(start, stop, step)\n",
        "\n",
        "    index = similarity_data.loc[:, anime_title].to_numpy().argpartition(\n",
        "        range(-1, -k, -1)\n",
        "    )\n",
        "\n",
        "    # Mengambil data dengan similarity terbesar dari index yang ada\n",
        "    closest = similarity_data.columns[index[-1:-(k+2):-1]]\n",
        "\n",
        "    # Drop anime_title agar nama anime yang dicari tidak muncul dalam daftar rekomendasi\n",
        "    closest = closest.drop(anime_title, errors='ignore')\n",
        "\n",
        "    return pd.DataFrame(closest).merge(items).head(k)"
      ]
    },
    {
      "cell_type": "markdown",
      "metadata": {
        "id": "CRxrYNmtDsXf"
      },
      "source": [
        "Selanjutnya, saya akan menerapkan kode di atas untuk menemukan rekomendasi Anime yang mirip dengan Boruto: Naruto the Movie."
      ]
    },
    {
      "cell_type": "code",
      "execution_count": null,
      "metadata": {
        "colab": {
          "base_uri": "https://localhost:8080/",
          "height": 81
        },
        "id": "ZW9oq_iEDj9g",
        "outputId": "a4408f3c-db2e-47cd-962d-196256aecf91"
      },
      "outputs": [
        {
          "data": {
            "text/html": [
              "<div>\n",
              "<style scoped>\n",
              "    .dataframe tbody tr th:only-of-type {\n",
              "        vertical-align: middle;\n",
              "    }\n",
              "\n",
              "    .dataframe tbody tr th {\n",
              "        vertical-align: top;\n",
              "    }\n",
              "\n",
              "    .dataframe thead th {\n",
              "        text-align: right;\n",
              "    }\n",
              "</style>\n",
              "<table border=\"1\" class=\"dataframe\">\n",
              "  <thead>\n",
              "    <tr style=\"text-align: right;\">\n",
              "      <th></th>\n",
              "      <th>anime_id</th>\n",
              "      <th>title</th>\n",
              "      <th>genre</th>\n",
              "      <th>type</th>\n",
              "      <th>episodes</th>\n",
              "      <th>rating</th>\n",
              "      <th>members</th>\n",
              "      <th>user_id</th>\n",
              "      <th>rating_user</th>\n",
              "    </tr>\n",
              "  </thead>\n",
              "  <tbody>\n",
              "    <tr>\n",
              "      <th>2309483</th>\n",
              "      <td>28755</td>\n",
              "      <td>Boruto: Naruto the Movie</td>\n",
              "      <td>Action, Comedy, Martial Arts, Shounen, Super P...</td>\n",
              "      <td>Movie</td>\n",
              "      <td>1</td>\n",
              "      <td>8</td>\n",
              "      <td>74690</td>\n",
              "      <td>210</td>\n",
              "      <td>9.0</td>\n",
              "    </tr>\n",
              "  </tbody>\n",
              "</table>\n",
              "</div>"
            ],
            "text/plain": [
              "         anime_id                     title  ... user_id rating_user\n",
              "2309483     28755  Boruto: Naruto the Movie  ...     210         9.0\n",
              "\n",
              "[1 rows x 9 columns]"
            ]
          },
          "execution_count": 38,
          "metadata": {},
          "output_type": "execute_result"
        }
      ],
      "source": [
        "fix_anime[fix_anime.title.eq('Boruto: Naruto the Movie')]"
      ]
    },
    {
      "cell_type": "markdown",
      "metadata": {
        "id": "qYmUyh-bEH5H"
      },
      "source": [
        "Berdasarkan output di atas, dapat dilihat bahwa Anime dengan judul Boruto: Naruto the Movie memiliki genre Action, Comedy, Martial Arts, Shounen, dan Super Power. Rekomendasi yang diharapkan adalah Anime dengan genre yang sama."
      ]
    },
    {
      "cell_type": "code",
      "execution_count": null,
      "metadata": {
        "colab": {
          "base_uri": "https://localhost:8080/",
          "height": 363
        },
        "id": "1OVfXfUED5hK",
        "outputId": "68c482e7-97e1-4bf7-f9b5-d7563f99c216"
      },
      "outputs": [
        {
          "data": {
            "text/html": [
              "<div>\n",
              "<style scoped>\n",
              "    .dataframe tbody tr th:only-of-type {\n",
              "        vertical-align: middle;\n",
              "    }\n",
              "\n",
              "    .dataframe tbody tr th {\n",
              "        vertical-align: top;\n",
              "    }\n",
              "\n",
              "    .dataframe thead th {\n",
              "        text-align: right;\n",
              "    }\n",
              "</style>\n",
              "<table border=\"1\" class=\"dataframe\">\n",
              "  <thead>\n",
              "    <tr style=\"text-align: right;\">\n",
              "      <th></th>\n",
              "      <th>title</th>\n",
              "      <th>genre</th>\n",
              "      <th>type</th>\n",
              "      <th>rating</th>\n",
              "    </tr>\n",
              "  </thead>\n",
              "  <tbody>\n",
              "    <tr>\n",
              "      <th>0</th>\n",
              "      <td>Naruto Shippuuden: Sunny Side Battle</td>\n",
              "      <td>Action, Comedy, Martial Arts, Shounen, Super P...</td>\n",
              "      <td>Special</td>\n",
              "      <td>7</td>\n",
              "    </tr>\n",
              "    <tr>\n",
              "      <th>1</th>\n",
              "      <td>Naruto: Shippuuden Movie 4 - The Lost Tower</td>\n",
              "      <td>Action, Comedy, Martial Arts, Shounen, Super P...</td>\n",
              "      <td>Movie</td>\n",
              "      <td>7</td>\n",
              "    </tr>\n",
              "    <tr>\n",
              "      <th>2</th>\n",
              "      <td>Naruto x UT</td>\n",
              "      <td>Action, Comedy, Martial Arts, Shounen, Super P...</td>\n",
              "      <td>OVA</td>\n",
              "      <td>7</td>\n",
              "    </tr>\n",
              "    <tr>\n",
              "      <th>3</th>\n",
              "      <td>Naruto Soyokazeden Movie: Naruto to Mashin to ...</td>\n",
              "      <td>Action, Comedy, Martial Arts, Shounen, Super P...</td>\n",
              "      <td>Movie</td>\n",
              "      <td>7</td>\n",
              "    </tr>\n",
              "    <tr>\n",
              "      <th>4</th>\n",
              "      <td>Naruto</td>\n",
              "      <td>Action, Comedy, Martial Arts, Shounen, Super P...</td>\n",
              "      <td>TV</td>\n",
              "      <td>7</td>\n",
              "    </tr>\n",
              "    <tr>\n",
              "      <th>5</th>\n",
              "      <td>Naruto: Shippuuden Movie 3 - Hi no Ishi wo Tsu...</td>\n",
              "      <td>Action, Comedy, Martial Arts, Shounen, Super P...</td>\n",
              "      <td>Movie</td>\n",
              "      <td>7</td>\n",
              "    </tr>\n",
              "    <tr>\n",
              "      <th>6</th>\n",
              "      <td>Boruto: Naruto the Movie - Naruto ga Hokage ni...</td>\n",
              "      <td>Action, Comedy, Martial Arts, Shounen, Super P...</td>\n",
              "      <td>Special</td>\n",
              "      <td>7</td>\n",
              "    </tr>\n",
              "    <tr>\n",
              "      <th>7</th>\n",
              "      <td>Kyutai Panic Adventure!</td>\n",
              "      <td>Action, Martial Arts, Shounen, Super Power</td>\n",
              "      <td>Special</td>\n",
              "      <td>5</td>\n",
              "    </tr>\n",
              "    <tr>\n",
              "      <th>8</th>\n",
              "      <td>Rekka no Honoo</td>\n",
              "      <td>Action, Adventure, Martial Arts, Shounen, Supe...</td>\n",
              "      <td>TV</td>\n",
              "      <td>7</td>\n",
              "    </tr>\n",
              "    <tr>\n",
              "      <th>9</th>\n",
              "      <td>Naruto: Honoo no Chuunin Shiken! Naruto vs. Ko...</td>\n",
              "      <td>Action, Adventure, Martial Arts, Shounen, Supe...</td>\n",
              "      <td>Movie</td>\n",
              "      <td>7</td>\n",
              "    </tr>\n",
              "  </tbody>\n",
              "</table>\n",
              "</div>"
            ],
            "text/plain": [
              "                                               title  ... rating\n",
              "0               Naruto Shippuuden: Sunny Side Battle  ...      7\n",
              "1        Naruto: Shippuuden Movie 4 - The Lost Tower  ...      7\n",
              "2                                        Naruto x UT  ...      7\n",
              "3  Naruto Soyokazeden Movie: Naruto to Mashin to ...  ...      7\n",
              "4                                             Naruto  ...      7\n",
              "5  Naruto: Shippuuden Movie 3 - Hi no Ishi wo Tsu...  ...      7\n",
              "6  Boruto: Naruto the Movie - Naruto ga Hokage ni...  ...      7\n",
              "7                            Kyutai Panic Adventure!  ...      5\n",
              "8                                     Rekka no Honoo  ...      7\n",
              "9  Naruto: Honoo no Chuunin Shiken! Naruto vs. Ko...  ...      7\n",
              "\n",
              "[10 rows x 4 columns]"
            ]
          },
          "execution_count": 39,
          "metadata": {},
          "output_type": "execute_result"
        }
      ],
      "source": [
        "# Mendapatkan rekomendasi anime yang mirip dengan Boruto: Naruto the Movie\n",
        "anime_recommendations('Boruto: Naruto the Movie')"
      ]
    },
    {
      "cell_type": "markdown",
      "metadata": {
        "id": "T0jb0TY5E0r4"
      },
      "source": [
        "Model berhasil memberikan rekomendasi 10 judul Anime dengan Genre yang sama seperti yang diharapkan, yaitu Action, Comedy, Martial Arts, Shounen, dan Super Power."
      ]
    },
    {
      "cell_type": "markdown",
      "metadata": {
        "id": "SJzAifX_FSJ8"
      },
      "source": [
        "##### Collaborative Filtering"
      ]
    },
    {
      "cell_type": "code",
      "execution_count": null,
      "metadata": {
        "colab": {
          "base_uri": "https://localhost:8080/",
          "height": 206
        },
        "id": "MqkKXrBGEB2H",
        "outputId": "3174db6d-1c9f-448b-d807-ab9fa9439b03"
      },
      "outputs": [
        {
          "data": {
            "text/html": [
              "<div>\n",
              "<style scoped>\n",
              "    .dataframe tbody tr th:only-of-type {\n",
              "        vertical-align: middle;\n",
              "    }\n",
              "\n",
              "    .dataframe tbody tr th {\n",
              "        vertical-align: top;\n",
              "    }\n",
              "\n",
              "    .dataframe thead th {\n",
              "        text-align: right;\n",
              "    }\n",
              "</style>\n",
              "<table border=\"1\" class=\"dataframe\">\n",
              "  <thead>\n",
              "    <tr style=\"text-align: right;\">\n",
              "      <th></th>\n",
              "      <th>anime_id</th>\n",
              "      <th>title</th>\n",
              "      <th>genre</th>\n",
              "      <th>type</th>\n",
              "      <th>episodes</th>\n",
              "      <th>rating</th>\n",
              "      <th>members</th>\n",
              "      <th>user_id</th>\n",
              "      <th>rating_user</th>\n",
              "    </tr>\n",
              "  </thead>\n",
              "  <tbody>\n",
              "    <tr>\n",
              "      <th>0</th>\n",
              "      <td>32281</td>\n",
              "      <td>Kimi no Na wa.</td>\n",
              "      <td>Drama, Romance, School, Supernatural</td>\n",
              "      <td>Movie</td>\n",
              "      <td>1</td>\n",
              "      <td>9</td>\n",
              "      <td>200630</td>\n",
              "      <td>99</td>\n",
              "      <td>5.0</td>\n",
              "    </tr>\n",
              "    <tr>\n",
              "      <th>2199</th>\n",
              "      <td>5114</td>\n",
              "      <td>Fullmetal Alchemist: Brotherhood</td>\n",
              "      <td>Action, Adventure, Drama, Fantasy, Magic, Mili...</td>\n",
              "      <td>TV</td>\n",
              "      <td>64</td>\n",
              "      <td>9</td>\n",
              "      <td>793665</td>\n",
              "      <td>3</td>\n",
              "      <td>10.0</td>\n",
              "    </tr>\n",
              "    <tr>\n",
              "      <th>26774</th>\n",
              "      <td>28977</td>\n",
              "      <td>Gintama°</td>\n",
              "      <td>Action, Comedy, Historical, Parody, Samurai, S...</td>\n",
              "      <td>TV</td>\n",
              "      <td>51</td>\n",
              "      <td>9</td>\n",
              "      <td>114262</td>\n",
              "      <td>43</td>\n",
              "      <td>10.0</td>\n",
              "    </tr>\n",
              "    <tr>\n",
              "      <th>28159</th>\n",
              "      <td>9253</td>\n",
              "      <td>Steins;Gate</td>\n",
              "      <td>Sci-Fi, Thriller</td>\n",
              "      <td>TV</td>\n",
              "      <td>24</td>\n",
              "      <td>9</td>\n",
              "      <td>673572</td>\n",
              "      <td>5</td>\n",
              "      <td>9.0</td>\n",
              "    </tr>\n",
              "    <tr>\n",
              "      <th>47442</th>\n",
              "      <td>9969</td>\n",
              "      <td>Gintama&amp;#039;</td>\n",
              "      <td>Action, Comedy, Historical, Parody, Samurai, S...</td>\n",
              "      <td>TV</td>\n",
              "      <td>51</td>\n",
              "      <td>9</td>\n",
              "      <td>151266</td>\n",
              "      <td>5</td>\n",
              "      <td>9.0</td>\n",
              "    </tr>\n",
              "  </tbody>\n",
              "</table>\n",
              "</div>"
            ],
            "text/plain": [
              "       anime_id                             title  ... user_id rating_user\n",
              "0         32281                    Kimi no Na wa.  ...      99         5.0\n",
              "2199       5114  Fullmetal Alchemist: Brotherhood  ...       3        10.0\n",
              "26774     28977                          Gintama°  ...      43        10.0\n",
              "28159      9253                       Steins;Gate  ...       5         9.0\n",
              "47442      9969                     Gintama&#039;  ...       5         9.0\n",
              "\n",
              "[5 rows x 9 columns]"
            ]
          },
          "execution_count": 40,
          "metadata": {},
          "output_type": "execute_result"
        }
      ],
      "source": [
        "fix_anime.head()"
      ]
    },
    {
      "cell_type": "code",
      "execution_count": null,
      "metadata": {
        "colab": {
          "base_uri": "https://localhost:8080/",
          "height": 423
        },
        "id": "eZOKTwT1FZgW",
        "outputId": "6ada037c-719f-445a-b50f-df0eb2808d78"
      },
      "outputs": [
        {
          "data": {
            "text/html": [
              "<div>\n",
              "<style scoped>\n",
              "    .dataframe tbody tr th:only-of-type {\n",
              "        vertical-align: middle;\n",
              "    }\n",
              "\n",
              "    .dataframe tbody tr th {\n",
              "        vertical-align: top;\n",
              "    }\n",
              "\n",
              "    .dataframe thead th {\n",
              "        text-align: right;\n",
              "    }\n",
              "</style>\n",
              "<table border=\"1\" class=\"dataframe\">\n",
              "  <thead>\n",
              "    <tr style=\"text-align: right;\">\n",
              "      <th></th>\n",
              "      <th>anime_id</th>\n",
              "      <th>title</th>\n",
              "      <th>genre</th>\n",
              "      <th>type</th>\n",
              "      <th>episodes</th>\n",
              "      <th>members</th>\n",
              "      <th>user_id</th>\n",
              "      <th>rating_user</th>\n",
              "    </tr>\n",
              "  </thead>\n",
              "  <tbody>\n",
              "    <tr>\n",
              "      <th>0</th>\n",
              "      <td>32281</td>\n",
              "      <td>Kimi no Na wa.</td>\n",
              "      <td>Drama, Romance, School, Supernatural</td>\n",
              "      <td>Movie</td>\n",
              "      <td>1</td>\n",
              "      <td>200630</td>\n",
              "      <td>99</td>\n",
              "      <td>5.0</td>\n",
              "    </tr>\n",
              "    <tr>\n",
              "      <th>2199</th>\n",
              "      <td>5114</td>\n",
              "      <td>Fullmetal Alchemist: Brotherhood</td>\n",
              "      <td>Action, Adventure, Drama, Fantasy, Magic, Mili...</td>\n",
              "      <td>TV</td>\n",
              "      <td>64</td>\n",
              "      <td>793665</td>\n",
              "      <td>3</td>\n",
              "      <td>10.0</td>\n",
              "    </tr>\n",
              "    <tr>\n",
              "      <th>26774</th>\n",
              "      <td>28977</td>\n",
              "      <td>Gintama°</td>\n",
              "      <td>Action, Comedy, Historical, Parody, Samurai, S...</td>\n",
              "      <td>TV</td>\n",
              "      <td>51</td>\n",
              "      <td>114262</td>\n",
              "      <td>43</td>\n",
              "      <td>10.0</td>\n",
              "    </tr>\n",
              "    <tr>\n",
              "      <th>28159</th>\n",
              "      <td>9253</td>\n",
              "      <td>Steins;Gate</td>\n",
              "      <td>Sci-Fi, Thriller</td>\n",
              "      <td>TV</td>\n",
              "      <td>24</td>\n",
              "      <td>673572</td>\n",
              "      <td>5</td>\n",
              "      <td>9.0</td>\n",
              "    </tr>\n",
              "    <tr>\n",
              "      <th>47442</th>\n",
              "      <td>9969</td>\n",
              "      <td>Gintama&amp;#039;</td>\n",
              "      <td>Action, Comedy, Historical, Parody, Samurai, S...</td>\n",
              "      <td>TV</td>\n",
              "      <td>51</td>\n",
              "      <td>151266</td>\n",
              "      <td>5</td>\n",
              "      <td>9.0</td>\n",
              "    </tr>\n",
              "    <tr>\n",
              "      <th>...</th>\n",
              "      <td>...</td>\n",
              "      <td>...</td>\n",
              "      <td>...</td>\n",
              "      <td>...</td>\n",
              "      <td>...</td>\n",
              "      <td>...</td>\n",
              "      <td>...</td>\n",
              "      <td>...</td>\n",
              "    </tr>\n",
              "    <tr>\n",
              "      <th>7813590</th>\n",
              "      <td>5541</td>\n",
              "      <td>The Satisfaction</td>\n",
              "      <td>Hentai</td>\n",
              "      <td>OVA</td>\n",
              "      <td>1</td>\n",
              "      <td>166</td>\n",
              "      <td>37351</td>\n",
              "      <td>1.0</td>\n",
              "    </tr>\n",
              "    <tr>\n",
              "      <th>7813594</th>\n",
              "      <td>9316</td>\n",
              "      <td>Toushindai My Lover: Minami tai Mecha-Minami</td>\n",
              "      <td>Hentai</td>\n",
              "      <td>OVA</td>\n",
              "      <td>1</td>\n",
              "      <td>211</td>\n",
              "      <td>20171</td>\n",
              "      <td>7.0</td>\n",
              "    </tr>\n",
              "    <tr>\n",
              "      <th>7813600</th>\n",
              "      <td>5543</td>\n",
              "      <td>Under World</td>\n",
              "      <td>Hentai</td>\n",
              "      <td>OVA</td>\n",
              "      <td>1</td>\n",
              "      <td>183</td>\n",
              "      <td>49503</td>\n",
              "      <td>4.0</td>\n",
              "    </tr>\n",
              "    <tr>\n",
              "      <th>7813604</th>\n",
              "      <td>5621</td>\n",
              "      <td>Violence Gekiga David no Hoshi</td>\n",
              "      <td>Hentai</td>\n",
              "      <td>OVA</td>\n",
              "      <td>4</td>\n",
              "      <td>219</td>\n",
              "      <td>49503</td>\n",
              "      <td>6.0</td>\n",
              "    </tr>\n",
              "    <tr>\n",
              "      <th>7813608</th>\n",
              "      <td>6133</td>\n",
              "      <td>Violence Gekiga Shin David no Hoshi: Inma Dens...</td>\n",
              "      <td>Hentai</td>\n",
              "      <td>OVA</td>\n",
              "      <td>1</td>\n",
              "      <td>175</td>\n",
              "      <td>60365</td>\n",
              "      <td>4.0</td>\n",
              "    </tr>\n",
              "  </tbody>\n",
              "</table>\n",
              "<p>9892 rows × 8 columns</p>\n",
              "</div>"
            ],
            "text/plain": [
              "         anime_id  ... rating_user\n",
              "0           32281  ...         5.0\n",
              "2199         5114  ...        10.0\n",
              "26774       28977  ...        10.0\n",
              "28159        9253  ...         9.0\n",
              "47442        9969  ...         9.0\n",
              "...           ...  ...         ...\n",
              "7813590      5541  ...         1.0\n",
              "7813594      9316  ...         7.0\n",
              "7813600      5543  ...         4.0\n",
              "7813604      5621  ...         6.0\n",
              "7813608      6133  ...         4.0\n",
              "\n",
              "[9892 rows x 8 columns]"
            ]
          },
          "execution_count": 41,
          "metadata": {},
          "output_type": "execute_result"
        }
      ],
      "source": [
        "# Drop kolom yang tidak digunakan\n",
        "df_anime = fix_anime.drop(columns=['rating'])\n",
        "df_anime"
      ]
    },
    {
      "cell_type": "code",
      "execution_count": null,
      "metadata": {
        "id": "D_JGNY9dFoqp"
      },
      "outputs": [],
      "source": [
        "# Mapping user_id ke dataframe user\n",
        "df_anime['user'] = df_anime['user_id'].map(user_to_user_encoded)\n",
        " \n",
        "# Mapping anime_id ke dataframe anime\n",
        "df_anime['anime'] = df_anime['anime_id'].map(anime_to_anime_encoded)"
      ]
    },
    {
      "cell_type": "code",
      "execution_count": null,
      "metadata": {
        "colab": {
          "base_uri": "https://localhost:8080/"
        },
        "id": "iQ8Fo5JZGLa8",
        "outputId": "57441c5e-9657-4dd8-aa48-e27f12db646f"
      },
      "outputs": [
        {
          "name": "stdout",
          "output_type": "stream",
          "text": [
            "Jumlah User: 1728, Jumlah anime: 9892, Min Rating: 1.0, Max Rating: 10.0\n"
          ]
        }
      ],
      "source": [
        "# Cek jumlah user, anime, dan mengubah nilai rating menjadi float.\n",
        "\n",
        "# Mendapatkan jumlah user\n",
        "num_user = len(user_to_user_encoded)\n",
        " \n",
        "# Mendapatkan jumlah anime\n",
        "num_anime = len(anime_encoded_to_anime)\n",
        " \n",
        "# Mengubah rating menjadi nilai float\n",
        "df_anime['rating_user'] = df_anime['rating_user'].values.astype(np.float32)\n",
        " \n",
        "# Nilai minimum rating\n",
        "min_rating = min(df_anime['rating_user'])\n",
        " \n",
        "# Nilai maksimal rating\n",
        "max_rating = max(df_anime['rating_user'])\n",
        " \n",
        "print('Jumlah User: {}, Jumlah anime: {}, Min Rating: {}, Max Rating: {}'.format(\n",
        "    num_user, num_anime, min_rating, max_rating\n",
        "))"
      ]
    },
    {
      "cell_type": "markdown",
      "metadata": {
        "id": "65taXRIeGVLw"
      },
      "source": [
        "Saya akan membagi data untuk training dan validasi dengan komposisi 80:20. Namun sebelumnya, saya akan mengacak datanya terlebih dahulu agar distribusinya menjadi random."
      ]
    },
    {
      "cell_type": "code",
      "execution_count": null,
      "metadata": {
        "colab": {
          "base_uri": "https://localhost:8080/",
          "height": 475
        },
        "id": "vUExbttVGQWh",
        "outputId": "a8523851-56c5-4fbf-cef7-56147937b06f"
      },
      "outputs": [
        {
          "data": {
            "text/html": [
              "<div>\n",
              "<style scoped>\n",
              "    .dataframe tbody tr th:only-of-type {\n",
              "        vertical-align: middle;\n",
              "    }\n",
              "\n",
              "    .dataframe tbody tr th {\n",
              "        vertical-align: top;\n",
              "    }\n",
              "\n",
              "    .dataframe thead th {\n",
              "        text-align: right;\n",
              "    }\n",
              "</style>\n",
              "<table border=\"1\" class=\"dataframe\">\n",
              "  <thead>\n",
              "    <tr style=\"text-align: right;\">\n",
              "      <th></th>\n",
              "      <th>anime_id</th>\n",
              "      <th>title</th>\n",
              "      <th>genre</th>\n",
              "      <th>type</th>\n",
              "      <th>episodes</th>\n",
              "      <th>members</th>\n",
              "      <th>user_id</th>\n",
              "      <th>rating_user</th>\n",
              "      <th>user</th>\n",
              "      <th>anime</th>\n",
              "    </tr>\n",
              "  </thead>\n",
              "  <tbody>\n",
              "    <tr>\n",
              "      <th>4693141</th>\n",
              "      <td>1852</td>\n",
              "      <td>Hidamari Sketch</td>\n",
              "      <td>Comedy, School, Slice of Life</td>\n",
              "      <td>TV</td>\n",
              "      <td>12</td>\n",
              "      <td>42998</td>\n",
              "      <td>17</td>\n",
              "      <td>7.0</td>\n",
              "      <td>4</td>\n",
              "      <td>1496</td>\n",
              "    </tr>\n",
              "    <tr>\n",
              "      <th>7514137</th>\n",
              "      <td>13789</td>\n",
              "      <td>Little Nemo Pilot</td>\n",
              "      <td>Adventure</td>\n",
              "      <td>Special</td>\n",
              "      <td>1</td>\n",
              "      <td>407</td>\n",
              "      <td>22681</td>\n",
              "      <td>6.0</td>\n",
              "      <td>1142</td>\n",
              "      <td>5950</td>\n",
              "    </tr>\n",
              "    <tr>\n",
              "      <th>5405133</th>\n",
              "      <td>21863</td>\n",
              "      <td>Mangaka-san to Assistant-san to The Animation</td>\n",
              "      <td>Comedy, Ecchi, Harem, Seinen, Slice of Life</td>\n",
              "      <td>TV</td>\n",
              "      <td>12</td>\n",
              "      <td>108642</td>\n",
              "      <td>5</td>\n",
              "      <td>6.0</td>\n",
              "      <td>3</td>\n",
              "      <td>2012</td>\n",
              "    </tr>\n",
              "    <tr>\n",
              "      <th>7524603</th>\n",
              "      <td>2690</td>\n",
              "      <td>Urban Square: Kouhaku no Tsuigeki</td>\n",
              "      <td>Action, Mystery, Seinen</td>\n",
              "      <td>OVA</td>\n",
              "      <td>1</td>\n",
              "      <td>656</td>\n",
              "      <td>7527</td>\n",
              "      <td>7.0</td>\n",
              "      <td>361</td>\n",
              "      <td>6000</td>\n",
              "    </tr>\n",
              "    <tr>\n",
              "      <th>7645755</th>\n",
              "      <td>19337</td>\n",
              "      <td>Momoya x Peeping Life: Go en Desu yo!</td>\n",
              "      <td>Slice of Life</td>\n",
              "      <td>ONA</td>\n",
              "      <td>4</td>\n",
              "      <td>218</td>\n",
              "      <td>19317</td>\n",
              "      <td>1.0</td>\n",
              "      <td>1176</td>\n",
              "      <td>7006</td>\n",
              "    </tr>\n",
              "    <tr>\n",
              "      <th>...</th>\n",
              "      <td>...</td>\n",
              "      <td>...</td>\n",
              "      <td>...</td>\n",
              "      <td>...</td>\n",
              "      <td>...</td>\n",
              "      <td>...</td>\n",
              "      <td>...</td>\n",
              "      <td>...</td>\n",
              "      <td>...</td>\n",
              "      <td>...</td>\n",
              "    </tr>\n",
              "    <tr>\n",
              "      <th>7472175</th>\n",
              "      <td>5369</td>\n",
              "      <td>Street Fighter: Aratanaru Kizuna</td>\n",
              "      <td>Action, Adventure, Shounen</td>\n",
              "      <td>OVA</td>\n",
              "      <td>1</td>\n",
              "      <td>5106</td>\n",
              "      <td>572</td>\n",
              "      <td>2.0</td>\n",
              "      <td>141</td>\n",
              "      <td>5734</td>\n",
              "    </tr>\n",
              "    <tr>\n",
              "      <th>7350959</th>\n",
              "      <td>14889</td>\n",
              "      <td>Ebiten: Kouritsu Ebisugawa Koukou Tenmonbu OVA</td>\n",
              "      <td>Comedy, Ecchi, Parody, School, Shounen</td>\n",
              "      <td>OVA</td>\n",
              "      <td>1</td>\n",
              "      <td>3456</td>\n",
              "      <td>21</td>\n",
              "      <td>7.0</td>\n",
              "      <td>12</td>\n",
              "      <td>5191</td>\n",
              "    </tr>\n",
              "    <tr>\n",
              "      <th>7402971</th>\n",
              "      <td>647</td>\n",
              "      <td>Harukanaru Toki no Naka de: Ajisai Yumegatari</td>\n",
              "      <td>Adventure, Demons, Drama, Fantasy, Historical,...</td>\n",
              "      <td>OVA</td>\n",
              "      <td>2</td>\n",
              "      <td>2253</td>\n",
              "      <td>436</td>\n",
              "      <td>6.0</td>\n",
              "      <td>190</td>\n",
              "      <td>5390</td>\n",
              "    </tr>\n",
              "    <tr>\n",
              "      <th>3395298</th>\n",
              "      <td>9000</td>\n",
              "      <td>Toaru Hikuushi e no Tsuioku</td>\n",
              "      <td>Adventure, Military, Romance</td>\n",
              "      <td>Movie</td>\n",
              "      <td>1</td>\n",
              "      <td>28857</td>\n",
              "      <td>120</td>\n",
              "      <td>8.0</td>\n",
              "      <td>118</td>\n",
              "      <td>860</td>\n",
              "    </tr>\n",
              "    <tr>\n",
              "      <th>7660534</th>\n",
              "      <td>29673</td>\n",
              "      <td>Shin Tenchi Souzou</td>\n",
              "      <td>Comedy</td>\n",
              "      <td>Movie</td>\n",
              "      <td>1</td>\n",
              "      <td>129</td>\n",
              "      <td>12431</td>\n",
              "      <td>2.0</td>\n",
              "      <td>484</td>\n",
              "      <td>7270</td>\n",
              "    </tr>\n",
              "  </tbody>\n",
              "</table>\n",
              "<p>9892 rows × 10 columns</p>\n",
              "</div>"
            ],
            "text/plain": [
              "         anime_id                                           title  ...  user anime\n",
              "4693141      1852                                 Hidamari Sketch  ...     4  1496\n",
              "7514137     13789                               Little Nemo Pilot  ...  1142  5950\n",
              "5405133     21863   Mangaka-san to Assistant-san to The Animation  ...     3  2012\n",
              "7524603      2690               Urban Square: Kouhaku no Tsuigeki  ...   361  6000\n",
              "7645755     19337           Momoya x Peeping Life: Go en Desu yo!  ...  1176  7006\n",
              "...           ...                                             ...  ...   ...   ...\n",
              "7472175      5369                Street Fighter: Aratanaru Kizuna  ...   141  5734\n",
              "7350959     14889  Ebiten: Kouritsu Ebisugawa Koukou Tenmonbu OVA  ...    12  5191\n",
              "7402971       647   Harukanaru Toki no Naka de: Ajisai Yumegatari  ...   190  5390\n",
              "3395298      9000                     Toaru Hikuushi e no Tsuioku  ...   118   860\n",
              "7660534     29673                              Shin Tenchi Souzou  ...   484  7270\n",
              "\n",
              "[9892 rows x 10 columns]"
            ]
          },
          "execution_count": 44,
          "metadata": {},
          "output_type": "execute_result"
        }
      ],
      "source": [
        "# Mengacak dataset\n",
        "df_anime = df_anime.sample(frac=1, random_state=42)\n",
        "df_anime"
      ]
    },
    {
      "cell_type": "markdown",
      "metadata": {
        "id": "v2RvbQrqHX0H"
      },
      "source": [
        "Saya akan memetakan (mapping) data user dan anime menjadi satu value terlebih dahulu. Kemudian membuat rating dalam skala 0 sampai 1 agar mudah dalam melakukan proses training."
      ]
    },
    {
      "cell_type": "code",
      "execution_count": null,
      "metadata": {
        "colab": {
          "base_uri": "https://localhost:8080/"
        },
        "id": "2V6SOcCiHLCO",
        "outputId": "1ca19d28-27bc-40e4-f73d-bfe543bfc451"
      },
      "outputs": [
        {
          "name": "stdout",
          "output_type": "stream",
          "text": [
            "[[   4 1496]\n",
            " [1142 5950]\n",
            " [   3 2012]\n",
            " ...\n",
            " [ 190 5390]\n",
            " [ 118  860]\n",
            " [ 484 7270]] [0.66666667 0.55555556 0.55555556 ... 0.55555556 0.77777778 0.11111111]\n"
          ]
        }
      ],
      "source": [
        "# Inisialisasi variable x untuk mencocokkan data user dan anime menjadi satu value\n",
        "x = df_anime[['user', 'anime']].values\n",
        " \n",
        "# Inisialisasi variable y untuk membuat rating dari hasil \n",
        "y = df_anime['rating_user'].apply(lambda x: (x - min_rating) / (max_rating - min_rating)).values\n",
        " \n",
        "# Split data dengan komposisi 80% data train dan 20% data validasi\n",
        "train_indices = int(0.8 * df_anime.shape[0])\n",
        "x_train, x_val, y_train, y_val = (\n",
        "    x[:train_indices],\n",
        "    x[train_indices:],\n",
        "    y[:train_indices],\n",
        "    y[train_indices:]\n",
        ")\n",
        " \n",
        "print(x, y)"
      ]
    },
    {
      "cell_type": "markdown",
      "metadata": {
        "id": "8JVukxBeIM1j"
      },
      "source": [
        "Saya akan melakukan proses embedding terhadap data user dan anime. Lalu melakukan operasi perkalian dot product antara embedding user dan anime. Selain itu, saya juga menambahkan bias untuk setiap user dan anime. Skor kecocokan ditetapkan dalam skala [0,1] dengan fungsi aktivasi sigmoid."
      ]
    },
    {
      "cell_type": "code",
      "execution_count": null,
      "metadata": {
        "id": "DIUCcoFuHhpM"
      },
      "outputs": [],
      "source": [
        "# Import library yang akan kita gunakan\n",
        "\n",
        "import tensorflow as tf\n",
        "from tensorflow import keras\n",
        "from tensorflow.keras import layers\n",
        "\n",
        "class RecommenderNet(tf.keras.Model):\n",
        " \n",
        "  # Insialisasi fungsi\n",
        "  def __init__(self, num_users, num_anime, embedding_size, **kwargs):\n",
        "    super(RecommenderNet, self).__init__(**kwargs)\n",
        "    self.num_users = num_users\n",
        "    self.num_anime = num_anime\n",
        "    self.embedding_size = embedding_size\n",
        "    self.user_embedding = layers.Embedding( # layer embedding user\n",
        "        num_users,\n",
        "        embedding_size,\n",
        "        embeddings_initializer = 'he_normal',\n",
        "        embeddings_regularizer = keras.regularizers.l2(1e-6)\n",
        "    )\n",
        "    self.user_bias = layers.Embedding(num_users, 1) # layer embedding user bias\n",
        "    self.anime_embedding = layers.Embedding( # layer embeddings anime\n",
        "        num_anime,\n",
        "        embedding_size,\n",
        "        embeddings_initializer = 'he_normal',\n",
        "        embeddings_regularizer = keras.regularizers.l2(1e-6)\n",
        "    )\n",
        "    self.anime_bias = layers.Embedding(num_anime, 1) # layer embedding anime bias\n",
        " \n",
        "  def call(self, inputs):\n",
        "    user_vector = self.user_embedding(inputs[:,0]) # memanggil layer embedding 1\n",
        "    user_bias = self.user_bias(inputs[:, 0]) # memanggil layer embedding 2\n",
        "    anime_vector = self.anime_embedding(inputs[:, 1]) # memanggil layer embedding 3\n",
        "    anime_bias = self.anime_bias(inputs[:, 1]) # memanggil layer embedding 4\n",
        " \n",
        "    dot_user_anime = tf.tensordot(user_vector, anime_vector, 2) \n",
        " \n",
        "    x = dot_user_anime + user_bias + anime_bias\n",
        "    \n",
        "    return tf.nn.sigmoid(x) # activation sigmoid"
      ]
    },
    {
      "cell_type": "code",
      "execution_count": null,
      "metadata": {
        "id": "hi3sSkrKIbnE"
      },
      "outputs": [],
      "source": [
        "# inisialisasi model RecommenderNet\n",
        "model = RecommenderNet(num_user, num_anime, 50)\n",
        "\n",
        "# compile model\n",
        "model.compile(\n",
        "    loss = tf.keras.losses.BinaryCrossentropy(),\n",
        "    optimizer = keras.optimizers.Adam(learning_rate=0.001),\n",
        "    metrics=[[tf.keras.metrics.MeanAbsoluteError(), tf.keras.metrics.RootMeanSquaredError()]]\n",
        ")"
      ]
    },
    {
      "cell_type": "markdown",
      "metadata": {
        "id": "_mMYjueNK6aN"
      },
      "source": [
        "Model ini menggunakan Binary Crossentropy untuk menghitung loss function, Adam (Adaptive Moment Estimation) sebagai optimizer, Mean Absolute Error dan Root Mean Squared Error (RMSE) sebagai metrics evaluation."
      ]
    },
    {
      "cell_type": "code",
      "execution_count": null,
      "metadata": {
        "id": "sxr2201qKp7-"
      },
      "outputs": [],
      "source": [
        "# Menggunakan callback agar pengujian berhenti jika akurasi mencapai target\n",
        "from keras.callbacks import  EarlyStopping\n",
        "\n",
        "callbacks = EarlyStopping(\n",
        "    min_delta=0.0001,\n",
        "    patience=7,\n",
        "    restore_best_weights=True,\n",
        ")"
      ]
    },
    {
      "cell_type": "code",
      "execution_count": null,
      "metadata": {
        "colab": {
          "base_uri": "https://localhost:8080/"
        },
        "id": "HpNpk_-mLTkA",
        "outputId": "00d231a7-d705-46c1-c611-9bdd4475c9b6"
      },
      "outputs": [
        {
          "name": "stdout",
          "output_type": "stream",
          "text": [
            "Epoch 1/100\n",
            "990/990 [==============================] - 6s 5ms/step - loss: 0.6836 - mean_absolute_error: 0.2054 - root_mean_squared_error: 0.2470 - val_loss: 0.6744 - val_mean_absolute_error: 0.1948 - val_root_mean_squared_error: 0.2370\n",
            "Epoch 2/100\n",
            "990/990 [==============================] - 5s 5ms/step - loss: 0.6450 - mean_absolute_error: 0.1622 - root_mean_squared_error: 0.2049 - val_loss: 0.6653 - val_mean_absolute_error: 0.1851 - val_root_mean_squared_error: 0.2272\n",
            "Epoch 3/100\n",
            "990/990 [==============================] - 5s 5ms/step - loss: 0.6321 - mean_absolute_error: 0.1472 - root_mean_squared_error: 0.1896 - val_loss: 0.6614 - val_mean_absolute_error: 0.1809 - val_root_mean_squared_error: 0.2228\n",
            "Epoch 4/100\n",
            "990/990 [==============================] - 5s 5ms/step - loss: 0.6226 - mean_absolute_error: 0.1364 - root_mean_squared_error: 0.1775 - val_loss: 0.6582 - val_mean_absolute_error: 0.1778 - val_root_mean_squared_error: 0.2192\n",
            "Epoch 5/100\n",
            "990/990 [==============================] - 5s 5ms/step - loss: 0.6162 - mean_absolute_error: 0.1294 - root_mean_squared_error: 0.1691 - val_loss: 0.6561 - val_mean_absolute_error: 0.1761 - val_root_mean_squared_error: 0.2166\n",
            "Epoch 6/100\n",
            "990/990 [==============================] - 5s 5ms/step - loss: 0.6107 - mean_absolute_error: 0.1236 - root_mean_squared_error: 0.1616 - val_loss: 0.6543 - val_mean_absolute_error: 0.1745 - val_root_mean_squared_error: 0.2146\n",
            "Epoch 7/100\n",
            "990/990 [==============================] - 5s 5ms/step - loss: 0.6057 - mean_absolute_error: 0.1177 - root_mean_squared_error: 0.1548 - val_loss: 0.6528 - val_mean_absolute_error: 0.1731 - val_root_mean_squared_error: 0.2128\n",
            "Epoch 8/100\n",
            "990/990 [==============================] - 5s 5ms/step - loss: 0.6004 - mean_absolute_error: 0.1117 - root_mean_squared_error: 0.1470 - val_loss: 0.6514 - val_mean_absolute_error: 0.1718 - val_root_mean_squared_error: 0.2112\n",
            "Epoch 9/100\n",
            "990/990 [==============================] - 5s 5ms/step - loss: 0.5970 - mean_absolute_error: 0.1069 - root_mean_squared_error: 0.1418 - val_loss: 0.6503 - val_mean_absolute_error: 0.1709 - val_root_mean_squared_error: 0.2101\n",
            "Epoch 10/100\n",
            "990/990 [==============================] - 5s 5ms/step - loss: 0.5935 - mean_absolute_error: 0.1031 - root_mean_squared_error: 0.1368 - val_loss: 0.6491 - val_mean_absolute_error: 0.1698 - val_root_mean_squared_error: 0.2088\n",
            "Epoch 11/100\n",
            "990/990 [==============================] - 5s 5ms/step - loss: 0.5909 - mean_absolute_error: 0.0995 - root_mean_squared_error: 0.1327 - val_loss: 0.6480 - val_mean_absolute_error: 0.1686 - val_root_mean_squared_error: 0.2076\n",
            "Epoch 12/100\n",
            "990/990 [==============================] - 5s 5ms/step - loss: 0.5875 - mean_absolute_error: 0.0952 - root_mean_squared_error: 0.1274 - val_loss: 0.6470 - val_mean_absolute_error: 0.1676 - val_root_mean_squared_error: 0.2064\n",
            "Epoch 13/100\n",
            "990/990 [==============================] - 5s 5ms/step - loss: 0.5849 - mean_absolute_error: 0.0918 - root_mean_squared_error: 0.1230 - val_loss: 0.6464 - val_mean_absolute_error: 0.1671 - val_root_mean_squared_error: 0.2059\n",
            "Epoch 14/100\n",
            "990/990 [==============================] - 5s 5ms/step - loss: 0.5823 - mean_absolute_error: 0.0882 - root_mean_squared_error: 0.1185 - val_loss: 0.6455 - val_mean_absolute_error: 0.1661 - val_root_mean_squared_error: 0.2049\n",
            "Epoch 15/100\n",
            "990/990 [==============================] - 5s 5ms/step - loss: 0.5802 - mean_absolute_error: 0.0852 - root_mean_squared_error: 0.1150 - val_loss: 0.6447 - val_mean_absolute_error: 0.1653 - val_root_mean_squared_error: 0.2041\n",
            "Epoch 16/100\n",
            "990/990 [==============================] - 5s 5ms/step - loss: 0.5782 - mean_absolute_error: 0.0820 - root_mean_squared_error: 0.1114 - val_loss: 0.6443 - val_mean_absolute_error: 0.1648 - val_root_mean_squared_error: 0.2037\n",
            "Epoch 17/100\n",
            "990/990 [==============================] - 5s 5ms/step - loss: 0.5763 - mean_absolute_error: 0.0797 - root_mean_squared_error: 0.1082 - val_loss: 0.6438 - val_mean_absolute_error: 0.1642 - val_root_mean_squared_error: 0.2033\n",
            "Epoch 18/100\n",
            "990/990 [==============================] - 5s 5ms/step - loss: 0.5747 - mean_absolute_error: 0.0772 - root_mean_squared_error: 0.1054 - val_loss: 0.6431 - val_mean_absolute_error: 0.1635 - val_root_mean_squared_error: 0.2026\n",
            "Epoch 19/100\n",
            "990/990 [==============================] - 5s 5ms/step - loss: 0.5727 - mean_absolute_error: 0.0738 - root_mean_squared_error: 0.1016 - val_loss: 0.6427 - val_mean_absolute_error: 0.1630 - val_root_mean_squared_error: 0.2022\n",
            "Epoch 20/100\n",
            "990/990 [==============================] - 5s 5ms/step - loss: 0.5712 - mean_absolute_error: 0.0718 - root_mean_squared_error: 0.0986 - val_loss: 0.6423 - val_mean_absolute_error: 0.1626 - val_root_mean_squared_error: 0.2018\n",
            "Epoch 21/100\n",
            "990/990 [==============================] - 5s 5ms/step - loss: 0.5696 - mean_absolute_error: 0.0689 - root_mean_squared_error: 0.0956 - val_loss: 0.6417 - val_mean_absolute_error: 0.1620 - val_root_mean_squared_error: 0.2013\n",
            "Epoch 22/100\n",
            "990/990 [==============================] - 5s 5ms/step - loss: 0.5684 - mean_absolute_error: 0.0673 - root_mean_squared_error: 0.0932 - val_loss: 0.6411 - val_mean_absolute_error: 0.1613 - val_root_mean_squared_error: 0.2006\n",
            "Epoch 23/100\n",
            "990/990 [==============================] - 5s 5ms/step - loss: 0.5669 - mean_absolute_error: 0.0645 - root_mean_squared_error: 0.0901 - val_loss: 0.6407 - val_mean_absolute_error: 0.1607 - val_root_mean_squared_error: 0.2002\n",
            "Epoch 24/100\n",
            "990/990 [==============================] - 5s 5ms/step - loss: 0.5654 - mean_absolute_error: 0.0625 - root_mean_squared_error: 0.0871 - val_loss: 0.6402 - val_mean_absolute_error: 0.1602 - val_root_mean_squared_error: 0.1997\n",
            "Epoch 25/100\n",
            "990/990 [==============================] - 5s 5ms/step - loss: 0.5643 - mean_absolute_error: 0.0600 - root_mean_squared_error: 0.0846 - val_loss: 0.6397 - val_mean_absolute_error: 0.1597 - val_root_mean_squared_error: 0.1992\n",
            "Epoch 26/100\n",
            "990/990 [==============================] - 5s 5ms/step - loss: 0.5631 - mean_absolute_error: 0.0587 - root_mean_squared_error: 0.0821 - val_loss: 0.6394 - val_mean_absolute_error: 0.1594 - val_root_mean_squared_error: 0.1990\n",
            "Epoch 27/100\n",
            "990/990 [==============================] - 5s 5ms/step - loss: 0.5620 - mean_absolute_error: 0.0563 - root_mean_squared_error: 0.0796 - val_loss: 0.6390 - val_mean_absolute_error: 0.1589 - val_root_mean_squared_error: 0.1985\n",
            "Epoch 28/100\n",
            "990/990 [==============================] - 5s 5ms/step - loss: 0.5613 - mean_absolute_error: 0.0556 - root_mean_squared_error: 0.0783 - val_loss: 0.6385 - val_mean_absolute_error: 0.1583 - val_root_mean_squared_error: 0.1980\n",
            "Epoch 29/100\n",
            "990/990 [==============================] - 5s 5ms/step - loss: 0.5601 - mean_absolute_error: 0.0527 - root_mean_squared_error: 0.0752 - val_loss: 0.6382 - val_mean_absolute_error: 0.1579 - val_root_mean_squared_error: 0.1977\n",
            "Epoch 30/100\n",
            "990/990 [==============================] - 5s 5ms/step - loss: 0.5590 - mean_absolute_error: 0.0513 - root_mean_squared_error: 0.0728 - val_loss: 0.6377 - val_mean_absolute_error: 0.1574 - val_root_mean_squared_error: 0.1972\n",
            "Epoch 31/100\n",
            "990/990 [==============================] - 5s 5ms/step - loss: 0.5582 - mean_absolute_error: 0.0500 - root_mean_squared_error: 0.0709 - val_loss: 0.6373 - val_mean_absolute_error: 0.1570 - val_root_mean_squared_error: 0.1969\n",
            "Epoch 32/100\n",
            "990/990 [==============================] - 5s 5ms/step - loss: 0.5575 - mean_absolute_error: 0.0480 - root_mean_squared_error: 0.0693 - val_loss: 0.6368 - val_mean_absolute_error: 0.1564 - val_root_mean_squared_error: 0.1964\n",
            "Epoch 33/100\n",
            "990/990 [==============================] - 5s 5ms/step - loss: 0.5564 - mean_absolute_error: 0.0459 - root_mean_squared_error: 0.0665 - val_loss: 0.6367 - val_mean_absolute_error: 0.1563 - val_root_mean_squared_error: 0.1962\n",
            "Epoch 34/100\n",
            "990/990 [==============================] - 5s 5ms/step - loss: 0.5557 - mean_absolute_error: 0.0450 - root_mean_squared_error: 0.0646 - val_loss: 0.6363 - val_mean_absolute_error: 0.1559 - val_root_mean_squared_error: 0.1958\n",
            "Epoch 35/100\n",
            "990/990 [==============================] - 5s 5ms/step - loss: 0.5551 - mean_absolute_error: 0.0437 - root_mean_squared_error: 0.0631 - val_loss: 0.6360 - val_mean_absolute_error: 0.1555 - val_root_mean_squared_error: 0.1956\n",
            "Epoch 36/100\n",
            "990/990 [==============================] - 5s 5ms/step - loss: 0.5544 - mean_absolute_error: 0.0423 - root_mean_squared_error: 0.0613 - val_loss: 0.6355 - val_mean_absolute_error: 0.1549 - val_root_mean_squared_error: 0.1950\n",
            "Epoch 37/100\n",
            "990/990 [==============================] - 5s 5ms/step - loss: 0.5538 - mean_absolute_error: 0.0409 - root_mean_squared_error: 0.0596 - val_loss: 0.6350 - val_mean_absolute_error: 0.1542 - val_root_mean_squared_error: 0.1945\n",
            "Epoch 38/100\n",
            "990/990 [==============================] - 5s 5ms/step - loss: 0.5531 - mean_absolute_error: 0.0398 - root_mean_squared_error: 0.0579 - val_loss: 0.6347 - val_mean_absolute_error: 0.1538 - val_root_mean_squared_error: 0.1941\n",
            "Epoch 39/100\n",
            "990/990 [==============================] - 5s 5ms/step - loss: 0.5526 - mean_absolute_error: 0.0389 - root_mean_squared_error: 0.0566 - val_loss: 0.6344 - val_mean_absolute_error: 0.1535 - val_root_mean_squared_error: 0.1938\n",
            "Epoch 40/100\n",
            "990/990 [==============================] - 5s 5ms/step - loss: 0.5521 - mean_absolute_error: 0.0378 - root_mean_squared_error: 0.0552 - val_loss: 0.6339 - val_mean_absolute_error: 0.1529 - val_root_mean_squared_error: 0.1933\n",
            "Epoch 41/100\n",
            "990/990 [==============================] - 5s 5ms/step - loss: 0.5514 - mean_absolute_error: 0.0357 - root_mean_squared_error: 0.0531 - val_loss: 0.6336 - val_mean_absolute_error: 0.1525 - val_root_mean_squared_error: 0.1929\n",
            "Epoch 42/100\n",
            "990/990 [==============================] - 5s 5ms/step - loss: 0.5511 - mean_absolute_error: 0.0361 - root_mean_squared_error: 0.0526 - val_loss: 0.6334 - val_mean_absolute_error: 0.1522 - val_root_mean_squared_error: 0.1927\n",
            "Epoch 43/100\n",
            "990/990 [==============================] - 5s 5ms/step - loss: 0.5504 - mean_absolute_error: 0.0341 - root_mean_squared_error: 0.0504 - val_loss: 0.6330 - val_mean_absolute_error: 0.1518 - val_root_mean_squared_error: 0.1923\n",
            "Epoch 44/100\n",
            "990/990 [==============================] - 5s 5ms/step - loss: 0.5500 - mean_absolute_error: 0.0332 - root_mean_squared_error: 0.0491 - val_loss: 0.6327 - val_mean_absolute_error: 0.1514 - val_root_mean_squared_error: 0.1920\n",
            "Epoch 45/100\n",
            "990/990 [==============================] - 5s 5ms/step - loss: 0.5495 - mean_absolute_error: 0.0325 - root_mean_squared_error: 0.0477 - val_loss: 0.6323 - val_mean_absolute_error: 0.1510 - val_root_mean_squared_error: 0.1916\n",
            "Epoch 46/100\n",
            "990/990 [==============================] - 5s 5ms/step - loss: 0.5493 - mean_absolute_error: 0.0323 - root_mean_squared_error: 0.0472 - val_loss: 0.6320 - val_mean_absolute_error: 0.1505 - val_root_mean_squared_error: 0.1912\n",
            "Epoch 47/100\n",
            "990/990 [==============================] - 5s 5ms/step - loss: 0.5488 - mean_absolute_error: 0.0309 - root_mean_squared_error: 0.0459 - val_loss: 0.6316 - val_mean_absolute_error: 0.1500 - val_root_mean_squared_error: 0.1908\n",
            "Epoch 48/100\n",
            "990/990 [==============================] - 5s 5ms/step - loss: 0.5483 - mean_absolute_error: 0.0295 - root_mean_squared_error: 0.0439 - val_loss: 0.6314 - val_mean_absolute_error: 0.1497 - val_root_mean_squared_error: 0.1906\n",
            "Epoch 49/100\n",
            "990/990 [==============================] - 5s 5ms/step - loss: 0.5479 - mean_absolute_error: 0.0288 - root_mean_squared_error: 0.0431 - val_loss: 0.6310 - val_mean_absolute_error: 0.1491 - val_root_mean_squared_error: 0.1901\n",
            "Epoch 50/100\n",
            "990/990 [==============================] - 5s 5ms/step - loss: 0.5476 - mean_absolute_error: 0.0287 - root_mean_squared_error: 0.0421 - val_loss: 0.6308 - val_mean_absolute_error: 0.1488 - val_root_mean_squared_error: 0.1898\n",
            "Epoch 51/100\n",
            "990/990 [==============================] - 5s 5ms/step - loss: 0.5473 - mean_absolute_error: 0.0282 - root_mean_squared_error: 0.0412 - val_loss: 0.6303 - val_mean_absolute_error: 0.1482 - val_root_mean_squared_error: 0.1894\n",
            "Epoch 52/100\n",
            "990/990 [==============================] - 5s 5ms/step - loss: 0.5469 - mean_absolute_error: 0.0265 - root_mean_squared_error: 0.0396 - val_loss: 0.6301 - val_mean_absolute_error: 0.1479 - val_root_mean_squared_error: 0.1891\n",
            "Epoch 53/100\n",
            "990/990 [==============================] - 5s 5ms/step - loss: 0.5465 - mean_absolute_error: 0.0262 - root_mean_squared_error: 0.0386 - val_loss: 0.6298 - val_mean_absolute_error: 0.1476 - val_root_mean_squared_error: 0.1887\n",
            "Epoch 54/100\n",
            "990/990 [==============================] - 5s 5ms/step - loss: 0.5463 - mean_absolute_error: 0.0255 - root_mean_squared_error: 0.0379 - val_loss: 0.6296 - val_mean_absolute_error: 0.1472 - val_root_mean_squared_error: 0.1886\n",
            "Epoch 55/100\n",
            "990/990 [==============================] - 5s 5ms/step - loss: 0.5459 - mean_absolute_error: 0.0246 - root_mean_squared_error: 0.0366 - val_loss: 0.6291 - val_mean_absolute_error: 0.1465 - val_root_mean_squared_error: 0.1880\n",
            "Epoch 56/100\n",
            "990/990 [==============================] - 5s 5ms/step - loss: 0.5456 - mean_absolute_error: 0.0237 - root_mean_squared_error: 0.0355 - val_loss: 0.6289 - val_mean_absolute_error: 0.1461 - val_root_mean_squared_error: 0.1877\n",
            "Epoch 57/100\n",
            "990/990 [==============================] - 5s 5ms/step - loss: 0.5454 - mean_absolute_error: 0.0234 - root_mean_squared_error: 0.0348 - val_loss: 0.6285 - val_mean_absolute_error: 0.1457 - val_root_mean_squared_error: 0.1873\n",
            "Epoch 58/100\n",
            "990/990 [==============================] - 5s 5ms/step - loss: 0.5452 - mean_absolute_error: 0.0231 - root_mean_squared_error: 0.0343 - val_loss: 0.6285 - val_mean_absolute_error: 0.1457 - val_root_mean_squared_error: 0.1872\n",
            "Epoch 59/100\n",
            "990/990 [==============================] - 5s 5ms/step - loss: 0.5449 - mean_absolute_error: 0.0223 - root_mean_squared_error: 0.0332 - val_loss: 0.6280 - val_mean_absolute_error: 0.1450 - val_root_mean_squared_error: 0.1867\n",
            "Epoch 60/100\n",
            "990/990 [==============================] - 5s 5ms/step - loss: 0.5446 - mean_absolute_error: 0.0214 - root_mean_squared_error: 0.0321 - val_loss: 0.6280 - val_mean_absolute_error: 0.1449 - val_root_mean_squared_error: 0.1867\n",
            "Epoch 61/100\n",
            "990/990 [==============================] - 5s 5ms/step - loss: 0.5444 - mean_absolute_error: 0.0209 - root_mean_squared_error: 0.0314 - val_loss: 0.6277 - val_mean_absolute_error: 0.1444 - val_root_mean_squared_error: 0.1864\n",
            "Epoch 62/100\n",
            "990/990 [==============================] - 5s 5ms/step - loss: 0.5442 - mean_absolute_error: 0.0206 - root_mean_squared_error: 0.0305 - val_loss: 0.6274 - val_mean_absolute_error: 0.1438 - val_root_mean_squared_error: 0.1859\n",
            "Epoch 63/100\n",
            "990/990 [==============================] - 5s 5ms/step - loss: 0.5439 - mean_absolute_error: 0.0195 - root_mean_squared_error: 0.0294 - val_loss: 0.6273 - val_mean_absolute_error: 0.1437 - val_root_mean_squared_error: 0.1858\n",
            "Epoch 64/100\n",
            "990/990 [==============================] - 5s 5ms/step - loss: 0.5437 - mean_absolute_error: 0.0191 - root_mean_squared_error: 0.0287 - val_loss: 0.6272 - val_mean_absolute_error: 0.1436 - val_root_mean_squared_error: 0.1857\n",
            "Epoch 65/100\n",
            "990/990 [==============================] - 5s 5ms/step - loss: 0.5435 - mean_absolute_error: 0.0187 - root_mean_squared_error: 0.0281 - val_loss: 0.6270 - val_mean_absolute_error: 0.1432 - val_root_mean_squared_error: 0.1855\n",
            "Epoch 66/100\n",
            "990/990 [==============================] - 5s 5ms/step - loss: 0.5434 - mean_absolute_error: 0.0185 - root_mean_squared_error: 0.0276 - val_loss: 0.6266 - val_mean_absolute_error: 0.1426 - val_root_mean_squared_error: 0.1850\n",
            "Epoch 67/100\n",
            "990/990 [==============================] - 5s 5ms/step - loss: 0.5431 - mean_absolute_error: 0.0178 - root_mean_squared_error: 0.0266 - val_loss: 0.6267 - val_mean_absolute_error: 0.1426 - val_root_mean_squared_error: 0.1851\n",
            "Epoch 68/100\n",
            "990/990 [==============================] - 5s 5ms/step - loss: 0.5430 - mean_absolute_error: 0.0176 - root_mean_squared_error: 0.0262 - val_loss: 0.6263 - val_mean_absolute_error: 0.1420 - val_root_mean_squared_error: 0.1847\n",
            "Epoch 69/100\n",
            "990/990 [==============================] - 5s 5ms/step - loss: 0.5427 - mean_absolute_error: 0.0163 - root_mean_squared_error: 0.0247 - val_loss: 0.6262 - val_mean_absolute_error: 0.1417 - val_root_mean_squared_error: 0.1845\n",
            "Epoch 70/100\n",
            "990/990 [==============================] - 5s 5ms/step - loss: 0.5426 - mean_absolute_error: 0.0165 - root_mean_squared_error: 0.0245 - val_loss: 0.6261 - val_mean_absolute_error: 0.1416 - val_root_mean_squared_error: 0.1844\n",
            "Epoch 71/100\n",
            "990/990 [==============================] - 5s 5ms/step - loss: 0.5424 - mean_absolute_error: 0.0160 - root_mean_squared_error: 0.0239 - val_loss: 0.6258 - val_mean_absolute_error: 0.1410 - val_root_mean_squared_error: 0.1839\n",
            "Epoch 72/100\n",
            "990/990 [==============================] - 5s 5ms/step - loss: 0.5422 - mean_absolute_error: 0.0154 - root_mean_squared_error: 0.0231 - val_loss: 0.6256 - val_mean_absolute_error: 0.1408 - val_root_mean_squared_error: 0.1837\n",
            "Epoch 73/100\n",
            "990/990 [==============================] - 5s 5ms/step - loss: 0.5421 - mean_absolute_error: 0.0151 - root_mean_squared_error: 0.0226 - val_loss: 0.6256 - val_mean_absolute_error: 0.1406 - val_root_mean_squared_error: 0.1836\n",
            "Epoch 74/100\n",
            "990/990 [==============================] - 5s 5ms/step - loss: 0.5420 - mean_absolute_error: 0.0146 - root_mean_squared_error: 0.0222 - val_loss: 0.6255 - val_mean_absolute_error: 0.1405 - val_root_mean_squared_error: 0.1836\n",
            "Epoch 75/100\n",
            "990/990 [==============================] - 5s 5ms/step - loss: 0.5418 - mean_absolute_error: 0.0140 - root_mean_squared_error: 0.0213 - val_loss: 0.6254 - val_mean_absolute_error: 0.1403 - val_root_mean_squared_error: 0.1834\n",
            "Epoch 76/100\n",
            "990/990 [==============================] - 5s 5ms/step - loss: 0.5416 - mean_absolute_error: 0.0135 - root_mean_squared_error: 0.0205 - val_loss: 0.6252 - val_mean_absolute_error: 0.1399 - val_root_mean_squared_error: 0.1832\n",
            "Epoch 77/100\n",
            "990/990 [==============================] - 5s 5ms/step - loss: 0.5415 - mean_absolute_error: 0.0131 - root_mean_squared_error: 0.0198 - val_loss: 0.6252 - val_mean_absolute_error: 0.1397 - val_root_mean_squared_error: 0.1831\n",
            "Epoch 78/100\n",
            "990/990 [==============================] - 5s 5ms/step - loss: 0.5414 - mean_absolute_error: 0.0130 - root_mean_squared_error: 0.0196 - val_loss: 0.6251 - val_mean_absolute_error: 0.1394 - val_root_mean_squared_error: 0.1829\n",
            "Epoch 79/100\n",
            "990/990 [==============================] - 5s 5ms/step - loss: 0.5412 - mean_absolute_error: 0.0123 - root_mean_squared_error: 0.0188 - val_loss: 0.6250 - val_mean_absolute_error: 0.1392 - val_root_mean_squared_error: 0.1828\n",
            "Epoch 80/100\n",
            "990/990 [==============================] - 5s 5ms/step - loss: 0.5411 - mean_absolute_error: 0.0118 - root_mean_squared_error: 0.0181 - val_loss: 0.6250 - val_mean_absolute_error: 0.1391 - val_root_mean_squared_error: 0.1827\n",
            "Epoch 81/100\n",
            "990/990 [==============================] - 5s 5ms/step - loss: 0.5410 - mean_absolute_error: 0.0114 - root_mean_squared_error: 0.0177 - val_loss: 0.6250 - val_mean_absolute_error: 0.1389 - val_root_mean_squared_error: 0.1827\n",
            "Epoch 82/100\n",
            "990/990 [==============================] - 5s 5ms/step - loss: 0.5408 - mean_absolute_error: 0.0112 - root_mean_squared_error: 0.0172 - val_loss: 0.6248 - val_mean_absolute_error: 0.1387 - val_root_mean_squared_error: 0.1825\n",
            "Epoch 83/100\n",
            "990/990 [==============================] - 5s 5ms/step - loss: 0.5407 - mean_absolute_error: 0.0106 - root_mean_squared_error: 0.0163 - val_loss: 0.6249 - val_mean_absolute_error: 0.1385 - val_root_mean_squared_error: 0.1825\n",
            "Epoch 84/100\n",
            "990/990 [==============================] - 5s 5ms/step - loss: 0.5406 - mean_absolute_error: 0.0103 - root_mean_squared_error: 0.0160 - val_loss: 0.6247 - val_mean_absolute_error: 0.1381 - val_root_mean_squared_error: 0.1822\n",
            "Epoch 85/100\n",
            "990/990 [==============================] - 5s 5ms/step - loss: 0.5405 - mean_absolute_error: 0.0099 - root_mean_squared_error: 0.0155 - val_loss: 0.6248 - val_mean_absolute_error: 0.1382 - val_root_mean_squared_error: 0.1823\n",
            "Epoch 86/100\n",
            "990/990 [==============================] - 5s 5ms/step - loss: 0.5404 - mean_absolute_error: 0.0096 - root_mean_squared_error: 0.0151 - val_loss: 0.6248 - val_mean_absolute_error: 0.1379 - val_root_mean_squared_error: 0.1822\n",
            "Epoch 87/100\n",
            "990/990 [==============================] - 5s 5ms/step - loss: 0.5403 - mean_absolute_error: 0.0091 - root_mean_squared_error: 0.0144 - val_loss: 0.6248 - val_mean_absolute_error: 0.1379 - val_root_mean_squared_error: 0.1822\n",
            "Epoch 88/100\n",
            "990/990 [==============================] - 5s 5ms/step - loss: 0.5402 - mean_absolute_error: 0.0088 - root_mean_squared_error: 0.0140 - val_loss: 0.6249 - val_mean_absolute_error: 0.1378 - val_root_mean_squared_error: 0.1822\n",
            "Epoch 89/100\n",
            "990/990 [==============================] - 5s 5ms/step - loss: 0.5401 - mean_absolute_error: 0.0083 - root_mean_squared_error: 0.0135 - val_loss: 0.6249 - val_mean_absolute_error: 0.1376 - val_root_mean_squared_error: 0.1822\n",
            "Epoch 90/100\n",
            "990/990 [==============================] - 5s 5ms/step - loss: 0.5400 - mean_absolute_error: 0.0080 - root_mean_squared_error: 0.0130 - val_loss: 0.6249 - val_mean_absolute_error: 0.1374 - val_root_mean_squared_error: 0.1821\n",
            "Epoch 91/100\n",
            "990/990 [==============================] - 5s 5ms/step - loss: 0.5399 - mean_absolute_error: 0.0077 - root_mean_squared_error: 0.0126 - val_loss: 0.6251 - val_mean_absolute_error: 0.1375 - val_root_mean_squared_error: 0.1823\n"
          ]
        }
      ],
      "source": [
        "history = model.fit(\n",
        "    x = x_train,\n",
        "    y = y_train,\n",
        "    batch_size = 8,\n",
        "    epochs = 100,\n",
        "    validation_data = (x_val, y_val),\n",
        "    callbacks=[callbacks]\n",
        ")"
      ]
    },
    {
      "cell_type": "markdown",
      "metadata": {
        "id": "uXDbiubYk6X1"
      },
      "source": [
        "Untuk mendapatkan rekomendasi anime, saya akan mengambil sampel user secara acak dan mendefinisikan variabel anime_not_watched yang merupakan daftar anime yang belum pernah ditonton oleh pengguna."
      ]
    },
    {
      "cell_type": "code",
      "execution_count": null,
      "metadata": {
        "id": "uc-eduaZLZlc"
      },
      "outputs": [],
      "source": [
        "# Mengambil sample user\n",
        "user_id = df_anime.user_id.sample(1).iloc[0]\n",
        "anime_watched_by_user = df_anime[df_anime.user_id == user_id]\n",
        " \n",
        "# Operator bitwise\n",
        "anime_not_watched = df_anime[~df_anime['anime_id'].isin(anime_watched_by_user.anime_id.values)]['anime_id'] \n",
        "anime_not_watched = list(\n",
        "    set(anime_not_watched)\n",
        "    .intersection(set(anime_to_anime_encoded.keys()))\n",
        ")\n",
        "\n",
        "anime_not_watched = [[anime_to_anime_encoded.get(x)] for x in anime_not_watched]\n",
        "user_encoder = user_to_user_encoded.get(user_id)\n",
        "user_anime_array = np.hstack(\n",
        "    ([[user_encoder]] * len(anime_not_watched), anime_not_watched)\n",
        ")"
      ]
    },
    {
      "cell_type": "code",
      "execution_count": null,
      "metadata": {
        "colab": {
          "base_uri": "https://localhost:8080/"
        },
        "id": "iOE3XlV9lgtc",
        "outputId": "554d4ae6-4c9a-4ed5-8a70-1b4c565691a2"
      },
      "outputs": [
        {
          "name": "stdout",
          "output_type": "stream",
          "text": [
            "Menampilkan rekomendasi untuk user: 4643\n",
            "=========\n",
            "anime dengan peringkat tinggi dari user\n",
            "--------\n",
            "Ran-&gt;Sem: Hakudaku Delmo Tsuma no Miira Tori : Hentai\n",
            "Seikou!: Osananajimi wa Terekusasou ni Uso wo Tsuku : Hentai\n",
            "Oyako Rankan The Animation : Hentai\n",
            "Kuraibito : Hentai\n",
            "Hitozuma Koukan Nikki : Hentai\n",
            "--------\n",
            "10 rekomendasi anime teratas\n",
            "--------\n",
            "Oni Chichi: Re-born : Hentai\n",
            "Mobile Suit Gundam Unicorn : Action, Drama, Mecha, Military, Sci-Fi, Space\n",
            "Just Awake : Action, Music, Sci-Fi\n",
            "Precure All Stars Movie New Stage 2: Kokoro no Tomodachi : Action, Kids, Magic, Shoujo\n",
            "Uchuu no Kishi Tekkaman Blade : Action, Adventure, Drama, Mecha, Military, Romance, Sci-Fi, Shounen, Space\n",
            "NG Knight Ramune &amp; 40 EX: Biku Biku Triangle Ai no Arashi Daisakusen : Adventure, Comedy, Fantasy, Mecha, Shounen\n",
            "Patapata Hikousen no Bouken : Adventure, Sci-Fi\n",
            "Akame ga Kill! Recap : Action, Adventure, Fantasy\n",
            "Kinnikuman : Adventure, Comedy, Shounen, Sports\n",
            "Aoki Hagane no Arpeggio: Ars Nova Cadenza : Action, Sci-Fi, Seinen\n"
          ]
        }
      ],
      "source": [
        "ratings = model.predict(user_anime_array).flatten()\n",
        "\n",
        "# top rating\n",
        "top_ratings_indices = ratings.argsort()[-10:][::-1]\n",
        "\n",
        "# rekomendasi anime\n",
        "recommended_anime_ids = [\n",
        "    anime_encoded_to_anime.get(anime_not_watched[x][0]) for x in top_ratings_indices\n",
        "]\n",
        "\n",
        "print('Menampilkan rekomendasi untuk user: {}'.format(user_id))\n",
        "print('=' * 9)\n",
        "print('anime dengan peringkat tinggi dari user')\n",
        "print('-' * 8)\n",
        "\n",
        "# mencari rekomendasi anime berdasarkan rating yang diberikan user\n",
        "top_anime_user = (\n",
        "    anime_watched_by_user.sort_values(\n",
        "        by = 'rating_user',\n",
        "        ascending=False\n",
        "    )\n",
        "    .head(5)\n",
        "    .anime_id.values\n",
        ")\n",
        " \n",
        "df_anime_rows = df_anime[df_anime['anime_id'].isin(top_anime_user)]\n",
        "for row in df_anime_rows.itertuples():\n",
        "    print(row.title, ':', row.genre)\n",
        " \n",
        "print('-' * 8)\n",
        "print('10 rekomendasi anime teratas')\n",
        "print('-' * 8)\n",
        "\n",
        "# rekomendasi anime\n",
        "anime_top10 = df_anime[df_anime['anime_id'].isin(recommended_anime_ids)]\n",
        "\n",
        "# fungsi perulangan untuk menampilkan rekomendasi anime dan genre sebanyak 10 buah\n",
        "for row in anime_top10.itertuples():\n",
        "    print(row.title, ':', row.genre)"
      ]
    },
    {
      "cell_type": "markdown",
      "metadata": {
        "id": "gANc_VaqoBWO"
      },
      "source": [
        "Kita telah mendapatkan 10 rekomendasi Anime untuk user dengan id 4643."
      ]
    },
    {
      "cell_type": "markdown",
      "metadata": {
        "id": "MRJ8_sG8n-HA"
      },
      "source": [
        "# Model Evaluation"
      ]
    },
    {
      "cell_type": "markdown",
      "metadata": {
        "id": "JNvkxQomup5P"
      },
      "source": [
        "Mean Absolute Error (MAE) mengukur besarnya rata-rata kesalahan dalam serangkaian prediksi yang sudah di latih kepada data yang akan dites, tanpa mempertimbangkan arahnya. Semakin rendah nilai MAE (mean absolute error) maka semakin baik dan akurat model yang dibuat.\n",
        "\n",
        "Berikut rumusnya :\n",
        "\n",
        "![image](https://user-images.githubusercontent.com/87566521/139152819-30500f63-40a3-40ed-86fd-a62e517adbb4.png)"
      ]
    },
    {
      "cell_type": "code",
      "execution_count": null,
      "metadata": {
        "colab": {
          "base_uri": "https://localhost:8080/",
          "height": 295
        },
        "id": "s1pD9xJgmArb",
        "outputId": "ac49e1a4-c5f7-4ead-f24f-a8468d2e34d6"
      },
      "outputs": [
        {
          "data": {
            "image/png": "[encoded data removed]",
            "text/plain": [
              "<Figure size 432x288 with 1 Axes>"
            ]
          },
          "metadata": {
            "needs_background": "light"
          },
          "output_type": "display_data"
        }
      ],
      "source": [
        "plt.plot(history.history['mean_absolute_error'])\n",
        "plt.plot(history.history['val_mean_absolute_error'])\n",
        "plt.title('model_metrics')\n",
        "plt.ylabel('mean_absolute_error')\n",
        "plt.xlabel('epoch')\n",
        "plt.legend(['mean_absolute_error', 'val_mean_absolute_error'], loc='upper left')\n",
        "plt.show()"
      ]
    },
    {
      "cell_type": "markdown",
      "metadata": {
        "id": "3lodKilOx3SU"
      },
      "source": [
        "Root mean squared error (RMSE) adalah aturan penilaian kuadrat yang juga mengukur besarnya rata-rata kesalahan. Sama seperti MAE, semakin rendahnya nilai root mean square error juga menandakan semakin baik model tersebut dalam melakukan prediksi.\n",
        "\n",
        "Berikut rumusnya :\n",
        "\n",
        "![image](https://user-images.githubusercontent.com/87566521/139154262-7eca086f-2007-41e1-9737-5f9fe68a8f49.png)\n"
      ]
    },
    {
      "cell_type": "code",
      "execution_count": null,
      "metadata": {
        "colab": {
          "base_uri": "https://localhost:8080/",
          "height": 295
        },
        "id": "k41Lm4DroOwp",
        "outputId": "70c3470e-370f-48a6-bc43-274e95ce6cd9"
      },
      "outputs": [
        {
          "data": {
            "image/png": "[encoded data removed]",
            "text/plain": [
              "<Figure size 432x288 with 1 Axes>"
            ]
          },
          "metadata": {
            "needs_background": "light"
          },
          "output_type": "display_data"
        }
      ],
      "source": [
        "plt.plot(history.history['root_mean_squared_error'])\n",
        "plt.plot(history.history['val_root_mean_squared_error'])\n",
        "plt.title('model_metrics')\n",
        "plt.ylabel('root_mean_squared_error')\n",
        "plt.xlabel('epoch')\n",
        "plt.legend(['root_mean_squared_error', 'val_root_mean_squared_error'], loc='upper left')\n",
        "plt.show()"
      ]
    },
    {
      "cell_type": "markdown",
      "metadata": {
        "id": "aIlGduXXzX-M"
      },
      "source": [
        "Berdasarkan plotting proses training di atas, dapat dilihat bahwa proses training model cukup smooth dan model konvergen pada epochs sekitar 90. Dari hasil model ini, Mean Absolute Error yang didapat adalah 0.0077 pada training dan 0.1375 pada test. Untuk Root Mean Squared Error, diperoleh nilai error akhir sebesar 0.0126 pada tranining dan 0.1823 pada test. Hal ini menunjukan bahwa model ini memiliki error dibawah 20% jika menggunakan MAE dan dibawah 20% jika menggunakan RMSE. "
      ]
    },
    {
      "cell_type": "markdown",
      "metadata": {
        "id": "om-NEvRb61Ic"
      },
      "source": [
        "# Penutup :\n",
        "\n",
        "Model Sistem rekomendasi Anime telah selesai dibuat dan model ini dapat digunakan untuk untuk merekomendasikan data yang sebenarnya. Berdasarkan model tersebut, dapat diketahui bahwa sistem rekomendasi berbasis Collaborative Filtering dan Content-Based Filtering dapat merekomendasikan anime kepada pengguna seperti yang diharapkan. Namun, beberapa pengembangan lain masih dapat dilakukan untuk membuat model yang memiliki akurasi lebih tinggi."
      ]
    }
  ],
  "metadata": {
    "colab": {
      "name": "Anime_Recommendation_System.ipynb",
      "provenance": []
    },
    "kernelspec": {
      "display_name": "Python 3",
      "name": "python3"
    },
    "language_info": {
      "name": "python"
    }
  },
  "nbformat": 4,
  "nbformat_minor": 0
}
